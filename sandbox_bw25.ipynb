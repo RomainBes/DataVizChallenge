{
 "cells": [
  {
   "cell_type": "code",
   "execution_count": null,
   "metadata": {},
   "outputs": [],
   "source": [
    "import numpy as np\n",
    "import pandas as pd\n",
    "import matplotlib.pyplot as plt\n",
    "plt.style.use('ggplot')\n",
    "import database_explorer_bw25 as dbex\n",
    "import bw2analyzer as bwa\n",
    "import bw2data as bwd\n",
    "import bw2calc as bwc\n",
    "import bw2io as bwio"
   ]
  },
  {
   "cell_type": "code",
   "execution_count": null,
   "metadata": {},
   "outputs": [],
   "source": [
    "bwd.projects.set_current('E3_database_bw25')"
   ]
  },
  {
   "cell_type": "code",
   "execution_count": null,
   "metadata": {},
   "outputs": [],
   "source": [
    "bwd.databases"
   ]
  },
  {
   "cell_type": "code",
   "execution_count": null,
   "metadata": {},
   "outputs": [],
   "source": [
    "eidb = bwd.Database('ecoinvent 3.7 cut-off')\n",
    "\n",
    "# Default impact categories\n",
    "methods_EF = [\n",
    "    m\n",
    "    for m in bwd.methods\n",
    "    if \"EF v3.0 EN15804\" in str(m)\n",
    "    and not \"no LT\" in str(m)\n",
    "    and not \"obsolete\" in str(m)\n",
    "]\n",
    "methods_CC = [m for m in methods_EF if \"climate\" in str(m)]\n",
    "method_CC = methods_CC[0]"
   ]
  },
  {
   "cell_type": "code",
   "execution_count": null,
   "metadata": {},
   "outputs": [],
   "source": [
    "list_act = dbex.list_act(database=eidb, name=\"biofuel\")\n",
    "list_act.explore(strict=False, comments=False)"
   ]
  },
  {
   "cell_type": "code",
   "execution_count": null,
   "metadata": {},
   "outputs": [],
   "source": [
    "list_act.analyse(methods_CC, methods_EF, print_data = True)\n"
   ]
  }
 ],
 "metadata": {
  "kernelspec": {
   "display_name": "python310_bw25",
   "language": "python",
   "name": "python3"
  },
  "language_info": {
   "codemirror_mode": {
    "name": "ipython",
    "version": 3
   },
   "file_extension": ".py",
   "mimetype": "text/x-python",
   "name": "python",
   "nbconvert_exporter": "python",
   "pygments_lexer": "ipython3",
   "version": "3.10.6"
  },
  "orig_nbformat": 4,
  "vscode": {
   "interpreter": {
    "hash": "260d4379b520198b1657d66dff39f91e1f05c82b1981ca07f66ae0dd0b17ab0d"
   }
  }
 },
 "nbformat": 4,
 "nbformat_minor": 2
}
