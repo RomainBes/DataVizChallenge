{
 "cells": [
  {
   "cell_type": "code",
   "execution_count": null,
   "metadata": {},
   "outputs": [],
   "source": [
    "# python 3.11\n",
    "# please run in the console:\n",
    "# conda create -n bw25 -c cmutel brightway25\n",
    "# conda activate bw25\n",
    "# pip install ipykernel\n",
    "%pip install numpy pandas plotly nbformat"
   ]
  },
  {
   "cell_type": "code",
   "execution_count": null,
   "metadata": {},
   "outputs": [],
   "source": [
    "# for ei3.8\n",
    "%pip install bw2io==0.9.dev11"
   ]
  },
  {
   "cell_type": "code",
   "execution_count": 1,
   "metadata": {},
   "outputs": [],
   "source": [
    "import numpy as np\n",
    "import pandas as pd\n",
    "import matplotlib.pyplot as plt\n",
    "plt.style.use('ggplot')\n",
    "#import database_explorer as dbex\n",
    "import bw2analyzer as ba\n",
    "import bw2data as bd\n",
    "import bw2calc as bc\n",
    "import bw2io as bi\n",
    "import matrix_utils as mu\n",
    "import bw_processing as bp\n",
    "\n",
    "first_setup = False\n",
    "NAME = \"ei38-cutoff-25\"\n",
    "\n",
    "if first_setup:\n",
    "    if NAME in bd.projects:\n",
    "        bd.projects.delete_project(NAME, True)\n",
    "\n",
    "bd.projects.set_current(NAME)\n",
    "\n",
    "if first_setup:\n",
    "    bi.bw2setup()\n",
    "\n",
    "if first_setup:\n",
    "    ei33 = bi.SingleOutputEcospold2Importer('/home/hurtiol/ALFA/datasets/', 'ecoInvent 3.8')\n",
    "    ei33.apply_strategies()\n",
    "    ei33.statistics()\n"
   ]
  },
  {
   "cell_type": "code",
   "execution_count": 2,
   "metadata": {},
   "outputs": [
    {
     "name": "stdout",
     "output_type": "stream",
     "text": [
      "Not able to determine geocollections for all datasets. This database is not ready for regionalization.\n",
      "Warning: No valid output stream.\n",
      "Title: Writing activities to SQLite3 database:\n",
      "  Started: 02/10/2023 11:15:06\n",
      "  Finished: 02/10/2023 11:18:25\n",
      "  Total time elapsed: 00:03:18\n",
      "  CPU %: 31.50\n",
      "  Memory %: 0.15\n",
      "Created database: ecoInvent 3.8\n"
     ]
    }
   ],
   "source": [
    "if first_setup:\n",
    "    ei33.write_database(db_name='ecoInvent 3.8')"
   ]
  },
  {
   "cell_type": "code",
   "execution_count": 2,
   "metadata": {},
   "outputs": [
    {
     "data": {
      "text/plain": [
       "0.38520281033490816"
      ]
     },
     "execution_count": 2,
     "metadata": {},
     "output_type": "execute_result"
    }
   ],
   "source": [
    "act = bd.Database(\"ecoInvent 3.8\").search(\"biomethane production, high pressure from synthetic gas, wood, fluidised technology\")[0]\n",
    "#methods = [x for x in bd.methods if 'IPCC' in x[0]]\n",
    "method = ('IPCC 2013', 'climate change', 'GWP 100a')\n",
    "lca = bc.LCA({act: 1}, method = method)\n",
    "lca.lci()\n",
    "lca.lcia()\n",
    "lca.score"
   ]
  },
  {
   "cell_type": "code",
   "execution_count": 28,
   "metadata": {},
   "outputs": [
    {
     "name": "stdout",
     "output_type": "stream",
     "text": [
      "Fraction of score | Absolute score | Amount | Activity\n",
      "0001 | 0.3852 |     1 | 'biomethane production, high pressure from synthetic gas, wood, fluidi\n",
      "  0.0836 | 0.03222 | 0.8288 | 'market for electricity, medium voltage' (kilowatt hour, CH, None)\n",
      "    0.0796 | 0.03064 | 0.825 | 'electricity voltage transformation from high to medium voltage' (kilo\n",
      "      0.0796 | 0.03064 | 0.8302 | 'market for electricity, high voltage' (kilowatt hour, CH, None)\n",
      "  0.104 | 0.04025 | 0.0198 | 'market for charcoal' (kilogram, GLO, None)\n",
      "    0.104 | 0.03987 | 0.0198 | 'charcoal production' (kilogram, GLO, None)\n",
      "      0.0108 | 0.00417 | 0.04683 | 'market for cleft timber, measured as dry mass' (kilogram, RoW, None)\n",
      "  0.134 | 0.05148 | 0.814 | 'market for wood chips, dry, measured as dry mass' (kilogram, RER, Non\n",
      "    0.0194 | 0.007477 | 0.05698 | 'market for transport, freight, lorry, unspecified' (ton kilometer, RE\n",
      "    0.0139 | 0.005359 | 0.1118 | 'glued solid timber production' (kilogram, RER, None)\n",
      "    0.0365 | 0.01405 | 0.08152 | 'plywood production' (kilogram, RER, None)\n",
      "      0.0152 | 0.005844 | 0.0152 | 'market group for electricity, medium voltage' (kilowatt hour, RER, No\n",
      "      0.0152 | 0.005849 | 0.002549 | 'market for urea formaldehyde resin' (kilogram, RER, None)\n",
      "    0.0383 | 0.01474 | 0.4098 | 'three and five layered board production' (kilogram, RER, None)\n",
      "      0.014 | 0.005378 | 0.01399 | 'market group for electricity, medium voltage' (kilowatt hour, RER, No\n",
      "  0.107 | 0.04128 | 0.00812 | 'market for zeolite, powder' (kilogram, GLO, None)\n",
      "    0.0327 | 0.0126 | 0.002684 | 'zeolite production, powder' (kilogram, RER, None)\n",
      "    0.0725 | 0.02793 | 0.005436 | 'zeolite production, powder' (kilogram, RoW, None)\n",
      "  0.0636 | 0.0245 | 0.01462 | 'esterification of rape oil' (kilogram, CH, None)\n",
      "    0.0583 | 0.02246 | 0.01533 | 'market for rape oil, crude' (kilogram, CH, None)\n",
      "      0.0582 | 0.02242 | 0.01534 | 'rape oil mill operation' (kilogram, CH, None)\n",
      "  0.0107 | 0.004123 | 0.00323 | 'market for sodium hydroxide, without water, in 50% solution state' (k\n",
      "  0.0944 | 0.03638 | -0.01462 | 'market for waste mineral oil' (kilogram, CH, None)\n",
      "    0.0472 | 0.01816 | -0.006389 | 'treatment of waste mineral oil, hazardous waste incineration, with en\n",
      "    0.0472 | 0.01816 | -0.006389 | 'treatment of waste mineral oil, hazardous waste incineration' (kilogr\n",
      "  0.0132 | 0.005074 | 0.001869 | 'market for zinc' (kilogram, GLO, None)\n",
      "    0.0127 | 0.004886 | 0.001827 | 'primary zinc production from concentrate' (kilogram, RoW, None)\n",
      "  0.339 | 0.1305 | 2.887 | 'market for wood chips, wet, measured as dry mass' (kilogram, CH, None\n",
      "    0.103 | 0.03978 | 0.3032 | 'market for transport, freight, lorry, unspecified' (ton kilometer, RE\n",
      "      0.0476 | 0.01835 | 0.1355 | 'transport, freight, lorry, all sizes, EURO3 to generic market for tra\n",
      "      0.0393 | 0.01514 | 0.1183 | 'transport, freight, lorry, all sizes, EURO4 to generic market for tra\n",
      "      0.0138 | 0.005325 | 0.04194 | 'transport, freight, lorry, all sizes, EURO5 to generic market for tra\n",
      "    0.0153 | 0.005899 | 0.4202 | 'wood chips production, softwood, at sawmill' (kilogram, CH, None)\n",
      "      0.0138 | 0.005305 | 0.4202 | 'sawing, softwood' (kilogram, CH, None)\n",
      "    0.148 | 0.05685 | 1.873 | 'hardwood forestry, mixed species, sustainable forest management' (kil\n",
      "      0.0316 | 0.01217 | 0.0002242 | 'skidding, skidder' (hour, RER, None)\n",
      "      0.0339 | 0.01307 | 0.001155 | 'power sawing, without catalytic converter' (hour, RER, None)\n",
      "      0.056 | 0.02156 | 7.761e-05 | 'wood chipping, mobile chipper, at forest road' (hour, RER, None)\n",
      "    0.0711 | 0.0274 | 0.5568 | 'softwood forestry, mixed species, sustainable forest management' (kil\n",
      "      0.0242 | 0.00932 | 3.355e-05 | 'wood chipping, mobile chipper, at forest road' (hour, RER, None)\n",
      "      0.0136 | 0.005235 | 9.642e-05 | 'skidding, skidder' (hour, RER, None)\n",
      "      0.0233 | 0.008968 | 0.0007926 | 'power sawing, without catalytic converter' (hour, RER, None)\n"
     ]
    }
   ],
   "source": [
    "ba.print_recursive_calculation(act, method)"
   ]
  },
  {
   "cell_type": "code",
   "execution_count": 33,
   "metadata": {},
   "outputs": [],
   "source": [
    "# modified version of the AssumeDiagonalGraphTraversal.\n",
    "# includes separate calculation of positive and negative impact\n",
    "import warnings\n",
    "from heapq import heappop, heappush\n",
    "import itertools\n",
    "from functools import lru_cache\n",
    "\n",
    "import numpy as np\n",
    "from scipy import sparse\n",
    "\n",
    "from bw2calc import spsolve, LCA\n",
    "\n",
    "class JRCAssumedDiagonalGraphTraversal:\n",
    "    \"\"\"\n",
    "    Traverse a supply chain, following paths of greatest impact.\n",
    "    This implementation uses a queue of datasets to assess. As the supply chain is traversed, datasets inputs are added to a list sorted by LCA score. Each activity in the sorted list is assessed, and added to the supply chain graph, as long as its impact is above a certain threshold, and the maximum number of calculations has not been exceeded.\n",
    "    Because the next dataset assessed is chosen by its impact, not its position in the graph, this is neither a breadth-first nor a depth-first search, but rather \"importance-first\".\n",
    "    This class is written in a functional style - no variables are stored in *self*, only methods.\n",
    "    Should be used by calling the ``calculate`` method.\n",
    "    .. warning:: Graph traversal with multioutput processes only works when other inputs are substituted (see `Multioutput processes in LCA <http://chris.mutel.org/multioutput.html>`__ for a description of multiputput process math in LCA).\n",
    "    \"\"\"\n",
    "\n",
    "    def calculate(self, lca, cutoff=0.005, max_calc=1e5, skip_coproducts=False):\n",
    "        \"\"\"\n",
    "        Traverse the supply chain graph.\n",
    "        Args:\n",
    "            * *lca* (dict): An instance of ``bw2calc.lca.LCA``.\n",
    "            * *cutoff* (float, default=0.005): Cutoff criteria to stop LCA calculations. Relative score of total, i.e. 0.005 will cutoff if a dataset has a score less than 0.5 percent of the total.\n",
    "            * *max_calc* (int, default=10000): Maximum number of LCA calculations to perform.\n",
    "        Returns:\n",
    "            Dictionary of nodes, edges, and number of LCA calculations.\n",
    "        \"\"\"\n",
    "        if not hasattr(lca, \"supply_array\"):\n",
    "            lca.lci()\n",
    "        if not hasattr(lca, \"characterized_inventory\"):\n",
    "            lca.lcia()\n",
    "\n",
    "        supply = lca.supply_array.copy()\n",
    "        score = lca.score\n",
    "\n",
    "        if score == 0:\n",
    "            raise ValueError(\"Zero total LCA score makes traversal impossible\")\n",
    "\n",
    "        # Create matrix of LCIA CFs times biosphere flows, as these don't\n",
    "        # change. This is also the unit score of each activity.\n",
    "        characterized_biosphere = np.array(\n",
    "            (lca.characterization_matrix * lca.biosphere_matrix).sum(axis=0)\n",
    "        ).ravel()\n",
    "        characterized_biosphere_neg = characterized_biosphere.copy()\n",
    "        characterized_biosphere_neg[characterized_biosphere_neg > 0] = 0\n",
    "        characterized_biosphere_pos = characterized_biosphere.copy()\n",
    "        characterized_biosphere_pos[characterized_biosphere_pos < 0] = 0\n",
    "\n",
    "        heap, nodes, edges = self.initialize_heap(lca, supply, characterized_biosphere, characterized_biosphere_neg, characterized_biosphere_pos)\n",
    "        nodes, edges, counter = self.traverse(\n",
    "            heap,\n",
    "            nodes,\n",
    "            edges,\n",
    "            0,\n",
    "            max_calc,\n",
    "            cutoff,\n",
    "            score,\n",
    "            supply,\n",
    "            characterized_biosphere,\n",
    "            characterized_biosphere_neg,\n",
    "            characterized_biosphere_pos,\n",
    "            lca,\n",
    "            skip_coproducts,\n",
    "        )\n",
    "\n",
    "        return {\n",
    "            \"nodes\": nodes,\n",
    "            \"edges\": edges,\n",
    "            \"counter\": counter,\n",
    "        }\n",
    "\n",
    "    def initialize_heap(self, lca, supply, characterized_biosphere,\n",
    "            characterized_biosphere_neg,\n",
    "            characterized_biosphere_pos):\n",
    "        \"\"\"\n",
    "        Create a `priority queue <http://docs.python.org/2/library/heapq.html>`_ or ``heap`` to store inventory datasets, sorted by LCA score.\n",
    "        Populates the heap with each activity in ``demand``. Initial nodes are the *functional unit*, i.e. the complete demand, and each activity in the *functional unit*. Initial edges are inputs from each activity into the *functional unit*.\n",
    "        The *functional unit* is an abstract dataset (as it doesn't exist in the matrix), and is assigned the index ``-1``.\n",
    "        \"\"\"\n",
    "        heap, edges = [], []\n",
    "        nodes = {-1: {\"amount\": 1, \"cum\": lca.score, \"ind\": 1e-6 * lca.score}}\n",
    "        for index, amount in enumerate(lca.demand_array):\n",
    "            if amount == 0:\n",
    "                continue\n",
    "            cum_score, cum_score_neg, cum_score_pos = self.cumulative_score(\n",
    "                index, supply, characterized_biosphere,\n",
    "            characterized_biosphere_neg,\n",
    "            characterized_biosphere_pos, lca\n",
    "            )\n",
    "            heappush(heap, (abs(1 / cum_score), index, str(index)))\n",
    "            nodes[index] = {\n",
    "                \"amount\": float(supply[index]),\n",
    "                \"cum\": cum_score,\n",
    "                \"cum_neg\": cum_score_neg,\n",
    "                \"cum_pos\": cum_score_pos,\n",
    "                \"ind\": self.unit_score(index, supply, characterized_biosphere),\n",
    "            }\n",
    "            edges.append(\n",
    "                {\n",
    "                    \"to\": -1,\n",
    "                    \"from\": str(index),\n",
    "                    \"amount\": amount,\n",
    "                    \"exc_amount\": amount,\n",
    "                    \"impact\": cum_score * amount / float(supply[index]),\n",
    "                    \"impact_neg\": cum_score_neg * amount / float(supply[index]),\n",
    "                    \"impact_pos\": cum_score_pos * amount / float(supply[index])\n",
    "                }\n",
    "            )\n",
    "        return heap, nodes, edges\n",
    "\n",
    "    def cumulative_score(self, index, supply, characterized_biosphere,\n",
    "            characterized_biosphere_neg,\n",
    "            characterized_biosphere_pos, lca):\n",
    "        \"\"\"Compute cumulative LCA score for a given activity\"\"\"\n",
    "        demand = np.zeros((supply.shape[0],))\n",
    "        demand[index] = (\n",
    "            supply[index]\n",
    "            *\n",
    "            # Normalize by the production amount\n",
    "            lca.technosphere_matrix[index, index]\n",
    "        )\n",
    "        solved_tech = spsolve(lca.technosphere_matrix, demand)\n",
    "        return (float(\n",
    "            (characterized_biosphere * solved_tech).sum()\n",
    "        ),\n",
    "        float(\n",
    "            (characterized_biosphere_neg * solved_tech).sum()\n",
    "        ),\n",
    "        float(\n",
    "            (characterized_biosphere_pos * solved_tech).sum()\n",
    "        ))\n",
    "\n",
    "    def unit_score(self, index, supply, characterized_biosphere):\n",
    "        \"\"\"Compute the LCA impact caused by the direct emissions and resource consumption of a given activity\"\"\"\n",
    "        return float(characterized_biosphere[index] * supply[index])\n",
    "\n",
    "    def traverse(\n",
    "        self,\n",
    "        heap,\n",
    "        nodes,\n",
    "        edges,\n",
    "        counter,\n",
    "        max_calc,\n",
    "        cutoff,\n",
    "        total_score,\n",
    "        supply,\n",
    "        characterized_biosphere,\n",
    "        characterized_biosphere_neg,\n",
    "        characterized_biosphere_pos,\n",
    "        lca,\n",
    "        skip_coproducts,\n",
    "    ):\n",
    "        \"\"\"\n",
    "        Build a directed graph by traversing the supply chain.\n",
    "        Node ids are actually technosphere row/col indices, which makes lookup easier.\n",
    "        Returns:\n",
    "            (nodes, edges, number of calculations)\n",
    "        \"\"\"\n",
    "        # static_databases = {name for name in databases if databases[name].get(\"static\")}\n",
    "        # reverse = lca.dicts.activity.reversed\n",
    "\n",
    "        while heap:\n",
    "            if counter >= max_calc:\n",
    "                warnings.warn(\"Stopping traversal due to calculation count.\")\n",
    "                break\n",
    "            parent = heappop(heap)\n",
    "            parent_index = parent[1]\n",
    "            full_path_parent = parent[2]\n",
    "            # Skip links from static databases\n",
    "            # if static_databases and reverse[parent_index][0] in static_databases:\n",
    "            #     continue\n",
    "\n",
    "            # Assume that this activity produces its reference product\n",
    "            scale_value = lca.technosphere_matrix[parent_index, parent_index]\n",
    "            if scale_value == 0:\n",
    "                raise ValueError(\n",
    "                    \"Can't rescale activities that produce zero reference product\"\n",
    "                )\n",
    "            col = lca.technosphere_matrix[:, parent_index].tocoo()\n",
    "            # Multiply by -1 because technosphere values are negative\n",
    "            # (consumption of inputs) and rescale\n",
    "            children = [\n",
    "                (int(col.row[i]), float(-1 * col.data[i] / scale_value))\n",
    "                for i in range(col.row.shape[0])\n",
    "            ]\n",
    "            for activity, amount in children:\n",
    "                # Skip values on technosphere diagonal\n",
    "                if activity == parent_index:\n",
    "                    continue\n",
    "                # Skip negative coproducts\n",
    "                if skip_coproducts and amount <= 0:\n",
    "                    continue\n",
    "                counter += 1\n",
    "                full_path_id = full_path_parent + '-' + str(activity)\n",
    "                cumulative_score, cum_score_neg, cum_score_pos = self.cumulative_score(\n",
    "                    activity, supply, characterized_biosphere, characterized_biosphere_neg, characterized_biosphere_pos, lca\n",
    "                )\n",
    "                if abs(cumulative_score) < abs(total_score * cutoff):\n",
    "                    continue\n",
    "\n",
    "                # flow between activity and parent (Multiply by -1 because technosphere values are negative)\n",
    "                flow = (\n",
    "                    -1.0\n",
    "                    * lca.technosphere_matrix[activity, parent_index]\n",
    "                    * supply[parent_index]\n",
    "                )\n",
    "                total_activity_output = (\n",
    "                    lca.technosphere_matrix[activity, activity] * supply[activity]\n",
    "                )\n",
    "\n",
    "                # Edge format is (to, from, mass amount, cumulative impact)\n",
    "                edges.append(\n",
    "                    {\n",
    "                        \"to\": full_path_parent,\n",
    "                        \"from\": full_path_id,\n",
    "                        # \"full_path_id\": full_path_id,\n",
    "                        # Amount of this link * amount of parent demanding link\n",
    "                        \"amount\": flow,\n",
    "                        # Raw exchange value\n",
    "                        \"exc_amount\": amount,\n",
    "                        # Impact related to this flow\n",
    "                        \"impact\": flow / total_activity_output * cumulative_score,\n",
    "                        \"impact_neg\": flow / total_activity_output * cum_score_neg,\n",
    "                        \"impact_pos\": flow / total_activity_output * cum_score_pos\n",
    "                    }\n",
    "                )\n",
    "                # Want multiple incoming edges, but don't add existing node\n",
    "                if activity in nodes:\n",
    "                    continue\n",
    "                nodes[activity] = {\n",
    "                    # Total amount of this flow supplied\n",
    "                    \"amount\": total_activity_output,\n",
    "                    # Cumulative score from all flows of this activity\n",
    "                    \"cum\": cumulative_score,\n",
    "                    \"cum_neg\": cum_score_neg,\n",
    "                    \"cum_pos\": cum_score_pos,\n",
    "                    # Individual score attributable to environmental flows\n",
    "                    # coming directory from or to this activity\n",
    "                    \"ind\": self.unit_score(activity, supply, characterized_biosphere),\n",
    "                }\n",
    "                heappush(heap, (abs(1 / cumulative_score), activity, full_path_id))\n",
    "\n",
    "        return nodes, edges, counter\n"
   ]
  },
  {
   "cell_type": "code",
   "execution_count": 36,
   "metadata": {},
   "outputs": [],
   "source": [
    "trav = JRCAssumedDiagonalGraphTraversal().calculate(lca, cutoff=0.02)"
   ]
  },
  {
   "cell_type": "code",
   "execution_count": 29,
   "metadata": {},
   "outputs": [
    {
     "data": {
      "text/plain": [
       "{-1: {'amount': 1, 'cum': 0.38520281033490816, 'ind': 3.8520281033490816e-07},\n",
       " 8136: {'amount': 1.0000000000003508,\n",
       "  'cum': 0.3852028103350432,\n",
       "  'cum_neg': -0.00419853192579892,\n",
       "  'cum_pos': 0.3894013422608421,\n",
       "  'ind': 0.009934301098952674},\n",
       " 4040: {'amount': 0.8140073327514271,\n",
       "  'cum': 0.05148453564316879,\n",
       "  'cum_neg': -0.003796763881530258,\n",
       "  'cum_pos': 0.05528129952469904,\n",
       "  'ind': 0.0},\n",
       " 9804: {'amount': -0.01465197610528783,\n",
       "  'cum': 0.03645092193692722,\n",
       "  'cum_neg': -4.594907751819045e-08,\n",
       "  'cum_pos': 0.03645096788600473,\n",
       "  'ind': 0.0},\n",
       " 9946: {'amount': 0.00812150737594891,\n",
       "  'cum': 0.04129204746891929,\n",
       "  'cum_neg': -6.67734526037992e-08,\n",
       "  'cum_pos': 0.0412921142423719,\n",
       "  'ind': 0.0},\n",
       " 13946: {'amount': 0.014622000046451285,\n",
       "  'cum': 0.024502041277404164,\n",
       "  'cum_neg': -0.00026193067358492016,\n",
       "  'cum_pos': 0.024763971950989085,\n",
       "  'ind': 0.0},\n",
       " 14409: {'amount': 0.8622127487030016,\n",
       "  'cum': 0.0335210860429158,\n",
       "  'cum_neg': -2.618368081392445e-06,\n",
       "  'cum_pos': 0.033523704410997196,\n",
       "  'ind': 0.00109859848183033},\n",
       " 15337: {'amount': 0.01980657277455316,\n",
       "  'cum': 0.040251355439978,\n",
       "  'cum_neg': -0.00010550487465692993,\n",
       "  'cum_pos': 0.04035686031463494,\n",
       "  'ind': 0.0},\n",
       " 16404: {'amount': 2.8907852718792015,\n",
       "  'cum': 0.13062427441972058,\n",
       "  'cum_neg': -2.7475113586622374e-05,\n",
       "  'cum_pos': 0.13065174953330722,\n",
       "  'ind': 0.0},\n",
       " 12886: {'amount': 1.8756302657345472,\n",
       "  'cum': 0.05691587451646282,\n",
       "  'cum_neg': -1.4252348547825135e-05,\n",
       "  'cum_pos': 0.056930126865010644,\n",
       "  'ind': 0.0},\n",
       " 15009: {'amount': 0.5574648327198576,\n",
       "  'cum': 0.02742919498751127,\n",
       "  'cum_neg': -9.035648451963762e-06,\n",
       "  'cum_pos': 0.027438230635963234,\n",
       "  'ind': 0.0},\n",
       " 18854: {'amount': 0.43658360808091623,\n",
       "  'cum': 0.057288638552928664,\n",
       "  'cum_neg': -3.2618249121193537e-06,\n",
       "  'cum_pos': 0.057291900377840786,\n",
       "  'ind': 0.0},\n",
       " 11250: {'amount': 0.17034890792895585,\n",
       "  'cum': 0.021803803535135197,\n",
       "  'cum_neg': -1.236836675706e-06,\n",
       "  'cum_pos': 0.021805040371810906,\n",
       "  'ind': 0.0},\n",
       " 11726: {'amount': 0.19519146269433096,\n",
       "  'cum': 0.026430951476942317,\n",
       "  'cum_neg': -1.5137519404445836e-06,\n",
       "  'cum_pos': 0.026432465228882755,\n",
       "  'ind': 0.0},\n",
       " 11168: {'amount': 0.00035823014459313555,\n",
       "  'cum': 0.019447809436992643,\n",
       "  'cum_neg': -1.06078835553077e-06,\n",
       "  'cum_pos': 0.019448870225348174,\n",
       "  'ind': 0.01252781682711286},\n",
       " 18139: {'amount': 0.002233982295754601,\n",
       "  'cum': 0.02527769899219079,\n",
       "  'cum_neg': -2.2806517922516572e-05,\n",
       "  'cum_pos': 0.0253005055101133,\n",
       "  'ind': 0.016487922845735907},\n",
       " 18640: {'amount': 0.000111369594808937,\n",
       "  'cum': 0.030935083531101984,\n",
       "  'cum_neg': -1.1917526800576832e-06,\n",
       "  'cum_pos': 0.03093627528378204,\n",
       "  'ind': 0.020970582821803325},\n",
       " 3149: {'amount': 0.005436599294739061,\n",
       "  'cum': 0.027939754444048854,\n",
       "  'cum_neg': 0.0,\n",
       "  'cum_pos': 0.027939754444048854,\n",
       "  'ind': 0.027939754444048854},\n",
       " 8000: {'amount': 0.019806572774553163,\n",
       "  'cum': 0.0398747655017529,\n",
       "  'cum_neg': -0.00010547235524257887,\n",
       "  'cum_pos': 0.03998023785699548,\n",
       "  'ind': 0.03214171919678458},\n",
       " 5074: {'amount': 0.8582962401080411,\n",
       "  'cum': 0.03188017966486096,\n",
       "  'cum_neg': -2.2677569697958364e-06,\n",
       "  'cum_pos': 0.03188244742183075,\n",
       "  'ind': 0.0},\n",
       " 17197: {'amount': 0.8654338641282425,\n",
       "  'cum': 0.031947225057882014,\n",
       "  'cum_neg': -2.272526160525459e-06,\n",
       "  'cum_pos': 0.031949497584042544,\n",
       "  'ind': 0.0011789053976103859},\n",
       " 11864: {'amount': 0.015327417363440708,\n",
       "  'cum': 0.022458402214892023,\n",
       "  'cum_neg': -0.00026168993783624444,\n",
       "  'cum_pos': 0.02272009215272827,\n",
       "  'ind': 0.0},\n",
       " 7881: {'amount': 0.015336181827781199,\n",
       "  'cum': 0.02242390064772753,\n",
       "  'cum_neg': -0.000261629118738421,\n",
       "  'cum_pos': 0.02268552976646595,\n",
       "  'ind': 0.0},\n",
       " 6411: {'amount': 0.028880735398072864,\n",
       "  'cum': 0.02199679372606348,\n",
       "  'cum_neg': -0.00026154007092151025,\n",
       "  'cum_pos': 0.022258333796984994,\n",
       "  'ind': 0.0}}"
      ]
     },
     "execution_count": 29,
     "metadata": {},
     "output_type": "execute_result"
    }
   ],
   "source": [
    "trav['nodes']"
   ]
  },
  {
   "cell_type": "code",
   "execution_count": 38,
   "metadata": {},
   "outputs": [
    {
     "data": {
      "text/plain": [
       "{'8136': 'biomethane production, high pressure from synthetic gas, wood, fluidised technology' (cubic meter, CH, None),\n",
       " '4040': 'market for wood chips, dry, measured as dry mass' (kilogram, RER, None),\n",
       " '9804': 'market for waste mineral oil' (kilogram, CH, None),\n",
       " '9946': 'market for zeolite, powder' (kilogram, GLO, None),\n",
       " '13946': 'esterification of rape oil' (kilogram, CH, None),\n",
       " '14409': 'market for electricity, medium voltage' (kilowatt hour, CH, None),\n",
       " '15337': 'market for charcoal' (kilogram, GLO, None),\n",
       " '16404': 'market for wood chips, wet, measured as dry mass' (kilogram, CH, None),\n",
       " '12886': 'hardwood forestry, mixed species, sustainable forest management' (kilogram, CH, None),\n",
       " '15009': 'softwood forestry, mixed species, sustainable forest management' (kilogram, CH, None),\n",
       " '18854': 'market for transport, freight, lorry, unspecified' (ton kilometer, RER, None),\n",
       " '11250': 'transport, freight, lorry, all sizes, EURO4 to generic market for transport, freight, lorry, unspecified' (ton kilometer, RER, None),\n",
       " '11726': 'transport, freight, lorry, all sizes, EURO3 to generic market for transport, freight, lorry, unspecified' (ton kilometer, RER, None),\n",
       " '5616': 'market for diesel, burned in building machine' (megajoule, GLO, None),\n",
       " '11168': 'skidding, skidder' (hour, RER, None),\n",
       " '18139': 'power sawing, without catalytic converter' (hour, RER, None),\n",
       " '18640': 'wood chipping, mobile chipper, at forest road' (hour, RER, None),\n",
       " '9835': 'plywood production' (kilogram, RER, None),\n",
       " '11927': 'three and five layered board production' (kilogram, RER, None),\n",
       " '3149': 'zeolite production, powder' (kilogram, RoW, None),\n",
       " '3164': 'zeolite production, powder' (kilogram, RER, None),\n",
       " '8000': 'charcoal production' (kilogram, GLO, None),\n",
       " '2613': 'treatment of waste mineral oil, hazardous waste incineration, with energy recovery' (kilogram, CH, None),\n",
       " '14714': 'treatment of waste mineral oil, hazardous waste incineration' (kilogram, CH, None),\n",
       " '5074': 'electricity voltage transformation from high to medium voltage' (kilowatt hour, CH, None),\n",
       " '17197': 'market for electricity, high voltage' (kilowatt hour, CH, None),\n",
       " '7902': 'market group for electricity, high voltage' (kilowatt hour, ENTSO-E, None),\n",
       " '17348': 'market group for diesel, low-sulfur' (kilogram, RER, None),\n",
       " '17955': 'market for transport, freight, lorry 16-32 metric ton, EURO5' (ton kilometer, RER, None),\n",
       " '1242': 'market for transport, freight, lorry >32 metric ton, EURO3' (ton kilometer, RER, None),\n",
       " '19107': 'market for transport, freight, lorry 16-32 metric ton, EURO3' (ton kilometer, RER, None),\n",
       " '11864': 'market for rape oil, crude' (kilogram, CH, None),\n",
       " '7881': 'rape oil mill operation' (kilogram, CH, None),\n",
       " '6411': 'market for rape seed, Swiss integrated production' (kilogram, GLO, None),\n",
       " '1198': 'rape seed production, Swiss integrated production, intensive' (kilogram, CH, None),\n",
       " '15054': 'market for transport, freight, lorry 16-32 metric ton, EURO4' (ton kilometer, RER, None),\n",
       " '15976': 'market for transport, freight, lorry >32 metric ton, EURO4' (ton kilometer, RER, None),\n",
       " '16400': 'market for diesel, low-sulfur' (kilogram, Europe without Switzerland, None),\n",
       " '2448': 'market group for electricity, high voltage' (kilowatt hour, UCTE, None),\n",
       " '8042': 'market group for electricity, medium voltage' (kilowatt hour, RER, None),\n",
       " '5727': 'market group for electricity, medium voltage' (kilowatt hour, Europe without Switzerland, None),\n",
       " '9497': 'diesel production, low-sulfur, petroleum refinery operation' (kilogram, Europe without Switzerland, None),\n",
       " '11349': 'market for petroleum' (kilogram, GLO, None),\n",
       " '10090': 'market for electricity, high voltage' (kilowatt hour, DE, None),\n",
       " '5826': 'transport, freight, lorry 16-32 metric ton, EURO3' (ton kilometer, RER, None),\n",
       " '7456': 'transport, freight, lorry 16-32 metric ton, EURO5' (ton kilometer, RER, None),\n",
       " '4171': 'transport, freight, lorry >32 metric ton, EURO3' (ton kilometer, RER, None),\n",
       " '1785': 'transport, freight, lorry >32 metric ton, EURO4' (ton kilometer, RER, None),\n",
       " '19478': 'transport, freight, lorry 16-32 metric ton, EURO4' (ton kilometer, RER, None),\n",
       " '9425': 'diesel, burned in building machine' (megajoule, GLO, None)}"
      ]
     },
     "execution_count": 38,
     "metadata": {},
     "output_type": "execute_result"
    }
   ],
   "source": [
    "# from Romain to name the activities\n",
    "id_to_key = {v:k for k, v in lca.activity_dict.items()}\n",
    "activities = {str(id): bd.get_activity(id_to_key[id]) for id in list(trav[\"nodes\"].keys())[1:]}\n",
    "activities"
   ]
  },
  {
   "cell_type": "code",
   "execution_count": 50,
   "metadata": {},
   "outputs": [
    {
     "data": {
      "text/html": [
       "<div>\n",
       "<style scoped>\n",
       "    .dataframe tbody tr th:only-of-type {\n",
       "        vertical-align: middle;\n",
       "    }\n",
       "\n",
       "    .dataframe tbody tr th {\n",
       "        vertical-align: top;\n",
       "    }\n",
       "\n",
       "    .dataframe thead th {\n",
       "        text-align: right;\n",
       "    }\n",
       "</style>\n",
       "<table border=\"1\" class=\"dataframe\">\n",
       "  <thead>\n",
       "    <tr style=\"text-align: right;\">\n",
       "      <th></th>\n",
       "      <th>ids</th>\n",
       "      <th>label</th>\n",
       "      <th>parent_ids</th>\n",
       "      <th>parent</th>\n",
       "      <th>labels_short</th>\n",
       "      <th>value</th>\n",
       "    </tr>\n",
       "  </thead>\n",
       "  <tbody>\n",
       "    <tr>\n",
       "      <th>10</th>\n",
       "      <td>8136-16404-18854</td>\n",
       "      <td>market for transport, freight, lorry, unspecif...</td>\n",
       "      <td>8136-16404</td>\n",
       "      <td>market for wood chips, wet, measured as dry ma...</td>\n",
       "      <td>market for transpo</td>\n",
       "      <td>39</td>\n",
       "    </tr>\n",
       "    <tr>\n",
       "      <th>19</th>\n",
       "      <td>8136-4040-18854</td>\n",
       "      <td>market for transport, freight, lorry, unspecif...</td>\n",
       "      <td>8136-4040</td>\n",
       "      <td>market for wood chips, dry, measured as dry ma...</td>\n",
       "      <td>market for transpo</td>\n",
       "      <td>7</td>\n",
       "    </tr>\n",
       "    <tr>\n",
       "      <th>25</th>\n",
       "      <td>8136-9804-18854</td>\n",
       "      <td>market for transport, freight, lorry, unspecif...</td>\n",
       "      <td>8136-9804</td>\n",
       "      <td>market for waste mineral oil (CH)</td>\n",
       "      <td>market for transpo</td>\n",
       "      <td>0</td>\n",
       "    </tr>\n",
       "    <tr>\n",
       "      <th>57</th>\n",
       "      <td>8136-16404-12886-18640-17348-16400-18854</td>\n",
       "      <td>market for transport, freight, lorry, unspecif...</td>\n",
       "      <td>8136-16404-12886-18640-17348-16400</td>\n",
       "      <td>market for diesel, low-sulfur (Europe without ...</td>\n",
       "      <td>market for transpo</td>\n",
       "      <td>0</td>\n",
       "    </tr>\n",
       "  </tbody>\n",
       "</table>\n",
       "</div>"
      ],
      "text/plain": [
       "                                         ids  \\\n",
       "10                          8136-16404-18854   \n",
       "19                           8136-4040-18854   \n",
       "25                           8136-9804-18854   \n",
       "57  8136-16404-12886-18640-17348-16400-18854   \n",
       "\n",
       "                                                label  \\\n",
       "10  market for transport, freight, lorry, unspecif...   \n",
       "19  market for transport, freight, lorry, unspecif...   \n",
       "25  market for transport, freight, lorry, unspecif...   \n",
       "57  market for transport, freight, lorry, unspecif...   \n",
       "\n",
       "                            parent_ids  \\\n",
       "10                          8136-16404   \n",
       "19                           8136-4040   \n",
       "25                           8136-9804   \n",
       "57  8136-16404-12886-18640-17348-16400   \n",
       "\n",
       "                                               parent        labels_short  \\\n",
       "10  market for wood chips, wet, measured as dry ma...  market for transpo   \n",
       "19  market for wood chips, dry, measured as dry ma...  market for transpo   \n",
       "25                  market for waste mineral oil (CH)  market for transpo   \n",
       "57  market for diesel, low-sulfur (Europe without ...  market for transpo   \n",
       "\n",
       "    value  \n",
       "10     39  \n",
       "19      7  \n",
       "25      0  \n",
       "57      0  "
      ]
     },
     "metadata": {},
     "output_type": "display_data"
    },
    {
     "data": {
      "application/vnd.plotly.v1+json": {
       "config": {
        "plotlyServerURL": "https://plot.ly"
       },
       "data": [
        {
         "branchvalues": "total",
         "hovertext": [
          "biomethane production, high pressure from synthetic gas, wood, fluidised technology (CH)",
          "market for wood chips, dry, measured as dry mass (RER)",
          "market for waste mineral oil (CH)",
          "market for zeolite, powder (GLO)",
          "esterification of rape oil (CH)",
          "market for electricity, medium voltage (CH)",
          "market for charcoal (GLO)",
          "market for wood chips, wet, measured as dry mass (CH)",
          "hardwood forestry, mixed species, sustainable forest management (CH)",
          "softwood forestry, mixed species, sustainable forest management (CH)",
          "market for transport, freight, lorry, unspecified (RER)",
          "transport, freight, lorry, all sizes, EURO4 to generic market for transport, freight, lorry, unspecified (RER)",
          "transport, freight, lorry, all sizes, EURO3 to generic market for transport, freight, lorry, unspecified (RER)",
          "market for diesel, burned in building machine (GLO)",
          "skidding, skidder (RER)",
          "power sawing, without catalytic converter (RER)",
          "wood chipping, mobile chipper, at forest road (RER)",
          "plywood production (RER)",
          "three and five layered board production (RER)",
          "market for transport, freight, lorry, unspecified (RER)",
          "zeolite production, powder (RoW)",
          "zeolite production, powder (RER)",
          "charcoal production (GLO)",
          "treatment of waste mineral oil, hazardous waste incineration, with energy recovery (CH)",
          "treatment of waste mineral oil, hazardous waste incineration (CH)",
          "market for transport, freight, lorry, unspecified (RER)",
          "electricity voltage transformation from high to medium voltage (CH)",
          "market for electricity, high voltage (CH)",
          "market group for electricity, high voltage (ENTSO-E)",
          "market for waste mineral oil (CH)",
          "market group for diesel, low-sulfur (RER)",
          "market for transport, freight, lorry 16-32 metric ton, EURO5 (RER)",
          "market for diesel, burned in building machine (GLO)",
          "skidding, skidder (RER)",
          "power sawing, without catalytic converter (RER)",
          "wood chipping, mobile chipper, at forest road (RER)",
          "market for transport, freight, lorry >32 metric ton, EURO3 (RER)",
          "market for transport, freight, lorry 16-32 metric ton, EURO3 (RER)",
          "market for rape oil, crude (CH)",
          "market for electricity, medium voltage (CH)",
          "rape oil mill operation (CH)",
          "market for rape seed, Swiss integrated production (GLO)",
          "market for electricity, medium voltage (CH)",
          "rape seed production, Swiss integrated production, intensive (CH)",
          "market for transport, freight, lorry 16-32 metric ton, EURO4 (RER)",
          "market for transport, freight, lorry >32 metric ton, EURO4 (RER)",
          "market for waste mineral oil (CH)",
          "market group for diesel, low-sulfur (RER)",
          "market for transport, freight, lorry 16-32 metric ton, EURO5 (RER)",
          "market for diesel, low-sulfur (Europe without Switzerland)",
          "market group for electricity, high voltage (UCTE)",
          "market for diesel, burned in building machine (GLO)",
          "market group for electricity, medium voltage (RER)",
          "market for waste mineral oil (CH)",
          "market group for electricity, medium voltage (Europe without Switzerland)",
          "market for electricity, medium voltage (CH)",
          "diesel production, low-sulfur, petroleum refinery operation (Europe without Switzerland)",
          "market for transport, freight, lorry, unspecified (RER)",
          "market for zeolite, powder (GLO)",
          "market for petroleum (GLO)",
          "market for diesel, burned in building machine (GLO)",
          "market group for electricity, medium voltage (RER)",
          "market for waste mineral oil (CH)",
          "market for electricity, high voltage (DE)",
          "market for electricity, high voltage (CH)",
          "transport, freight, lorry 16-32 metric ton, EURO3 (RER)",
          "market group for diesel, low-sulfur (RER)",
          "transport, freight, lorry 16-32 metric ton, EURO5 (RER)",
          "market group for diesel, low-sulfur (RER)",
          "transport, freight, lorry >32 metric ton, EURO3 (RER)",
          "market group for diesel, low-sulfur (RER)",
          "transport, freight, lorry >32 metric ton, EURO4 (RER)",
          "market group for diesel, low-sulfur (RER)",
          "transport, freight, lorry 16-32 metric ton, EURO4 (RER)",
          "market group for diesel, low-sulfur (RER)",
          "diesel, burned in building machine (GLO)",
          "market for waste mineral oil (CH)"
         ],
         "ids": [
          "8136",
          "8136-4040",
          "8136-9804",
          "8136-9946",
          "8136-13946",
          "8136-14409",
          "8136-15337",
          "8136-16404",
          "8136-16404-12886",
          "8136-16404-15009",
          "8136-16404-18854",
          "8136-16404-18854-11250",
          "8136-16404-18854-11726",
          "8136-16404-12886-5616",
          "8136-16404-12886-11168",
          "8136-16404-12886-18139",
          "8136-16404-12886-18640",
          "8136-4040-9835",
          "8136-4040-11927",
          "8136-4040-18854",
          "8136-9946-3149",
          "8136-9946-3164",
          "8136-15337-8000",
          "8136-9804-2613",
          "8136-9804-14714",
          "8136-9804-18854",
          "8136-14409-5074",
          "8136-14409-5074-17197",
          "8136-14409-5074-17197-7902",
          "8136-16404-12886-18640-9804",
          "8136-16404-12886-18640-17348",
          "8136-16404-12886-18640-17955",
          "8136-16404-15009-5616",
          "8136-16404-15009-11168",
          "8136-16404-15009-18139",
          "8136-16404-15009-18640",
          "8136-16404-18854-11726-1242",
          "8136-16404-18854-11726-19107",
          "8136-13946-11864",
          "8136-13946-14409",
          "8136-13946-11864-7881",
          "8136-13946-11864-7881-6411",
          "8136-13946-11864-7881-14409",
          "8136-13946-11864-7881-6411-1198",
          "8136-16404-18854-11250-15054",
          "8136-16404-18854-11250-15976",
          "8136-16404-12886-11168-9804",
          "8136-16404-12886-11168-17348",
          "8136-16404-12886-11168-17955",
          "8136-16404-12886-18640-17348-16400",
          "8136-14409-5074-17197-7902-2448",
          "8136-4040-11927-5616",
          "8136-4040-11927-8042",
          "8136-4040-11927-9804",
          "8136-4040-11927-8042-5727",
          "8136-4040-11927-8042-14409",
          "8136-16404-12886-18640-17348-16400-9497",
          "8136-16404-12886-18640-17348-16400-18854",
          "8136-16404-12886-18640-17348-16400-9497-9946",
          "8136-16404-12886-18640-17348-16400-9497-11349",
          "8136-4040-9835-5616",
          "8136-4040-9835-8042",
          "8136-4040-9835-9804",
          "8136-14409-5074-17197-7902-2448-10090",
          "8136-14409-5074-17197-7902-2448-17197",
          "8136-16404-18854-11726-19107-5826",
          "8136-16404-18854-11726-19107-5826-17348",
          "8136-16404-12886-18640-17955-7456",
          "8136-16404-12886-18640-17955-7456-17348",
          "8136-16404-18854-11726-1242-4171",
          "8136-16404-18854-11726-1242-4171-17348",
          "8136-16404-18854-11250-15976-1785",
          "8136-16404-18854-11250-15976-1785-17348",
          "8136-16404-18854-11250-15054-19478",
          "8136-16404-18854-11250-15054-19478-17348",
          "8136-16404-12886-5616-9425",
          "8136-16404-12886-5616-9425-9804"
         ],
         "labels": [
          "biomethane product",
          "market for wood ch",
          "market for waste m",
          "market for zeolite",
          "esterification of ",
          "market for electri",
          "market for charcoa",
          "market for wood ch",
          "hardwood forestry,",
          "softwood forestry,",
          "market for transpo",
          "transport, freight",
          "transport, freight",
          "market for diesel,",
          "skidding, skidder ",
          "power sawing, with",
          "wood chipping, mob",
          "plywood production",
          "three and five lay",
          "market for transpo",
          "zeolite production",
          "zeolite production",
          "charcoal productio",
          "treatment of waste",
          "treatment of waste",
          "market for transpo",
          "electricity voltag",
          "market for electri",
          "market group for e",
          "market for waste m",
          "market group for d",
          "market for transpo",
          "market for diesel,",
          "skidding, skidder ",
          "power sawing, with",
          "wood chipping, mob",
          "market for transpo",
          "market for transpo",
          "market for rape oi",
          "market for electri",
          "rape oil mill oper",
          "market for rape se",
          "market for electri",
          "rape seed producti",
          "market for transpo",
          "market for transpo",
          "market for waste m",
          "market group for d",
          "market for transpo",
          "market for diesel,",
          "market group for e",
          "market for diesel,",
          "market group for e",
          "market for waste m",
          "market group for e",
          "market for electri",
          "diesel production,",
          "market for transpo",
          "market for zeolite",
          "market for petrole",
          "market for diesel,",
          "market group for e",
          "market for waste m",
          "market for electri",
          "market for electri",
          "transport, freight",
          "market group for d",
          "transport, freight",
          "market group for d",
          "transport, freight",
          "market group for d",
          "transport, freight",
          "market group for d",
          "transport, freight",
          "market group for d",
          "diesel, burned in ",
          "market for waste m"
         ],
         "parents": [
          "",
          "8136",
          "8136",
          "8136",
          "8136",
          "8136",
          "8136",
          "8136",
          "8136-16404",
          "8136-16404",
          "8136-16404",
          "8136-16404-18854",
          "8136-16404-18854",
          "8136-16404-12886",
          "8136-16404-12886",
          "8136-16404-12886",
          "8136-16404-12886",
          "8136-4040",
          "8136-4040",
          "8136-4040",
          "8136-9946",
          "8136-9946",
          "8136-15337",
          "8136-9804",
          "8136-9804",
          "8136-9804",
          "8136-14409",
          "8136-14409-5074",
          "8136-14409-5074-17197",
          "8136-16404-12886-18640",
          "8136-16404-12886-18640",
          "8136-16404-12886-18640",
          "8136-16404-15009",
          "8136-16404-15009",
          "8136-16404-15009",
          "8136-16404-15009",
          "8136-16404-18854-11726",
          "8136-16404-18854-11726",
          "8136-13946",
          "8136-13946",
          "8136-13946-11864",
          "8136-13946-11864-7881",
          "8136-13946-11864-7881",
          "8136-13946-11864-7881-6411",
          "8136-16404-18854-11250",
          "8136-16404-18854-11250",
          "8136-16404-12886-11168",
          "8136-16404-12886-11168",
          "8136-16404-12886-11168",
          "8136-16404-12886-18640-17348",
          "8136-14409-5074-17197-7902",
          "8136-4040-11927",
          "8136-4040-11927",
          "8136-4040-11927",
          "8136-4040-11927-8042",
          "8136-4040-11927-8042",
          "8136-16404-12886-18640-17348-16400",
          "8136-16404-12886-18640-17348-16400",
          "8136-16404-12886-18640-17348-16400-9497",
          "8136-16404-12886-18640-17348-16400-9497",
          "8136-4040-9835",
          "8136-4040-9835",
          "8136-4040-9835",
          "8136-14409-5074-17197-7902-2448",
          "8136-14409-5074-17197-7902-2448",
          "8136-16404-18854-11726-19107",
          "8136-16404-18854-11726-19107-5826",
          "8136-16404-12886-18640-17955",
          "8136-16404-12886-18640-17955-7456",
          "8136-16404-18854-11726-1242",
          "8136-16404-18854-11726-1242-4171",
          "8136-16404-18854-11250-15976",
          "8136-16404-18854-11250-15976-1785",
          "8136-16404-18854-11250-15054",
          "8136-16404-18854-11250-15054-19478",
          "8136-16404-12886-5616",
          "8136-16404-12886-5616-9425"
         ],
         "type": "sunburst",
         "values": [
          389,
          55,
          36,
          41,
          24,
          32,
          40,
          130,
          56,
          27,
          39,
          21,
          10,
          0,
          12,
          13,
          21,
          16,
          15,
          7,
          27,
          12,
          39,
          18,
          18,
          0,
          31,
          31,
          14,
          0,
          3,
          4,
          0,
          5,
          8,
          9,
          10,
          10,
          22,
          0,
          22,
          22,
          0,
          15,
          8,
          9,
          0,
          2,
          2,
          14,
          12,
          0,
          5,
          0,
          16,
          0,
          13,
          0,
          0,
          7,
          0,
          5,
          0,
          3,
          0,
          10,
          1,
          10,
          1,
          10,
          1,
          9,
          1,
          8,
          1,
          7,
          0
         ]
        }
       ],
       "layout": {
        "template": {
         "data": {
          "bar": [
           {
            "error_x": {
             "color": "#2a3f5f"
            },
            "error_y": {
             "color": "#2a3f5f"
            },
            "marker": {
             "line": {
              "color": "#E5ECF6",
              "width": 0.5
             },
             "pattern": {
              "fillmode": "overlay",
              "size": 10,
              "solidity": 0.2
             }
            },
            "type": "bar"
           }
          ],
          "barpolar": [
           {
            "marker": {
             "line": {
              "color": "#E5ECF6",
              "width": 0.5
             },
             "pattern": {
              "fillmode": "overlay",
              "size": 10,
              "solidity": 0.2
             }
            },
            "type": "barpolar"
           }
          ],
          "carpet": [
           {
            "aaxis": {
             "endlinecolor": "#2a3f5f",
             "gridcolor": "white",
             "linecolor": "white",
             "minorgridcolor": "white",
             "startlinecolor": "#2a3f5f"
            },
            "baxis": {
             "endlinecolor": "#2a3f5f",
             "gridcolor": "white",
             "linecolor": "white",
             "minorgridcolor": "white",
             "startlinecolor": "#2a3f5f"
            },
            "type": "carpet"
           }
          ],
          "choropleth": [
           {
            "colorbar": {
             "outlinewidth": 0,
             "ticks": ""
            },
            "type": "choropleth"
           }
          ],
          "contour": [
           {
            "colorbar": {
             "outlinewidth": 0,
             "ticks": ""
            },
            "colorscale": [
             [
              0,
              "#0d0887"
             ],
             [
              0.1111111111111111,
              "#46039f"
             ],
             [
              0.2222222222222222,
              "#7201a8"
             ],
             [
              0.3333333333333333,
              "#9c179e"
             ],
             [
              0.4444444444444444,
              "#bd3786"
             ],
             [
              0.5555555555555556,
              "#d8576b"
             ],
             [
              0.6666666666666666,
              "#ed7953"
             ],
             [
              0.7777777777777778,
              "#fb9f3a"
             ],
             [
              0.8888888888888888,
              "#fdca26"
             ],
             [
              1,
              "#f0f921"
             ]
            ],
            "type": "contour"
           }
          ],
          "contourcarpet": [
           {
            "colorbar": {
             "outlinewidth": 0,
             "ticks": ""
            },
            "type": "contourcarpet"
           }
          ],
          "heatmap": [
           {
            "colorbar": {
             "outlinewidth": 0,
             "ticks": ""
            },
            "colorscale": [
             [
              0,
              "#0d0887"
             ],
             [
              0.1111111111111111,
              "#46039f"
             ],
             [
              0.2222222222222222,
              "#7201a8"
             ],
             [
              0.3333333333333333,
              "#9c179e"
             ],
             [
              0.4444444444444444,
              "#bd3786"
             ],
             [
              0.5555555555555556,
              "#d8576b"
             ],
             [
              0.6666666666666666,
              "#ed7953"
             ],
             [
              0.7777777777777778,
              "#fb9f3a"
             ],
             [
              0.8888888888888888,
              "#fdca26"
             ],
             [
              1,
              "#f0f921"
             ]
            ],
            "type": "heatmap"
           }
          ],
          "heatmapgl": [
           {
            "colorbar": {
             "outlinewidth": 0,
             "ticks": ""
            },
            "colorscale": [
             [
              0,
              "#0d0887"
             ],
             [
              0.1111111111111111,
              "#46039f"
             ],
             [
              0.2222222222222222,
              "#7201a8"
             ],
             [
              0.3333333333333333,
              "#9c179e"
             ],
             [
              0.4444444444444444,
              "#bd3786"
             ],
             [
              0.5555555555555556,
              "#d8576b"
             ],
             [
              0.6666666666666666,
              "#ed7953"
             ],
             [
              0.7777777777777778,
              "#fb9f3a"
             ],
             [
              0.8888888888888888,
              "#fdca26"
             ],
             [
              1,
              "#f0f921"
             ]
            ],
            "type": "heatmapgl"
           }
          ],
          "histogram": [
           {
            "marker": {
             "pattern": {
              "fillmode": "overlay",
              "size": 10,
              "solidity": 0.2
             }
            },
            "type": "histogram"
           }
          ],
          "histogram2d": [
           {
            "colorbar": {
             "outlinewidth": 0,
             "ticks": ""
            },
            "colorscale": [
             [
              0,
              "#0d0887"
             ],
             [
              0.1111111111111111,
              "#46039f"
             ],
             [
              0.2222222222222222,
              "#7201a8"
             ],
             [
              0.3333333333333333,
              "#9c179e"
             ],
             [
              0.4444444444444444,
              "#bd3786"
             ],
             [
              0.5555555555555556,
              "#d8576b"
             ],
             [
              0.6666666666666666,
              "#ed7953"
             ],
             [
              0.7777777777777778,
              "#fb9f3a"
             ],
             [
              0.8888888888888888,
              "#fdca26"
             ],
             [
              1,
              "#f0f921"
             ]
            ],
            "type": "histogram2d"
           }
          ],
          "histogram2dcontour": [
           {
            "colorbar": {
             "outlinewidth": 0,
             "ticks": ""
            },
            "colorscale": [
             [
              0,
              "#0d0887"
             ],
             [
              0.1111111111111111,
              "#46039f"
             ],
             [
              0.2222222222222222,
              "#7201a8"
             ],
             [
              0.3333333333333333,
              "#9c179e"
             ],
             [
              0.4444444444444444,
              "#bd3786"
             ],
             [
              0.5555555555555556,
              "#d8576b"
             ],
             [
              0.6666666666666666,
              "#ed7953"
             ],
             [
              0.7777777777777778,
              "#fb9f3a"
             ],
             [
              0.8888888888888888,
              "#fdca26"
             ],
             [
              1,
              "#f0f921"
             ]
            ],
            "type": "histogram2dcontour"
           }
          ],
          "mesh3d": [
           {
            "colorbar": {
             "outlinewidth": 0,
             "ticks": ""
            },
            "type": "mesh3d"
           }
          ],
          "parcoords": [
           {
            "line": {
             "colorbar": {
              "outlinewidth": 0,
              "ticks": ""
             }
            },
            "type": "parcoords"
           }
          ],
          "pie": [
           {
            "automargin": true,
            "type": "pie"
           }
          ],
          "scatter": [
           {
            "fillpattern": {
             "fillmode": "overlay",
             "size": 10,
             "solidity": 0.2
            },
            "type": "scatter"
           }
          ],
          "scatter3d": [
           {
            "line": {
             "colorbar": {
              "outlinewidth": 0,
              "ticks": ""
             }
            },
            "marker": {
             "colorbar": {
              "outlinewidth": 0,
              "ticks": ""
             }
            },
            "type": "scatter3d"
           }
          ],
          "scattercarpet": [
           {
            "marker": {
             "colorbar": {
              "outlinewidth": 0,
              "ticks": ""
             }
            },
            "type": "scattercarpet"
           }
          ],
          "scattergeo": [
           {
            "marker": {
             "colorbar": {
              "outlinewidth": 0,
              "ticks": ""
             }
            },
            "type": "scattergeo"
           }
          ],
          "scattergl": [
           {
            "marker": {
             "colorbar": {
              "outlinewidth": 0,
              "ticks": ""
             }
            },
            "type": "scattergl"
           }
          ],
          "scattermapbox": [
           {
            "marker": {
             "colorbar": {
              "outlinewidth": 0,
              "ticks": ""
             }
            },
            "type": "scattermapbox"
           }
          ],
          "scatterpolar": [
           {
            "marker": {
             "colorbar": {
              "outlinewidth": 0,
              "ticks": ""
             }
            },
            "type": "scatterpolar"
           }
          ],
          "scatterpolargl": [
           {
            "marker": {
             "colorbar": {
              "outlinewidth": 0,
              "ticks": ""
             }
            },
            "type": "scatterpolargl"
           }
          ],
          "scatterternary": [
           {
            "marker": {
             "colorbar": {
              "outlinewidth": 0,
              "ticks": ""
             }
            },
            "type": "scatterternary"
           }
          ],
          "surface": [
           {
            "colorbar": {
             "outlinewidth": 0,
             "ticks": ""
            },
            "colorscale": [
             [
              0,
              "#0d0887"
             ],
             [
              0.1111111111111111,
              "#46039f"
             ],
             [
              0.2222222222222222,
              "#7201a8"
             ],
             [
              0.3333333333333333,
              "#9c179e"
             ],
             [
              0.4444444444444444,
              "#bd3786"
             ],
             [
              0.5555555555555556,
              "#d8576b"
             ],
             [
              0.6666666666666666,
              "#ed7953"
             ],
             [
              0.7777777777777778,
              "#fb9f3a"
             ],
             [
              0.8888888888888888,
              "#fdca26"
             ],
             [
              1,
              "#f0f921"
             ]
            ],
            "type": "surface"
           }
          ],
          "table": [
           {
            "cells": {
             "fill": {
              "color": "#EBF0F8"
             },
             "line": {
              "color": "white"
             }
            },
            "header": {
             "fill": {
              "color": "#C8D4E3"
             },
             "line": {
              "color": "white"
             }
            },
            "type": "table"
           }
          ]
         },
         "layout": {
          "annotationdefaults": {
           "arrowcolor": "#2a3f5f",
           "arrowhead": 0,
           "arrowwidth": 1
          },
          "autotypenumbers": "strict",
          "coloraxis": {
           "colorbar": {
            "outlinewidth": 0,
            "ticks": ""
           }
          },
          "colorscale": {
           "diverging": [
            [
             0,
             "#8e0152"
            ],
            [
             0.1,
             "#c51b7d"
            ],
            [
             0.2,
             "#de77ae"
            ],
            [
             0.3,
             "#f1b6da"
            ],
            [
             0.4,
             "#fde0ef"
            ],
            [
             0.5,
             "#f7f7f7"
            ],
            [
             0.6,
             "#e6f5d0"
            ],
            [
             0.7,
             "#b8e186"
            ],
            [
             0.8,
             "#7fbc41"
            ],
            [
             0.9,
             "#4d9221"
            ],
            [
             1,
             "#276419"
            ]
           ],
           "sequential": [
            [
             0,
             "#0d0887"
            ],
            [
             0.1111111111111111,
             "#46039f"
            ],
            [
             0.2222222222222222,
             "#7201a8"
            ],
            [
             0.3333333333333333,
             "#9c179e"
            ],
            [
             0.4444444444444444,
             "#bd3786"
            ],
            [
             0.5555555555555556,
             "#d8576b"
            ],
            [
             0.6666666666666666,
             "#ed7953"
            ],
            [
             0.7777777777777778,
             "#fb9f3a"
            ],
            [
             0.8888888888888888,
             "#fdca26"
            ],
            [
             1,
             "#f0f921"
            ]
           ],
           "sequentialminus": [
            [
             0,
             "#0d0887"
            ],
            [
             0.1111111111111111,
             "#46039f"
            ],
            [
             0.2222222222222222,
             "#7201a8"
            ],
            [
             0.3333333333333333,
             "#9c179e"
            ],
            [
             0.4444444444444444,
             "#bd3786"
            ],
            [
             0.5555555555555556,
             "#d8576b"
            ],
            [
             0.6666666666666666,
             "#ed7953"
            ],
            [
             0.7777777777777778,
             "#fb9f3a"
            ],
            [
             0.8888888888888888,
             "#fdca26"
            ],
            [
             1,
             "#f0f921"
            ]
           ]
          },
          "colorway": [
           "#636efa",
           "#EF553B",
           "#00cc96",
           "#ab63fa",
           "#FFA15A",
           "#19d3f3",
           "#FF6692",
           "#B6E880",
           "#FF97FF",
           "#FECB52"
          ],
          "font": {
           "color": "#2a3f5f"
          },
          "geo": {
           "bgcolor": "white",
           "lakecolor": "white",
           "landcolor": "#E5ECF6",
           "showlakes": true,
           "showland": true,
           "subunitcolor": "white"
          },
          "hoverlabel": {
           "align": "left"
          },
          "hovermode": "closest",
          "mapbox": {
           "style": "light"
          },
          "paper_bgcolor": "white",
          "plot_bgcolor": "#E5ECF6",
          "polar": {
           "angularaxis": {
            "gridcolor": "white",
            "linecolor": "white",
            "ticks": ""
           },
           "bgcolor": "#E5ECF6",
           "radialaxis": {
            "gridcolor": "white",
            "linecolor": "white",
            "ticks": ""
           }
          },
          "scene": {
           "xaxis": {
            "backgroundcolor": "#E5ECF6",
            "gridcolor": "white",
            "gridwidth": 2,
            "linecolor": "white",
            "showbackground": true,
            "ticks": "",
            "zerolinecolor": "white"
           },
           "yaxis": {
            "backgroundcolor": "#E5ECF6",
            "gridcolor": "white",
            "gridwidth": 2,
            "linecolor": "white",
            "showbackground": true,
            "ticks": "",
            "zerolinecolor": "white"
           },
           "zaxis": {
            "backgroundcolor": "#E5ECF6",
            "gridcolor": "white",
            "gridwidth": 2,
            "linecolor": "white",
            "showbackground": true,
            "ticks": "",
            "zerolinecolor": "white"
           }
          },
          "shapedefaults": {
           "line": {
            "color": "#2a3f5f"
           }
          },
          "ternary": {
           "aaxis": {
            "gridcolor": "white",
            "linecolor": "white",
            "ticks": ""
           },
           "baxis": {
            "gridcolor": "white",
            "linecolor": "white",
            "ticks": ""
           },
           "bgcolor": "#E5ECF6",
           "caxis": {
            "gridcolor": "white",
            "linecolor": "white",
            "ticks": ""
           }
          },
          "title": {
           "x": 0.05
          },
          "xaxis": {
           "automargin": true,
           "gridcolor": "white",
           "linecolor": "white",
           "ticks": "",
           "title": {
            "standoff": 15
           },
           "zerolinecolor": "white",
           "zerolinewidth": 2
          },
          "yaxis": {
           "automargin": true,
           "gridcolor": "white",
           "linecolor": "white",
           "ticks": "",
           "title": {
            "standoff": 15
           },
           "zerolinecolor": "white",
           "zerolinewidth": 2
          }
         }
        }
       }
      }
     },
     "metadata": {},
     "output_type": "display_data"
    }
   ],
   "source": [
    "import plotly.graph_objects as go\n",
    "import math\n",
    "\n",
    "ids = [edge[\"from\"] for edge in trav['edges']]\n",
    "labels = [activities[id.split('-')[-1]]['name']+' ('+activities[id.split('-')[-1]]['location']+')' for id in ids]\n",
    "labels_short = [label[:18] for label in labels]\n",
    "parent_ids = [edge[\"to\"] for edge in trav['edges']][1:]\n",
    "parent_ids = [\"\"] + parent_ids\n",
    "parents = [activities[id.split('-')[-1]]['name']+' ('+activities[id.split('-')[-1]]['location']+')' if id != '' else '' for id in parent_ids]\n",
    "\n",
    "data = dict(ids = ids,\n",
    "            label = labels,            \n",
    "            #location = [act['location'] for act in activities],\n",
    "            parent_ids = parent_ids,\n",
    "            parent = parents,\n",
    "            labels_short = labels_short,\n",
    "            value = [math.floor(edge[\"impact_pos\"]*1000) for edge in trav['edges']], #math.floor(edge[\"impact_pos\"]*1100)/1100\n",
    "            #value_pct = value_pct\n",
    "        )\n",
    "# there is an error here, we have to check.\n",
    "# This is an ugly hack to get all sums of children smaller than parents\n",
    "data['value'][12] = 10\n",
    "fig =go.Figure(go.Sunburst(\n",
    "            #data,\n",
    "            ids=data['ids'],\n",
    "            labels=data['labels_short'],\n",
    "            parents=data['parent_ids'],\n",
    "            values=data['value'],\n",
    "            branchvalues=\"total\",\n",
    "            #color='labels_short',\n",
    "            #color_continuous_scale='algae',\n",
    "            hovertext= data['label'],\n",
    "            #valueformat = '.0f',\n",
    "            #maxdepth=1\n",
    "        )\n",
    ")\n",
    "df = pd.DataFrame.from_dict(data)#.set_index('ids')\n",
    "display(df[df.ids.str.endswith('18854')])\n",
    "\n",
    "\n",
    "def check_sums(df):\n",
    "    checker = df.groupby('parent_ids').sum().join(df['value'], rsuffix='_parent')    \n",
    "    checker['parent'] = checker.apply(lambda row: activities[row.name]['name'] if row.name != '' else '', axis=1)\n",
    "    print(checker)\n",
    "\n",
    "#check_sums(df)\n",
    "\n",
    "fig.show()"
   ]
  },
  {
   "cell_type": "code",
   "execution_count": 58,
   "metadata": {},
   "outputs": [
    {
     "data": {
      "text/html": [
       "<div>\n",
       "<style scoped>\n",
       "    .dataframe tbody tr th:only-of-type {\n",
       "        vertical-align: middle;\n",
       "    }\n",
       "\n",
       "    .dataframe tbody tr th {\n",
       "        vertical-align: top;\n",
       "    }\n",
       "\n",
       "    .dataframe thead th {\n",
       "        text-align: right;\n",
       "    }\n",
       "</style>\n",
       "<table border=\"1\" class=\"dataframe\">\n",
       "  <thead>\n",
       "    <tr style=\"text-align: right;\">\n",
       "      <th></th>\n",
       "      <th>label</th>\n",
       "      <th>parent</th>\n",
       "      <th>labels_short</th>\n",
       "      <th>value</th>\n",
       "    </tr>\n",
       "  </thead>\n",
       "  <tbody>\n",
       "    <tr>\n",
       "      <th>0</th>\n",
       "      <td>biomethane production, high pressure from synt...</td>\n",
       "      <td></td>\n",
       "      <td>biomethane product</td>\n",
       "      <td>0.004</td>\n",
       "    </tr>\n",
       "    <tr>\n",
       "      <th>1</th>\n",
       "      <td>market for wood chips, dry, measured as dry ma...</td>\n",
       "      <td>biomethane production, high pressure from synt...</td>\n",
       "      <td>market for wood ch</td>\n",
       "      <td>0.003</td>\n",
       "    </tr>\n",
       "    <tr>\n",
       "      <th>2</th>\n",
       "      <td>market for zeolite, powder (GLO)</td>\n",
       "      <td>biomethane production, high pressure from synt...</td>\n",
       "      <td>market for zeolite</td>\n",
       "      <td>0.000</td>\n",
       "    </tr>\n",
       "    <tr>\n",
       "      <th>3</th>\n",
       "      <td>market for charcoal (GLO)</td>\n",
       "      <td>biomethane production, high pressure from synt...</td>\n",
       "      <td>market for charcoa</td>\n",
       "      <td>0.000</td>\n",
       "    </tr>\n",
       "    <tr>\n",
       "      <th>4</th>\n",
       "      <td>market for wood chips, wet, measured as dry ma...</td>\n",
       "      <td>biomethane production, high pressure from synt...</td>\n",
       "      <td>market for wood ch</td>\n",
       "      <td>0.000</td>\n",
       "    </tr>\n",
       "    <tr>\n",
       "      <th>5</th>\n",
       "      <td>hardwood forestry, mixed species, sustainable ...</td>\n",
       "      <td>market for wood chips, wet, measured as dry ma...</td>\n",
       "      <td>hardwood forestry,</td>\n",
       "      <td>0.000</td>\n",
       "    </tr>\n",
       "    <tr>\n",
       "      <th>6</th>\n",
       "      <td>market for transport, freight, lorry, unspecif...</td>\n",
       "      <td>market for wood chips, wet, measured as dry ma...</td>\n",
       "      <td>market for transpo</td>\n",
       "      <td>0.000</td>\n",
       "    </tr>\n",
       "    <tr>\n",
       "      <th>7</th>\n",
       "      <td>market for transport, freight, lorry, unspecif...</td>\n",
       "      <td>market for wood chips, dry, measured as dry ma...</td>\n",
       "      <td>market for transpo</td>\n",
       "      <td>0.000</td>\n",
       "    </tr>\n",
       "    <tr>\n",
       "      <th>8</th>\n",
       "      <td>charcoal production (GLO)</td>\n",
       "      <td>market for charcoal (GLO)</td>\n",
       "      <td>charcoal productio</td>\n",
       "      <td>0.000</td>\n",
       "    </tr>\n",
       "  </tbody>\n",
       "</table>\n",
       "</div>"
      ],
      "text/plain": [
       "                                               label  \\\n",
       "0  biomethane production, high pressure from synt...   \n",
       "1  market for wood chips, dry, measured as dry ma...   \n",
       "2                   market for zeolite, powder (GLO)   \n",
       "3                          market for charcoal (GLO)   \n",
       "4  market for wood chips, wet, measured as dry ma...   \n",
       "5  hardwood forestry, mixed species, sustainable ...   \n",
       "6  market for transport, freight, lorry, unspecif...   \n",
       "7  market for transport, freight, lorry, unspecif...   \n",
       "8                          charcoal production (GLO)   \n",
       "\n",
       "                                              parent        labels_short  \\\n",
       "0                                                     biomethane product   \n",
       "1  biomethane production, high pressure from synt...  market for wood ch   \n",
       "2  biomethane production, high pressure from synt...  market for zeolite   \n",
       "3  biomethane production, high pressure from synt...  market for charcoa   \n",
       "4  biomethane production, high pressure from synt...  market for wood ch   \n",
       "5  market for wood chips, wet, measured as dry ma...  hardwood forestry,   \n",
       "6  market for wood chips, wet, measured as dry ma...  market for transpo   \n",
       "7  market for wood chips, dry, measured as dry ma...  market for transpo   \n",
       "8                          market for charcoal (GLO)  charcoal productio   \n",
       "\n",
       "   value  \n",
       "0  0.004  \n",
       "1  0.003  \n",
       "2  0.000  \n",
       "3  0.000  \n",
       "4  0.000  \n",
       "5  0.000  \n",
       "6  0.000  \n",
       "7  0.000  \n",
       "8  0.000  "
      ]
     },
     "metadata": {},
     "output_type": "display_data"
    },
    {
     "name": "stdout",
     "output_type": "stream",
     "text": [
      "                                                    value\n",
      "parent                                                   \n",
      "                                                    0.004\n",
      "biomethane production, high pressure from synth...  0.003\n",
      "market for charcoal (GLO)                           0.000\n",
      "market for wood chips, dry, measured as dry mas...  0.000\n",
      "market for wood chips, wet, measured as dry mas...  0.000\n"
     ]
    },
    {
     "name": "stderr",
     "output_type": "stream",
     "text": [
      "/tmp/ipykernel_70182/1205081643.py:31: FutureWarning:\n",
      "\n",
      "The default value of numeric_only in DataFrameGroupBy.sum is deprecated. In a future version, numeric_only will default to False. Either specify numeric_only or select only columns which should be valid for the function.\n",
      "\n"
     ]
    },
    {
     "data": {
      "application/vnd.plotly.v1+json": {
       "config": {
        "plotlyServerURL": "https://plot.ly"
       },
       "data": [
        {
         "branchvalues": "total",
         "hovertext": [
          "biomethane production, high pressure from synthetic gas, wood, fluidised technology (CH)",
          "market for wood chips, dry, measured as dry mass (RER)",
          "market for zeolite, powder (GLO)",
          "market for charcoal (GLO)",
          "market for wood chips, wet, measured as dry mass (CH)",
          "hardwood forestry, mixed species, sustainable forest management (CH)",
          "market for transport, freight, lorry, unspecified (RER)",
          "market for transport, freight, lorry, unspecified (RER)",
          "charcoal production (GLO)"
         ],
         "ids": [
          "biomethane production, high pressure from synthetic gas, wood, fluidised technology (CH)",
          "market for wood chips, dry, measured as dry mass (RER)",
          "market for zeolite, powder (GLO)",
          "market for charcoal (GLO)",
          "market for wood chips, wet, measured as dry mass (CH)",
          "hardwood forestry, mixed species, sustainable forest management (CH)",
          "market for transport, freight, lorry, unspecified (RER)",
          "market for transport, freight, lorry, unspecified (RER)",
          "charcoal production (GLO)"
         ],
         "labels": [
          "biomethane product",
          "market for wood ch",
          "market for zeolite",
          "market for charcoa",
          "market for wood ch",
          "hardwood forestry,",
          "market for transpo",
          "market for transpo",
          "charcoal productio"
         ],
         "parents": [
          "",
          "biomethane production, high pressure from synthetic gas, wood, fluidised technology (CH)",
          "biomethane production, high pressure from synthetic gas, wood, fluidised technology (CH)",
          "biomethane production, high pressure from synthetic gas, wood, fluidised technology (CH)",
          "biomethane production, high pressure from synthetic gas, wood, fluidised technology (CH)",
          "market for wood chips, wet, measured as dry mass (CH)",
          "market for wood chips, wet, measured as dry mass (CH)",
          "market for wood chips, dry, measured as dry mass (RER)",
          "market for charcoal (GLO)"
         ],
         "type": "sunburst",
         "values": [
          0.004,
          0.003,
          0,
          0,
          0,
          0,
          0,
          0,
          0
         ]
        }
       ],
       "layout": {
        "template": {
         "data": {
          "bar": [
           {
            "error_x": {
             "color": "#2a3f5f"
            },
            "error_y": {
             "color": "#2a3f5f"
            },
            "marker": {
             "line": {
              "color": "#E5ECF6",
              "width": 0.5
             },
             "pattern": {
              "fillmode": "overlay",
              "size": 10,
              "solidity": 0.2
             }
            },
            "type": "bar"
           }
          ],
          "barpolar": [
           {
            "marker": {
             "line": {
              "color": "#E5ECF6",
              "width": 0.5
             },
             "pattern": {
              "fillmode": "overlay",
              "size": 10,
              "solidity": 0.2
             }
            },
            "type": "barpolar"
           }
          ],
          "carpet": [
           {
            "aaxis": {
             "endlinecolor": "#2a3f5f",
             "gridcolor": "white",
             "linecolor": "white",
             "minorgridcolor": "white",
             "startlinecolor": "#2a3f5f"
            },
            "baxis": {
             "endlinecolor": "#2a3f5f",
             "gridcolor": "white",
             "linecolor": "white",
             "minorgridcolor": "white",
             "startlinecolor": "#2a3f5f"
            },
            "type": "carpet"
           }
          ],
          "choropleth": [
           {
            "colorbar": {
             "outlinewidth": 0,
             "ticks": ""
            },
            "type": "choropleth"
           }
          ],
          "contour": [
           {
            "colorbar": {
             "outlinewidth": 0,
             "ticks": ""
            },
            "colorscale": [
             [
              0,
              "#0d0887"
             ],
             [
              0.1111111111111111,
              "#46039f"
             ],
             [
              0.2222222222222222,
              "#7201a8"
             ],
             [
              0.3333333333333333,
              "#9c179e"
             ],
             [
              0.4444444444444444,
              "#bd3786"
             ],
             [
              0.5555555555555556,
              "#d8576b"
             ],
             [
              0.6666666666666666,
              "#ed7953"
             ],
             [
              0.7777777777777778,
              "#fb9f3a"
             ],
             [
              0.8888888888888888,
              "#fdca26"
             ],
             [
              1,
              "#f0f921"
             ]
            ],
            "type": "contour"
           }
          ],
          "contourcarpet": [
           {
            "colorbar": {
             "outlinewidth": 0,
             "ticks": ""
            },
            "type": "contourcarpet"
           }
          ],
          "heatmap": [
           {
            "colorbar": {
             "outlinewidth": 0,
             "ticks": ""
            },
            "colorscale": [
             [
              0,
              "#0d0887"
             ],
             [
              0.1111111111111111,
              "#46039f"
             ],
             [
              0.2222222222222222,
              "#7201a8"
             ],
             [
              0.3333333333333333,
              "#9c179e"
             ],
             [
              0.4444444444444444,
              "#bd3786"
             ],
             [
              0.5555555555555556,
              "#d8576b"
             ],
             [
              0.6666666666666666,
              "#ed7953"
             ],
             [
              0.7777777777777778,
              "#fb9f3a"
             ],
             [
              0.8888888888888888,
              "#fdca26"
             ],
             [
              1,
              "#f0f921"
             ]
            ],
            "type": "heatmap"
           }
          ],
          "heatmapgl": [
           {
            "colorbar": {
             "outlinewidth": 0,
             "ticks": ""
            },
            "colorscale": [
             [
              0,
              "#0d0887"
             ],
             [
              0.1111111111111111,
              "#46039f"
             ],
             [
              0.2222222222222222,
              "#7201a8"
             ],
             [
              0.3333333333333333,
              "#9c179e"
             ],
             [
              0.4444444444444444,
              "#bd3786"
             ],
             [
              0.5555555555555556,
              "#d8576b"
             ],
             [
              0.6666666666666666,
              "#ed7953"
             ],
             [
              0.7777777777777778,
              "#fb9f3a"
             ],
             [
              0.8888888888888888,
              "#fdca26"
             ],
             [
              1,
              "#f0f921"
             ]
            ],
            "type": "heatmapgl"
           }
          ],
          "histogram": [
           {
            "marker": {
             "pattern": {
              "fillmode": "overlay",
              "size": 10,
              "solidity": 0.2
             }
            },
            "type": "histogram"
           }
          ],
          "histogram2d": [
           {
            "colorbar": {
             "outlinewidth": 0,
             "ticks": ""
            },
            "colorscale": [
             [
              0,
              "#0d0887"
             ],
             [
              0.1111111111111111,
              "#46039f"
             ],
             [
              0.2222222222222222,
              "#7201a8"
             ],
             [
              0.3333333333333333,
              "#9c179e"
             ],
             [
              0.4444444444444444,
              "#bd3786"
             ],
             [
              0.5555555555555556,
              "#d8576b"
             ],
             [
              0.6666666666666666,
              "#ed7953"
             ],
             [
              0.7777777777777778,
              "#fb9f3a"
             ],
             [
              0.8888888888888888,
              "#fdca26"
             ],
             [
              1,
              "#f0f921"
             ]
            ],
            "type": "histogram2d"
           }
          ],
          "histogram2dcontour": [
           {
            "colorbar": {
             "outlinewidth": 0,
             "ticks": ""
            },
            "colorscale": [
             [
              0,
              "#0d0887"
             ],
             [
              0.1111111111111111,
              "#46039f"
             ],
             [
              0.2222222222222222,
              "#7201a8"
             ],
             [
              0.3333333333333333,
              "#9c179e"
             ],
             [
              0.4444444444444444,
              "#bd3786"
             ],
             [
              0.5555555555555556,
              "#d8576b"
             ],
             [
              0.6666666666666666,
              "#ed7953"
             ],
             [
              0.7777777777777778,
              "#fb9f3a"
             ],
             [
              0.8888888888888888,
              "#fdca26"
             ],
             [
              1,
              "#f0f921"
             ]
            ],
            "type": "histogram2dcontour"
           }
          ],
          "mesh3d": [
           {
            "colorbar": {
             "outlinewidth": 0,
             "ticks": ""
            },
            "type": "mesh3d"
           }
          ],
          "parcoords": [
           {
            "line": {
             "colorbar": {
              "outlinewidth": 0,
              "ticks": ""
             }
            },
            "type": "parcoords"
           }
          ],
          "pie": [
           {
            "automargin": true,
            "type": "pie"
           }
          ],
          "scatter": [
           {
            "fillpattern": {
             "fillmode": "overlay",
             "size": 10,
             "solidity": 0.2
            },
            "type": "scatter"
           }
          ],
          "scatter3d": [
           {
            "line": {
             "colorbar": {
              "outlinewidth": 0,
              "ticks": ""
             }
            },
            "marker": {
             "colorbar": {
              "outlinewidth": 0,
              "ticks": ""
             }
            },
            "type": "scatter3d"
           }
          ],
          "scattercarpet": [
           {
            "marker": {
             "colorbar": {
              "outlinewidth": 0,
              "ticks": ""
             }
            },
            "type": "scattercarpet"
           }
          ],
          "scattergeo": [
           {
            "marker": {
             "colorbar": {
              "outlinewidth": 0,
              "ticks": ""
             }
            },
            "type": "scattergeo"
           }
          ],
          "scattergl": [
           {
            "marker": {
             "colorbar": {
              "outlinewidth": 0,
              "ticks": ""
             }
            },
            "type": "scattergl"
           }
          ],
          "scattermapbox": [
           {
            "marker": {
             "colorbar": {
              "outlinewidth": 0,
              "ticks": ""
             }
            },
            "type": "scattermapbox"
           }
          ],
          "scatterpolar": [
           {
            "marker": {
             "colorbar": {
              "outlinewidth": 0,
              "ticks": ""
             }
            },
            "type": "scatterpolar"
           }
          ],
          "scatterpolargl": [
           {
            "marker": {
             "colorbar": {
              "outlinewidth": 0,
              "ticks": ""
             }
            },
            "type": "scatterpolargl"
           }
          ],
          "scatterternary": [
           {
            "marker": {
             "colorbar": {
              "outlinewidth": 0,
              "ticks": ""
             }
            },
            "type": "scatterternary"
           }
          ],
          "surface": [
           {
            "colorbar": {
             "outlinewidth": 0,
             "ticks": ""
            },
            "colorscale": [
             [
              0,
              "#0d0887"
             ],
             [
              0.1111111111111111,
              "#46039f"
             ],
             [
              0.2222222222222222,
              "#7201a8"
             ],
             [
              0.3333333333333333,
              "#9c179e"
             ],
             [
              0.4444444444444444,
              "#bd3786"
             ],
             [
              0.5555555555555556,
              "#d8576b"
             ],
             [
              0.6666666666666666,
              "#ed7953"
             ],
             [
              0.7777777777777778,
              "#fb9f3a"
             ],
             [
              0.8888888888888888,
              "#fdca26"
             ],
             [
              1,
              "#f0f921"
             ]
            ],
            "type": "surface"
           }
          ],
          "table": [
           {
            "cells": {
             "fill": {
              "color": "#EBF0F8"
             },
             "line": {
              "color": "white"
             }
            },
            "header": {
             "fill": {
              "color": "#C8D4E3"
             },
             "line": {
              "color": "white"
             }
            },
            "type": "table"
           }
          ]
         },
         "layout": {
          "annotationdefaults": {
           "arrowcolor": "#2a3f5f",
           "arrowhead": 0,
           "arrowwidth": 1
          },
          "autotypenumbers": "strict",
          "coloraxis": {
           "colorbar": {
            "outlinewidth": 0,
            "ticks": ""
           }
          },
          "colorscale": {
           "diverging": [
            [
             0,
             "#8e0152"
            ],
            [
             0.1,
             "#c51b7d"
            ],
            [
             0.2,
             "#de77ae"
            ],
            [
             0.3,
             "#f1b6da"
            ],
            [
             0.4,
             "#fde0ef"
            ],
            [
             0.5,
             "#f7f7f7"
            ],
            [
             0.6,
             "#e6f5d0"
            ],
            [
             0.7,
             "#b8e186"
            ],
            [
             0.8,
             "#7fbc41"
            ],
            [
             0.9,
             "#4d9221"
            ],
            [
             1,
             "#276419"
            ]
           ],
           "sequential": [
            [
             0,
             "#0d0887"
            ],
            [
             0.1111111111111111,
             "#46039f"
            ],
            [
             0.2222222222222222,
             "#7201a8"
            ],
            [
             0.3333333333333333,
             "#9c179e"
            ],
            [
             0.4444444444444444,
             "#bd3786"
            ],
            [
             0.5555555555555556,
             "#d8576b"
            ],
            [
             0.6666666666666666,
             "#ed7953"
            ],
            [
             0.7777777777777778,
             "#fb9f3a"
            ],
            [
             0.8888888888888888,
             "#fdca26"
            ],
            [
             1,
             "#f0f921"
            ]
           ],
           "sequentialminus": [
            [
             0,
             "#0d0887"
            ],
            [
             0.1111111111111111,
             "#46039f"
            ],
            [
             0.2222222222222222,
             "#7201a8"
            ],
            [
             0.3333333333333333,
             "#9c179e"
            ],
            [
             0.4444444444444444,
             "#bd3786"
            ],
            [
             0.5555555555555556,
             "#d8576b"
            ],
            [
             0.6666666666666666,
             "#ed7953"
            ],
            [
             0.7777777777777778,
             "#fb9f3a"
            ],
            [
             0.8888888888888888,
             "#fdca26"
            ],
            [
             1,
             "#f0f921"
            ]
           ]
          },
          "colorway": [
           "#636efa",
           "#EF553B",
           "#00cc96",
           "#ab63fa",
           "#FFA15A",
           "#19d3f3",
           "#FF6692",
           "#B6E880",
           "#FF97FF",
           "#FECB52"
          ],
          "font": {
           "color": "#2a3f5f"
          },
          "geo": {
           "bgcolor": "white",
           "lakecolor": "white",
           "landcolor": "#E5ECF6",
           "showlakes": true,
           "showland": true,
           "subunitcolor": "white"
          },
          "hoverlabel": {
           "align": "left"
          },
          "hovermode": "closest",
          "mapbox": {
           "style": "light"
          },
          "paper_bgcolor": "white",
          "plot_bgcolor": "#E5ECF6",
          "polar": {
           "angularaxis": {
            "gridcolor": "white",
            "linecolor": "white",
            "ticks": ""
           },
           "bgcolor": "#E5ECF6",
           "radialaxis": {
            "gridcolor": "white",
            "linecolor": "white",
            "ticks": ""
           }
          },
          "scene": {
           "xaxis": {
            "backgroundcolor": "#E5ECF6",
            "gridcolor": "white",
            "gridwidth": 2,
            "linecolor": "white",
            "showbackground": true,
            "ticks": "",
            "zerolinecolor": "white"
           },
           "yaxis": {
            "backgroundcolor": "#E5ECF6",
            "gridcolor": "white",
            "gridwidth": 2,
            "linecolor": "white",
            "showbackground": true,
            "ticks": "",
            "zerolinecolor": "white"
           },
           "zaxis": {
            "backgroundcolor": "#E5ECF6",
            "gridcolor": "white",
            "gridwidth": 2,
            "linecolor": "white",
            "showbackground": true,
            "ticks": "",
            "zerolinecolor": "white"
           }
          },
          "shapedefaults": {
           "line": {
            "color": "#2a3f5f"
           }
          },
          "ternary": {
           "aaxis": {
            "gridcolor": "white",
            "linecolor": "white",
            "ticks": ""
           },
           "baxis": {
            "gridcolor": "white",
            "linecolor": "white",
            "ticks": ""
           },
           "bgcolor": "#E5ECF6",
           "caxis": {
            "gridcolor": "white",
            "linecolor": "white",
            "ticks": ""
           }
          },
          "title": {
           "x": 0.05
          },
          "xaxis": {
           "automargin": true,
           "gridcolor": "white",
           "linecolor": "white",
           "ticks": "",
           "title": {
            "standoff": 15
           },
           "zerolinecolor": "white",
           "zerolinewidth": 2
          },
          "yaxis": {
           "automargin": true,
           "gridcolor": "white",
           "linecolor": "white",
           "ticks": "",
           "title": {
            "standoff": 15
           },
           "zerolinecolor": "white",
           "zerolinewidth": 2
          }
         }
        }
       }
      }
     },
     "metadata": {},
     "output_type": "display_data"
    }
   ],
   "source": [
    "ids = [edge[\"from\"] for edge in trav['edges']]\n",
    "labels = [activities[id]['name']+' ('+activities[id]['location']+')' for id in ids]\n",
    "labels_short = [label[:18] for label in labels]\n",
    "parent_ids = [edge[\"to\"] for edge in trav['edges']][1:]\n",
    "parents = [\"\"] + [activities[id]['name']+' ('+activities[id]['location']+')' for id in parent_ids]\n",
    "\n",
    "data = dict(label = labels,\n",
    "            #location = [act['location'] for act in activities],\n",
    "            parent = parents,\n",
    "            labels_short = labels_short,\n",
    "            value = [-math.ceil(edge[\"impact_neg\"]*1000)/1000 for edge in trav['edges']],\n",
    "            #value_pct = value_pct\n",
    "        )\n",
    "fig =go.Figure(go.Sunburst(\n",
    "            #data,\n",
    "            ids=data['label'],\n",
    "            labels=data['labels_short'],\n",
    "            parents=data['parent'],\n",
    "            values=data['value'],\n",
    "            branchvalues=\"total\",\n",
    "            #color='labels_short',\n",
    "            #color_continuous_scale='algae',\n",
    "            hovertext= data['label'],\n",
    "            #valueformat = '.0f',\n",
    "        )\n",
    ")\n",
    "df = pd.DataFrame.from_dict(data)\n",
    "display(df)\n",
    "\n",
    "fig.show()"
   ]
  },
  {
   "cell_type": "code",
   "execution_count": 54,
   "metadata": {},
   "outputs": [
    {
     "data": {
      "application/vnd.plotly.v1+json": {
       "config": {
        "plotlyServerURL": "https://plot.ly"
       },
       "data": [
        {
         "measure": [
          "relative",
          "relative",
          "total"
         ],
         "orientation": "v",
         "type": "waterfall",
         "x": [
          "Emissions",
          "Absorptions",
          "Total"
         ],
         "y": [
          0.3894013422607055,
          -0.0041985319257974475,
          0.3852028103349081
         ]
        }
       ],
       "layout": {
        "template": {
         "data": {
          "bar": [
           {
            "error_x": {
             "color": "#2a3f5f"
            },
            "error_y": {
             "color": "#2a3f5f"
            },
            "marker": {
             "line": {
              "color": "#E5ECF6",
              "width": 0.5
             },
             "pattern": {
              "fillmode": "overlay",
              "size": 10,
              "solidity": 0.2
             }
            },
            "type": "bar"
           }
          ],
          "barpolar": [
           {
            "marker": {
             "line": {
              "color": "#E5ECF6",
              "width": 0.5
             },
             "pattern": {
              "fillmode": "overlay",
              "size": 10,
              "solidity": 0.2
             }
            },
            "type": "barpolar"
           }
          ],
          "carpet": [
           {
            "aaxis": {
             "endlinecolor": "#2a3f5f",
             "gridcolor": "white",
             "linecolor": "white",
             "minorgridcolor": "white",
             "startlinecolor": "#2a3f5f"
            },
            "baxis": {
             "endlinecolor": "#2a3f5f",
             "gridcolor": "white",
             "linecolor": "white",
             "minorgridcolor": "white",
             "startlinecolor": "#2a3f5f"
            },
            "type": "carpet"
           }
          ],
          "choropleth": [
           {
            "colorbar": {
             "outlinewidth": 0,
             "ticks": ""
            },
            "type": "choropleth"
           }
          ],
          "contour": [
           {
            "colorbar": {
             "outlinewidth": 0,
             "ticks": ""
            },
            "colorscale": [
             [
              0,
              "#0d0887"
             ],
             [
              0.1111111111111111,
              "#46039f"
             ],
             [
              0.2222222222222222,
              "#7201a8"
             ],
             [
              0.3333333333333333,
              "#9c179e"
             ],
             [
              0.4444444444444444,
              "#bd3786"
             ],
             [
              0.5555555555555556,
              "#d8576b"
             ],
             [
              0.6666666666666666,
              "#ed7953"
             ],
             [
              0.7777777777777778,
              "#fb9f3a"
             ],
             [
              0.8888888888888888,
              "#fdca26"
             ],
             [
              1,
              "#f0f921"
             ]
            ],
            "type": "contour"
           }
          ],
          "contourcarpet": [
           {
            "colorbar": {
             "outlinewidth": 0,
             "ticks": ""
            },
            "type": "contourcarpet"
           }
          ],
          "heatmap": [
           {
            "colorbar": {
             "outlinewidth": 0,
             "ticks": ""
            },
            "colorscale": [
             [
              0,
              "#0d0887"
             ],
             [
              0.1111111111111111,
              "#46039f"
             ],
             [
              0.2222222222222222,
              "#7201a8"
             ],
             [
              0.3333333333333333,
              "#9c179e"
             ],
             [
              0.4444444444444444,
              "#bd3786"
             ],
             [
              0.5555555555555556,
              "#d8576b"
             ],
             [
              0.6666666666666666,
              "#ed7953"
             ],
             [
              0.7777777777777778,
              "#fb9f3a"
             ],
             [
              0.8888888888888888,
              "#fdca26"
             ],
             [
              1,
              "#f0f921"
             ]
            ],
            "type": "heatmap"
           }
          ],
          "heatmapgl": [
           {
            "colorbar": {
             "outlinewidth": 0,
             "ticks": ""
            },
            "colorscale": [
             [
              0,
              "#0d0887"
             ],
             [
              0.1111111111111111,
              "#46039f"
             ],
             [
              0.2222222222222222,
              "#7201a8"
             ],
             [
              0.3333333333333333,
              "#9c179e"
             ],
             [
              0.4444444444444444,
              "#bd3786"
             ],
             [
              0.5555555555555556,
              "#d8576b"
             ],
             [
              0.6666666666666666,
              "#ed7953"
             ],
             [
              0.7777777777777778,
              "#fb9f3a"
             ],
             [
              0.8888888888888888,
              "#fdca26"
             ],
             [
              1,
              "#f0f921"
             ]
            ],
            "type": "heatmapgl"
           }
          ],
          "histogram": [
           {
            "marker": {
             "pattern": {
              "fillmode": "overlay",
              "size": 10,
              "solidity": 0.2
             }
            },
            "type": "histogram"
           }
          ],
          "histogram2d": [
           {
            "colorbar": {
             "outlinewidth": 0,
             "ticks": ""
            },
            "colorscale": [
             [
              0,
              "#0d0887"
             ],
             [
              0.1111111111111111,
              "#46039f"
             ],
             [
              0.2222222222222222,
              "#7201a8"
             ],
             [
              0.3333333333333333,
              "#9c179e"
             ],
             [
              0.4444444444444444,
              "#bd3786"
             ],
             [
              0.5555555555555556,
              "#d8576b"
             ],
             [
              0.6666666666666666,
              "#ed7953"
             ],
             [
              0.7777777777777778,
              "#fb9f3a"
             ],
             [
              0.8888888888888888,
              "#fdca26"
             ],
             [
              1,
              "#f0f921"
             ]
            ],
            "type": "histogram2d"
           }
          ],
          "histogram2dcontour": [
           {
            "colorbar": {
             "outlinewidth": 0,
             "ticks": ""
            },
            "colorscale": [
             [
              0,
              "#0d0887"
             ],
             [
              0.1111111111111111,
              "#46039f"
             ],
             [
              0.2222222222222222,
              "#7201a8"
             ],
             [
              0.3333333333333333,
              "#9c179e"
             ],
             [
              0.4444444444444444,
              "#bd3786"
             ],
             [
              0.5555555555555556,
              "#d8576b"
             ],
             [
              0.6666666666666666,
              "#ed7953"
             ],
             [
              0.7777777777777778,
              "#fb9f3a"
             ],
             [
              0.8888888888888888,
              "#fdca26"
             ],
             [
              1,
              "#f0f921"
             ]
            ],
            "type": "histogram2dcontour"
           }
          ],
          "mesh3d": [
           {
            "colorbar": {
             "outlinewidth": 0,
             "ticks": ""
            },
            "type": "mesh3d"
           }
          ],
          "parcoords": [
           {
            "line": {
             "colorbar": {
              "outlinewidth": 0,
              "ticks": ""
             }
            },
            "type": "parcoords"
           }
          ],
          "pie": [
           {
            "automargin": true,
            "type": "pie"
           }
          ],
          "scatter": [
           {
            "fillpattern": {
             "fillmode": "overlay",
             "size": 10,
             "solidity": 0.2
            },
            "type": "scatter"
           }
          ],
          "scatter3d": [
           {
            "line": {
             "colorbar": {
              "outlinewidth": 0,
              "ticks": ""
             }
            },
            "marker": {
             "colorbar": {
              "outlinewidth": 0,
              "ticks": ""
             }
            },
            "type": "scatter3d"
           }
          ],
          "scattercarpet": [
           {
            "marker": {
             "colorbar": {
              "outlinewidth": 0,
              "ticks": ""
             }
            },
            "type": "scattercarpet"
           }
          ],
          "scattergeo": [
           {
            "marker": {
             "colorbar": {
              "outlinewidth": 0,
              "ticks": ""
             }
            },
            "type": "scattergeo"
           }
          ],
          "scattergl": [
           {
            "marker": {
             "colorbar": {
              "outlinewidth": 0,
              "ticks": ""
             }
            },
            "type": "scattergl"
           }
          ],
          "scattermapbox": [
           {
            "marker": {
             "colorbar": {
              "outlinewidth": 0,
              "ticks": ""
             }
            },
            "type": "scattermapbox"
           }
          ],
          "scatterpolar": [
           {
            "marker": {
             "colorbar": {
              "outlinewidth": 0,
              "ticks": ""
             }
            },
            "type": "scatterpolar"
           }
          ],
          "scatterpolargl": [
           {
            "marker": {
             "colorbar": {
              "outlinewidth": 0,
              "ticks": ""
             }
            },
            "type": "scatterpolargl"
           }
          ],
          "scatterternary": [
           {
            "marker": {
             "colorbar": {
              "outlinewidth": 0,
              "ticks": ""
             }
            },
            "type": "scatterternary"
           }
          ],
          "surface": [
           {
            "colorbar": {
             "outlinewidth": 0,
             "ticks": ""
            },
            "colorscale": [
             [
              0,
              "#0d0887"
             ],
             [
              0.1111111111111111,
              "#46039f"
             ],
             [
              0.2222222222222222,
              "#7201a8"
             ],
             [
              0.3333333333333333,
              "#9c179e"
             ],
             [
              0.4444444444444444,
              "#bd3786"
             ],
             [
              0.5555555555555556,
              "#d8576b"
             ],
             [
              0.6666666666666666,
              "#ed7953"
             ],
             [
              0.7777777777777778,
              "#fb9f3a"
             ],
             [
              0.8888888888888888,
              "#fdca26"
             ],
             [
              1,
              "#f0f921"
             ]
            ],
            "type": "surface"
           }
          ],
          "table": [
           {
            "cells": {
             "fill": {
              "color": "#EBF0F8"
             },
             "line": {
              "color": "white"
             }
            },
            "header": {
             "fill": {
              "color": "#C8D4E3"
             },
             "line": {
              "color": "white"
             }
            },
            "type": "table"
           }
          ]
         },
         "layout": {
          "annotationdefaults": {
           "arrowcolor": "#2a3f5f",
           "arrowhead": 0,
           "arrowwidth": 1
          },
          "autotypenumbers": "strict",
          "coloraxis": {
           "colorbar": {
            "outlinewidth": 0,
            "ticks": ""
           }
          },
          "colorscale": {
           "diverging": [
            [
             0,
             "#8e0152"
            ],
            [
             0.1,
             "#c51b7d"
            ],
            [
             0.2,
             "#de77ae"
            ],
            [
             0.3,
             "#f1b6da"
            ],
            [
             0.4,
             "#fde0ef"
            ],
            [
             0.5,
             "#f7f7f7"
            ],
            [
             0.6,
             "#e6f5d0"
            ],
            [
             0.7,
             "#b8e186"
            ],
            [
             0.8,
             "#7fbc41"
            ],
            [
             0.9,
             "#4d9221"
            ],
            [
             1,
             "#276419"
            ]
           ],
           "sequential": [
            [
             0,
             "#0d0887"
            ],
            [
             0.1111111111111111,
             "#46039f"
            ],
            [
             0.2222222222222222,
             "#7201a8"
            ],
            [
             0.3333333333333333,
             "#9c179e"
            ],
            [
             0.4444444444444444,
             "#bd3786"
            ],
            [
             0.5555555555555556,
             "#d8576b"
            ],
            [
             0.6666666666666666,
             "#ed7953"
            ],
            [
             0.7777777777777778,
             "#fb9f3a"
            ],
            [
             0.8888888888888888,
             "#fdca26"
            ],
            [
             1,
             "#f0f921"
            ]
           ],
           "sequentialminus": [
            [
             0,
             "#0d0887"
            ],
            [
             0.1111111111111111,
             "#46039f"
            ],
            [
             0.2222222222222222,
             "#7201a8"
            ],
            [
             0.3333333333333333,
             "#9c179e"
            ],
            [
             0.4444444444444444,
             "#bd3786"
            ],
            [
             0.5555555555555556,
             "#d8576b"
            ],
            [
             0.6666666666666666,
             "#ed7953"
            ],
            [
             0.7777777777777778,
             "#fb9f3a"
            ],
            [
             0.8888888888888888,
             "#fdca26"
            ],
            [
             1,
             "#f0f921"
            ]
           ]
          },
          "colorway": [
           "#636efa",
           "#EF553B",
           "#00cc96",
           "#ab63fa",
           "#FFA15A",
           "#19d3f3",
           "#FF6692",
           "#B6E880",
           "#FF97FF",
           "#FECB52"
          ],
          "font": {
           "color": "#2a3f5f"
          },
          "geo": {
           "bgcolor": "white",
           "lakecolor": "white",
           "landcolor": "#E5ECF6",
           "showlakes": true,
           "showland": true,
           "subunitcolor": "white"
          },
          "hoverlabel": {
           "align": "left"
          },
          "hovermode": "closest",
          "mapbox": {
           "style": "light"
          },
          "paper_bgcolor": "white",
          "plot_bgcolor": "#E5ECF6",
          "polar": {
           "angularaxis": {
            "gridcolor": "white",
            "linecolor": "white",
            "ticks": ""
           },
           "bgcolor": "#E5ECF6",
           "radialaxis": {
            "gridcolor": "white",
            "linecolor": "white",
            "ticks": ""
           }
          },
          "scene": {
           "xaxis": {
            "backgroundcolor": "#E5ECF6",
            "gridcolor": "white",
            "gridwidth": 2,
            "linecolor": "white",
            "showbackground": true,
            "ticks": "",
            "zerolinecolor": "white"
           },
           "yaxis": {
            "backgroundcolor": "#E5ECF6",
            "gridcolor": "white",
            "gridwidth": 2,
            "linecolor": "white",
            "showbackground": true,
            "ticks": "",
            "zerolinecolor": "white"
           },
           "zaxis": {
            "backgroundcolor": "#E5ECF6",
            "gridcolor": "white",
            "gridwidth": 2,
            "linecolor": "white",
            "showbackground": true,
            "ticks": "",
            "zerolinecolor": "white"
           }
          },
          "shapedefaults": {
           "line": {
            "color": "#2a3f5f"
           }
          },
          "ternary": {
           "aaxis": {
            "gridcolor": "white",
            "linecolor": "white",
            "ticks": ""
           },
           "baxis": {
            "gridcolor": "white",
            "linecolor": "white",
            "ticks": ""
           },
           "bgcolor": "#E5ECF6",
           "caxis": {
            "gridcolor": "white",
            "linecolor": "white",
            "ticks": ""
           }
          },
          "title": {
           "x": 0.05
          },
          "xaxis": {
           "automargin": true,
           "gridcolor": "white",
           "linecolor": "white",
           "ticks": "",
           "title": {
            "standoff": 15
           },
           "zerolinecolor": "white",
           "zerolinewidth": 2
          },
          "yaxis": {
           "automargin": true,
           "gridcolor": "white",
           "linecolor": "white",
           "ticks": "",
           "title": {
            "standoff": 15
           },
           "zerolinecolor": "white",
           "zerolinewidth": 2
          }
         }
        }
       }
      }
     },
     "metadata": {},
     "output_type": "display_data"
    }
   ],
   "source": [
    "main_edge = trav['edges'][0]\n",
    "fig = go.Figure(go.Waterfall(\n",
    "    orientation = \"v\",\n",
    "    measure = [\"relative\", \"relative\", \"total\"],\n",
    "    x = ['Emissions', 'Absorptions', 'Total'],\n",
    "    y = [main_edge[\"impact_pos\"], main_edge[\"impact_neg\"], main_edge[\"impact\"]]\n",
    "    )\n",
    ")\n",
    "fig.show()"
   ]
  },
  {
   "cell_type": "code",
   "execution_count": 118,
   "metadata": {},
   "outputs": [
    {
     "data": {
      "application/vnd.plotly.v1+json": {
       "config": {
        "plotlyServerURL": "https://plot.ly"
       },
       "data": [
        {
         "link": {
          "source": [
           8136,
           4040,
           9804,
           9946,
           13946,
           14409,
           15337,
           16404,
           12886,
           15009,
           18854,
           11250,
           11726,
           11168,
           18139,
           18640,
           18854,
           3149,
           8000,
           18854,
           5074,
           17197,
           9804,
           11168,
           18139,
           18640,
           11864,
           14409,
           7881,
           6411,
           14409,
           9804
          ],
          "target": [
           -1,
           8136,
           8136,
           8136,
           8136,
           8136,
           8136,
           8136,
           16404,
           16404,
           16404,
           18854,
           18854,
           12886,
           12886,
           12886,
           4040,
           9946,
           15337,
           9804,
           14409,
           5074,
           18640,
           15009,
           15009,
           15009,
           13946,
           13946,
           11864,
           7881,
           7881,
           11168
          ],
          "value": [
           0.0041985319257974475,
           0.003796729728404199,
           4.585507161357016e-8,
           6.6761062231768e-8,
           0.00026193067357826056,
           0.000002516900299031537,
           0.00010549649277379603,
           0.00002744155104399156,
           0.000014252348547825135,
           0.000009035648451963762,
           0.0000022677665156920063,
           0.000001236836675706,
           0.0000015137519404445836,
           6.647763084471542e-7,
           0.000011804456102152436,
           8.31535651792409e-7,
           4.2571561349137784e-7,
           0,
           0.00010547235524257884,
           2.8210048140010757e-9,
           0.0000022677569697958364,
           0.00000226775696979584,
           8.667064353963178e-12,
           2.858817213344304e-7,
           0.000008101569440961455,
           3.5948303987152093e-7,
           0.0002616827268915513,
           3.4212456768095596e-9,
           0.00026162911873842104,
           0.0002615400633396172,
           5.4952959158952505e-9,
           9.750948960409422e-12
          ]
         },
         "type": "sankey"
        }
       ],
       "layout": {
        "font": {
         "size": 10
        },
        "template": {
         "data": {
          "bar": [
           {
            "error_x": {
             "color": "#2a3f5f"
            },
            "error_y": {
             "color": "#2a3f5f"
            },
            "marker": {
             "line": {
              "color": "#E5ECF6",
              "width": 0.5
             },
             "pattern": {
              "fillmode": "overlay",
              "size": 10,
              "solidity": 0.2
             }
            },
            "type": "bar"
           }
          ],
          "barpolar": [
           {
            "marker": {
             "line": {
              "color": "#E5ECF6",
              "width": 0.5
             },
             "pattern": {
              "fillmode": "overlay",
              "size": 10,
              "solidity": 0.2
             }
            },
            "type": "barpolar"
           }
          ],
          "carpet": [
           {
            "aaxis": {
             "endlinecolor": "#2a3f5f",
             "gridcolor": "white",
             "linecolor": "white",
             "minorgridcolor": "white",
             "startlinecolor": "#2a3f5f"
            },
            "baxis": {
             "endlinecolor": "#2a3f5f",
             "gridcolor": "white",
             "linecolor": "white",
             "minorgridcolor": "white",
             "startlinecolor": "#2a3f5f"
            },
            "type": "carpet"
           }
          ],
          "choropleth": [
           {
            "colorbar": {
             "outlinewidth": 0,
             "ticks": ""
            },
            "type": "choropleth"
           }
          ],
          "contour": [
           {
            "colorbar": {
             "outlinewidth": 0,
             "ticks": ""
            },
            "colorscale": [
             [
              0,
              "#0d0887"
             ],
             [
              0.1111111111111111,
              "#46039f"
             ],
             [
              0.2222222222222222,
              "#7201a8"
             ],
             [
              0.3333333333333333,
              "#9c179e"
             ],
             [
              0.4444444444444444,
              "#bd3786"
             ],
             [
              0.5555555555555556,
              "#d8576b"
             ],
             [
              0.6666666666666666,
              "#ed7953"
             ],
             [
              0.7777777777777778,
              "#fb9f3a"
             ],
             [
              0.8888888888888888,
              "#fdca26"
             ],
             [
              1,
              "#f0f921"
             ]
            ],
            "type": "contour"
           }
          ],
          "contourcarpet": [
           {
            "colorbar": {
             "outlinewidth": 0,
             "ticks": ""
            },
            "type": "contourcarpet"
           }
          ],
          "heatmap": [
           {
            "colorbar": {
             "outlinewidth": 0,
             "ticks": ""
            },
            "colorscale": [
             [
              0,
              "#0d0887"
             ],
             [
              0.1111111111111111,
              "#46039f"
             ],
             [
              0.2222222222222222,
              "#7201a8"
             ],
             [
              0.3333333333333333,
              "#9c179e"
             ],
             [
              0.4444444444444444,
              "#bd3786"
             ],
             [
              0.5555555555555556,
              "#d8576b"
             ],
             [
              0.6666666666666666,
              "#ed7953"
             ],
             [
              0.7777777777777778,
              "#fb9f3a"
             ],
             [
              0.8888888888888888,
              "#fdca26"
             ],
             [
              1,
              "#f0f921"
             ]
            ],
            "type": "heatmap"
           }
          ],
          "heatmapgl": [
           {
            "colorbar": {
             "outlinewidth": 0,
             "ticks": ""
            },
            "colorscale": [
             [
              0,
              "#0d0887"
             ],
             [
              0.1111111111111111,
              "#46039f"
             ],
             [
              0.2222222222222222,
              "#7201a8"
             ],
             [
              0.3333333333333333,
              "#9c179e"
             ],
             [
              0.4444444444444444,
              "#bd3786"
             ],
             [
              0.5555555555555556,
              "#d8576b"
             ],
             [
              0.6666666666666666,
              "#ed7953"
             ],
             [
              0.7777777777777778,
              "#fb9f3a"
             ],
             [
              0.8888888888888888,
              "#fdca26"
             ],
             [
              1,
              "#f0f921"
             ]
            ],
            "type": "heatmapgl"
           }
          ],
          "histogram": [
           {
            "marker": {
             "pattern": {
              "fillmode": "overlay",
              "size": 10,
              "solidity": 0.2
             }
            },
            "type": "histogram"
           }
          ],
          "histogram2d": [
           {
            "colorbar": {
             "outlinewidth": 0,
             "ticks": ""
            },
            "colorscale": [
             [
              0,
              "#0d0887"
             ],
             [
              0.1111111111111111,
              "#46039f"
             ],
             [
              0.2222222222222222,
              "#7201a8"
             ],
             [
              0.3333333333333333,
              "#9c179e"
             ],
             [
              0.4444444444444444,
              "#bd3786"
             ],
             [
              0.5555555555555556,
              "#d8576b"
             ],
             [
              0.6666666666666666,
              "#ed7953"
             ],
             [
              0.7777777777777778,
              "#fb9f3a"
             ],
             [
              0.8888888888888888,
              "#fdca26"
             ],
             [
              1,
              "#f0f921"
             ]
            ],
            "type": "histogram2d"
           }
          ],
          "histogram2dcontour": [
           {
            "colorbar": {
             "outlinewidth": 0,
             "ticks": ""
            },
            "colorscale": [
             [
              0,
              "#0d0887"
             ],
             [
              0.1111111111111111,
              "#46039f"
             ],
             [
              0.2222222222222222,
              "#7201a8"
             ],
             [
              0.3333333333333333,
              "#9c179e"
             ],
             [
              0.4444444444444444,
              "#bd3786"
             ],
             [
              0.5555555555555556,
              "#d8576b"
             ],
             [
              0.6666666666666666,
              "#ed7953"
             ],
             [
              0.7777777777777778,
              "#fb9f3a"
             ],
             [
              0.8888888888888888,
              "#fdca26"
             ],
             [
              1,
              "#f0f921"
             ]
            ],
            "type": "histogram2dcontour"
           }
          ],
          "mesh3d": [
           {
            "colorbar": {
             "outlinewidth": 0,
             "ticks": ""
            },
            "type": "mesh3d"
           }
          ],
          "parcoords": [
           {
            "line": {
             "colorbar": {
              "outlinewidth": 0,
              "ticks": ""
             }
            },
            "type": "parcoords"
           }
          ],
          "pie": [
           {
            "automargin": true,
            "type": "pie"
           }
          ],
          "scatter": [
           {
            "fillpattern": {
             "fillmode": "overlay",
             "size": 10,
             "solidity": 0.2
            },
            "type": "scatter"
           }
          ],
          "scatter3d": [
           {
            "line": {
             "colorbar": {
              "outlinewidth": 0,
              "ticks": ""
             }
            },
            "marker": {
             "colorbar": {
              "outlinewidth": 0,
              "ticks": ""
             }
            },
            "type": "scatter3d"
           }
          ],
          "scattercarpet": [
           {
            "marker": {
             "colorbar": {
              "outlinewidth": 0,
              "ticks": ""
             }
            },
            "type": "scattercarpet"
           }
          ],
          "scattergeo": [
           {
            "marker": {
             "colorbar": {
              "outlinewidth": 0,
              "ticks": ""
             }
            },
            "type": "scattergeo"
           }
          ],
          "scattergl": [
           {
            "marker": {
             "colorbar": {
              "outlinewidth": 0,
              "ticks": ""
             }
            },
            "type": "scattergl"
           }
          ],
          "scattermapbox": [
           {
            "marker": {
             "colorbar": {
              "outlinewidth": 0,
              "ticks": ""
             }
            },
            "type": "scattermapbox"
           }
          ],
          "scatterpolar": [
           {
            "marker": {
             "colorbar": {
              "outlinewidth": 0,
              "ticks": ""
             }
            },
            "type": "scatterpolar"
           }
          ],
          "scatterpolargl": [
           {
            "marker": {
             "colorbar": {
              "outlinewidth": 0,
              "ticks": ""
             }
            },
            "type": "scatterpolargl"
           }
          ],
          "scatterternary": [
           {
            "marker": {
             "colorbar": {
              "outlinewidth": 0,
              "ticks": ""
             }
            },
            "type": "scatterternary"
           }
          ],
          "surface": [
           {
            "colorbar": {
             "outlinewidth": 0,
             "ticks": ""
            },
            "colorscale": [
             [
              0,
              "#0d0887"
             ],
             [
              0.1111111111111111,
              "#46039f"
             ],
             [
              0.2222222222222222,
              "#7201a8"
             ],
             [
              0.3333333333333333,
              "#9c179e"
             ],
             [
              0.4444444444444444,
              "#bd3786"
             ],
             [
              0.5555555555555556,
              "#d8576b"
             ],
             [
              0.6666666666666666,
              "#ed7953"
             ],
             [
              0.7777777777777778,
              "#fb9f3a"
             ],
             [
              0.8888888888888888,
              "#fdca26"
             ],
             [
              1,
              "#f0f921"
             ]
            ],
            "type": "surface"
           }
          ],
          "table": [
           {
            "cells": {
             "fill": {
              "color": "#EBF0F8"
             },
             "line": {
              "color": "white"
             }
            },
            "header": {
             "fill": {
              "color": "#C8D4E3"
             },
             "line": {
              "color": "white"
             }
            },
            "type": "table"
           }
          ]
         },
         "layout": {
          "annotationdefaults": {
           "arrowcolor": "#2a3f5f",
           "arrowhead": 0,
           "arrowwidth": 1
          },
          "autotypenumbers": "strict",
          "coloraxis": {
           "colorbar": {
            "outlinewidth": 0,
            "ticks": ""
           }
          },
          "colorscale": {
           "diverging": [
            [
             0,
             "#8e0152"
            ],
            [
             0.1,
             "#c51b7d"
            ],
            [
             0.2,
             "#de77ae"
            ],
            [
             0.3,
             "#f1b6da"
            ],
            [
             0.4,
             "#fde0ef"
            ],
            [
             0.5,
             "#f7f7f7"
            ],
            [
             0.6,
             "#e6f5d0"
            ],
            [
             0.7,
             "#b8e186"
            ],
            [
             0.8,
             "#7fbc41"
            ],
            [
             0.9,
             "#4d9221"
            ],
            [
             1,
             "#276419"
            ]
           ],
           "sequential": [
            [
             0,
             "#0d0887"
            ],
            [
             0.1111111111111111,
             "#46039f"
            ],
            [
             0.2222222222222222,
             "#7201a8"
            ],
            [
             0.3333333333333333,
             "#9c179e"
            ],
            [
             0.4444444444444444,
             "#bd3786"
            ],
            [
             0.5555555555555556,
             "#d8576b"
            ],
            [
             0.6666666666666666,
             "#ed7953"
            ],
            [
             0.7777777777777778,
             "#fb9f3a"
            ],
            [
             0.8888888888888888,
             "#fdca26"
            ],
            [
             1,
             "#f0f921"
            ]
           ],
           "sequentialminus": [
            [
             0,
             "#0d0887"
            ],
            [
             0.1111111111111111,
             "#46039f"
            ],
            [
             0.2222222222222222,
             "#7201a8"
            ],
            [
             0.3333333333333333,
             "#9c179e"
            ],
            [
             0.4444444444444444,
             "#bd3786"
            ],
            [
             0.5555555555555556,
             "#d8576b"
            ],
            [
             0.6666666666666666,
             "#ed7953"
            ],
            [
             0.7777777777777778,
             "#fb9f3a"
            ],
            [
             0.8888888888888888,
             "#fdca26"
            ],
            [
             1,
             "#f0f921"
            ]
           ]
          },
          "colorway": [
           "#636efa",
           "#EF553B",
           "#00cc96",
           "#ab63fa",
           "#FFA15A",
           "#19d3f3",
           "#FF6692",
           "#B6E880",
           "#FF97FF",
           "#FECB52"
          ],
          "font": {
           "color": "#2a3f5f"
          },
          "geo": {
           "bgcolor": "white",
           "lakecolor": "white",
           "landcolor": "#E5ECF6",
           "showlakes": true,
           "showland": true,
           "subunitcolor": "white"
          },
          "hoverlabel": {
           "align": "left"
          },
          "hovermode": "closest",
          "mapbox": {
           "style": "light"
          },
          "paper_bgcolor": "white",
          "plot_bgcolor": "#E5ECF6",
          "polar": {
           "angularaxis": {
            "gridcolor": "white",
            "linecolor": "white",
            "ticks": ""
           },
           "bgcolor": "#E5ECF6",
           "radialaxis": {
            "gridcolor": "white",
            "linecolor": "white",
            "ticks": ""
           }
          },
          "scene": {
           "xaxis": {
            "backgroundcolor": "#E5ECF6",
            "gridcolor": "white",
            "gridwidth": 2,
            "linecolor": "white",
            "showbackground": true,
            "ticks": "",
            "zerolinecolor": "white"
           },
           "yaxis": {
            "backgroundcolor": "#E5ECF6",
            "gridcolor": "white",
            "gridwidth": 2,
            "linecolor": "white",
            "showbackground": true,
            "ticks": "",
            "zerolinecolor": "white"
           },
           "zaxis": {
            "backgroundcolor": "#E5ECF6",
            "gridcolor": "white",
            "gridwidth": 2,
            "linecolor": "white",
            "showbackground": true,
            "ticks": "",
            "zerolinecolor": "white"
           }
          },
          "shapedefaults": {
           "line": {
            "color": "#2a3f5f"
           }
          },
          "ternary": {
           "aaxis": {
            "gridcolor": "white",
            "linecolor": "white",
            "ticks": ""
           },
           "baxis": {
            "gridcolor": "white",
            "linecolor": "white",
            "ticks": ""
           },
           "bgcolor": "#E5ECF6",
           "caxis": {
            "gridcolor": "white",
            "linecolor": "white",
            "ticks": ""
           }
          },
          "title": {
           "x": 0.05
          },
          "xaxis": {
           "automargin": true,
           "gridcolor": "white",
           "linecolor": "white",
           "ticks": "",
           "title": {
            "standoff": 15
           },
           "zerolinecolor": "white",
           "zerolinewidth": 2
          },
          "yaxis": {
           "automargin": true,
           "gridcolor": "white",
           "linecolor": "white",
           "ticks": "",
           "title": {
            "standoff": 15
           },
           "zerolinecolor": "white",
           "zerolinewidth": 2
          }
         }
        },
        "title": {
         "text": "Basic Sankey Diagram"
        }
       }
      }
     },
     "metadata": {},
     "output_type": "display_data"
    }
   ],
   "source": [
    "links = dict(\n",
    "    source = [edge[\"from\"] for edge in trav['edges']],\n",
    "    target = [edge[\"to\"] for edge in trav['edges']],\n",
    "    value = [-edge[\"impact_neg\"] for edge in trav['edges']]\n",
    ")\n",
    "fig = go.Figure(data=[go.Sankey(\n",
    "    link = links\n",
    ")])\n",
    "\n",
    "fig.update_layout(title_text=\"Basic Sankey Diagram\", font_size=10)\n",
    "fig.show()"
   ]
  },
  {
   "cell_type": "code",
   "execution_count": null,
   "metadata": {},
   "outputs": [],
   "source": []
  }
 ],
 "metadata": {
  "kernelspec": {
   "display_name": "Python 3.11.0 ('bw25')",
   "language": "python",
   "name": "python3"
  },
  "language_info": {
   "codemirror_mode": {
    "name": "ipython",
    "version": 3
   },
   "file_extension": ".py",
   "mimetype": "text/x-python",
   "name": "python",
   "nbconvert_exporter": "python",
   "pygments_lexer": "ipython3",
   "version": "3.11.0"
  },
  "orig_nbformat": 4,
  "vscode": {
   "interpreter": {
    "hash": "129fa975a5cc1910d29c283259c28ba1164ba1221f5a5d4217117437c9dbb2a6"
   }
  }
 },
 "nbformat": 4,
 "nbformat_minor": 2
}
