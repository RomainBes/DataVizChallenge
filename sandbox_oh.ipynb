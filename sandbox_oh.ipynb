{
 "cells": [
  {
   "cell_type": "code",
   "execution_count": null,
   "metadata": {},
   "outputs": [],
   "source": [
    "# python 3.11\n",
    "# please run in the console:\n",
    "# conda create -n bw25 -c cmutel brightway25\n",
    "# conda activate bw25\n",
    "# pip install ipykernel\n",
    "%pip install numpy pandas plotly nbformat"
   ]
  },
  {
   "cell_type": "code",
   "execution_count": null,
   "metadata": {},
   "outputs": [],
   "source": [
    "# for ei3.8\n",
    "%pip install bw2io==0.9.dev11"
   ]
  },
  {
   "cell_type": "code",
   "execution_count": 3,
   "metadata": {},
   "outputs": [],
   "source": [
    "import numpy as np\n",
    "import pandas as pd\n",
    "import matplotlib.pyplot as plt\n",
    "plt.style.use('ggplot')\n",
    "#import database_explorer as dbex\n",
    "import bw2analyzer as ba\n",
    "import bw2data as bd\n",
    "import bw2calc as bc\n",
    "import bw2io as bi\n",
    "import matrix_utils as mu\n",
    "import bw_processing as bp\n",
    "\n",
    "first_setup = False\n",
    "NAME = \"ei38-cutoff-25\"\n",
    "\n",
    "if first_setup:\n",
    "    if NAME in bd.projects:\n",
    "        bd.projects.delete_project(NAME, True)\n",
    "\n",
    "bd.projects.set_current(NAME)\n",
    "\n",
    "if first_setup:\n",
    "    bi.bw2setup()\n",
    "\n",
    "if first_setup:\n",
    "    ei33 = bi.SingleOutputEcospold2Importer('/home/hurtiol/ALFA/datasets/', 'ecoInvent 3.8')\n",
    "    ei33.apply_strategies()\n",
    "    ei33.statistics()\n"
   ]
  },
  {
   "cell_type": "code",
   "execution_count": 2,
   "metadata": {},
   "outputs": [
    {
     "name": "stdout",
     "output_type": "stream",
     "text": [
      "Not able to determine geocollections for all datasets. This database is not ready for regionalization.\n",
      "Warning: No valid output stream.\n",
      "Title: Writing activities to SQLite3 database:\n",
      "  Started: 02/10/2023 11:15:06\n",
      "  Finished: 02/10/2023 11:18:25\n",
      "  Total time elapsed: 00:03:18\n",
      "  CPU %: 31.50\n",
      "  Memory %: 0.15\n",
      "Created database: ecoInvent 3.8\n"
     ]
    }
   ],
   "source": [
    "if first_setup:\n",
    "    ei33.write_database(db_name='ecoInvent 3.8')"
   ]
  },
  {
   "cell_type": "code",
   "execution_count": 4,
   "metadata": {},
   "outputs": [
    {
     "data": {
      "text/plain": [
       "0.38520281033490816"
      ]
     },
     "execution_count": 4,
     "metadata": {},
     "output_type": "execute_result"
    }
   ],
   "source": [
    "act = bd.Database(\"ecoInvent 3.8\").search(\"biomethane production, high pressure from synthetic gas, wood, fluidised technology\")[0]\n",
    "#methods = [x for x in bd.methods if 'IPCC' in x[0]]\n",
    "method = ('IPCC 2013', 'climate change', 'GWP 100a')\n",
    "lca = bc.LCA({act: 1}, method = method)\n",
    "lca.lci()\n",
    "lca.lcia()\n",
    "lca.score"
   ]
  },
  {
   "cell_type": "code",
   "execution_count": 28,
   "metadata": {},
   "outputs": [
    {
     "name": "stdout",
     "output_type": "stream",
     "text": [
      "Fraction of score | Absolute score | Amount | Activity\n",
      "0001 | 0.3852 |     1 | 'biomethane production, high pressure from synthetic gas, wood, fluidi\n",
      "  0.0836 | 0.03222 | 0.8288 | 'market for electricity, medium voltage' (kilowatt hour, CH, None)\n",
      "    0.0796 | 0.03064 | 0.825 | 'electricity voltage transformation from high to medium voltage' (kilo\n",
      "      0.0796 | 0.03064 | 0.8302 | 'market for electricity, high voltage' (kilowatt hour, CH, None)\n",
      "  0.104 | 0.04025 | 0.0198 | 'market for charcoal' (kilogram, GLO, None)\n",
      "    0.104 | 0.03987 | 0.0198 | 'charcoal production' (kilogram, GLO, None)\n",
      "      0.0108 | 0.00417 | 0.04683 | 'market for cleft timber, measured as dry mass' (kilogram, RoW, None)\n",
      "  0.134 | 0.05148 | 0.814 | 'market for wood chips, dry, measured as dry mass' (kilogram, RER, Non\n",
      "    0.0194 | 0.007477 | 0.05698 | 'market for transport, freight, lorry, unspecified' (ton kilometer, RE\n",
      "    0.0139 | 0.005359 | 0.1118 | 'glued solid timber production' (kilogram, RER, None)\n",
      "    0.0365 | 0.01405 | 0.08152 | 'plywood production' (kilogram, RER, None)\n",
      "      0.0152 | 0.005844 | 0.0152 | 'market group for electricity, medium voltage' (kilowatt hour, RER, No\n",
      "      0.0152 | 0.005849 | 0.002549 | 'market for urea formaldehyde resin' (kilogram, RER, None)\n",
      "    0.0383 | 0.01474 | 0.4098 | 'three and five layered board production' (kilogram, RER, None)\n",
      "      0.014 | 0.005378 | 0.01399 | 'market group for electricity, medium voltage' (kilowatt hour, RER, No\n",
      "  0.107 | 0.04128 | 0.00812 | 'market for zeolite, powder' (kilogram, GLO, None)\n",
      "    0.0327 | 0.0126 | 0.002684 | 'zeolite production, powder' (kilogram, RER, None)\n",
      "    0.0725 | 0.02793 | 0.005436 | 'zeolite production, powder' (kilogram, RoW, None)\n",
      "  0.0636 | 0.0245 | 0.01462 | 'esterification of rape oil' (kilogram, CH, None)\n",
      "    0.0583 | 0.02246 | 0.01533 | 'market for rape oil, crude' (kilogram, CH, None)\n",
      "      0.0582 | 0.02242 | 0.01534 | 'rape oil mill operation' (kilogram, CH, None)\n",
      "  0.0107 | 0.004123 | 0.00323 | 'market for sodium hydroxide, without water, in 50% solution state' (k\n",
      "  0.0944 | 0.03638 | -0.01462 | 'market for waste mineral oil' (kilogram, CH, None)\n",
      "    0.0472 | 0.01816 | -0.006389 | 'treatment of waste mineral oil, hazardous waste incineration, with en\n",
      "    0.0472 | 0.01816 | -0.006389 | 'treatment of waste mineral oil, hazardous waste incineration' (kilogr\n",
      "  0.0132 | 0.005074 | 0.001869 | 'market for zinc' (kilogram, GLO, None)\n",
      "    0.0127 | 0.004886 | 0.001827 | 'primary zinc production from concentrate' (kilogram, RoW, None)\n",
      "  0.339 | 0.1305 | 2.887 | 'market for wood chips, wet, measured as dry mass' (kilogram, CH, None\n",
      "    0.103 | 0.03978 | 0.3032 | 'market for transport, freight, lorry, unspecified' (ton kilometer, RE\n",
      "      0.0476 | 0.01835 | 0.1355 | 'transport, freight, lorry, all sizes, EURO3 to generic market for tra\n",
      "      0.0393 | 0.01514 | 0.1183 | 'transport, freight, lorry, all sizes, EURO4 to generic market for tra\n",
      "      0.0138 | 0.005325 | 0.04194 | 'transport, freight, lorry, all sizes, EURO5 to generic market for tra\n",
      "    0.0153 | 0.005899 | 0.4202 | 'wood chips production, softwood, at sawmill' (kilogram, CH, None)\n",
      "      0.0138 | 0.005305 | 0.4202 | 'sawing, softwood' (kilogram, CH, None)\n",
      "    0.148 | 0.05685 | 1.873 | 'hardwood forestry, mixed species, sustainable forest management' (kil\n",
      "      0.0316 | 0.01217 | 0.0002242 | 'skidding, skidder' (hour, RER, None)\n",
      "      0.0339 | 0.01307 | 0.001155 | 'power sawing, without catalytic converter' (hour, RER, None)\n",
      "      0.056 | 0.02156 | 7.761e-05 | 'wood chipping, mobile chipper, at forest road' (hour, RER, None)\n",
      "    0.0711 | 0.0274 | 0.5568 | 'softwood forestry, mixed species, sustainable forest management' (kil\n",
      "      0.0242 | 0.00932 | 3.355e-05 | 'wood chipping, mobile chipper, at forest road' (hour, RER, None)\n",
      "      0.0136 | 0.005235 | 9.642e-05 | 'skidding, skidder' (hour, RER, None)\n",
      "      0.0233 | 0.008968 | 0.0007926 | 'power sawing, without catalytic converter' (hour, RER, None)\n"
     ]
    }
   ],
   "source": [
    "ba.print_recursive_calculation(act, method)"
   ]
  },
  {
   "cell_type": "code",
   "execution_count": 5,
   "metadata": {},
   "outputs": [],
   "source": [
    "# modified version of the AssumeDiagonalGraphTraversal.\n",
    "# includes separate calculation of positive and negative impact\n",
    "import warnings\n",
    "from heapq import heappop, heappush\n",
    "import itertools\n",
    "from functools import lru_cache\n",
    "\n",
    "import numpy as np\n",
    "from scipy import sparse\n",
    "\n",
    "from bw2calc import spsolve, LCA\n",
    "\n",
    "class JRCAssumedDiagonalGraphTraversal:\n",
    "    \"\"\"\n",
    "    Traverse a supply chain, following paths of greatest impact.\n",
    "    This implementation uses a queue of datasets to assess. As the supply chain is traversed, datasets inputs are added to a list sorted by LCA score. Each activity in the sorted list is assessed, and added to the supply chain graph, as long as its impact is above a certain threshold, and the maximum number of calculations has not been exceeded.\n",
    "    Because the next dataset assessed is chosen by its impact, not its position in the graph, this is neither a breadth-first nor a depth-first search, but rather \"importance-first\".\n",
    "    This class is written in a functional style - no variables are stored in *self*, only methods.\n",
    "    Should be used by calling the ``calculate`` method.\n",
    "    .. warning:: Graph traversal with multioutput processes only works when other inputs are substituted (see `Multioutput processes in LCA <http://chris.mutel.org/multioutput.html>`__ for a description of multiputput process math in LCA).\n",
    "    \"\"\"\n",
    "\n",
    "    def calculate(self, lca, cutoff=0.005, max_calc=1e5, skip_coproducts=False):\n",
    "        \"\"\"\n",
    "        Traverse the supply chain graph.\n",
    "        Args:\n",
    "            * *lca* (dict): An instance of ``bw2calc.lca.LCA``.\n",
    "            * *cutoff* (float, default=0.005): Cutoff criteria to stop LCA calculations. Relative score of total, i.e. 0.005 will cutoff if a dataset has a score less than 0.5 percent of the total.\n",
    "            * *max_calc* (int, default=10000): Maximum number of LCA calculations to perform.\n",
    "        Returns:\n",
    "            Dictionary of nodes, edges, and number of LCA calculations.\n",
    "        \"\"\"\n",
    "        if not hasattr(lca, \"supply_array\"):\n",
    "            lca.lci()\n",
    "        if not hasattr(lca, \"characterized_inventory\"):\n",
    "            lca.lcia()\n",
    "\n",
    "        supply = lca.supply_array.copy()\n",
    "        score = lca.score\n",
    "\n",
    "        if score == 0:\n",
    "            raise ValueError(\"Zero total LCA score makes traversal impossible\")\n",
    "\n",
    "        # Create matrix of LCIA CFs times biosphere flows, as these don't\n",
    "        # change. This is also the unit score of each activity.\n",
    "        characterized_biosphere = np.array(\n",
    "            (lca.characterization_matrix * lca.biosphere_matrix).sum(axis=0)\n",
    "        ).ravel()\n",
    "        characterized_biosphere_neg = characterized_biosphere.copy()\n",
    "        characterized_biosphere_neg[characterized_biosphere_neg > 0] = 0\n",
    "        characterized_biosphere_pos = characterized_biosphere.copy()\n",
    "        characterized_biosphere_pos[characterized_biosphere_pos < 0] = 0\n",
    "\n",
    "        heap, nodes, edges = self.initialize_heap(lca, supply, characterized_biosphere, characterized_biosphere_neg, characterized_biosphere_pos)\n",
    "        nodes, edges, counter = self.traverse(\n",
    "            heap,\n",
    "            nodes,\n",
    "            edges,\n",
    "            0,\n",
    "            max_calc,\n",
    "            cutoff,\n",
    "            score,\n",
    "            supply,\n",
    "            characterized_biosphere,\n",
    "            characterized_biosphere_neg,\n",
    "            characterized_biosphere_pos,\n",
    "            lca,\n",
    "            skip_coproducts,\n",
    "        )\n",
    "\n",
    "        return {\n",
    "            \"nodes\": nodes,\n",
    "            \"edges\": edges,\n",
    "            \"counter\": counter,\n",
    "        }\n",
    "\n",
    "    def initialize_heap(self, lca, supply, characterized_biosphere,\n",
    "            characterized_biosphere_neg,\n",
    "            characterized_biosphere_pos):\n",
    "        \"\"\"\n",
    "        Create a `priority queue <http://docs.python.org/2/library/heapq.html>`_ or ``heap`` to store inventory datasets, sorted by LCA score.\n",
    "        Populates the heap with each activity in ``demand``. Initial nodes are the *functional unit*, i.e. the complete demand, and each activity in the *functional unit*. Initial edges are inputs from each activity into the *functional unit*.\n",
    "        The *functional unit* is an abstract dataset (as it doesn't exist in the matrix), and is assigned the index ``-1``.\n",
    "        \"\"\"\n",
    "        heap, edges = [], []\n",
    "        nodes = {-1: {\"amount\": 1, \"cum\": lca.score, \"ind\": 1e-6 * lca.score}}\n",
    "        for index, amount in enumerate(lca.demand_array):\n",
    "            if amount == 0:\n",
    "                continue\n",
    "            cum_score, cum_score_neg, cum_score_pos = self.cumulative_score(\n",
    "                index, supply, characterized_biosphere,\n",
    "            characterized_biosphere_neg,\n",
    "            characterized_biosphere_pos, lca\n",
    "            )\n",
    "            heappush(heap, (abs(1 / cum_score), index, str(index)))\n",
    "            nodes[index] = {\n",
    "                \"amount\": float(supply[index]),\n",
    "                \"cum\": cum_score,\n",
    "                \"cum_neg\": cum_score_neg,\n",
    "                \"cum_pos\": cum_score_pos,\n",
    "                \"ind\": self.unit_score(index, supply, characterized_biosphere),\n",
    "            }\n",
    "            edges.append(\n",
    "                {\n",
    "                    \"to\": -1,\n",
    "                    \"from\": str(index),\n",
    "                    \"amount\": amount,\n",
    "                    \"exc_amount\": amount,\n",
    "                    \"impact\": cum_score * amount / float(supply[index]),\n",
    "                    \"impact_neg\": cum_score_neg * amount / float(supply[index]),\n",
    "                    \"impact_pos\": cum_score_pos * amount / float(supply[index])\n",
    "                }\n",
    "            )\n",
    "        return heap, nodes, edges\n",
    "\n",
    "    def cumulative_score(self, index, supply, characterized_biosphere,\n",
    "            characterized_biosphere_neg,\n",
    "            characterized_biosphere_pos, lca):\n",
    "        \"\"\"Compute cumulative LCA score for a given activity\"\"\"\n",
    "        demand = np.zeros((supply.shape[0],))\n",
    "        demand[index] = (\n",
    "            supply[index]\n",
    "            *\n",
    "            # Normalize by the production amount\n",
    "            lca.technosphere_matrix[index, index]\n",
    "        )\n",
    "        solved_tech = spsolve(lca.technosphere_matrix, demand)\n",
    "        return (float(\n",
    "            (characterized_biosphere * solved_tech).sum()\n",
    "        ),\n",
    "        float(\n",
    "            (characterized_biosphere_neg * solved_tech).sum()\n",
    "        ),\n",
    "        float(\n",
    "            (characterized_biosphere_pos * solved_tech).sum()\n",
    "        ))\n",
    "\n",
    "    def unit_score(self, index, supply, characterized_biosphere):\n",
    "        \"\"\"Compute the LCA impact caused by the direct emissions and resource consumption of a given activity\"\"\"\n",
    "        return float(characterized_biosphere[index] * supply[index])\n",
    "\n",
    "    def traverse(\n",
    "        self,\n",
    "        heap,\n",
    "        nodes,\n",
    "        edges,\n",
    "        counter,\n",
    "        max_calc,\n",
    "        cutoff,\n",
    "        total_score,\n",
    "        supply,\n",
    "        characterized_biosphere,\n",
    "        characterized_biosphere_neg,\n",
    "        characterized_biosphere_pos,\n",
    "        lca,\n",
    "        skip_coproducts,\n",
    "    ):\n",
    "        \"\"\"\n",
    "        Build a directed graph by traversing the supply chain.\n",
    "        Node ids are actually technosphere row/col indices, which makes lookup easier.\n",
    "        Returns:\n",
    "            (nodes, edges, number of calculations)\n",
    "        \"\"\"\n",
    "        # static_databases = {name for name in databases if databases[name].get(\"static\")}\n",
    "        # reverse = lca.dicts.activity.reversed\n",
    "\n",
    "        while heap:\n",
    "            if counter >= max_calc:\n",
    "                warnings.warn(\"Stopping traversal due to calculation count.\")\n",
    "                break\n",
    "            parent = heappop(heap)\n",
    "            parent_index = parent[1]\n",
    "            full_path_parent = parent[2]\n",
    "            # Skip links from static databases\n",
    "            # if static_databases and reverse[parent_index][0] in static_databases:\n",
    "            #     continue\n",
    "\n",
    "            # Assume that this activity produces its reference product\n",
    "            scale_value = lca.technosphere_matrix[parent_index, parent_index]\n",
    "            if scale_value == 0:\n",
    "                raise ValueError(\n",
    "                    \"Can't rescale activities that produce zero reference product\"\n",
    "                )\n",
    "            col = lca.technosphere_matrix[:, parent_index].tocoo()\n",
    "            # Multiply by -1 because technosphere values are negative\n",
    "            # (consumption of inputs) and rescale\n",
    "            children = [\n",
    "                (int(col.row[i]), float(-1 * col.data[i] / scale_value))\n",
    "                for i in range(col.row.shape[0])\n",
    "            ]\n",
    "            for activity, amount in children:\n",
    "                # Skip values on technosphere diagonal\n",
    "                if activity == parent_index:\n",
    "                    continue\n",
    "                # Skip negative coproducts\n",
    "                if skip_coproducts and amount <= 0:\n",
    "                    continue\n",
    "                counter += 1\n",
    "                full_path_id = full_path_parent + '-' + str(activity)\n",
    "                cumulative_score, cum_score_neg, cum_score_pos = self.cumulative_score(\n",
    "                    activity, supply, characterized_biosphere, characterized_biosphere_neg, characterized_biosphere_pos, lca\n",
    "                )\n",
    "                if abs(cumulative_score) < abs(total_score * cutoff):\n",
    "                    continue\n",
    "\n",
    "                # flow between activity and parent (Multiply by -1 because technosphere values are negative)\n",
    "                flow = (\n",
    "                    -1.0\n",
    "                    * lca.technosphere_matrix[activity, parent_index]\n",
    "                    * supply[parent_index]\n",
    "                )\n",
    "                total_activity_output = (\n",
    "                    lca.technosphere_matrix[activity, activity] * supply[activity]\n",
    "                )\n",
    "\n",
    "                # Edge format is (to, from, mass amount, cumulative impact)\n",
    "                edges.append(\n",
    "                    {\n",
    "                        \"to\": full_path_parent,\n",
    "                        \"from\": full_path_id,\n",
    "                        # \"full_path_id\": full_path_id,\n",
    "                        # Amount of this link * amount of parent demanding link\n",
    "                        \"amount\": flow,\n",
    "                        # Raw exchange value\n",
    "                        \"exc_amount\": amount,\n",
    "                        # Impact related to this flow\n",
    "                        \"impact\": flow / total_activity_output * cumulative_score,\n",
    "                        \"impact_neg\": flow / total_activity_output * cum_score_neg,\n",
    "                        \"impact_pos\": flow / total_activity_output * cum_score_pos\n",
    "                    }\n",
    "                )\n",
    "                # Want multiple incoming edges, but don't add existing node\n",
    "                if activity in nodes:\n",
    "                    continue\n",
    "                nodes[activity] = {\n",
    "                    # Total amount of this flow supplied\n",
    "                    \"amount\": total_activity_output,\n",
    "                    # Cumulative score from all flows of this activity\n",
    "                    \"cum\": cumulative_score,\n",
    "                    \"cum_neg\": cum_score_neg,\n",
    "                    \"cum_pos\": cum_score_pos,\n",
    "                    # Individual score attributable to environmental flows\n",
    "                    # coming directory from or to this activity\n",
    "                    \"ind\": self.unit_score(activity, supply, characterized_biosphere),\n",
    "                }\n",
    "                heappush(heap, (abs(1 / cumulative_score), activity, full_path_id))\n",
    "\n",
    "        return nodes, edges, counter\n"
   ]
  },
  {
   "cell_type": "code",
   "execution_count": 6,
   "metadata": {},
   "outputs": [],
   "source": [
    "trav = JRCAssumedDiagonalGraphTraversal().calculate(lca, cutoff=0.02)"
   ]
  },
  {
   "cell_type": "code",
   "execution_count": 7,
   "metadata": {},
   "outputs": [
    {
     "data": {
      "text/plain": [
       "[{'to': -1,\n",
       "  'from': '8136',\n",
       "  'amount': 1.0,\n",
       "  'exc_amount': 1.0,\n",
       "  'impact': 0.3852028103349081,\n",
       "  'impact_neg': -0.0041985319257974475,\n",
       "  'impact_pos': 0.3894013422607055},\n",
       " {'to': '8136',\n",
       "  'from': '8136-4040',\n",
       "  'amount': 0.814000010490703,\n",
       "  'exc_amount': 0.8140000104904175,\n",
       "  'impact': 0.05148407252302469,\n",
       "  'impact_neg': -0.003796729728404199,\n",
       "  'impact_pos': 0.05528080225142889},\n",
       " {'to': '8136',\n",
       "  'from': '8136-9804',\n",
       "  'amount': -0.01462200004607952,\n",
       "  'exc_amount': -0.01462200004607439,\n",
       "  'impact': 0.03637634803738445,\n",
       "  'impact_neg': -4.585507161357016e-08,\n",
       "  'impact_pos': 0.03637639389245605},\n",
       " {'to': '8136',\n",
       "  'from': '8136-9946',\n",
       "  'amount': 0.008120000362399089,\n",
       "  'exc_amount': 0.00812000036239624,\n",
       "  'impact': 0.041284385384511194,\n",
       "  'impact_neg': -6.6761062231768e-08,\n",
       "  'impact_pos': 0.041284452145573435},\n",
       " {'to': '8136',\n",
       "  'from': '8136-13946',\n",
       "  'amount': 0.01462200004607952,\n",
       "  'exc_amount': 0.01462200004607439,\n",
       "  'impact': 0.024502041276781197,\n",
       "  'impact_neg': -0.00026193067357826056,\n",
       "  'impact_pos': 0.024763971950359457},\n",
       " {'to': '8136',\n",
       "  'from': '8136-14409',\n",
       "  'amount': 0.8288000226023721,\n",
       "  'exc_amount': 0.8288000226020813,\n",
       "  'impact': 0.0322220668991692,\n",
       "  'impact_neg': -2.516900299031537e-06,\n",
       "  'impact_pos': 0.03222458379946823},\n",
       " {'to': '8136',\n",
       "  'from': '8136-15337',\n",
       "  'amount': 0.019804999232299125,\n",
       "  'exc_amount': 0.019804999232292175,\n",
       "  'impact': 0.04024815765259258,\n",
       "  'impact_neg': -0.00010549649277379603,\n",
       "  'impact_pos': 0.04035365414536638},\n",
       " {'to': '8136',\n",
       "  'from': '8136-16404',\n",
       "  'amount': 2.887253999711096,\n",
       "  'exc_amount': 2.887253999710083,\n",
       "  'impact': 0.13046470882720684,\n",
       "  'impact_neg': -2.744155104399156e-05,\n",
       "  'impact_pos': 0.13049215037825085},\n",
       " {'to': '8136-16404',\n",
       "  'from': '8136-16404-12886',\n",
       "  'amount': 1.8756302657345472,\n",
       "  'exc_amount': 0.6488307118415833,\n",
       "  'impact': 0.05691587451646282,\n",
       "  'impact_neg': -1.4252348547825135e-05,\n",
       "  'impact_pos': 0.056930126865010644},\n",
       " {'to': '8136-16404',\n",
       "  'from': '8136-16404-15009',\n",
       "  'amount': 0.5574648327198576,\n",
       "  'exc_amount': 0.1928420066833496,\n",
       "  'impact': 0.02742919498751127,\n",
       "  'impact_neg': -9.035648451963762e-06,\n",
       "  'impact_pos': 0.027438230635963234},\n",
       " {'to': '8136-16404',\n",
       "  'from': '8136-16404-18854',\n",
       "  'amount': 0.30353244407058355,\n",
       "  'exc_amount': 0.10499999672174454,\n",
       "  'impact': 0.03982962290747259,\n",
       "  'impact_neg': -2.2677665156920063e-06,\n",
       "  'impact_pos': 0.039831890673988284},\n",
       " {'to': '8136-16404-18854',\n",
       "  'from': '8136-16404-18854-11250',\n",
       "  'amount': 0.17034890792895585,\n",
       "  'exc_amount': 0.39018622040748596,\n",
       "  'impact': 0.021803803535135197,\n",
       "  'impact_neg': -1.236836675706e-06,\n",
       "  'impact_pos': 0.021805040371810906},\n",
       " {'to': '8136-16404-18854',\n",
       "  'from': '8136-16404-18854-11726',\n",
       "  'amount': 0.19519146269433096,\n",
       "  'exc_amount': 0.4470883905887604,\n",
       "  'impact': 0.026430951476942317,\n",
       "  'impact_neg': -1.5137519404445836e-06,\n",
       "  'impact_pos': 0.026432465228882755},\n",
       " {'to': '8136-16404-12886',\n",
       "  'from': '8136-16404-12886-5616',\n",
       "  'amount': 0.006358418421973054,\n",
       "  'exc_amount': 0.0033900169655680656,\n",
       "  'impact': 0.0005868194968597513,\n",
       "  'impact_neg': -1.4255642786169425e-08,\n",
       "  'impact_pos': 0.0005868337525025375},\n",
       " {'to': '8136-16404-12886',\n",
       "  'from': '8136-16404-12886-11168',\n",
       "  'amount': 0.0002244961606671852,\n",
       "  'exc_amount': 0.00011969105253228918,\n",
       "  'impact': 0.012187580017730206,\n",
       "  'impact_neg': -6.647763084471542e-07,\n",
       "  'impact_pos': 0.012188244794038653},\n",
       " {'to': '8136-16404-12886',\n",
       "  'from': '8136-16404-12886-18139',\n",
       "  'amount': 0.001156289883129648,\n",
       "  'exc_amount': 0.0006164807127788663,\n",
       "  'impact': 0.013083518015792453,\n",
       "  'impact_neg': -1.1804456102152436e-05,\n",
       "  'impact_pos': 0.013095322471894603},\n",
       " {'to': '8136-16404-12886',\n",
       "  'from': '8136-16404-12886-18640',\n",
       "  'amount': 7.770722076733533e-05,\n",
       "  'exc_amount': 4.142992474953644e-05,\n",
       "  'impact': 0.021584700649502575,\n",
       "  'impact_neg': -8.31535651792409e-07,\n",
       "  'impact_pos': 0.021585532185154365},\n",
       " {'to': '8136-4040',\n",
       "  'from': '8136-4040-9835',\n",
       "  'amount': 0.08152147913361242,\n",
       "  'exc_amount': 0.10014833509922028,\n",
       "  'impact': 0.01405013250291694,\n",
       "  'impact_neg': -0.0023645318919337326,\n",
       "  'impact_pos': 0.016414664394850672},\n",
       " {'to': '8136-4040',\n",
       "  'from': '8136-4040-11927',\n",
       "  'amount': 0.40984059848371696,\n",
       "  'exc_amount': 0.5034851431846619,\n",
       "  'impact': 0.014739130911820442,\n",
       "  'impact_neg': -0.001112755850574109,\n",
       "  'impact_pos': 0.015851886762394553},\n",
       " {'to': '8136-4040',\n",
       "  'from': '8136-4040-18854',\n",
       "  'amount': 0.05698051353519299,\n",
       "  'exc_amount': 0.07000000029802322,\n",
       "  'impact': 0.007477000931910664,\n",
       "  'impact_neg': -4.2571561349137784e-07,\n",
       "  'impact_pos': 0.0074774266475241555},\n",
       " {'to': '8136-9946',\n",
       "  'from': '8136-9946-3149',\n",
       "  'amount': 0.005436599294739061,\n",
       "  'exc_amount': 0.6694076657295227,\n",
       "  'impact': 0.027939754444048854,\n",
       "  'impact_neg': 0.0,\n",
       "  'impact_pos': 0.027939754444048854},\n",
       " {'to': '8136-9946',\n",
       "  'from': '8136-9946-3164',\n",
       "  'amount': 0.00268490832324963,\n",
       "  'exc_amount': 0.3305923640727997,\n",
       "  'impact': 0.012603661058218847,\n",
       "  'impact_neg': 0.0,\n",
       "  'impact_pos': 0.012603661058218847},\n",
       " {'to': '8136-15337',\n",
       "  'from': '8136-15337-8000',\n",
       "  'amount': 0.01980657277455316,\n",
       "  'exc_amount': 1.0,\n",
       "  'impact': 0.039874765501752896,\n",
       "  'impact_neg': -0.00010547235524257884,\n",
       "  'impact_pos': 0.039980237856995476},\n",
       " {'to': '8136-9804',\n",
       "  'from': '8136-9804-2613',\n",
       "  'amount': -0.006401691432829469,\n",
       "  'exc_amount': 0.4369165897369385,\n",
       "  'impact': 0.018200301118439215,\n",
       "  'impact_neg': -2.1495003895889307e-08,\n",
       "  'impact_pos': 0.018200322613443117},\n",
       " {'to': '8136-9804',\n",
       "  'from': '8136-9804-14714',\n",
       "  'amount': -0.006401691432829469,\n",
       "  'exc_amount': 0.4369165897369385,\n",
       "  'impact': 0.018200301118439215,\n",
       "  'impact_neg': -2.1495003895889307e-08,\n",
       "  'impact_pos': 0.01820032261344311},\n",
       " {'to': '8136-9804',\n",
       "  'from': '8136-9804-18854',\n",
       "  'amount': 0.00037758141325556165,\n",
       "  'exc_amount': -0.025769999250769615,\n",
       "  'impact': 4.954635196540122e-05,\n",
       "  'impact_neg': -2.8210048140010757e-09,\n",
       "  'impact_pos': 4.954917297021522e-05},\n",
       " {'to': '8136-14409',\n",
       "  'from': '8136-14409-5074',\n",
       "  'amount': 0.8582962401080411,\n",
       "  'exc_amount': 0.995457607648632,\n",
       "  'impact': 0.03188017966486096,\n",
       "  'impact_neg': -2.2677569697958364e-06,\n",
       "  'impact_pos': 0.03188244742183075},\n",
       " {'to': '8136-14409-5074',\n",
       "  'from': '8136-14409-5074-17197',\n",
       "  'amount': 0.8636176389803902,\n",
       "  'exc_amount': 1.0061999559402466,\n",
       "  'impact': 0.031880179664860946,\n",
       "  'impact_neg': -2.26775696979584e-06,\n",
       "  'impact_pos': 0.031882447421830745},\n",
       " {'to': '8136-14409-5074-17197',\n",
       "  'from': '8136-14409-5074-17197-7902',\n",
       "  'amount': 0.03961464714343751,\n",
       "  'exc_amount': 0.045774320586982824,\n",
       "  'impact': 0.014763669966253026,\n",
       "  'impact_neg': -3.602133799794298e-07,\n",
       "  'impact_pos': 0.014764030179633006},\n",
       " {'to': '8136-16404-12886-18640',\n",
       "  'from': '8136-16404-12886-18640-9804',\n",
       "  'amount': -2.7637033576351423e-06,\n",
       "  'exc_amount': -0.024815600365400314,\n",
       "  'impact': 6.875491375502981e-06,\n",
       "  'impact_neg': -8.667064353963178e-12,\n",
       "  'impact_pos': 6.875500042567333e-06},\n",
       " {'to': '8136-16404-12886-18640',\n",
       "  'from': '8136-16404-12886-18640-17348',\n",
       "  'amount': 0.006548532089797238,\n",
       "  'exc_amount': 58.79999923706055,\n",
       "  'impact': 0.0036614948938207196,\n",
       "  'impact_neg': -3.5600133193086986e-07,\n",
       "  'impact_pos': 0.0036618508951526503},\n",
       " {'to': '8136-16404-12886-18640',\n",
       "  'from': '8136-16404-12886-18640-17955',\n",
       "  'amount': 0.0242228868709438,\n",
       "  'exc_amount': 217.5,\n",
       "  'impact': 0.004022454345971677,\n",
       "  'impact_neg': -2.244083312536159e-07,\n",
       "  'impact_pos': 0.004022678754302931},\n",
       " {'to': '8136-16404-15009',\n",
       "  'from': '8136-16404-15009-5616',\n",
       "  'amount': 0.002208003793465098,\n",
       "  'exc_amount': 0.003960794769227505,\n",
       "  'impact': 0.0002037770384327032,\n",
       "  'impact_neg': -4.950368355968953e-09,\n",
       "  'impact_pos': 0.0002037819888010592},\n",
       " {'to': '8136-16404-15009',\n",
       "  'from': '8136-16404-15009-11168',\n",
       "  'amount': 9.654277390604034e-05,\n",
       "  'exc_amount': 0.00017318181926384568,\n",
       "  'impact': 0.005241171067766463,\n",
       "  'impact_neg': -2.858817213344304e-07,\n",
       "  'impact_pos': 0.005241456949487797},\n",
       " {'to': '8136-16404-15009',\n",
       "  'from': '8136-16404-15009-18139',\n",
       "  'amount': 0.0007935785182299015,\n",
       "  'exc_amount': 0.0014235490234568715,\n",
       "  'impact': 0.008979408184480875,\n",
       "  'impact_neg': -8.101569440961455e-06,\n",
       "  'impact_pos': 0.008987509753921834},\n",
       " {'to': '8136-16404-15009',\n",
       "  'from': '8136-16404-15009-18640',\n",
       "  'amount': 3.359378263721499e-05,\n",
       "  'exc_amount': 6.0261707403697073e-05,\n",
       "  'impact': 0.009331330277270032,\n",
       "  'impact_neg': -3.5948303987152093e-07,\n",
       "  'impact_pos': 0.009331689760309902},\n",
       " {'to': '8136-16404-18854-11726',\n",
       "  'from': '8136-16404-18854-11726-1242',\n",
       "  'amount': 0.11517909466934,\n",
       "  'exc_amount': 0.5900826454162598,\n",
       "  'impact': 0.010530379064204898,\n",
       "  'impact_neg': -5.280185840977131e-07,\n",
       "  'impact_pos': 0.010530907082788997},\n",
       " {'to': '8136-16404-18854-11726',\n",
       "  'from': '8136-16404-18854-11726-19107',\n",
       "  'amount': 0.06581662718738254,\n",
       "  'exc_amount': 0.33719009160995483,\n",
       "  'impact': 0.010930127795581081,\n",
       "  'impact_neg': -6.111067416251956e-07,\n",
       "  'impact_pos': 0.010930738902322707},\n",
       " {'to': '8136-13946',\n",
       "  'from': '8136-13946-11864',\n",
       "  'amount': 0.015326995011860016,\n",
       "  'exc_amount': 1.0482146739959717,\n",
       "  'impact': 0.022457783366885843,\n",
       "  'impact_neg': -0.0002616827268915513,\n",
       "  'impact_pos': 0.022719466093777393},\n",
       " {'to': '8136-13946',\n",
       "  'from': '8136-13946-14409',\n",
       "  'amount': 0.0011265954775241183,\n",
       "  'exc_amount': 0.07704797387123108,\n",
       "  'impact': 4.3799751273051804e-05,\n",
       "  'impact_neg': -3.4212456768095596e-09,\n",
       "  'impact_pos': 4.380317251872862e-05},\n",
       " {'to': '8136-13946-11864',\n",
       "  'from': '8136-13946-11864-7881',\n",
       "  'amount': 0.015336181827781202,\n",
       "  'exc_amount': 1.0005718161209207,\n",
       "  'impact': 0.022423900647727535,\n",
       "  'impact_neg': -0.00026162911873842104,\n",
       "  'impact_pos': 0.022685529766465953},\n",
       " {'to': '8136-13946-11864-7881',\n",
       "  'from': '8136-13946-11864-7881-6411',\n",
       "  'amount': 0.02888073456083731,\n",
       "  'exc_amount': 1.883176326751709,\n",
       "  'impact': 0.021996793088389352,\n",
       "  'impact_neg': -0.0002615400633396172,\n",
       "  'impact_pos': 0.02225833315172897},\n",
       " {'to': '8136-13946-11864-7881',\n",
       "  'from': '8136-13946-11864-7881-14409',\n",
       "  'amount': 0.001809567657905721,\n",
       "  'exc_amount': 0.11799336224794388,\n",
       "  'impact': 7.035232690815828e-05,\n",
       "  'impact_neg': -5.4952959158952505e-09,\n",
       "  'impact_pos': 7.035782220407418e-05},\n",
       " {'to': '8136-13946-11864-7881-6411',\n",
       "  'from': '8136-13946-11864-7881-6411-1198',\n",
       "  'amount': 0.020712446928992594,\n",
       "  'exc_amount': 0.7171717286109924,\n",
       "  'impact': 0.014810445773979606,\n",
       "  'impact_neg': -0.00020034544817549112,\n",
       "  'impact_pos': 0.015010791222155097},\n",
       " {'to': '8136-16404-18854-11250',\n",
       "  'from': '8136-16404-18854-11250-15054',\n",
       "  'amount': 0.05420192432706903,\n",
       "  'exc_amount': 0.3181818127632141,\n",
       "  'impact': 0.00893150903875667,\n",
       "  'impact_neg': -5.020681344646404e-07,\n",
       "  'impact_pos': 0.008932011106891135},\n",
       " {'to': '8136-16404-18854-11250',\n",
       "  'from': '8136-16404-18854-11250-15976',\n",
       "  'amount': 0.1064680674555974,\n",
       "  'exc_amount': 0.625,\n",
       "  'impact': 0.009578178667919037,\n",
       "  'impact_neg': -4.855161087941214e-07,\n",
       "  'impact_pos': 0.009578664184027832},\n",
       " {'to': '8136-16404-12886-11168',\n",
       "  'from': '8136-16404-12886-11168-9804',\n",
       "  'amount': -3.109326212593496e-06,\n",
       "  'exc_amount': -0.008679688908159733,\n",
       "  'impact': 7.735325681481557e-06,\n",
       "  'impact_neg': -9.750948960409422e-12,\n",
       "  'impact_pos': 7.735335432430516e-06},\n",
       " {'to': '8136-16404-12886-11168',\n",
       "  'from': '8136-16404-12886-11168-17348',\n",
       "  'amount': 0.003911873206287831,\n",
       "  'exc_amount': 10.920000076293945,\n",
       "  'impact': 0.0021872541164474116,\n",
       "  'impact_neg': -2.1266324310342816e-07,\n",
       "  'impact_pos': 0.002187466779690515},\n",
       " {'to': '8136-16404-12886-11168',\n",
       "  'from': '8136-16404-12886-11168-17955',\n",
       "  'amount': 0.013433630422242583,\n",
       "  'exc_amount': 37.5,\n",
       "  'impact': 0.002230789639650478,\n",
       "  'impact_neg': -1.2445331565121604e-07,\n",
       "  'impact_pos': 0.0022309140929661297},\n",
       " {'to': '8136-16404-12886-18640-17348',\n",
       "  'from': '8136-16404-12886-18640-17348-16400',\n",
       "  'amount': 0.02502504129619726,\n",
       "  'exc_amount': 0.9004703164100647,\n",
       "  'impact': 0.014097837887826285,\n",
       "  'impact_neg': -1.3451338829485635e-06,\n",
       "  'impact_pos': 0.014099183021709235},\n",
       " {'to': '8136-14409-5074-17197-7902',\n",
       "  'from': '8136-14409-5074-17197-7902-2448',\n",
       "  'amount': 0.030052369253585707,\n",
       "  'exc_amount': 0.757651686668396,\n",
       "  'impact': 0.012790578817591134,\n",
       "  'impact_neg': -3.0136114109009376e-07,\n",
       "  'impact_pos': 0.012790880178732224},\n",
       " {'to': '8136-4040-11927',\n",
       "  'from': '8136-4040-11927-5616',\n",
       "  'amount': 0.003066155085296802,\n",
       "  'exc_amount': 0.007481335662305355,\n",
       "  'impact': 0.00028297596431055733,\n",
       "  'impact_neg': -6.874352822069326e-09,\n",
       "  'impact_pos': 0.00028298283866337945},\n",
       " {'to': '8136-4040-11927',\n",
       "  'from': '8136-4040-11927-8042',\n",
       "  'amount': 0.01398857551086752,\n",
       "  'exc_amount': 0.034131746739149094,\n",
       "  'impact': 0.005378000876139354,\n",
       "  'impact_neg': -1.391352791711599e-07,\n",
       "  'impact_pos': 0.005378140011418525},\n",
       " {'to': '8136-4040-11927',\n",
       "  'from': '8136-4040-11927-9804',\n",
       "  'amount': -5.536592527414052e-07,\n",
       "  'exc_amount': -1.3509136351785855e-06,\n",
       "  'impact': 1.3773835048810276e-06,\n",
       "  'impact_neg': -1.7362935716020585e-12,\n",
       "  'impact_pos': 1.3773852411745988e-06},\n",
       " {'to': '8136-4040-11927-8042',\n",
       "  'from': '8136-4040-11927-8042-5727',\n",
       "  'amount': 0.04264390827149889,\n",
       "  'exc_amount': 0.9822338223457336,\n",
       "  'impact': 0.016661286801827414,\n",
       "  'impact_neg': -4.294807652773125e-07,\n",
       "  'impact_pos': 0.016661716282592692},\n",
       " {'to': '8136-4040-11927-8042',\n",
       "  'from': '8136-4040-11927-8042-14409',\n",
       "  'amount': 0.000771322302119496,\n",
       "  'exc_amount': 0.01776616834104061,\n",
       "  'impact': 2.9987449495569627e-05,\n",
       "  'impact_neg': -2.342351930395202e-09,\n",
       "  'impact_pos': 2.9989791847500022e-05},\n",
       " {'to': '8136-16404-12886-18640-17348-16400',\n",
       "  'from': '8136-16404-12886-18640-17348-16400-9497',\n",
       "  'amount': 0.025069621005440777,\n",
       "  'exc_amount': 1.0,\n",
       "  'impact': 0.013463154383508336,\n",
       "  'impact_neg': -1.2148465438754862e-06,\n",
       "  'impact_pos': 0.01346436923005221},\n",
       " {'to': '8136-16404-12886-18640-17348-16400',\n",
       "  'from': '8136-16404-12886-18640-17348-16400-18854',\n",
       "  'amount': 0.00142144747783579,\n",
       "  'exc_amount': 0.056699998676776886,\n",
       "  'impact': 0.00018652278572175326,\n",
       "  'impact_neg': -1.0619988264915968e-08,\n",
       "  'impact_pos': 0.0001865334057100182},\n",
       " {'to': '8136-16404-12886-18640-17348-16400-9497',\n",
       "  'from': '8136-16404-12886-18640-17348-16400-9497-9946',\n",
       "  'amount': 1.0215775881956768e-06,\n",
       "  'exc_amount': 3.7843146856175736e-05,\n",
       "  'impact': 5.193990267112372e-06,\n",
       "  'impact_neg': -8.399212056187715e-12,\n",
       "  'impact_pos': 5.193998666324429e-06},\n",
       " {'to': '8136-16404-12886-18640-17348-16400-9497',\n",
       "  'from': '8136-16404-12886-18640-17348-16400-9497-11349',\n",
       "  'amount': 0.03094207710540302,\n",
       "  'exc_amount': 1.1462130546569824,\n",
       "  'impact': 0.007189778290475002,\n",
       "  'impact_neg': -1.232777828684735e-06,\n",
       "  'impact_pos': 0.007191011068303687},\n",
       " {'to': '8136-4040-9835',\n",
       "  'from': '8136-4040-9835-5616',\n",
       "  'amount': 0.0001023471338251633,\n",
       "  'exc_amount': 0.0012554621789604425,\n",
       "  'impact': 9.445634054023644e-06,\n",
       "  'impact_neg': -2.294633795973217e-10,\n",
       "  'impact_pos': 9.445863517403243e-06},\n",
       " {'to': '8136-4040-9835',\n",
       "  'from': '8136-4040-9835-8042',\n",
       "  'amount': 0.015201617707336374,\n",
       "  'exc_amount': 0.1864737719297409,\n",
       "  'impact': 0.005844363015038723,\n",
       "  'impact_neg': -1.5120062238791355e-07,\n",
       "  'impact_pos': 0.005844514215661111},\n",
       " {'to': '8136-4040-9835',\n",
       "  'from': '8136-4040-9835-9804',\n",
       "  'amount': -1.6642875115810925e-07,\n",
       "  'exc_amount': -2.041532525254297e-06,\n",
       "  'impact': 4.1403844593598273e-07,\n",
       "  'impact_neg': -5.219260209863251e-13,\n",
       "  'impact_pos': 4.140389678620036e-07},\n",
       " {'to': '8136-14409-5074-17197-7902-2448',\n",
       "  'from': '8136-14409-5074-17197-7902-2448-10090',\n",
       "  'amount': 0.005997910185450514,\n",
       "  'exc_amount': 0.19958190619945526,\n",
       "  'impact': 0.0033958526786917504,\n",
       "  'impact_neg': -7.778384135655904e-08,\n",
       "  'impact_pos': 0.003395930462533107},\n",
       " {'to': '8136-14409-5074-17197-7902-2448',\n",
       "  'from': '8136-14409-5074-17197-7902-2448-17197',\n",
       "  'amount': 0.0007535864020365938,\n",
       "  'exc_amount': 0.025075769051909447,\n",
       "  'impact': 2.7818410376942582e-05,\n",
       "  'impact_neg': -1.9788280581896035e-09,\n",
       "  'impact_pos': 2.7820389205000776e-05},\n",
       " {'to': '8136-16404-18854-11726-19107',\n",
       "  'from': '8136-16404-18854-11726-19107-5826',\n",
       "  'amount': 0.06590502278055536,\n",
       "  'exc_amount': 1.0,\n",
       "  'impact': 0.010944807598713416,\n",
       "  'impact_neg': -6.119274938458178e-07,\n",
       "  'impact_pos': 0.010945419526207261},\n",
       " {'to': '8136-16404-18854-11726-19107-5826',\n",
       "  'from': '8136-16404-18854-11726-19107-5826-17348',\n",
       "  'amount': 0.0024944498689351267,\n",
       "  'exc_amount': 0.03784916177392006,\n",
       "  'impact': 0.0013947271438476722,\n",
       "  'impact_neg': -1.356071045538978e-07,\n",
       "  'impact_pos': 0.001394862750952226},\n",
       " {'to': '8136-16404-12886-18640-17955',\n",
       "  'from': '8136-16404-12886-18640-17955-7456',\n",
       "  'amount': 0.06510525057752051,\n",
       "  'exc_amount': 1.0,\n",
       "  'impact': 0.010811382620345724,\n",
       "  'impact_neg': -6.031552191029414e-07,\n",
       "  'impact_pos': 0.010811985775564829},\n",
       " {'to': '8136-16404-12886-18640-17955-7456',\n",
       "  'from': '8136-16404-12886-18640-17955-7456-17348',\n",
       "  'amount': 0.0024394126020527173,\n",
       "  'exc_amount': 0.03746875375509262,\n",
       "  'impact': 0.001363954037921573,\n",
       "  'impact_neg': -1.3261508435039303e-07,\n",
       "  'impact_pos': 0.0013640866530059232},\n",
       " {'to': '8136-16404-18854-11726-1242',\n",
       "  'from': '8136-16404-18854-11726-1242-4171',\n",
       "  'amount': 0.11518960958197652,\n",
       "  'exc_amount': 1.0,\n",
       "  'impact': 0.010531340401991132,\n",
       "  'impact_neg': -5.280667878911036e-07,\n",
       "  'impact_pos': 0.010531868468779026},\n",
       " {'to': '8136-16404-18854-11726-1242-4171',\n",
       "  'from': '8136-16404-18854-11726-1242-4171-17348',\n",
       "  'amount': 0.002257137713363272,\n",
       "  'exc_amount': 0.01959497667849064,\n",
       "  'impact': 0.0012620382856497062,\n",
       "  'impact_neg': -1.2270597765881954e-07,\n",
       "  'impact_pos': 0.0012621609916273649},\n",
       " {'to': '8136-16404-18854-11250-15976',\n",
       "  'from': '8136-16404-18854-11250-15976-1785',\n",
       "  'amount': 0.10646983851319672,\n",
       "  'exc_amount': 1.0,\n",
       "  'impact': 0.009578337997439361,\n",
       "  'impact_neg': -4.855241851780967e-07,\n",
       "  'impact_pos': 0.009578823521624542},\n",
       " {'to': '8136-16404-18854-11250-15976-1785',\n",
       "  'from': '8136-16404-18854-11250-15976-1785-17348',\n",
       "  'amount': 0.002039030484227877,\n",
       "  'exc_amount': 0.019151249900460243,\n",
       "  'impact': 0.0011400875194575593,\n",
       "  'impact_neg': -1.1084889839109678e-07,\n",
       "  'impact_pos': 0.0011401983683559504},\n",
       " {'to': '8136-16404-18854-11250-15054',\n",
       "  'from': '8136-16404-18854-11250-15054-19478',\n",
       "  'amount': 0.05420263285122257,\n",
       "  'exc_amount': 1.0,\n",
       "  'impact': 0.008931625790882356,\n",
       "  'impact_neg': -5.020746974677901e-07,\n",
       "  'impact_pos': 0.008932127865579825},\n",
       " {'to': '8136-16404-18854-11250-15054-19478',\n",
       "  'from': '8136-16404-18854-11250-15054-19478-17348',\n",
       "  'amount': 0.0020295201301804362,\n",
       "  'exc_amount': 0.03744320198893547,\n",
       "  'impact': 0.0011347699746542918,\n",
       "  'impact_neg': -1.103318819572462e-07,\n",
       "  'impact_pos': 0.001134880306536249},\n",
       " {'to': '8136-16404-12886-5616',\n",
       "  'from': '8136-16404-12886-5616-9425',\n",
       "  'amount': 0.08347929312929447,\n",
       "  'exc_amount': 1.0,\n",
       "  'impact': 0.0077043178887147385,\n",
       "  'impact_neg': -1.8716147694536045e-07,\n",
       "  'impact_pos': 0.007704505050191682},\n",
       " {'to': '8136-16404-12886-5616-9425',\n",
       "  'from': '8136-16404-12886-5616-9425-9804',\n",
       "  'amount': -2.9157562366881094e-07,\n",
       "  'exc_amount': -3.492789801384788e-06,\n",
       "  'impact': 7.253765786054639e-07,\n",
       "  'impact_neg': -9.143907168629477e-13,\n",
       "  'impact_pos': 7.253774929961806e-07}]"
      ]
     },
     "execution_count": 7,
     "metadata": {},
     "output_type": "execute_result"
    }
   ],
   "source": [
    "trav['edges']"
   ]
  },
  {
   "cell_type": "code",
   "execution_count": 8,
   "metadata": {},
   "outputs": [
    {
     "data": {
      "text/plain": [
       "{'8136': 'biomethane production, high pressure from synthetic gas, wood, fluidised technology' (cubic meter, CH, None),\n",
       " '4040': 'market for wood chips, dry, measured as dry mass' (kilogram, RER, None),\n",
       " '9804': 'market for waste mineral oil' (kilogram, CH, None),\n",
       " '9946': 'market for zeolite, powder' (kilogram, GLO, None),\n",
       " '13946': 'esterification of rape oil' (kilogram, CH, None),\n",
       " '14409': 'market for electricity, medium voltage' (kilowatt hour, CH, None),\n",
       " '15337': 'market for charcoal' (kilogram, GLO, None),\n",
       " '16404': 'market for wood chips, wet, measured as dry mass' (kilogram, CH, None),\n",
       " '12886': 'hardwood forestry, mixed species, sustainable forest management' (kilogram, CH, None),\n",
       " '15009': 'softwood forestry, mixed species, sustainable forest management' (kilogram, CH, None),\n",
       " '18854': 'market for transport, freight, lorry, unspecified' (ton kilometer, RER, None),\n",
       " '11250': 'transport, freight, lorry, all sizes, EURO4 to generic market for transport, freight, lorry, unspecified' (ton kilometer, RER, None),\n",
       " '11726': 'transport, freight, lorry, all sizes, EURO3 to generic market for transport, freight, lorry, unspecified' (ton kilometer, RER, None),\n",
       " '5616': 'market for diesel, burned in building machine' (megajoule, GLO, None),\n",
       " '11168': 'skidding, skidder' (hour, RER, None),\n",
       " '18139': 'power sawing, without catalytic converter' (hour, RER, None),\n",
       " '18640': 'wood chipping, mobile chipper, at forest road' (hour, RER, None),\n",
       " '9835': 'plywood production' (kilogram, RER, None),\n",
       " '11927': 'three and five layered board production' (kilogram, RER, None),\n",
       " '3149': 'zeolite production, powder' (kilogram, RoW, None),\n",
       " '3164': 'zeolite production, powder' (kilogram, RER, None),\n",
       " '8000': 'charcoal production' (kilogram, GLO, None),\n",
       " '2613': 'treatment of waste mineral oil, hazardous waste incineration, with energy recovery' (kilogram, CH, None),\n",
       " '14714': 'treatment of waste mineral oil, hazardous waste incineration' (kilogram, CH, None),\n",
       " '5074': 'electricity voltage transformation from high to medium voltage' (kilowatt hour, CH, None),\n",
       " '17197': 'market for electricity, high voltage' (kilowatt hour, CH, None),\n",
       " '7902': 'market group for electricity, high voltage' (kilowatt hour, ENTSO-E, None),\n",
       " '17348': 'market group for diesel, low-sulfur' (kilogram, RER, None),\n",
       " '17955': 'market for transport, freight, lorry 16-32 metric ton, EURO5' (ton kilometer, RER, None),\n",
       " '1242': 'market for transport, freight, lorry >32 metric ton, EURO3' (ton kilometer, RER, None),\n",
       " '19107': 'market for transport, freight, lorry 16-32 metric ton, EURO3' (ton kilometer, RER, None),\n",
       " '11864': 'market for rape oil, crude' (kilogram, CH, None),\n",
       " '7881': 'rape oil mill operation' (kilogram, CH, None),\n",
       " '6411': 'market for rape seed, Swiss integrated production' (kilogram, GLO, None),\n",
       " '1198': 'rape seed production, Swiss integrated production, intensive' (kilogram, CH, None),\n",
       " '15054': 'market for transport, freight, lorry 16-32 metric ton, EURO4' (ton kilometer, RER, None),\n",
       " '15976': 'market for transport, freight, lorry >32 metric ton, EURO4' (ton kilometer, RER, None),\n",
       " '16400': 'market for diesel, low-sulfur' (kilogram, Europe without Switzerland, None),\n",
       " '2448': 'market group for electricity, high voltage' (kilowatt hour, UCTE, None),\n",
       " '8042': 'market group for electricity, medium voltage' (kilowatt hour, RER, None),\n",
       " '5727': 'market group for electricity, medium voltage' (kilowatt hour, Europe without Switzerland, None),\n",
       " '9497': 'diesel production, low-sulfur, petroleum refinery operation' (kilogram, Europe without Switzerland, None),\n",
       " '11349': 'market for petroleum' (kilogram, GLO, None),\n",
       " '10090': 'market for electricity, high voltage' (kilowatt hour, DE, None),\n",
       " '5826': 'transport, freight, lorry 16-32 metric ton, EURO3' (ton kilometer, RER, None),\n",
       " '7456': 'transport, freight, lorry 16-32 metric ton, EURO5' (ton kilometer, RER, None),\n",
       " '4171': 'transport, freight, lorry >32 metric ton, EURO3' (ton kilometer, RER, None),\n",
       " '1785': 'transport, freight, lorry >32 metric ton, EURO4' (ton kilometer, RER, None),\n",
       " '19478': 'transport, freight, lorry 16-32 metric ton, EURO4' (ton kilometer, RER, None),\n",
       " '9425': 'diesel, burned in building machine' (megajoule, GLO, None)}"
      ]
     },
     "execution_count": 8,
     "metadata": {},
     "output_type": "execute_result"
    }
   ],
   "source": [
    "# from Romain to name the activities\n",
    "id_to_key = {v:k for k, v in lca.activity_dict.items()}\n",
    "activities = {str(id): bd.get_activity(id_to_key[id]) for id in list(trav[\"nodes\"].keys())[1:]}\n",
    "activities"
   ]
  },
  {
   "cell_type": "code",
   "execution_count": 38,
   "metadata": {},
   "outputs": [
    {
     "data": {
      "text/html": [
       "<div>\n",
       "<style scoped>\n",
       "    .dataframe tbody tr th:only-of-type {\n",
       "        vertical-align: middle;\n",
       "    }\n",
       "\n",
       "    .dataframe tbody tr th {\n",
       "        vertical-align: top;\n",
       "    }\n",
       "\n",
       "    .dataframe thead th {\n",
       "        text-align: right;\n",
       "    }\n",
       "</style>\n",
       "<table border=\"1\" class=\"dataframe\">\n",
       "  <thead>\n",
       "    <tr style=\"text-align: right;\">\n",
       "      <th></th>\n",
       "      <th>ids</th>\n",
       "      <th>label</th>\n",
       "      <th>parent_ids</th>\n",
       "      <th>parent</th>\n",
       "      <th>labels_short</th>\n",
       "      <th>impact</th>\n",
       "    </tr>\n",
       "  </thead>\n",
       "  <tbody>\n",
       "    <tr>\n",
       "      <th>10</th>\n",
       "      <td>8136-16404-18854</td>\n",
       "      <td>market for transport, freight, lorry, unspecif...</td>\n",
       "      <td>8136-16404</td>\n",
       "      <td>market for wood chips, wet, measured as dry ma...</td>\n",
       "      <td>market for transpo</td>\n",
       "      <td>0.039832</td>\n",
       "    </tr>\n",
       "    <tr>\n",
       "      <th>19</th>\n",
       "      <td>8136-4040-18854</td>\n",
       "      <td>market for transport, freight, lorry, unspecif...</td>\n",
       "      <td>8136-4040</td>\n",
       "      <td>market for wood chips, dry, measured as dry ma...</td>\n",
       "      <td>market for transpo</td>\n",
       "      <td>0.007477</td>\n",
       "    </tr>\n",
       "    <tr>\n",
       "      <th>25</th>\n",
       "      <td>8136-9804-18854</td>\n",
       "      <td>market for transport, freight, lorry, unspecif...</td>\n",
       "      <td>8136-9804</td>\n",
       "      <td>market for waste mineral oil (CH)</td>\n",
       "      <td>market for transpo</td>\n",
       "      <td>0.000050</td>\n",
       "    </tr>\n",
       "    <tr>\n",
       "      <th>57</th>\n",
       "      <td>8136-16404-12886-18640-17348-16400-18854</td>\n",
       "      <td>market for transport, freight, lorry, unspecif...</td>\n",
       "      <td>8136-16404-12886-18640-17348-16400</td>\n",
       "      <td>market for diesel, low-sulfur (Europe without ...</td>\n",
       "      <td>market for transpo</td>\n",
       "      <td>0.000187</td>\n",
       "    </tr>\n",
       "  </tbody>\n",
       "</table>\n",
       "</div>"
      ],
      "text/plain": [
       "                                         ids  \\\n",
       "10                          8136-16404-18854   \n",
       "19                           8136-4040-18854   \n",
       "25                           8136-9804-18854   \n",
       "57  8136-16404-12886-18640-17348-16400-18854   \n",
       "\n",
       "                                                label  \\\n",
       "10  market for transport, freight, lorry, unspecif...   \n",
       "19  market for transport, freight, lorry, unspecif...   \n",
       "25  market for transport, freight, lorry, unspecif...   \n",
       "57  market for transport, freight, lorry, unspecif...   \n",
       "\n",
       "                            parent_ids  \\\n",
       "10                          8136-16404   \n",
       "19                           8136-4040   \n",
       "25                           8136-9804   \n",
       "57  8136-16404-12886-18640-17348-16400   \n",
       "\n",
       "                                               parent        labels_short  \\\n",
       "10  market for wood chips, wet, measured as dry ma...  market for transpo   \n",
       "19  market for wood chips, dry, measured as dry ma...  market for transpo   \n",
       "25                  market for waste mineral oil (CH)  market for transpo   \n",
       "57  market for diesel, low-sulfur (Europe without ...  market for transpo   \n",
       "\n",
       "      impact  \n",
       "10  0.039832  \n",
       "19  0.007477  \n",
       "25  0.000050  \n",
       "57  0.000187  "
      ]
     },
     "metadata": {},
     "output_type": "display_data"
    }
   ],
   "source": [
    "import plotly.graph_objects as go\n",
    "import math\n",
    "\n",
    "ids = [edge[\"from\"] for edge in trav['edges']]\n",
    "labels = [activities[id.split('-')[-1]]['name']+' ('+activities[id.split('-')[-1]]['location']+')' for id in ids]\n",
    "parent_ids = [\"\"] + [edge[\"to\"] for edge in trav['edges']][1:]\n",
    "\n",
    "data = dict(ids = ids,\n",
    "            label = labels,            \n",
    "            #location = [act['location'] for act in activities],\n",
    "            parent_ids = parent_ids,\n",
    "            parent = [activities[id.split('-')[-1]]['name']+' ('+activities[id.split('-')[-1]]['location']+')' if id != '' else '' for id in parent_ids],\n",
    "            labels_short = [label[:18] for label in labels],\n",
    "            impact = [edge[\"impact_pos\"] for edge in trav['edges']], #math.floor(edge[\"impact_pos\"]*1100)/1100\n",
    "            #flow_amount = [edge[\"amount\"] for edge in trav['edges']]\n",
    "            #value_pct = value_pct\n",
    "        )\n",
    "df = pd.DataFrame.from_dict(data)\n",
    "display(df[df.ids.str.endswith('18854')])"
   ]
  },
  {
   "cell_type": "code",
   "execution_count": 46,
   "metadata": {},
   "outputs": [
    {
     "data": {
      "text/html": [
       "<div>\n",
       "<style scoped>\n",
       "    .dataframe tbody tr th:only-of-type {\n",
       "        vertical-align: middle;\n",
       "    }\n",
       "\n",
       "    .dataframe tbody tr th {\n",
       "        vertical-align: top;\n",
       "    }\n",
       "\n",
       "    .dataframe thead th {\n",
       "        text-align: right;\n",
       "    }\n",
       "</style>\n",
       "<table border=\"1\" class=\"dataframe\">\n",
       "  <thead>\n",
       "    <tr style=\"text-align: right;\">\n",
       "      <th></th>\n",
       "      <th>ids</th>\n",
       "      <th>label</th>\n",
       "      <th>parent_ids</th>\n",
       "      <th>parent</th>\n",
       "      <th>labels_short</th>\n",
       "      <th>impact</th>\n",
       "      <th>act_id</th>\n",
       "      <th>parent_act_id</th>\n",
       "      <th>depth</th>\n",
       "      <th>scaled_impact</th>\n",
       "    </tr>\n",
       "  </thead>\n",
       "  <tbody>\n",
       "    <tr>\n",
       "      <th>11</th>\n",
       "      <td>8136-16404-18854-11250</td>\n",
       "      <td>transport, freight, lorry, all sizes, EURO4 to...</td>\n",
       "      <td>8136-16404-18854</td>\n",
       "      <td>market for transport, freight, lorry, unspecif...</td>\n",
       "      <td>transport, freight</td>\n",
       "      <td>0.021805</td>\n",
       "      <td>11250</td>\n",
       "      <td>18854</td>\n",
       "      <td>4</td>\n",
       "      <td>0.016441</td>\n",
       "    </tr>\n",
       "    <tr>\n",
       "      <th>12</th>\n",
       "      <td>8136-16404-18854-11726</td>\n",
       "      <td>transport, freight, lorry, all sizes, EURO3 to...</td>\n",
       "      <td>8136-16404-18854</td>\n",
       "      <td>market for transport, freight, lorry, unspecif...</td>\n",
       "      <td>transport, freight</td>\n",
       "      <td>0.026432</td>\n",
       "      <td>11726</td>\n",
       "      <td>18854</td>\n",
       "      <td>4</td>\n",
       "      <td>0.019930</td>\n",
       "    </tr>\n",
       "    <tr>\n",
       "      <th>20</th>\n",
       "      <td>8136-9946-3149</td>\n",
       "      <td>zeolite production, powder (RoW)</td>\n",
       "      <td>8136-9946</td>\n",
       "      <td>market for zeolite, powder (GLO)</td>\n",
       "      <td>zeolite production</td>\n",
       "      <td>0.027940</td>\n",
       "      <td>3149</td>\n",
       "      <td>9946</td>\n",
       "      <td>3</td>\n",
       "      <td>0.025143</td>\n",
       "    </tr>\n",
       "    <tr>\n",
       "      <th>21</th>\n",
       "      <td>8136-9946-3164</td>\n",
       "      <td>zeolite production, powder (RER)</td>\n",
       "      <td>8136-9946</td>\n",
       "      <td>market for zeolite, powder (GLO)</td>\n",
       "      <td>zeolite production</td>\n",
       "      <td>0.012604</td>\n",
       "      <td>3164</td>\n",
       "      <td>9946</td>\n",
       "      <td>3</td>\n",
       "      <td>0.011342</td>\n",
       "    </tr>\n",
       "    <tr>\n",
       "      <th>23</th>\n",
       "      <td>8136-9804-2613</td>\n",
       "      <td>treatment of waste mineral oil, hazardous wast...</td>\n",
       "      <td>8136-9804</td>\n",
       "      <td>market for waste mineral oil (CH)</td>\n",
       "      <td>treatment of waste</td>\n",
       "      <td>0.018200</td>\n",
       "      <td>2613</td>\n",
       "      <td>9804</td>\n",
       "      <td>3</td>\n",
       "      <td>0.016373</td>\n",
       "    </tr>\n",
       "    <tr>\n",
       "      <th>24</th>\n",
       "      <td>8136-9804-14714</td>\n",
       "      <td>treatment of waste mineral oil, hazardous wast...</td>\n",
       "      <td>8136-9804</td>\n",
       "      <td>market for waste mineral oil (CH)</td>\n",
       "      <td>treatment of waste</td>\n",
       "      <td>0.018200</td>\n",
       "      <td>14714</td>\n",
       "      <td>9804</td>\n",
       "      <td>3</td>\n",
       "      <td>0.016373</td>\n",
       "    </tr>\n",
       "    <tr>\n",
       "      <th>25</th>\n",
       "      <td>8136-9804-18854</td>\n",
       "      <td>market for transport, freight, lorry, unspecif...</td>\n",
       "      <td>8136-9804</td>\n",
       "      <td>market for waste mineral oil (CH)</td>\n",
       "      <td>market for transpo</td>\n",
       "      <td>0.000050</td>\n",
       "      <td>18854</td>\n",
       "      <td>9804</td>\n",
       "      <td>3</td>\n",
       "      <td>0.000045</td>\n",
       "    </tr>\n",
       "    <tr>\n",
       "      <th>26</th>\n",
       "      <td>8136-14409-5074</td>\n",
       "      <td>electricity voltage transformation from high t...</td>\n",
       "      <td>8136-14409</td>\n",
       "      <td>market for electricity, medium voltage (CH)</td>\n",
       "      <td>electricity voltag</td>\n",
       "      <td>0.031882</td>\n",
       "      <td>5074</td>\n",
       "      <td>14409</td>\n",
       "      <td>3</td>\n",
       "      <td>0.028566</td>\n",
       "    </tr>\n",
       "    <tr>\n",
       "      <th>28</th>\n",
       "      <td>8136-14409-5074-17197-7902</td>\n",
       "      <td>market group for electricity, high voltage (EN...</td>\n",
       "      <td>8136-14409-5074-17197</td>\n",
       "      <td>market for electricity, high voltage (CH)</td>\n",
       "      <td>market group for e</td>\n",
       "      <td>0.014764</td>\n",
       "      <td>7902</td>\n",
       "      <td>17197</td>\n",
       "      <td>5</td>\n",
       "      <td>0.011895</td>\n",
       "    </tr>\n",
       "    <tr>\n",
       "      <th>29</th>\n",
       "      <td>8136-16404-12886-18640-9804</td>\n",
       "      <td>market for waste mineral oil (CH)</td>\n",
       "      <td>8136-16404-12886-18640</td>\n",
       "      <td>wood chipping, mobile chipper, at forest road ...</td>\n",
       "      <td>market for waste m</td>\n",
       "      <td>0.000007</td>\n",
       "      <td>9804</td>\n",
       "      <td>18640</td>\n",
       "      <td>5</td>\n",
       "      <td>0.000004</td>\n",
       "    </tr>\n",
       "    <tr>\n",
       "      <th>30</th>\n",
       "      <td>8136-16404-12886-18640-17348</td>\n",
       "      <td>market group for diesel, low-sulfur (RER)</td>\n",
       "      <td>8136-16404-12886-18640</td>\n",
       "      <td>wood chipping, mobile chipper, at forest road ...</td>\n",
       "      <td>market group for d</td>\n",
       "      <td>0.003662</td>\n",
       "      <td>17348</td>\n",
       "      <td>18640</td>\n",
       "      <td>5</td>\n",
       "      <td>0.002301</td>\n",
       "    </tr>\n",
       "    <tr>\n",
       "      <th>31</th>\n",
       "      <td>8136-16404-12886-18640-17955</td>\n",
       "      <td>market for transport, freight, lorry 16-32 met...</td>\n",
       "      <td>8136-16404-12886-18640</td>\n",
       "      <td>wood chipping, mobile chipper, at forest road ...</td>\n",
       "      <td>market for transpo</td>\n",
       "      <td>0.004023</td>\n",
       "      <td>17955</td>\n",
       "      <td>18640</td>\n",
       "      <td>5</td>\n",
       "      <td>0.002528</td>\n",
       "    </tr>\n",
       "    <tr>\n",
       "      <th>46</th>\n",
       "      <td>8136-16404-12886-11168-9804</td>\n",
       "      <td>market for waste mineral oil (CH)</td>\n",
       "      <td>8136-16404-12886-11168</td>\n",
       "      <td>skidding, skidder (RER)</td>\n",
       "      <td>market for waste m</td>\n",
       "      <td>0.000008</td>\n",
       "      <td>9804</td>\n",
       "      <td>11168</td>\n",
       "      <td>5</td>\n",
       "      <td>0.000005</td>\n",
       "    </tr>\n",
       "    <tr>\n",
       "      <th>47</th>\n",
       "      <td>8136-16404-12886-11168-17348</td>\n",
       "      <td>market group for diesel, low-sulfur (RER)</td>\n",
       "      <td>8136-16404-12886-11168</td>\n",
       "      <td>skidding, skidder (RER)</td>\n",
       "      <td>market group for d</td>\n",
       "      <td>0.002187</td>\n",
       "      <td>17348</td>\n",
       "      <td>11168</td>\n",
       "      <td>5</td>\n",
       "      <td>0.001377</td>\n",
       "    </tr>\n",
       "    <tr>\n",
       "      <th>48</th>\n",
       "      <td>8136-16404-12886-11168-17955</td>\n",
       "      <td>market for transport, freight, lorry 16-32 met...</td>\n",
       "      <td>8136-16404-12886-11168</td>\n",
       "      <td>skidding, skidder (RER)</td>\n",
       "      <td>market for transpo</td>\n",
       "      <td>0.002231</td>\n",
       "      <td>17955</td>\n",
       "      <td>11168</td>\n",
       "      <td>5</td>\n",
       "      <td>0.001404</td>\n",
       "    </tr>\n",
       "    <tr>\n",
       "      <th>49</th>\n",
       "      <td>8136-16404-12886-18640-17348-16400</td>\n",
       "      <td>market for diesel, low-sulfur (Europe without ...</td>\n",
       "      <td>8136-16404-12886-18640-17348</td>\n",
       "      <td>market group for diesel, low-sulfur (RER)</td>\n",
       "      <td>market for diesel,</td>\n",
       "      <td>0.014099</td>\n",
       "      <td>16400</td>\n",
       "      <td>17348</td>\n",
       "      <td>6</td>\n",
       "      <td>0.003826</td>\n",
       "    </tr>\n",
       "    <tr>\n",
       "      <th>54</th>\n",
       "      <td>8136-4040-11927-8042-5727</td>\n",
       "      <td>market group for electricity, medium voltage (...</td>\n",
       "      <td>8136-4040-11927-8042</td>\n",
       "      <td>market group for electricity, medium voltage (...</td>\n",
       "      <td>market group for e</td>\n",
       "      <td>0.016662</td>\n",
       "      <td>5727</td>\n",
       "      <td>8042</td>\n",
       "      <td>5</td>\n",
       "      <td>0.007186</td>\n",
       "    </tr>\n",
       "    <tr>\n",
       "      <th>55</th>\n",
       "      <td>8136-4040-11927-8042-14409</td>\n",
       "      <td>market for electricity, medium voltage (CH)</td>\n",
       "      <td>8136-4040-11927-8042</td>\n",
       "      <td>market group for electricity, medium voltage (...</td>\n",
       "      <td>market for electri</td>\n",
       "      <td>0.000030</td>\n",
       "      <td>14409</td>\n",
       "      <td>8042</td>\n",
       "      <td>5</td>\n",
       "      <td>0.000013</td>\n",
       "    </tr>\n",
       "    <tr>\n",
       "      <th>56</th>\n",
       "      <td>8136-16404-12886-18640-17348-16400-9497</td>\n",
       "      <td>diesel production, low-sulfur, petroleum refin...</td>\n",
       "      <td>8136-16404-12886-18640-17348-16400</td>\n",
       "      <td>market for diesel, low-sulfur (Europe without ...</td>\n",
       "      <td>diesel production,</td>\n",
       "      <td>0.013464</td>\n",
       "      <td>9497</td>\n",
       "      <td>16400</td>\n",
       "      <td>7</td>\n",
       "      <td>0.008460</td>\n",
       "    </tr>\n",
       "    <tr>\n",
       "      <th>57</th>\n",
       "      <td>8136-16404-12886-18640-17348-16400-18854</td>\n",
       "      <td>market for transport, freight, lorry, unspecif...</td>\n",
       "      <td>8136-16404-12886-18640-17348-16400</td>\n",
       "      <td>market for diesel, low-sulfur (Europe without ...</td>\n",
       "      <td>market for transpo</td>\n",
       "      <td>0.000187</td>\n",
       "      <td>18854</td>\n",
       "      <td>16400</td>\n",
       "      <td>7</td>\n",
       "      <td>0.000117</td>\n",
       "    </tr>\n",
       "    <tr>\n",
       "      <th>58</th>\n",
       "      <td>8136-16404-12886-18640-17348-16400-9497-9946</td>\n",
       "      <td>market for zeolite, powder (GLO)</td>\n",
       "      <td>8136-16404-12886-18640-17348-16400-9497</td>\n",
       "      <td>diesel production, low-sulfur, petroleum refin...</td>\n",
       "      <td>market for zeolite</td>\n",
       "      <td>0.000005</td>\n",
       "      <td>9946</td>\n",
       "      <td>9497</td>\n",
       "      <td>8</td>\n",
       "      <td>0.000001</td>\n",
       "    </tr>\n",
       "    <tr>\n",
       "      <th>59</th>\n",
       "      <td>8136-16404-12886-18640-17348-16400-9497-11349</td>\n",
       "      <td>market for petroleum (GLO)</td>\n",
       "      <td>8136-16404-12886-18640-17348-16400-9497</td>\n",
       "      <td>diesel production, low-sulfur, petroleum refin...</td>\n",
       "      <td>market for petrole</td>\n",
       "      <td>0.007191</td>\n",
       "      <td>11349</td>\n",
       "      <td>9497</td>\n",
       "      <td>8</td>\n",
       "      <td>0.001951</td>\n",
       "    </tr>\n",
       "    <tr>\n",
       "      <th>63</th>\n",
       "      <td>8136-14409-5074-17197-7902-2448-10090</td>\n",
       "      <td>market for electricity, high voltage (DE)</td>\n",
       "      <td>8136-14409-5074-17197-7902-2448</td>\n",
       "      <td>market group for electricity, high voltage (UCTE)</td>\n",
       "      <td>market for electri</td>\n",
       "      <td>0.003396</td>\n",
       "      <td>10090</td>\n",
       "      <td>2448</td>\n",
       "      <td>7</td>\n",
       "      <td>0.002736</td>\n",
       "    </tr>\n",
       "    <tr>\n",
       "      <th>64</th>\n",
       "      <td>8136-14409-5074-17197-7902-2448-17197</td>\n",
       "      <td>market for electricity, high voltage (CH)</td>\n",
       "      <td>8136-14409-5074-17197-7902-2448</td>\n",
       "      <td>market group for electricity, high voltage (UCTE)</td>\n",
       "      <td>market for electri</td>\n",
       "      <td>0.000028</td>\n",
       "      <td>17197</td>\n",
       "      <td>2448</td>\n",
       "      <td>7</td>\n",
       "      <td>0.000022</td>\n",
       "    </tr>\n",
       "    <tr>\n",
       "      <th>65</th>\n",
       "      <td>8136-16404-18854-11726-19107-5826</td>\n",
       "      <td>transport, freight, lorry 16-32 metric ton, EU...</td>\n",
       "      <td>8136-16404-18854-11726-19107</td>\n",
       "      <td>market for transport, freight, lorry 16-32 met...</td>\n",
       "      <td>transport, freight</td>\n",
       "      <td>0.010945</td>\n",
       "      <td>5826</td>\n",
       "      <td>19107</td>\n",
       "      <td>6</td>\n",
       "      <td>0.008253</td>\n",
       "    </tr>\n",
       "    <tr>\n",
       "      <th>67</th>\n",
       "      <td>8136-16404-12886-18640-17955-7456</td>\n",
       "      <td>transport, freight, lorry 16-32 metric ton, EU...</td>\n",
       "      <td>8136-16404-12886-18640-17955</td>\n",
       "      <td>market for transport, freight, lorry 16-32 met...</td>\n",
       "      <td>transport, freight</td>\n",
       "      <td>0.010812</td>\n",
       "      <td>7456</td>\n",
       "      <td>17955</td>\n",
       "      <td>6</td>\n",
       "      <td>0.006259</td>\n",
       "    </tr>\n",
       "    <tr>\n",
       "      <th>68</th>\n",
       "      <td>8136-16404-12886-18640-17955-7456-17348</td>\n",
       "      <td>market group for diesel, low-sulfur (RER)</td>\n",
       "      <td>8136-16404-12886-18640-17955-7456</td>\n",
       "      <td>transport, freight, lorry 16-32 metric ton, EU...</td>\n",
       "      <td>market group for d</td>\n",
       "      <td>0.001364</td>\n",
       "      <td>17348</td>\n",
       "      <td>7456</td>\n",
       "      <td>7</td>\n",
       "      <td>0.000857</td>\n",
       "    </tr>\n",
       "    <tr>\n",
       "      <th>69</th>\n",
       "      <td>8136-16404-18854-11726-1242-4171</td>\n",
       "      <td>transport, freight, lorry &gt;32 metric ton, EURO...</td>\n",
       "      <td>8136-16404-18854-11726-1242</td>\n",
       "      <td>market for transport, freight, lorry &gt;32 metri...</td>\n",
       "      <td>transport, freight</td>\n",
       "      <td>0.010532</td>\n",
       "      <td>4171</td>\n",
       "      <td>1242</td>\n",
       "      <td>6</td>\n",
       "      <td>0.007941</td>\n",
       "    </tr>\n",
       "    <tr>\n",
       "      <th>71</th>\n",
       "      <td>8136-16404-18854-11250-15976-1785</td>\n",
       "      <td>transport, freight, lorry &gt;32 metric ton, EURO...</td>\n",
       "      <td>8136-16404-18854-11250-15976</td>\n",
       "      <td>market for transport, freight, lorry &gt;32 metri...</td>\n",
       "      <td>transport, freight</td>\n",
       "      <td>0.009579</td>\n",
       "      <td>1785</td>\n",
       "      <td>15976</td>\n",
       "      <td>6</td>\n",
       "      <td>0.007222</td>\n",
       "    </tr>\n",
       "    <tr>\n",
       "      <th>73</th>\n",
       "      <td>8136-16404-18854-11250-15054-19478</td>\n",
       "      <td>transport, freight, lorry 16-32 metric ton, EU...</td>\n",
       "      <td>8136-16404-18854-11250-15054</td>\n",
       "      <td>market for transport, freight, lorry 16-32 met...</td>\n",
       "      <td>transport, freight</td>\n",
       "      <td>0.008932</td>\n",
       "      <td>19478</td>\n",
       "      <td>15054</td>\n",
       "      <td>6</td>\n",
       "      <td>0.006735</td>\n",
       "    </tr>\n",
       "    <tr>\n",
       "      <th>75</th>\n",
       "      <td>8136-16404-12886-5616-9425</td>\n",
       "      <td>diesel, burned in building machine (GLO)</td>\n",
       "      <td>8136-16404-12886-5616</td>\n",
       "      <td>market for diesel, burned in building machine ...</td>\n",
       "      <td>diesel, burned in</td>\n",
       "      <td>0.007705</td>\n",
       "      <td>9425</td>\n",
       "      <td>5616</td>\n",
       "      <td>5</td>\n",
       "      <td>0.003757</td>\n",
       "    </tr>\n",
       "  </tbody>\n",
       "</table>\n",
       "</div>"
      ],
      "text/plain": [
       "                                              ids  \\\n",
       "11                         8136-16404-18854-11250   \n",
       "12                         8136-16404-18854-11726   \n",
       "20                                 8136-9946-3149   \n",
       "21                                 8136-9946-3164   \n",
       "23                                 8136-9804-2613   \n",
       "24                                8136-9804-14714   \n",
       "25                                8136-9804-18854   \n",
       "26                                8136-14409-5074   \n",
       "28                     8136-14409-5074-17197-7902   \n",
       "29                    8136-16404-12886-18640-9804   \n",
       "30                   8136-16404-12886-18640-17348   \n",
       "31                   8136-16404-12886-18640-17955   \n",
       "46                    8136-16404-12886-11168-9804   \n",
       "47                   8136-16404-12886-11168-17348   \n",
       "48                   8136-16404-12886-11168-17955   \n",
       "49             8136-16404-12886-18640-17348-16400   \n",
       "54                      8136-4040-11927-8042-5727   \n",
       "55                     8136-4040-11927-8042-14409   \n",
       "56        8136-16404-12886-18640-17348-16400-9497   \n",
       "57       8136-16404-12886-18640-17348-16400-18854   \n",
       "58   8136-16404-12886-18640-17348-16400-9497-9946   \n",
       "59  8136-16404-12886-18640-17348-16400-9497-11349   \n",
       "63          8136-14409-5074-17197-7902-2448-10090   \n",
       "64          8136-14409-5074-17197-7902-2448-17197   \n",
       "65              8136-16404-18854-11726-19107-5826   \n",
       "67              8136-16404-12886-18640-17955-7456   \n",
       "68        8136-16404-12886-18640-17955-7456-17348   \n",
       "69               8136-16404-18854-11726-1242-4171   \n",
       "71              8136-16404-18854-11250-15976-1785   \n",
       "73             8136-16404-18854-11250-15054-19478   \n",
       "75                     8136-16404-12886-5616-9425   \n",
       "\n",
       "                                                label  \\\n",
       "11  transport, freight, lorry, all sizes, EURO4 to...   \n",
       "12  transport, freight, lorry, all sizes, EURO3 to...   \n",
       "20                   zeolite production, powder (RoW)   \n",
       "21                   zeolite production, powder (RER)   \n",
       "23  treatment of waste mineral oil, hazardous wast...   \n",
       "24  treatment of waste mineral oil, hazardous wast...   \n",
       "25  market for transport, freight, lorry, unspecif...   \n",
       "26  electricity voltage transformation from high t...   \n",
       "28  market group for electricity, high voltage (EN...   \n",
       "29                  market for waste mineral oil (CH)   \n",
       "30          market group for diesel, low-sulfur (RER)   \n",
       "31  market for transport, freight, lorry 16-32 met...   \n",
       "46                  market for waste mineral oil (CH)   \n",
       "47          market group for diesel, low-sulfur (RER)   \n",
       "48  market for transport, freight, lorry 16-32 met...   \n",
       "49  market for diesel, low-sulfur (Europe without ...   \n",
       "54  market group for electricity, medium voltage (...   \n",
       "55        market for electricity, medium voltage (CH)   \n",
       "56  diesel production, low-sulfur, petroleum refin...   \n",
       "57  market for transport, freight, lorry, unspecif...   \n",
       "58                   market for zeolite, powder (GLO)   \n",
       "59                         market for petroleum (GLO)   \n",
       "63          market for electricity, high voltage (DE)   \n",
       "64          market for electricity, high voltage (CH)   \n",
       "65  transport, freight, lorry 16-32 metric ton, EU...   \n",
       "67  transport, freight, lorry 16-32 metric ton, EU...   \n",
       "68          market group for diesel, low-sulfur (RER)   \n",
       "69  transport, freight, lorry >32 metric ton, EURO...   \n",
       "71  transport, freight, lorry >32 metric ton, EURO...   \n",
       "73  transport, freight, lorry 16-32 metric ton, EU...   \n",
       "75           diesel, burned in building machine (GLO)   \n",
       "\n",
       "                                 parent_ids  \\\n",
       "11                         8136-16404-18854   \n",
       "12                         8136-16404-18854   \n",
       "20                                8136-9946   \n",
       "21                                8136-9946   \n",
       "23                                8136-9804   \n",
       "24                                8136-9804   \n",
       "25                                8136-9804   \n",
       "26                               8136-14409   \n",
       "28                    8136-14409-5074-17197   \n",
       "29                   8136-16404-12886-18640   \n",
       "30                   8136-16404-12886-18640   \n",
       "31                   8136-16404-12886-18640   \n",
       "46                   8136-16404-12886-11168   \n",
       "47                   8136-16404-12886-11168   \n",
       "48                   8136-16404-12886-11168   \n",
       "49             8136-16404-12886-18640-17348   \n",
       "54                     8136-4040-11927-8042   \n",
       "55                     8136-4040-11927-8042   \n",
       "56       8136-16404-12886-18640-17348-16400   \n",
       "57       8136-16404-12886-18640-17348-16400   \n",
       "58  8136-16404-12886-18640-17348-16400-9497   \n",
       "59  8136-16404-12886-18640-17348-16400-9497   \n",
       "63          8136-14409-5074-17197-7902-2448   \n",
       "64          8136-14409-5074-17197-7902-2448   \n",
       "65             8136-16404-18854-11726-19107   \n",
       "67             8136-16404-12886-18640-17955   \n",
       "68        8136-16404-12886-18640-17955-7456   \n",
       "69              8136-16404-18854-11726-1242   \n",
       "71             8136-16404-18854-11250-15976   \n",
       "73             8136-16404-18854-11250-15054   \n",
       "75                    8136-16404-12886-5616   \n",
       "\n",
       "                                               parent        labels_short  \\\n",
       "11  market for transport, freight, lorry, unspecif...  transport, freight   \n",
       "12  market for transport, freight, lorry, unspecif...  transport, freight   \n",
       "20                   market for zeolite, powder (GLO)  zeolite production   \n",
       "21                   market for zeolite, powder (GLO)  zeolite production   \n",
       "23                  market for waste mineral oil (CH)  treatment of waste   \n",
       "24                  market for waste mineral oil (CH)  treatment of waste   \n",
       "25                  market for waste mineral oil (CH)  market for transpo   \n",
       "26        market for electricity, medium voltage (CH)  electricity voltag   \n",
       "28          market for electricity, high voltage (CH)  market group for e   \n",
       "29  wood chipping, mobile chipper, at forest road ...  market for waste m   \n",
       "30  wood chipping, mobile chipper, at forest road ...  market group for d   \n",
       "31  wood chipping, mobile chipper, at forest road ...  market for transpo   \n",
       "46                            skidding, skidder (RER)  market for waste m   \n",
       "47                            skidding, skidder (RER)  market group for d   \n",
       "48                            skidding, skidder (RER)  market for transpo   \n",
       "49          market group for diesel, low-sulfur (RER)  market for diesel,   \n",
       "54  market group for electricity, medium voltage (...  market group for e   \n",
       "55  market group for electricity, medium voltage (...  market for electri   \n",
       "56  market for diesel, low-sulfur (Europe without ...  diesel production,   \n",
       "57  market for diesel, low-sulfur (Europe without ...  market for transpo   \n",
       "58  diesel production, low-sulfur, petroleum refin...  market for zeolite   \n",
       "59  diesel production, low-sulfur, petroleum refin...  market for petrole   \n",
       "63  market group for electricity, high voltage (UCTE)  market for electri   \n",
       "64  market group for electricity, high voltage (UCTE)  market for electri   \n",
       "65  market for transport, freight, lorry 16-32 met...  transport, freight   \n",
       "67  market for transport, freight, lorry 16-32 met...  transport, freight   \n",
       "68  transport, freight, lorry 16-32 metric ton, EU...  market group for d   \n",
       "69  market for transport, freight, lorry >32 metri...  transport, freight   \n",
       "71  market for transport, freight, lorry >32 metri...  transport, freight   \n",
       "73  market for transport, freight, lorry 16-32 met...  transport, freight   \n",
       "75  market for diesel, burned in building machine ...  diesel, burned in    \n",
       "\n",
       "      impact act_id parent_act_id  depth  scaled_impact  \n",
       "11  0.021805  11250         18854      4       0.016441  \n",
       "12  0.026432  11726         18854      4       0.019930  \n",
       "20  0.027940   3149          9946      3       0.025143  \n",
       "21  0.012604   3164          9946      3       0.011342  \n",
       "23  0.018200   2613          9804      3       0.016373  \n",
       "24  0.018200  14714          9804      3       0.016373  \n",
       "25  0.000050  18854          9804      3       0.000045  \n",
       "26  0.031882   5074         14409      3       0.028566  \n",
       "28  0.014764   7902         17197      5       0.011895  \n",
       "29  0.000007   9804         18640      5       0.000004  \n",
       "30  0.003662  17348         18640      5       0.002301  \n",
       "31  0.004023  17955         18640      5       0.002528  \n",
       "46  0.000008   9804         11168      5       0.000005  \n",
       "47  0.002187  17348         11168      5       0.001377  \n",
       "48  0.002231  17955         11168      5       0.001404  \n",
       "49  0.014099  16400         17348      6       0.003826  \n",
       "54  0.016662   5727          8042      5       0.007186  \n",
       "55  0.000030  14409          8042      5       0.000013  \n",
       "56  0.013464   9497         16400      7       0.008460  \n",
       "57  0.000187  18854         16400      7       0.000117  \n",
       "58  0.000005   9946          9497      8       0.000001  \n",
       "59  0.007191  11349          9497      8       0.001951  \n",
       "63  0.003396  10090          2448      7       0.002736  \n",
       "64  0.000028  17197          2448      7       0.000022  \n",
       "65  0.010945   5826         19107      6       0.008253  \n",
       "67  0.010812   7456         17955      6       0.006259  \n",
       "68  0.001364  17348          7456      7       0.000857  \n",
       "69  0.010532   4171          1242      6       0.007941  \n",
       "71  0.009579   1785         15976      6       0.007222  \n",
       "73  0.008932  19478         15054      6       0.006735  \n",
       "75  0.007705   9425          5616      5       0.003757  "
      ]
     },
     "metadata": {},
     "output_type": "display_data"
    }
   ],
   "source": [
    "df['act_id'] = df['ids'].apply(lambda x: x.split('-')[-1])\n",
    "df['parent_act_id'] = df['parent_ids'].apply(lambda x: x.split('-')[-1])\n",
    "df['depth'] = df['ids'].apply(lambda x: len(x.split('-')))\n",
    "df['scaled_impact'] = df['impact']\n",
    "grouped = df.groupby(\"act_id\")\n",
    "multi_parent_sum = grouped['impact'].sum()\n",
    "multi_parents = pd.concat(g for _, g in df.groupby(\"act_id\") if len(g) > 1).sort_values(by='depth')\n",
    "multi_parents['impact_sum'] = multi_parents['act_id'].apply(lambda x: multi_parent_sum[x])\n",
    "'8136' in multi_parents['parent_ids'].values\n",
    "\n",
    "def scale_children(multi_parent_id, scale):\n",
    "    rows = df.eval('parent_ids == @multi_parent_id')\n",
    "    df.loc[rows, 'scaled_impact'] *= scale\n",
    "    new_parents = df.loc[rows, 'ids']\n",
    "    for new_parent in new_parents:\n",
    "        new_children = df.query('parent_ids == @new_parent')['ids']\n",
    "        for new_child in new_children:\n",
    "            scale_children(new_child, scale)\n",
    "\n",
    "#display(multi_parents)\n",
    "multi_parents_numpy = multi_parents.to_numpy()\n",
    "for parent in multi_parents_numpy:\n",
    "    #print(parent)\n",
    "    parent_id = parent[0]\n",
    "    impact = parent[5]\n",
    "    impact_sum = parent[10]\n",
    "    scale_children(parent_id, impact/impact_sum*0.9)\n",
    "children = df.query('scaled_impact != impact')\n",
    "display(children)"
   ]
  },
  {
   "cell_type": "code",
   "execution_count": 47,
   "metadata": {},
   "outputs": [],
   "source": [
    "data = df.to_dict(orient='list')"
   ]
  },
  {
   "cell_type": "code",
   "execution_count": 48,
   "metadata": {},
   "outputs": [
    {
     "data": {
      "application/vnd.plotly.v1+json": {
       "config": {
        "plotlyServerURL": "https://plot.ly"
       },
       "data": [
        {
         "branchvalues": "total",
         "hovertext": [
          "biomethane production, high pressure from synthetic gas, wood, fluidised technology (CH)",
          "market for wood chips, dry, measured as dry mass (RER)",
          "market for waste mineral oil (CH)",
          "market for zeolite, powder (GLO)",
          "esterification of rape oil (CH)",
          "market for electricity, medium voltage (CH)",
          "market for charcoal (GLO)",
          "market for wood chips, wet, measured as dry mass (CH)",
          "hardwood forestry, mixed species, sustainable forest management (CH)",
          "softwood forestry, mixed species, sustainable forest management (CH)",
          "market for transport, freight, lorry, unspecified (RER)",
          "transport, freight, lorry, all sizes, EURO4 to generic market for transport, freight, lorry, unspecified (RER)",
          "transport, freight, lorry, all sizes, EURO3 to generic market for transport, freight, lorry, unspecified (RER)",
          "market for diesel, burned in building machine (GLO)",
          "skidding, skidder (RER)",
          "power sawing, without catalytic converter (RER)",
          "wood chipping, mobile chipper, at forest road (RER)",
          "plywood production (RER)",
          "three and five layered board production (RER)",
          "market for transport, freight, lorry, unspecified (RER)",
          "zeolite production, powder (RoW)",
          "zeolite production, powder (RER)",
          "charcoal production (GLO)",
          "treatment of waste mineral oil, hazardous waste incineration, with energy recovery (CH)",
          "treatment of waste mineral oil, hazardous waste incineration (CH)",
          "market for transport, freight, lorry, unspecified (RER)",
          "electricity voltage transformation from high to medium voltage (CH)",
          "market for electricity, high voltage (CH)",
          "market group for electricity, high voltage (ENTSO-E)",
          "market for waste mineral oil (CH)",
          "market group for diesel, low-sulfur (RER)",
          "market for transport, freight, lorry 16-32 metric ton, EURO5 (RER)",
          "market for diesel, burned in building machine (GLO)",
          "skidding, skidder (RER)",
          "power sawing, without catalytic converter (RER)",
          "wood chipping, mobile chipper, at forest road (RER)",
          "market for transport, freight, lorry >32 metric ton, EURO3 (RER)",
          "market for transport, freight, lorry 16-32 metric ton, EURO3 (RER)",
          "market for rape oil, crude (CH)",
          "market for electricity, medium voltage (CH)",
          "rape oil mill operation (CH)",
          "market for rape seed, Swiss integrated production (GLO)",
          "market for electricity, medium voltage (CH)",
          "rape seed production, Swiss integrated production, intensive (CH)",
          "market for transport, freight, lorry 16-32 metric ton, EURO4 (RER)",
          "market for transport, freight, lorry >32 metric ton, EURO4 (RER)",
          "market for waste mineral oil (CH)",
          "market group for diesel, low-sulfur (RER)",
          "market for transport, freight, lorry 16-32 metric ton, EURO5 (RER)",
          "market for diesel, low-sulfur (Europe without Switzerland)",
          "market group for electricity, high voltage (UCTE)",
          "market for diesel, burned in building machine (GLO)",
          "market group for electricity, medium voltage (RER)",
          "market for waste mineral oil (CH)",
          "market group for electricity, medium voltage (Europe without Switzerland)",
          "market for electricity, medium voltage (CH)",
          "diesel production, low-sulfur, petroleum refinery operation (Europe without Switzerland)",
          "market for transport, freight, lorry, unspecified (RER)",
          "market for zeolite, powder (GLO)",
          "market for petroleum (GLO)",
          "market for diesel, burned in building machine (GLO)",
          "market group for electricity, medium voltage (RER)",
          "market for waste mineral oil (CH)",
          "market for electricity, high voltage (DE)",
          "market for electricity, high voltage (CH)",
          "transport, freight, lorry 16-32 metric ton, EURO3 (RER)",
          "market group for diesel, low-sulfur (RER)",
          "transport, freight, lorry 16-32 metric ton, EURO5 (RER)",
          "market group for diesel, low-sulfur (RER)",
          "transport, freight, lorry >32 metric ton, EURO3 (RER)",
          "market group for diesel, low-sulfur (RER)",
          "transport, freight, lorry >32 metric ton, EURO4 (RER)",
          "market group for diesel, low-sulfur (RER)",
          "transport, freight, lorry 16-32 metric ton, EURO4 (RER)",
          "market group for diesel, low-sulfur (RER)",
          "diesel, burned in building machine (GLO)",
          "market for waste mineral oil (CH)"
         ],
         "ids": [
          "8136",
          "8136-4040",
          "8136-9804",
          "8136-9946",
          "8136-13946",
          "8136-14409",
          "8136-15337",
          "8136-16404",
          "8136-16404-12886",
          "8136-16404-15009",
          "8136-16404-18854",
          "8136-16404-18854-11250",
          "8136-16404-18854-11726",
          "8136-16404-12886-5616",
          "8136-16404-12886-11168",
          "8136-16404-12886-18139",
          "8136-16404-12886-18640",
          "8136-4040-9835",
          "8136-4040-11927",
          "8136-4040-18854",
          "8136-9946-3149",
          "8136-9946-3164",
          "8136-15337-8000",
          "8136-9804-2613",
          "8136-9804-14714",
          "8136-9804-18854",
          "8136-14409-5074",
          "8136-14409-5074-17197",
          "8136-14409-5074-17197-7902",
          "8136-16404-12886-18640-9804",
          "8136-16404-12886-18640-17348",
          "8136-16404-12886-18640-17955",
          "8136-16404-15009-5616",
          "8136-16404-15009-11168",
          "8136-16404-15009-18139",
          "8136-16404-15009-18640",
          "8136-16404-18854-11726-1242",
          "8136-16404-18854-11726-19107",
          "8136-13946-11864",
          "8136-13946-14409",
          "8136-13946-11864-7881",
          "8136-13946-11864-7881-6411",
          "8136-13946-11864-7881-14409",
          "8136-13946-11864-7881-6411-1198",
          "8136-16404-18854-11250-15054",
          "8136-16404-18854-11250-15976",
          "8136-16404-12886-11168-9804",
          "8136-16404-12886-11168-17348",
          "8136-16404-12886-11168-17955",
          "8136-16404-12886-18640-17348-16400",
          "8136-14409-5074-17197-7902-2448",
          "8136-4040-11927-5616",
          "8136-4040-11927-8042",
          "8136-4040-11927-9804",
          "8136-4040-11927-8042-5727",
          "8136-4040-11927-8042-14409",
          "8136-16404-12886-18640-17348-16400-9497",
          "8136-16404-12886-18640-17348-16400-18854",
          "8136-16404-12886-18640-17348-16400-9497-9946",
          "8136-16404-12886-18640-17348-16400-9497-11349",
          "8136-4040-9835-5616",
          "8136-4040-9835-8042",
          "8136-4040-9835-9804",
          "8136-14409-5074-17197-7902-2448-10090",
          "8136-14409-5074-17197-7902-2448-17197",
          "8136-16404-18854-11726-19107-5826",
          "8136-16404-18854-11726-19107-5826-17348",
          "8136-16404-12886-18640-17955-7456",
          "8136-16404-12886-18640-17955-7456-17348",
          "8136-16404-18854-11726-1242-4171",
          "8136-16404-18854-11726-1242-4171-17348",
          "8136-16404-18854-11250-15976-1785",
          "8136-16404-18854-11250-15976-1785-17348",
          "8136-16404-18854-11250-15054-19478",
          "8136-16404-18854-11250-15054-19478-17348",
          "8136-16404-12886-5616-9425",
          "8136-16404-12886-5616-9425-9804"
         ],
         "labels": [
          "biomethane product",
          "market for wood ch",
          "market for waste m",
          "market for zeolite",
          "esterification of ",
          "market for electri",
          "market for charcoa",
          "market for wood ch",
          "hardwood forestry,",
          "softwood forestry,",
          "market for transpo",
          "transport, freight",
          "transport, freight",
          "market for diesel,",
          "skidding, skidder ",
          "power sawing, with",
          "wood chipping, mob",
          "plywood production",
          "three and five lay",
          "market for transpo",
          "zeolite production",
          "zeolite production",
          "charcoal productio",
          "treatment of waste",
          "treatment of waste",
          "market for transpo",
          "electricity voltag",
          "market for electri",
          "market group for e",
          "market for waste m",
          "market group for d",
          "market for transpo",
          "market for diesel,",
          "skidding, skidder ",
          "power sawing, with",
          "wood chipping, mob",
          "market for transpo",
          "market for transpo",
          "market for rape oi",
          "market for electri",
          "rape oil mill oper",
          "market for rape se",
          "market for electri",
          "rape seed producti",
          "market for transpo",
          "market for transpo",
          "market for waste m",
          "market group for d",
          "market for transpo",
          "market for diesel,",
          "market group for e",
          "market for diesel,",
          "market group for e",
          "market for waste m",
          "market group for e",
          "market for electri",
          "diesel production,",
          "market for transpo",
          "market for zeolite",
          "market for petrole",
          "market for diesel,",
          "market group for e",
          "market for waste m",
          "market for electri",
          "market for electri",
          "transport, freight",
          "market group for d",
          "transport, freight",
          "market group for d",
          "transport, freight",
          "market group for d",
          "transport, freight",
          "market group for d",
          "transport, freight",
          "market group for d",
          "diesel, burned in ",
          "market for waste m"
         ],
         "parents": [
          "",
          "8136",
          "8136",
          "8136",
          "8136",
          "8136",
          "8136",
          "8136",
          "8136-16404",
          "8136-16404",
          "8136-16404",
          "8136-16404-18854",
          "8136-16404-18854",
          "8136-16404-12886",
          "8136-16404-12886",
          "8136-16404-12886",
          "8136-16404-12886",
          "8136-4040",
          "8136-4040",
          "8136-4040",
          "8136-9946",
          "8136-9946",
          "8136-15337",
          "8136-9804",
          "8136-9804",
          "8136-9804",
          "8136-14409",
          "8136-14409-5074",
          "8136-14409-5074-17197",
          "8136-16404-12886-18640",
          "8136-16404-12886-18640",
          "8136-16404-12886-18640",
          "8136-16404-15009",
          "8136-16404-15009",
          "8136-16404-15009",
          "8136-16404-15009",
          "8136-16404-18854-11726",
          "8136-16404-18854-11726",
          "8136-13946",
          "8136-13946",
          "8136-13946-11864",
          "8136-13946-11864-7881",
          "8136-13946-11864-7881",
          "8136-13946-11864-7881-6411",
          "8136-16404-18854-11250",
          "8136-16404-18854-11250",
          "8136-16404-12886-11168",
          "8136-16404-12886-11168",
          "8136-16404-12886-11168",
          "8136-16404-12886-18640-17348",
          "8136-14409-5074-17197-7902",
          "8136-4040-11927",
          "8136-4040-11927",
          "8136-4040-11927",
          "8136-4040-11927-8042",
          "8136-4040-11927-8042",
          "8136-16404-12886-18640-17348-16400",
          "8136-16404-12886-18640-17348-16400",
          "8136-16404-12886-18640-17348-16400-9497",
          "8136-16404-12886-18640-17348-16400-9497",
          "8136-4040-9835",
          "8136-4040-9835",
          "8136-4040-9835",
          "8136-14409-5074-17197-7902-2448",
          "8136-14409-5074-17197-7902-2448",
          "8136-16404-18854-11726-19107",
          "8136-16404-18854-11726-19107-5826",
          "8136-16404-12886-18640-17955",
          "8136-16404-12886-18640-17955-7456",
          "8136-16404-18854-11726-1242",
          "8136-16404-18854-11726-1242-4171",
          "8136-16404-18854-11250-15976",
          "8136-16404-18854-11250-15976-1785",
          "8136-16404-18854-11250-15054",
          "8136-16404-18854-11250-15054-19478",
          "8136-16404-12886-5616",
          "8136-16404-12886-5616-9425"
         ],
         "type": "sunburst",
         "values": [
          0.3894013422607055,
          0.05528080225142889,
          0.03637639389245605,
          0.041284452145573435,
          0.024763971950359457,
          0.03222458379946823,
          0.04035365414536638,
          0.13049215037825085,
          0.056930126865010644,
          0.027438230635963234,
          0.039831890673988284,
          0.01644075741185464,
          0.019929784179035355,
          0.0005868337525025375,
          0.012188244794038653,
          0.013095322471894603,
          0.021585532185154365,
          0.016414664394850672,
          0.015851886762394553,
          0.0074774266475241555,
          0.025142615806088578,
          0.01134186803150138,
          0.039980237856995476,
          0.01637258140670926,
          0.016372581406709254,
          0.00004457326857990765,
          0.02856641603802644,
          0.031882447421830745,
          0.011895227201044188,
          0.000004320252154209998,
          0.0023009408945144543,
          0.0025276687435642374,
          0.0002037819888010592,
          0.005241456949487797,
          0.008987509753921834,
          0.009331689760309902,
          0.010530907082788997,
          0.010930738902322707,
          0.022719466093777393,
          0.00004380317251872862,
          0.022685529766465953,
          0.02225833315172897,
          0.00007035782220407418,
          0.015010791222155097,
          0.008932011106891135,
          0.009578664184027832,
          0.000004868250006890245,
          0.0013766869269371132,
          0.001404030587079711,
          0.0038257930563474975,
          0.012790880178732224,
          0.00028298283866337945,
          0.005378140011418525,
          0.0000013773852411745988,
          0.007186191168920123,
          0.00001293458450960503,
          0.008460398488993569,
          0.00011720912557072996,
          0.0000014093840757798172,
          0.001951270521907096,
          0.000009445863517403243,
          0.005844514215661111,
          4.140389678620036e-7,
          0.002736066231190981,
          0.00002241460132420207,
          0.008252724330379473,
          0.001394862750952226,
          0.006259414688496261,
          0.000857130138127002,
          0.007940911442319733,
          0.0012621609916273649,
          0.007222326174345776,
          0.0011401983683559504,
          0.006734724857446752,
          0.001134880306536249,
          0.003757128595489213,
          7.253774929961806e-7
         ]
        }
       ],
       "layout": {
        "template": {
         "data": {
          "bar": [
           {
            "error_x": {
             "color": "#2a3f5f"
            },
            "error_y": {
             "color": "#2a3f5f"
            },
            "marker": {
             "line": {
              "color": "#E5ECF6",
              "width": 0.5
             },
             "pattern": {
              "fillmode": "overlay",
              "size": 10,
              "solidity": 0.2
             }
            },
            "type": "bar"
           }
          ],
          "barpolar": [
           {
            "marker": {
             "line": {
              "color": "#E5ECF6",
              "width": 0.5
             },
             "pattern": {
              "fillmode": "overlay",
              "size": 10,
              "solidity": 0.2
             }
            },
            "type": "barpolar"
           }
          ],
          "carpet": [
           {
            "aaxis": {
             "endlinecolor": "#2a3f5f",
             "gridcolor": "white",
             "linecolor": "white",
             "minorgridcolor": "white",
             "startlinecolor": "#2a3f5f"
            },
            "baxis": {
             "endlinecolor": "#2a3f5f",
             "gridcolor": "white",
             "linecolor": "white",
             "minorgridcolor": "white",
             "startlinecolor": "#2a3f5f"
            },
            "type": "carpet"
           }
          ],
          "choropleth": [
           {
            "colorbar": {
             "outlinewidth": 0,
             "ticks": ""
            },
            "type": "choropleth"
           }
          ],
          "contour": [
           {
            "colorbar": {
             "outlinewidth": 0,
             "ticks": ""
            },
            "colorscale": [
             [
              0,
              "#0d0887"
             ],
             [
              0.1111111111111111,
              "#46039f"
             ],
             [
              0.2222222222222222,
              "#7201a8"
             ],
             [
              0.3333333333333333,
              "#9c179e"
             ],
             [
              0.4444444444444444,
              "#bd3786"
             ],
             [
              0.5555555555555556,
              "#d8576b"
             ],
             [
              0.6666666666666666,
              "#ed7953"
             ],
             [
              0.7777777777777778,
              "#fb9f3a"
             ],
             [
              0.8888888888888888,
              "#fdca26"
             ],
             [
              1,
              "#f0f921"
             ]
            ],
            "type": "contour"
           }
          ],
          "contourcarpet": [
           {
            "colorbar": {
             "outlinewidth": 0,
             "ticks": ""
            },
            "type": "contourcarpet"
           }
          ],
          "heatmap": [
           {
            "colorbar": {
             "outlinewidth": 0,
             "ticks": ""
            },
            "colorscale": [
             [
              0,
              "#0d0887"
             ],
             [
              0.1111111111111111,
              "#46039f"
             ],
             [
              0.2222222222222222,
              "#7201a8"
             ],
             [
              0.3333333333333333,
              "#9c179e"
             ],
             [
              0.4444444444444444,
              "#bd3786"
             ],
             [
              0.5555555555555556,
              "#d8576b"
             ],
             [
              0.6666666666666666,
              "#ed7953"
             ],
             [
              0.7777777777777778,
              "#fb9f3a"
             ],
             [
              0.8888888888888888,
              "#fdca26"
             ],
             [
              1,
              "#f0f921"
             ]
            ],
            "type": "heatmap"
           }
          ],
          "heatmapgl": [
           {
            "colorbar": {
             "outlinewidth": 0,
             "ticks": ""
            },
            "colorscale": [
             [
              0,
              "#0d0887"
             ],
             [
              0.1111111111111111,
              "#46039f"
             ],
             [
              0.2222222222222222,
              "#7201a8"
             ],
             [
              0.3333333333333333,
              "#9c179e"
             ],
             [
              0.4444444444444444,
              "#bd3786"
             ],
             [
              0.5555555555555556,
              "#d8576b"
             ],
             [
              0.6666666666666666,
              "#ed7953"
             ],
             [
              0.7777777777777778,
              "#fb9f3a"
             ],
             [
              0.8888888888888888,
              "#fdca26"
             ],
             [
              1,
              "#f0f921"
             ]
            ],
            "type": "heatmapgl"
           }
          ],
          "histogram": [
           {
            "marker": {
             "pattern": {
              "fillmode": "overlay",
              "size": 10,
              "solidity": 0.2
             }
            },
            "type": "histogram"
           }
          ],
          "histogram2d": [
           {
            "colorbar": {
             "outlinewidth": 0,
             "ticks": ""
            },
            "colorscale": [
             [
              0,
              "#0d0887"
             ],
             [
              0.1111111111111111,
              "#46039f"
             ],
             [
              0.2222222222222222,
              "#7201a8"
             ],
             [
              0.3333333333333333,
              "#9c179e"
             ],
             [
              0.4444444444444444,
              "#bd3786"
             ],
             [
              0.5555555555555556,
              "#d8576b"
             ],
             [
              0.6666666666666666,
              "#ed7953"
             ],
             [
              0.7777777777777778,
              "#fb9f3a"
             ],
             [
              0.8888888888888888,
              "#fdca26"
             ],
             [
              1,
              "#f0f921"
             ]
            ],
            "type": "histogram2d"
           }
          ],
          "histogram2dcontour": [
           {
            "colorbar": {
             "outlinewidth": 0,
             "ticks": ""
            },
            "colorscale": [
             [
              0,
              "#0d0887"
             ],
             [
              0.1111111111111111,
              "#46039f"
             ],
             [
              0.2222222222222222,
              "#7201a8"
             ],
             [
              0.3333333333333333,
              "#9c179e"
             ],
             [
              0.4444444444444444,
              "#bd3786"
             ],
             [
              0.5555555555555556,
              "#d8576b"
             ],
             [
              0.6666666666666666,
              "#ed7953"
             ],
             [
              0.7777777777777778,
              "#fb9f3a"
             ],
             [
              0.8888888888888888,
              "#fdca26"
             ],
             [
              1,
              "#f0f921"
             ]
            ],
            "type": "histogram2dcontour"
           }
          ],
          "mesh3d": [
           {
            "colorbar": {
             "outlinewidth": 0,
             "ticks": ""
            },
            "type": "mesh3d"
           }
          ],
          "parcoords": [
           {
            "line": {
             "colorbar": {
              "outlinewidth": 0,
              "ticks": ""
             }
            },
            "type": "parcoords"
           }
          ],
          "pie": [
           {
            "automargin": true,
            "type": "pie"
           }
          ],
          "scatter": [
           {
            "fillpattern": {
             "fillmode": "overlay",
             "size": 10,
             "solidity": 0.2
            },
            "type": "scatter"
           }
          ],
          "scatter3d": [
           {
            "line": {
             "colorbar": {
              "outlinewidth": 0,
              "ticks": ""
             }
            },
            "marker": {
             "colorbar": {
              "outlinewidth": 0,
              "ticks": ""
             }
            },
            "type": "scatter3d"
           }
          ],
          "scattercarpet": [
           {
            "marker": {
             "colorbar": {
              "outlinewidth": 0,
              "ticks": ""
             }
            },
            "type": "scattercarpet"
           }
          ],
          "scattergeo": [
           {
            "marker": {
             "colorbar": {
              "outlinewidth": 0,
              "ticks": ""
             }
            },
            "type": "scattergeo"
           }
          ],
          "scattergl": [
           {
            "marker": {
             "colorbar": {
              "outlinewidth": 0,
              "ticks": ""
             }
            },
            "type": "scattergl"
           }
          ],
          "scattermapbox": [
           {
            "marker": {
             "colorbar": {
              "outlinewidth": 0,
              "ticks": ""
             }
            },
            "type": "scattermapbox"
           }
          ],
          "scatterpolar": [
           {
            "marker": {
             "colorbar": {
              "outlinewidth": 0,
              "ticks": ""
             }
            },
            "type": "scatterpolar"
           }
          ],
          "scatterpolargl": [
           {
            "marker": {
             "colorbar": {
              "outlinewidth": 0,
              "ticks": ""
             }
            },
            "type": "scatterpolargl"
           }
          ],
          "scatterternary": [
           {
            "marker": {
             "colorbar": {
              "outlinewidth": 0,
              "ticks": ""
             }
            },
            "type": "scatterternary"
           }
          ],
          "surface": [
           {
            "colorbar": {
             "outlinewidth": 0,
             "ticks": ""
            },
            "colorscale": [
             [
              0,
              "#0d0887"
             ],
             [
              0.1111111111111111,
              "#46039f"
             ],
             [
              0.2222222222222222,
              "#7201a8"
             ],
             [
              0.3333333333333333,
              "#9c179e"
             ],
             [
              0.4444444444444444,
              "#bd3786"
             ],
             [
              0.5555555555555556,
              "#d8576b"
             ],
             [
              0.6666666666666666,
              "#ed7953"
             ],
             [
              0.7777777777777778,
              "#fb9f3a"
             ],
             [
              0.8888888888888888,
              "#fdca26"
             ],
             [
              1,
              "#f0f921"
             ]
            ],
            "type": "surface"
           }
          ],
          "table": [
           {
            "cells": {
             "fill": {
              "color": "#EBF0F8"
             },
             "line": {
              "color": "white"
             }
            },
            "header": {
             "fill": {
              "color": "#C8D4E3"
             },
             "line": {
              "color": "white"
             }
            },
            "type": "table"
           }
          ]
         },
         "layout": {
          "annotationdefaults": {
           "arrowcolor": "#2a3f5f",
           "arrowhead": 0,
           "arrowwidth": 1
          },
          "autotypenumbers": "strict",
          "coloraxis": {
           "colorbar": {
            "outlinewidth": 0,
            "ticks": ""
           }
          },
          "colorscale": {
           "diverging": [
            [
             0,
             "#8e0152"
            ],
            [
             0.1,
             "#c51b7d"
            ],
            [
             0.2,
             "#de77ae"
            ],
            [
             0.3,
             "#f1b6da"
            ],
            [
             0.4,
             "#fde0ef"
            ],
            [
             0.5,
             "#f7f7f7"
            ],
            [
             0.6,
             "#e6f5d0"
            ],
            [
             0.7,
             "#b8e186"
            ],
            [
             0.8,
             "#7fbc41"
            ],
            [
             0.9,
             "#4d9221"
            ],
            [
             1,
             "#276419"
            ]
           ],
           "sequential": [
            [
             0,
             "#0d0887"
            ],
            [
             0.1111111111111111,
             "#46039f"
            ],
            [
             0.2222222222222222,
             "#7201a8"
            ],
            [
             0.3333333333333333,
             "#9c179e"
            ],
            [
             0.4444444444444444,
             "#bd3786"
            ],
            [
             0.5555555555555556,
             "#d8576b"
            ],
            [
             0.6666666666666666,
             "#ed7953"
            ],
            [
             0.7777777777777778,
             "#fb9f3a"
            ],
            [
             0.8888888888888888,
             "#fdca26"
            ],
            [
             1,
             "#f0f921"
            ]
           ],
           "sequentialminus": [
            [
             0,
             "#0d0887"
            ],
            [
             0.1111111111111111,
             "#46039f"
            ],
            [
             0.2222222222222222,
             "#7201a8"
            ],
            [
             0.3333333333333333,
             "#9c179e"
            ],
            [
             0.4444444444444444,
             "#bd3786"
            ],
            [
             0.5555555555555556,
             "#d8576b"
            ],
            [
             0.6666666666666666,
             "#ed7953"
            ],
            [
             0.7777777777777778,
             "#fb9f3a"
            ],
            [
             0.8888888888888888,
             "#fdca26"
            ],
            [
             1,
             "#f0f921"
            ]
           ]
          },
          "colorway": [
           "#636efa",
           "#EF553B",
           "#00cc96",
           "#ab63fa",
           "#FFA15A",
           "#19d3f3",
           "#FF6692",
           "#B6E880",
           "#FF97FF",
           "#FECB52"
          ],
          "font": {
           "color": "#2a3f5f"
          },
          "geo": {
           "bgcolor": "white",
           "lakecolor": "white",
           "landcolor": "#E5ECF6",
           "showlakes": true,
           "showland": true,
           "subunitcolor": "white"
          },
          "hoverlabel": {
           "align": "left"
          },
          "hovermode": "closest",
          "mapbox": {
           "style": "light"
          },
          "paper_bgcolor": "white",
          "plot_bgcolor": "#E5ECF6",
          "polar": {
           "angularaxis": {
            "gridcolor": "white",
            "linecolor": "white",
            "ticks": ""
           },
           "bgcolor": "#E5ECF6",
           "radialaxis": {
            "gridcolor": "white",
            "linecolor": "white",
            "ticks": ""
           }
          },
          "scene": {
           "xaxis": {
            "backgroundcolor": "#E5ECF6",
            "gridcolor": "white",
            "gridwidth": 2,
            "linecolor": "white",
            "showbackground": true,
            "ticks": "",
            "zerolinecolor": "white"
           },
           "yaxis": {
            "backgroundcolor": "#E5ECF6",
            "gridcolor": "white",
            "gridwidth": 2,
            "linecolor": "white",
            "showbackground": true,
            "ticks": "",
            "zerolinecolor": "white"
           },
           "zaxis": {
            "backgroundcolor": "#E5ECF6",
            "gridcolor": "white",
            "gridwidth": 2,
            "linecolor": "white",
            "showbackground": true,
            "ticks": "",
            "zerolinecolor": "white"
           }
          },
          "shapedefaults": {
           "line": {
            "color": "#2a3f5f"
           }
          },
          "ternary": {
           "aaxis": {
            "gridcolor": "white",
            "linecolor": "white",
            "ticks": ""
           },
           "baxis": {
            "gridcolor": "white",
            "linecolor": "white",
            "ticks": ""
           },
           "bgcolor": "#E5ECF6",
           "caxis": {
            "gridcolor": "white",
            "linecolor": "white",
            "ticks": ""
           }
          },
          "title": {
           "x": 0.05
          },
          "xaxis": {
           "automargin": true,
           "gridcolor": "white",
           "linecolor": "white",
           "ticks": "",
           "title": {
            "standoff": 15
           },
           "zerolinecolor": "white",
           "zerolinewidth": 2
          },
          "yaxis": {
           "automargin": true,
           "gridcolor": "white",
           "linecolor": "white",
           "ticks": "",
           "title": {
            "standoff": 15
           },
           "zerolinecolor": "white",
           "zerolinewidth": 2
          }
         }
        }
       }
      }
     },
     "metadata": {},
     "output_type": "display_data"
    }
   ],
   "source": [
    "# there is an error here, we have to check.\n",
    "# This is an ugly hack to get all sums of children smaller than parents\n",
    "#data['value'][12] = 10\n",
    "fig =go.Figure(go.Sunburst(\n",
    "            #data,\n",
    "            ids=data['ids'],\n",
    "            labels=data['labels_short'],\n",
    "            parents=data['parent_ids'],\n",
    "            values=data['scaled_impact'],\n",
    "            branchvalues=\"total\",\n",
    "            #color='labels_short',\n",
    "            #color_continuous_scale='algae',\n",
    "            hovertext= data['label'],\n",
    "            #valueformat = '.0f',\n",
    "            #maxdepth=1\n",
    "        )\n",
    ")\n",
    "fig.show()"
   ]
  },
  {
   "cell_type": "code",
   "execution_count": 58,
   "metadata": {},
   "outputs": [
    {
     "data": {
      "text/html": [
       "<div>\n",
       "<style scoped>\n",
       "    .dataframe tbody tr th:only-of-type {\n",
       "        vertical-align: middle;\n",
       "    }\n",
       "\n",
       "    .dataframe tbody tr th {\n",
       "        vertical-align: top;\n",
       "    }\n",
       "\n",
       "    .dataframe thead th {\n",
       "        text-align: right;\n",
       "    }\n",
       "</style>\n",
       "<table border=\"1\" class=\"dataframe\">\n",
       "  <thead>\n",
       "    <tr style=\"text-align: right;\">\n",
       "      <th></th>\n",
       "      <th>label</th>\n",
       "      <th>parent</th>\n",
       "      <th>labels_short</th>\n",
       "      <th>value</th>\n",
       "    </tr>\n",
       "  </thead>\n",
       "  <tbody>\n",
       "    <tr>\n",
       "      <th>0</th>\n",
       "      <td>biomethane production, high pressure from synt...</td>\n",
       "      <td></td>\n",
       "      <td>biomethane product</td>\n",
       "      <td>0.004</td>\n",
       "    </tr>\n",
       "    <tr>\n",
       "      <th>1</th>\n",
       "      <td>market for wood chips, dry, measured as dry ma...</td>\n",
       "      <td>biomethane production, high pressure from synt...</td>\n",
       "      <td>market for wood ch</td>\n",
       "      <td>0.003</td>\n",
       "    </tr>\n",
       "    <tr>\n",
       "      <th>2</th>\n",
       "      <td>market for zeolite, powder (GLO)</td>\n",
       "      <td>biomethane production, high pressure from synt...</td>\n",
       "      <td>market for zeolite</td>\n",
       "      <td>0.000</td>\n",
       "    </tr>\n",
       "    <tr>\n",
       "      <th>3</th>\n",
       "      <td>market for charcoal (GLO)</td>\n",
       "      <td>biomethane production, high pressure from synt...</td>\n",
       "      <td>market for charcoa</td>\n",
       "      <td>0.000</td>\n",
       "    </tr>\n",
       "    <tr>\n",
       "      <th>4</th>\n",
       "      <td>market for wood chips, wet, measured as dry ma...</td>\n",
       "      <td>biomethane production, high pressure from synt...</td>\n",
       "      <td>market for wood ch</td>\n",
       "      <td>0.000</td>\n",
       "    </tr>\n",
       "    <tr>\n",
       "      <th>5</th>\n",
       "      <td>hardwood forestry, mixed species, sustainable ...</td>\n",
       "      <td>market for wood chips, wet, measured as dry ma...</td>\n",
       "      <td>hardwood forestry,</td>\n",
       "      <td>0.000</td>\n",
       "    </tr>\n",
       "    <tr>\n",
       "      <th>6</th>\n",
       "      <td>market for transport, freight, lorry, unspecif...</td>\n",
       "      <td>market for wood chips, wet, measured as dry ma...</td>\n",
       "      <td>market for transpo</td>\n",
       "      <td>0.000</td>\n",
       "    </tr>\n",
       "    <tr>\n",
       "      <th>7</th>\n",
       "      <td>market for transport, freight, lorry, unspecif...</td>\n",
       "      <td>market for wood chips, dry, measured as dry ma...</td>\n",
       "      <td>market for transpo</td>\n",
       "      <td>0.000</td>\n",
       "    </tr>\n",
       "    <tr>\n",
       "      <th>8</th>\n",
       "      <td>charcoal production (GLO)</td>\n",
       "      <td>market for charcoal (GLO)</td>\n",
       "      <td>charcoal productio</td>\n",
       "      <td>0.000</td>\n",
       "    </tr>\n",
       "  </tbody>\n",
       "</table>\n",
       "</div>"
      ],
      "text/plain": [
       "                                               label  \\\n",
       "0  biomethane production, high pressure from synt...   \n",
       "1  market for wood chips, dry, measured as dry ma...   \n",
       "2                   market for zeolite, powder (GLO)   \n",
       "3                          market for charcoal (GLO)   \n",
       "4  market for wood chips, wet, measured as dry ma...   \n",
       "5  hardwood forestry, mixed species, sustainable ...   \n",
       "6  market for transport, freight, lorry, unspecif...   \n",
       "7  market for transport, freight, lorry, unspecif...   \n",
       "8                          charcoal production (GLO)   \n",
       "\n",
       "                                              parent        labels_short  \\\n",
       "0                                                     biomethane product   \n",
       "1  biomethane production, high pressure from synt...  market for wood ch   \n",
       "2  biomethane production, high pressure from synt...  market for zeolite   \n",
       "3  biomethane production, high pressure from synt...  market for charcoa   \n",
       "4  biomethane production, high pressure from synt...  market for wood ch   \n",
       "5  market for wood chips, wet, measured as dry ma...  hardwood forestry,   \n",
       "6  market for wood chips, wet, measured as dry ma...  market for transpo   \n",
       "7  market for wood chips, dry, measured as dry ma...  market for transpo   \n",
       "8                          market for charcoal (GLO)  charcoal productio   \n",
       "\n",
       "   value  \n",
       "0  0.004  \n",
       "1  0.003  \n",
       "2  0.000  \n",
       "3  0.000  \n",
       "4  0.000  \n",
       "5  0.000  \n",
       "6  0.000  \n",
       "7  0.000  \n",
       "8  0.000  "
      ]
     },
     "metadata": {},
     "output_type": "display_data"
    },
    {
     "name": "stdout",
     "output_type": "stream",
     "text": [
      "                                                    value\n",
      "parent                                                   \n",
      "                                                    0.004\n",
      "biomethane production, high pressure from synth...  0.003\n",
      "market for charcoal (GLO)                           0.000\n",
      "market for wood chips, dry, measured as dry mas...  0.000\n",
      "market for wood chips, wet, measured as dry mas...  0.000\n"
     ]
    },
    {
     "name": "stderr",
     "output_type": "stream",
     "text": [
      "/tmp/ipykernel_70182/1205081643.py:31: FutureWarning:\n",
      "\n",
      "The default value of numeric_only in DataFrameGroupBy.sum is deprecated. In a future version, numeric_only will default to False. Either specify numeric_only or select only columns which should be valid for the function.\n",
      "\n"
     ]
    },
    {
     "data": {
      "application/vnd.plotly.v1+json": {
       "config": {
        "plotlyServerURL": "https://plot.ly"
       },
       "data": [
        {
         "branchvalues": "total",
         "hovertext": [
          "biomethane production, high pressure from synthetic gas, wood, fluidised technology (CH)",
          "market for wood chips, dry, measured as dry mass (RER)",
          "market for zeolite, powder (GLO)",
          "market for charcoal (GLO)",
          "market for wood chips, wet, measured as dry mass (CH)",
          "hardwood forestry, mixed species, sustainable forest management (CH)",
          "market for transport, freight, lorry, unspecified (RER)",
          "market for transport, freight, lorry, unspecified (RER)",
          "charcoal production (GLO)"
         ],
         "ids": [
          "biomethane production, high pressure from synthetic gas, wood, fluidised technology (CH)",
          "market for wood chips, dry, measured as dry mass (RER)",
          "market for zeolite, powder (GLO)",
          "market for charcoal (GLO)",
          "market for wood chips, wet, measured as dry mass (CH)",
          "hardwood forestry, mixed species, sustainable forest management (CH)",
          "market for transport, freight, lorry, unspecified (RER)",
          "market for transport, freight, lorry, unspecified (RER)",
          "charcoal production (GLO)"
         ],
         "labels": [
          "biomethane product",
          "market for wood ch",
          "market for zeolite",
          "market for charcoa",
          "market for wood ch",
          "hardwood forestry,",
          "market for transpo",
          "market for transpo",
          "charcoal productio"
         ],
         "parents": [
          "",
          "biomethane production, high pressure from synthetic gas, wood, fluidised technology (CH)",
          "biomethane production, high pressure from synthetic gas, wood, fluidised technology (CH)",
          "biomethane production, high pressure from synthetic gas, wood, fluidised technology (CH)",
          "biomethane production, high pressure from synthetic gas, wood, fluidised technology (CH)",
          "market for wood chips, wet, measured as dry mass (CH)",
          "market for wood chips, wet, measured as dry mass (CH)",
          "market for wood chips, dry, measured as dry mass (RER)",
          "market for charcoal (GLO)"
         ],
         "type": "sunburst",
         "values": [
          0.004,
          0.003,
          0,
          0,
          0,
          0,
          0,
          0,
          0
         ]
        }
       ],
       "layout": {
        "template": {
         "data": {
          "bar": [
           {
            "error_x": {
             "color": "#2a3f5f"
            },
            "error_y": {
             "color": "#2a3f5f"
            },
            "marker": {
             "line": {
              "color": "#E5ECF6",
              "width": 0.5
             },
             "pattern": {
              "fillmode": "overlay",
              "size": 10,
              "solidity": 0.2
             }
            },
            "type": "bar"
           }
          ],
          "barpolar": [
           {
            "marker": {
             "line": {
              "color": "#E5ECF6",
              "width": 0.5
             },
             "pattern": {
              "fillmode": "overlay",
              "size": 10,
              "solidity": 0.2
             }
            },
            "type": "barpolar"
           }
          ],
          "carpet": [
           {
            "aaxis": {
             "endlinecolor": "#2a3f5f",
             "gridcolor": "white",
             "linecolor": "white",
             "minorgridcolor": "white",
             "startlinecolor": "#2a3f5f"
            },
            "baxis": {
             "endlinecolor": "#2a3f5f",
             "gridcolor": "white",
             "linecolor": "white",
             "minorgridcolor": "white",
             "startlinecolor": "#2a3f5f"
            },
            "type": "carpet"
           }
          ],
          "choropleth": [
           {
            "colorbar": {
             "outlinewidth": 0,
             "ticks": ""
            },
            "type": "choropleth"
           }
          ],
          "contour": [
           {
            "colorbar": {
             "outlinewidth": 0,
             "ticks": ""
            },
            "colorscale": [
             [
              0,
              "#0d0887"
             ],
             [
              0.1111111111111111,
              "#46039f"
             ],
             [
              0.2222222222222222,
              "#7201a8"
             ],
             [
              0.3333333333333333,
              "#9c179e"
             ],
             [
              0.4444444444444444,
              "#bd3786"
             ],
             [
              0.5555555555555556,
              "#d8576b"
             ],
             [
              0.6666666666666666,
              "#ed7953"
             ],
             [
              0.7777777777777778,
              "#fb9f3a"
             ],
             [
              0.8888888888888888,
              "#fdca26"
             ],
             [
              1,
              "#f0f921"
             ]
            ],
            "type": "contour"
           }
          ],
          "contourcarpet": [
           {
            "colorbar": {
             "outlinewidth": 0,
             "ticks": ""
            },
            "type": "contourcarpet"
           }
          ],
          "heatmap": [
           {
            "colorbar": {
             "outlinewidth": 0,
             "ticks": ""
            },
            "colorscale": [
             [
              0,
              "#0d0887"
             ],
             [
              0.1111111111111111,
              "#46039f"
             ],
             [
              0.2222222222222222,
              "#7201a8"
             ],
             [
              0.3333333333333333,
              "#9c179e"
             ],
             [
              0.4444444444444444,
              "#bd3786"
             ],
             [
              0.5555555555555556,
              "#d8576b"
             ],
             [
              0.6666666666666666,
              "#ed7953"
             ],
             [
              0.7777777777777778,
              "#fb9f3a"
             ],
             [
              0.8888888888888888,
              "#fdca26"
             ],
             [
              1,
              "#f0f921"
             ]
            ],
            "type": "heatmap"
           }
          ],
          "heatmapgl": [
           {
            "colorbar": {
             "outlinewidth": 0,
             "ticks": ""
            },
            "colorscale": [
             [
              0,
              "#0d0887"
             ],
             [
              0.1111111111111111,
              "#46039f"
             ],
             [
              0.2222222222222222,
              "#7201a8"
             ],
             [
              0.3333333333333333,
              "#9c179e"
             ],
             [
              0.4444444444444444,
              "#bd3786"
             ],
             [
              0.5555555555555556,
              "#d8576b"
             ],
             [
              0.6666666666666666,
              "#ed7953"
             ],
             [
              0.7777777777777778,
              "#fb9f3a"
             ],
             [
              0.8888888888888888,
              "#fdca26"
             ],
             [
              1,
              "#f0f921"
             ]
            ],
            "type": "heatmapgl"
           }
          ],
          "histogram": [
           {
            "marker": {
             "pattern": {
              "fillmode": "overlay",
              "size": 10,
              "solidity": 0.2
             }
            },
            "type": "histogram"
           }
          ],
          "histogram2d": [
           {
            "colorbar": {
             "outlinewidth": 0,
             "ticks": ""
            },
            "colorscale": [
             [
              0,
              "#0d0887"
             ],
             [
              0.1111111111111111,
              "#46039f"
             ],
             [
              0.2222222222222222,
              "#7201a8"
             ],
             [
              0.3333333333333333,
              "#9c179e"
             ],
             [
              0.4444444444444444,
              "#bd3786"
             ],
             [
              0.5555555555555556,
              "#d8576b"
             ],
             [
              0.6666666666666666,
              "#ed7953"
             ],
             [
              0.7777777777777778,
              "#fb9f3a"
             ],
             [
              0.8888888888888888,
              "#fdca26"
             ],
             [
              1,
              "#f0f921"
             ]
            ],
            "type": "histogram2d"
           }
          ],
          "histogram2dcontour": [
           {
            "colorbar": {
             "outlinewidth": 0,
             "ticks": ""
            },
            "colorscale": [
             [
              0,
              "#0d0887"
             ],
             [
              0.1111111111111111,
              "#46039f"
             ],
             [
              0.2222222222222222,
              "#7201a8"
             ],
             [
              0.3333333333333333,
              "#9c179e"
             ],
             [
              0.4444444444444444,
              "#bd3786"
             ],
             [
              0.5555555555555556,
              "#d8576b"
             ],
             [
              0.6666666666666666,
              "#ed7953"
             ],
             [
              0.7777777777777778,
              "#fb9f3a"
             ],
             [
              0.8888888888888888,
              "#fdca26"
             ],
             [
              1,
              "#f0f921"
             ]
            ],
            "type": "histogram2dcontour"
           }
          ],
          "mesh3d": [
           {
            "colorbar": {
             "outlinewidth": 0,
             "ticks": ""
            },
            "type": "mesh3d"
           }
          ],
          "parcoords": [
           {
            "line": {
             "colorbar": {
              "outlinewidth": 0,
              "ticks": ""
             }
            },
            "type": "parcoords"
           }
          ],
          "pie": [
           {
            "automargin": true,
            "type": "pie"
           }
          ],
          "scatter": [
           {
            "fillpattern": {
             "fillmode": "overlay",
             "size": 10,
             "solidity": 0.2
            },
            "type": "scatter"
           }
          ],
          "scatter3d": [
           {
            "line": {
             "colorbar": {
              "outlinewidth": 0,
              "ticks": ""
             }
            },
            "marker": {
             "colorbar": {
              "outlinewidth": 0,
              "ticks": ""
             }
            },
            "type": "scatter3d"
           }
          ],
          "scattercarpet": [
           {
            "marker": {
             "colorbar": {
              "outlinewidth": 0,
              "ticks": ""
             }
            },
            "type": "scattercarpet"
           }
          ],
          "scattergeo": [
           {
            "marker": {
             "colorbar": {
              "outlinewidth": 0,
              "ticks": ""
             }
            },
            "type": "scattergeo"
           }
          ],
          "scattergl": [
           {
            "marker": {
             "colorbar": {
              "outlinewidth": 0,
              "ticks": ""
             }
            },
            "type": "scattergl"
           }
          ],
          "scattermapbox": [
           {
            "marker": {
             "colorbar": {
              "outlinewidth": 0,
              "ticks": ""
             }
            },
            "type": "scattermapbox"
           }
          ],
          "scatterpolar": [
           {
            "marker": {
             "colorbar": {
              "outlinewidth": 0,
              "ticks": ""
             }
            },
            "type": "scatterpolar"
           }
          ],
          "scatterpolargl": [
           {
            "marker": {
             "colorbar": {
              "outlinewidth": 0,
              "ticks": ""
             }
            },
            "type": "scatterpolargl"
           }
          ],
          "scatterternary": [
           {
            "marker": {
             "colorbar": {
              "outlinewidth": 0,
              "ticks": ""
             }
            },
            "type": "scatterternary"
           }
          ],
          "surface": [
           {
            "colorbar": {
             "outlinewidth": 0,
             "ticks": ""
            },
            "colorscale": [
             [
              0,
              "#0d0887"
             ],
             [
              0.1111111111111111,
              "#46039f"
             ],
             [
              0.2222222222222222,
              "#7201a8"
             ],
             [
              0.3333333333333333,
              "#9c179e"
             ],
             [
              0.4444444444444444,
              "#bd3786"
             ],
             [
              0.5555555555555556,
              "#d8576b"
             ],
             [
              0.6666666666666666,
              "#ed7953"
             ],
             [
              0.7777777777777778,
              "#fb9f3a"
             ],
             [
              0.8888888888888888,
              "#fdca26"
             ],
             [
              1,
              "#f0f921"
             ]
            ],
            "type": "surface"
           }
          ],
          "table": [
           {
            "cells": {
             "fill": {
              "color": "#EBF0F8"
             },
             "line": {
              "color": "white"
             }
            },
            "header": {
             "fill": {
              "color": "#C8D4E3"
             },
             "line": {
              "color": "white"
             }
            },
            "type": "table"
           }
          ]
         },
         "layout": {
          "annotationdefaults": {
           "arrowcolor": "#2a3f5f",
           "arrowhead": 0,
           "arrowwidth": 1
          },
          "autotypenumbers": "strict",
          "coloraxis": {
           "colorbar": {
            "outlinewidth": 0,
            "ticks": ""
           }
          },
          "colorscale": {
           "diverging": [
            [
             0,
             "#8e0152"
            ],
            [
             0.1,
             "#c51b7d"
            ],
            [
             0.2,
             "#de77ae"
            ],
            [
             0.3,
             "#f1b6da"
            ],
            [
             0.4,
             "#fde0ef"
            ],
            [
             0.5,
             "#f7f7f7"
            ],
            [
             0.6,
             "#e6f5d0"
            ],
            [
             0.7,
             "#b8e186"
            ],
            [
             0.8,
             "#7fbc41"
            ],
            [
             0.9,
             "#4d9221"
            ],
            [
             1,
             "#276419"
            ]
           ],
           "sequential": [
            [
             0,
             "#0d0887"
            ],
            [
             0.1111111111111111,
             "#46039f"
            ],
            [
             0.2222222222222222,
             "#7201a8"
            ],
            [
             0.3333333333333333,
             "#9c179e"
            ],
            [
             0.4444444444444444,
             "#bd3786"
            ],
            [
             0.5555555555555556,
             "#d8576b"
            ],
            [
             0.6666666666666666,
             "#ed7953"
            ],
            [
             0.7777777777777778,
             "#fb9f3a"
            ],
            [
             0.8888888888888888,
             "#fdca26"
            ],
            [
             1,
             "#f0f921"
            ]
           ],
           "sequentialminus": [
            [
             0,
             "#0d0887"
            ],
            [
             0.1111111111111111,
             "#46039f"
            ],
            [
             0.2222222222222222,
             "#7201a8"
            ],
            [
             0.3333333333333333,
             "#9c179e"
            ],
            [
             0.4444444444444444,
             "#bd3786"
            ],
            [
             0.5555555555555556,
             "#d8576b"
            ],
            [
             0.6666666666666666,
             "#ed7953"
            ],
            [
             0.7777777777777778,
             "#fb9f3a"
            ],
            [
             0.8888888888888888,
             "#fdca26"
            ],
            [
             1,
             "#f0f921"
            ]
           ]
          },
          "colorway": [
           "#636efa",
           "#EF553B",
           "#00cc96",
           "#ab63fa",
           "#FFA15A",
           "#19d3f3",
           "#FF6692",
           "#B6E880",
           "#FF97FF",
           "#FECB52"
          ],
          "font": {
           "color": "#2a3f5f"
          },
          "geo": {
           "bgcolor": "white",
           "lakecolor": "white",
           "landcolor": "#E5ECF6",
           "showlakes": true,
           "showland": true,
           "subunitcolor": "white"
          },
          "hoverlabel": {
           "align": "left"
          },
          "hovermode": "closest",
          "mapbox": {
           "style": "light"
          },
          "paper_bgcolor": "white",
          "plot_bgcolor": "#E5ECF6",
          "polar": {
           "angularaxis": {
            "gridcolor": "white",
            "linecolor": "white",
            "ticks": ""
           },
           "bgcolor": "#E5ECF6",
           "radialaxis": {
            "gridcolor": "white",
            "linecolor": "white",
            "ticks": ""
           }
          },
          "scene": {
           "xaxis": {
            "backgroundcolor": "#E5ECF6",
            "gridcolor": "white",
            "gridwidth": 2,
            "linecolor": "white",
            "showbackground": true,
            "ticks": "",
            "zerolinecolor": "white"
           },
           "yaxis": {
            "backgroundcolor": "#E5ECF6",
            "gridcolor": "white",
            "gridwidth": 2,
            "linecolor": "white",
            "showbackground": true,
            "ticks": "",
            "zerolinecolor": "white"
           },
           "zaxis": {
            "backgroundcolor": "#E5ECF6",
            "gridcolor": "white",
            "gridwidth": 2,
            "linecolor": "white",
            "showbackground": true,
            "ticks": "",
            "zerolinecolor": "white"
           }
          },
          "shapedefaults": {
           "line": {
            "color": "#2a3f5f"
           }
          },
          "ternary": {
           "aaxis": {
            "gridcolor": "white",
            "linecolor": "white",
            "ticks": ""
           },
           "baxis": {
            "gridcolor": "white",
            "linecolor": "white",
            "ticks": ""
           },
           "bgcolor": "#E5ECF6",
           "caxis": {
            "gridcolor": "white",
            "linecolor": "white",
            "ticks": ""
           }
          },
          "title": {
           "x": 0.05
          },
          "xaxis": {
           "automargin": true,
           "gridcolor": "white",
           "linecolor": "white",
           "ticks": "",
           "title": {
            "standoff": 15
           },
           "zerolinecolor": "white",
           "zerolinewidth": 2
          },
          "yaxis": {
           "automargin": true,
           "gridcolor": "white",
           "linecolor": "white",
           "ticks": "",
           "title": {
            "standoff": 15
           },
           "zerolinecolor": "white",
           "zerolinewidth": 2
          }
         }
        }
       }
      }
     },
     "metadata": {},
     "output_type": "display_data"
    }
   ],
   "source": [
    "ids = [edge[\"from\"] for edge in trav['edges']]\n",
    "labels = [activities[id]['name']+' ('+activities[id]['location']+')' for id in ids]\n",
    "labels_short = [label[:18] for label in labels]\n",
    "parent_ids = [edge[\"to\"] for edge in trav['edges']][1:]\n",
    "parents = [\"\"] + [activities[id]['name']+' ('+activities[id]['location']+')' for id in parent_ids]\n",
    "\n",
    "data = dict(label = labels,\n",
    "            #location = [act['location'] for act in activities],\n",
    "            parent = parents,\n",
    "            labels_short = labels_short,\n",
    "            value = [-math.ceil(edge[\"impact_neg\"]*1000)/1000 for edge in trav['edges']],\n",
    "            #value_pct = value_pct\n",
    "        )\n",
    "fig =go.Figure(go.Sunburst(\n",
    "            #data,\n",
    "            ids=data['label'],\n",
    "            labels=data['labels_short'],\n",
    "            parents=data['parent'],\n",
    "            values=data['value'],\n",
    "            branchvalues=\"total\",\n",
    "            #color='labels_short',\n",
    "            #color_continuous_scale='algae',\n",
    "            hovertext= data['label'],\n",
    "            #valueformat = '.0f',\n",
    "        )\n",
    ")\n",
    "df = pd.DataFrame.from_dict(data)\n",
    "display(df)\n",
    "\n",
    "fig.show()"
   ]
  },
  {
   "cell_type": "code",
   "execution_count": 54,
   "metadata": {},
   "outputs": [
    {
     "data": {
      "application/vnd.plotly.v1+json": {
       "config": {
        "plotlyServerURL": "https://plot.ly"
       },
       "data": [
        {
         "measure": [
          "relative",
          "relative",
          "total"
         ],
         "orientation": "v",
         "type": "waterfall",
         "x": [
          "Emissions",
          "Absorptions",
          "Total"
         ],
         "y": [
          0.3894013422607055,
          -0.0041985319257974475,
          0.3852028103349081
         ]
        }
       ],
       "layout": {
        "template": {
         "data": {
          "bar": [
           {
            "error_x": {
             "color": "#2a3f5f"
            },
            "error_y": {
             "color": "#2a3f5f"
            },
            "marker": {
             "line": {
              "color": "#E5ECF6",
              "width": 0.5
             },
             "pattern": {
              "fillmode": "overlay",
              "size": 10,
              "solidity": 0.2
             }
            },
            "type": "bar"
           }
          ],
          "barpolar": [
           {
            "marker": {
             "line": {
              "color": "#E5ECF6",
              "width": 0.5
             },
             "pattern": {
              "fillmode": "overlay",
              "size": 10,
              "solidity": 0.2
             }
            },
            "type": "barpolar"
           }
          ],
          "carpet": [
           {
            "aaxis": {
             "endlinecolor": "#2a3f5f",
             "gridcolor": "white",
             "linecolor": "white",
             "minorgridcolor": "white",
             "startlinecolor": "#2a3f5f"
            },
            "baxis": {
             "endlinecolor": "#2a3f5f",
             "gridcolor": "white",
             "linecolor": "white",
             "minorgridcolor": "white",
             "startlinecolor": "#2a3f5f"
            },
            "type": "carpet"
           }
          ],
          "choropleth": [
           {
            "colorbar": {
             "outlinewidth": 0,
             "ticks": ""
            },
            "type": "choropleth"
           }
          ],
          "contour": [
           {
            "colorbar": {
             "outlinewidth": 0,
             "ticks": ""
            },
            "colorscale": [
             [
              0,
              "#0d0887"
             ],
             [
              0.1111111111111111,
              "#46039f"
             ],
             [
              0.2222222222222222,
              "#7201a8"
             ],
             [
              0.3333333333333333,
              "#9c179e"
             ],
             [
              0.4444444444444444,
              "#bd3786"
             ],
             [
              0.5555555555555556,
              "#d8576b"
             ],
             [
              0.6666666666666666,
              "#ed7953"
             ],
             [
              0.7777777777777778,
              "#fb9f3a"
             ],
             [
              0.8888888888888888,
              "#fdca26"
             ],
             [
              1,
              "#f0f921"
             ]
            ],
            "type": "contour"
           }
          ],
          "contourcarpet": [
           {
            "colorbar": {
             "outlinewidth": 0,
             "ticks": ""
            },
            "type": "contourcarpet"
           }
          ],
          "heatmap": [
           {
            "colorbar": {
             "outlinewidth": 0,
             "ticks": ""
            },
            "colorscale": [
             [
              0,
              "#0d0887"
             ],
             [
              0.1111111111111111,
              "#46039f"
             ],
             [
              0.2222222222222222,
              "#7201a8"
             ],
             [
              0.3333333333333333,
              "#9c179e"
             ],
             [
              0.4444444444444444,
              "#bd3786"
             ],
             [
              0.5555555555555556,
              "#d8576b"
             ],
             [
              0.6666666666666666,
              "#ed7953"
             ],
             [
              0.7777777777777778,
              "#fb9f3a"
             ],
             [
              0.8888888888888888,
              "#fdca26"
             ],
             [
              1,
              "#f0f921"
             ]
            ],
            "type": "heatmap"
           }
          ],
          "heatmapgl": [
           {
            "colorbar": {
             "outlinewidth": 0,
             "ticks": ""
            },
            "colorscale": [
             [
              0,
              "#0d0887"
             ],
             [
              0.1111111111111111,
              "#46039f"
             ],
             [
              0.2222222222222222,
              "#7201a8"
             ],
             [
              0.3333333333333333,
              "#9c179e"
             ],
             [
              0.4444444444444444,
              "#bd3786"
             ],
             [
              0.5555555555555556,
              "#d8576b"
             ],
             [
              0.6666666666666666,
              "#ed7953"
             ],
             [
              0.7777777777777778,
              "#fb9f3a"
             ],
             [
              0.8888888888888888,
              "#fdca26"
             ],
             [
              1,
              "#f0f921"
             ]
            ],
            "type": "heatmapgl"
           }
          ],
          "histogram": [
           {
            "marker": {
             "pattern": {
              "fillmode": "overlay",
              "size": 10,
              "solidity": 0.2
             }
            },
            "type": "histogram"
           }
          ],
          "histogram2d": [
           {
            "colorbar": {
             "outlinewidth": 0,
             "ticks": ""
            },
            "colorscale": [
             [
              0,
              "#0d0887"
             ],
             [
              0.1111111111111111,
              "#46039f"
             ],
             [
              0.2222222222222222,
              "#7201a8"
             ],
             [
              0.3333333333333333,
              "#9c179e"
             ],
             [
              0.4444444444444444,
              "#bd3786"
             ],
             [
              0.5555555555555556,
              "#d8576b"
             ],
             [
              0.6666666666666666,
              "#ed7953"
             ],
             [
              0.7777777777777778,
              "#fb9f3a"
             ],
             [
              0.8888888888888888,
              "#fdca26"
             ],
             [
              1,
              "#f0f921"
             ]
            ],
            "type": "histogram2d"
           }
          ],
          "histogram2dcontour": [
           {
            "colorbar": {
             "outlinewidth": 0,
             "ticks": ""
            },
            "colorscale": [
             [
              0,
              "#0d0887"
             ],
             [
              0.1111111111111111,
              "#46039f"
             ],
             [
              0.2222222222222222,
              "#7201a8"
             ],
             [
              0.3333333333333333,
              "#9c179e"
             ],
             [
              0.4444444444444444,
              "#bd3786"
             ],
             [
              0.5555555555555556,
              "#d8576b"
             ],
             [
              0.6666666666666666,
              "#ed7953"
             ],
             [
              0.7777777777777778,
              "#fb9f3a"
             ],
             [
              0.8888888888888888,
              "#fdca26"
             ],
             [
              1,
              "#f0f921"
             ]
            ],
            "type": "histogram2dcontour"
           }
          ],
          "mesh3d": [
           {
            "colorbar": {
             "outlinewidth": 0,
             "ticks": ""
            },
            "type": "mesh3d"
           }
          ],
          "parcoords": [
           {
            "line": {
             "colorbar": {
              "outlinewidth": 0,
              "ticks": ""
             }
            },
            "type": "parcoords"
           }
          ],
          "pie": [
           {
            "automargin": true,
            "type": "pie"
           }
          ],
          "scatter": [
           {
            "fillpattern": {
             "fillmode": "overlay",
             "size": 10,
             "solidity": 0.2
            },
            "type": "scatter"
           }
          ],
          "scatter3d": [
           {
            "line": {
             "colorbar": {
              "outlinewidth": 0,
              "ticks": ""
             }
            },
            "marker": {
             "colorbar": {
              "outlinewidth": 0,
              "ticks": ""
             }
            },
            "type": "scatter3d"
           }
          ],
          "scattercarpet": [
           {
            "marker": {
             "colorbar": {
              "outlinewidth": 0,
              "ticks": ""
             }
            },
            "type": "scattercarpet"
           }
          ],
          "scattergeo": [
           {
            "marker": {
             "colorbar": {
              "outlinewidth": 0,
              "ticks": ""
             }
            },
            "type": "scattergeo"
           }
          ],
          "scattergl": [
           {
            "marker": {
             "colorbar": {
              "outlinewidth": 0,
              "ticks": ""
             }
            },
            "type": "scattergl"
           }
          ],
          "scattermapbox": [
           {
            "marker": {
             "colorbar": {
              "outlinewidth": 0,
              "ticks": ""
             }
            },
            "type": "scattermapbox"
           }
          ],
          "scatterpolar": [
           {
            "marker": {
             "colorbar": {
              "outlinewidth": 0,
              "ticks": ""
             }
            },
            "type": "scatterpolar"
           }
          ],
          "scatterpolargl": [
           {
            "marker": {
             "colorbar": {
              "outlinewidth": 0,
              "ticks": ""
             }
            },
            "type": "scatterpolargl"
           }
          ],
          "scatterternary": [
           {
            "marker": {
             "colorbar": {
              "outlinewidth": 0,
              "ticks": ""
             }
            },
            "type": "scatterternary"
           }
          ],
          "surface": [
           {
            "colorbar": {
             "outlinewidth": 0,
             "ticks": ""
            },
            "colorscale": [
             [
              0,
              "#0d0887"
             ],
             [
              0.1111111111111111,
              "#46039f"
             ],
             [
              0.2222222222222222,
              "#7201a8"
             ],
             [
              0.3333333333333333,
              "#9c179e"
             ],
             [
              0.4444444444444444,
              "#bd3786"
             ],
             [
              0.5555555555555556,
              "#d8576b"
             ],
             [
              0.6666666666666666,
              "#ed7953"
             ],
             [
              0.7777777777777778,
              "#fb9f3a"
             ],
             [
              0.8888888888888888,
              "#fdca26"
             ],
             [
              1,
              "#f0f921"
             ]
            ],
            "type": "surface"
           }
          ],
          "table": [
           {
            "cells": {
             "fill": {
              "color": "#EBF0F8"
             },
             "line": {
              "color": "white"
             }
            },
            "header": {
             "fill": {
              "color": "#C8D4E3"
             },
             "line": {
              "color": "white"
             }
            },
            "type": "table"
           }
          ]
         },
         "layout": {
          "annotationdefaults": {
           "arrowcolor": "#2a3f5f",
           "arrowhead": 0,
           "arrowwidth": 1
          },
          "autotypenumbers": "strict",
          "coloraxis": {
           "colorbar": {
            "outlinewidth": 0,
            "ticks": ""
           }
          },
          "colorscale": {
           "diverging": [
            [
             0,
             "#8e0152"
            ],
            [
             0.1,
             "#c51b7d"
            ],
            [
             0.2,
             "#de77ae"
            ],
            [
             0.3,
             "#f1b6da"
            ],
            [
             0.4,
             "#fde0ef"
            ],
            [
             0.5,
             "#f7f7f7"
            ],
            [
             0.6,
             "#e6f5d0"
            ],
            [
             0.7,
             "#b8e186"
            ],
            [
             0.8,
             "#7fbc41"
            ],
            [
             0.9,
             "#4d9221"
            ],
            [
             1,
             "#276419"
            ]
           ],
           "sequential": [
            [
             0,
             "#0d0887"
            ],
            [
             0.1111111111111111,
             "#46039f"
            ],
            [
             0.2222222222222222,
             "#7201a8"
            ],
            [
             0.3333333333333333,
             "#9c179e"
            ],
            [
             0.4444444444444444,
             "#bd3786"
            ],
            [
             0.5555555555555556,
             "#d8576b"
            ],
            [
             0.6666666666666666,
             "#ed7953"
            ],
            [
             0.7777777777777778,
             "#fb9f3a"
            ],
            [
             0.8888888888888888,
             "#fdca26"
            ],
            [
             1,
             "#f0f921"
            ]
           ],
           "sequentialminus": [
            [
             0,
             "#0d0887"
            ],
            [
             0.1111111111111111,
             "#46039f"
            ],
            [
             0.2222222222222222,
             "#7201a8"
            ],
            [
             0.3333333333333333,
             "#9c179e"
            ],
            [
             0.4444444444444444,
             "#bd3786"
            ],
            [
             0.5555555555555556,
             "#d8576b"
            ],
            [
             0.6666666666666666,
             "#ed7953"
            ],
            [
             0.7777777777777778,
             "#fb9f3a"
            ],
            [
             0.8888888888888888,
             "#fdca26"
            ],
            [
             1,
             "#f0f921"
            ]
           ]
          },
          "colorway": [
           "#636efa",
           "#EF553B",
           "#00cc96",
           "#ab63fa",
           "#FFA15A",
           "#19d3f3",
           "#FF6692",
           "#B6E880",
           "#FF97FF",
           "#FECB52"
          ],
          "font": {
           "color": "#2a3f5f"
          },
          "geo": {
           "bgcolor": "white",
           "lakecolor": "white",
           "landcolor": "#E5ECF6",
           "showlakes": true,
           "showland": true,
           "subunitcolor": "white"
          },
          "hoverlabel": {
           "align": "left"
          },
          "hovermode": "closest",
          "mapbox": {
           "style": "light"
          },
          "paper_bgcolor": "white",
          "plot_bgcolor": "#E5ECF6",
          "polar": {
           "angularaxis": {
            "gridcolor": "white",
            "linecolor": "white",
            "ticks": ""
           },
           "bgcolor": "#E5ECF6",
           "radialaxis": {
            "gridcolor": "white",
            "linecolor": "white",
            "ticks": ""
           }
          },
          "scene": {
           "xaxis": {
            "backgroundcolor": "#E5ECF6",
            "gridcolor": "white",
            "gridwidth": 2,
            "linecolor": "white",
            "showbackground": true,
            "ticks": "",
            "zerolinecolor": "white"
           },
           "yaxis": {
            "backgroundcolor": "#E5ECF6",
            "gridcolor": "white",
            "gridwidth": 2,
            "linecolor": "white",
            "showbackground": true,
            "ticks": "",
            "zerolinecolor": "white"
           },
           "zaxis": {
            "backgroundcolor": "#E5ECF6",
            "gridcolor": "white",
            "gridwidth": 2,
            "linecolor": "white",
            "showbackground": true,
            "ticks": "",
            "zerolinecolor": "white"
           }
          },
          "shapedefaults": {
           "line": {
            "color": "#2a3f5f"
           }
          },
          "ternary": {
           "aaxis": {
            "gridcolor": "white",
            "linecolor": "white",
            "ticks": ""
           },
           "baxis": {
            "gridcolor": "white",
            "linecolor": "white",
            "ticks": ""
           },
           "bgcolor": "#E5ECF6",
           "caxis": {
            "gridcolor": "white",
            "linecolor": "white",
            "ticks": ""
           }
          },
          "title": {
           "x": 0.05
          },
          "xaxis": {
           "automargin": true,
           "gridcolor": "white",
           "linecolor": "white",
           "ticks": "",
           "title": {
            "standoff": 15
           },
           "zerolinecolor": "white",
           "zerolinewidth": 2
          },
          "yaxis": {
           "automargin": true,
           "gridcolor": "white",
           "linecolor": "white",
           "ticks": "",
           "title": {
            "standoff": 15
           },
           "zerolinecolor": "white",
           "zerolinewidth": 2
          }
         }
        }
       }
      }
     },
     "metadata": {},
     "output_type": "display_data"
    }
   ],
   "source": [
    "main_edge = trav['edges'][0]\n",
    "fig = go.Figure(go.Waterfall(\n",
    "    orientation = \"v\",\n",
    "    measure = [\"relative\", \"relative\", \"total\"],\n",
    "    x = ['Emissions', 'Absorptions', 'Total'],\n",
    "    y = [main_edge[\"impact_pos\"], main_edge[\"impact_neg\"], main_edge[\"impact\"]]\n",
    "    )\n",
    ")\n",
    "fig.show()"
   ]
  },
  {
   "cell_type": "code",
   "execution_count": 118,
   "metadata": {},
   "outputs": [
    {
     "data": {
      "application/vnd.plotly.v1+json": {
       "config": {
        "plotlyServerURL": "https://plot.ly"
       },
       "data": [
        {
         "link": {
          "source": [
           8136,
           4040,
           9804,
           9946,
           13946,
           14409,
           15337,
           16404,
           12886,
           15009,
           18854,
           11250,
           11726,
           11168,
           18139,
           18640,
           18854,
           3149,
           8000,
           18854,
           5074,
           17197,
           9804,
           11168,
           18139,
           18640,
           11864,
           14409,
           7881,
           6411,
           14409,
           9804
          ],
          "target": [
           -1,
           8136,
           8136,
           8136,
           8136,
           8136,
           8136,
           8136,
           16404,
           16404,
           16404,
           18854,
           18854,
           12886,
           12886,
           12886,
           4040,
           9946,
           15337,
           9804,
           14409,
           5074,
           18640,
           15009,
           15009,
           15009,
           13946,
           13946,
           11864,
           7881,
           7881,
           11168
          ],
          "value": [
           0.0041985319257974475,
           0.003796729728404199,
           4.585507161357016e-8,
           6.6761062231768e-8,
           0.00026193067357826056,
           0.000002516900299031537,
           0.00010549649277379603,
           0.00002744155104399156,
           0.000014252348547825135,
           0.000009035648451963762,
           0.0000022677665156920063,
           0.000001236836675706,
           0.0000015137519404445836,
           6.647763084471542e-7,
           0.000011804456102152436,
           8.31535651792409e-7,
           4.2571561349137784e-7,
           0,
           0.00010547235524257884,
           2.8210048140010757e-9,
           0.0000022677569697958364,
           0.00000226775696979584,
           8.667064353963178e-12,
           2.858817213344304e-7,
           0.000008101569440961455,
           3.5948303987152093e-7,
           0.0002616827268915513,
           3.4212456768095596e-9,
           0.00026162911873842104,
           0.0002615400633396172,
           5.4952959158952505e-9,
           9.750948960409422e-12
          ]
         },
         "type": "sankey"
        }
       ],
       "layout": {
        "font": {
         "size": 10
        },
        "template": {
         "data": {
          "bar": [
           {
            "error_x": {
             "color": "#2a3f5f"
            },
            "error_y": {
             "color": "#2a3f5f"
            },
            "marker": {
             "line": {
              "color": "#E5ECF6",
              "width": 0.5
             },
             "pattern": {
              "fillmode": "overlay",
              "size": 10,
              "solidity": 0.2
             }
            },
            "type": "bar"
           }
          ],
          "barpolar": [
           {
            "marker": {
             "line": {
              "color": "#E5ECF6",
              "width": 0.5
             },
             "pattern": {
              "fillmode": "overlay",
              "size": 10,
              "solidity": 0.2
             }
            },
            "type": "barpolar"
           }
          ],
          "carpet": [
           {
            "aaxis": {
             "endlinecolor": "#2a3f5f",
             "gridcolor": "white",
             "linecolor": "white",
             "minorgridcolor": "white",
             "startlinecolor": "#2a3f5f"
            },
            "baxis": {
             "endlinecolor": "#2a3f5f",
             "gridcolor": "white",
             "linecolor": "white",
             "minorgridcolor": "white",
             "startlinecolor": "#2a3f5f"
            },
            "type": "carpet"
           }
          ],
          "choropleth": [
           {
            "colorbar": {
             "outlinewidth": 0,
             "ticks": ""
            },
            "type": "choropleth"
           }
          ],
          "contour": [
           {
            "colorbar": {
             "outlinewidth": 0,
             "ticks": ""
            },
            "colorscale": [
             [
              0,
              "#0d0887"
             ],
             [
              0.1111111111111111,
              "#46039f"
             ],
             [
              0.2222222222222222,
              "#7201a8"
             ],
             [
              0.3333333333333333,
              "#9c179e"
             ],
             [
              0.4444444444444444,
              "#bd3786"
             ],
             [
              0.5555555555555556,
              "#d8576b"
             ],
             [
              0.6666666666666666,
              "#ed7953"
             ],
             [
              0.7777777777777778,
              "#fb9f3a"
             ],
             [
              0.8888888888888888,
              "#fdca26"
             ],
             [
              1,
              "#f0f921"
             ]
            ],
            "type": "contour"
           }
          ],
          "contourcarpet": [
           {
            "colorbar": {
             "outlinewidth": 0,
             "ticks": ""
            },
            "type": "contourcarpet"
           }
          ],
          "heatmap": [
           {
            "colorbar": {
             "outlinewidth": 0,
             "ticks": ""
            },
            "colorscale": [
             [
              0,
              "#0d0887"
             ],
             [
              0.1111111111111111,
              "#46039f"
             ],
             [
              0.2222222222222222,
              "#7201a8"
             ],
             [
              0.3333333333333333,
              "#9c179e"
             ],
             [
              0.4444444444444444,
              "#bd3786"
             ],
             [
              0.5555555555555556,
              "#d8576b"
             ],
             [
              0.6666666666666666,
              "#ed7953"
             ],
             [
              0.7777777777777778,
              "#fb9f3a"
             ],
             [
              0.8888888888888888,
              "#fdca26"
             ],
             [
              1,
              "#f0f921"
             ]
            ],
            "type": "heatmap"
           }
          ],
          "heatmapgl": [
           {
            "colorbar": {
             "outlinewidth": 0,
             "ticks": ""
            },
            "colorscale": [
             [
              0,
              "#0d0887"
             ],
             [
              0.1111111111111111,
              "#46039f"
             ],
             [
              0.2222222222222222,
              "#7201a8"
             ],
             [
              0.3333333333333333,
              "#9c179e"
             ],
             [
              0.4444444444444444,
              "#bd3786"
             ],
             [
              0.5555555555555556,
              "#d8576b"
             ],
             [
              0.6666666666666666,
              "#ed7953"
             ],
             [
              0.7777777777777778,
              "#fb9f3a"
             ],
             [
              0.8888888888888888,
              "#fdca26"
             ],
             [
              1,
              "#f0f921"
             ]
            ],
            "type": "heatmapgl"
           }
          ],
          "histogram": [
           {
            "marker": {
             "pattern": {
              "fillmode": "overlay",
              "size": 10,
              "solidity": 0.2
             }
            },
            "type": "histogram"
           }
          ],
          "histogram2d": [
           {
            "colorbar": {
             "outlinewidth": 0,
             "ticks": ""
            },
            "colorscale": [
             [
              0,
              "#0d0887"
             ],
             [
              0.1111111111111111,
              "#46039f"
             ],
             [
              0.2222222222222222,
              "#7201a8"
             ],
             [
              0.3333333333333333,
              "#9c179e"
             ],
             [
              0.4444444444444444,
              "#bd3786"
             ],
             [
              0.5555555555555556,
              "#d8576b"
             ],
             [
              0.6666666666666666,
              "#ed7953"
             ],
             [
              0.7777777777777778,
              "#fb9f3a"
             ],
             [
              0.8888888888888888,
              "#fdca26"
             ],
             [
              1,
              "#f0f921"
             ]
            ],
            "type": "histogram2d"
           }
          ],
          "histogram2dcontour": [
           {
            "colorbar": {
             "outlinewidth": 0,
             "ticks": ""
            },
            "colorscale": [
             [
              0,
              "#0d0887"
             ],
             [
              0.1111111111111111,
              "#46039f"
             ],
             [
              0.2222222222222222,
              "#7201a8"
             ],
             [
              0.3333333333333333,
              "#9c179e"
             ],
             [
              0.4444444444444444,
              "#bd3786"
             ],
             [
              0.5555555555555556,
              "#d8576b"
             ],
             [
              0.6666666666666666,
              "#ed7953"
             ],
             [
              0.7777777777777778,
              "#fb9f3a"
             ],
             [
              0.8888888888888888,
              "#fdca26"
             ],
             [
              1,
              "#f0f921"
             ]
            ],
            "type": "histogram2dcontour"
           }
          ],
          "mesh3d": [
           {
            "colorbar": {
             "outlinewidth": 0,
             "ticks": ""
            },
            "type": "mesh3d"
           }
          ],
          "parcoords": [
           {
            "line": {
             "colorbar": {
              "outlinewidth": 0,
              "ticks": ""
             }
            },
            "type": "parcoords"
           }
          ],
          "pie": [
           {
            "automargin": true,
            "type": "pie"
           }
          ],
          "scatter": [
           {
            "fillpattern": {
             "fillmode": "overlay",
             "size": 10,
             "solidity": 0.2
            },
            "type": "scatter"
           }
          ],
          "scatter3d": [
           {
            "line": {
             "colorbar": {
              "outlinewidth": 0,
              "ticks": ""
             }
            },
            "marker": {
             "colorbar": {
              "outlinewidth": 0,
              "ticks": ""
             }
            },
            "type": "scatter3d"
           }
          ],
          "scattercarpet": [
           {
            "marker": {
             "colorbar": {
              "outlinewidth": 0,
              "ticks": ""
             }
            },
            "type": "scattercarpet"
           }
          ],
          "scattergeo": [
           {
            "marker": {
             "colorbar": {
              "outlinewidth": 0,
              "ticks": ""
             }
            },
            "type": "scattergeo"
           }
          ],
          "scattergl": [
           {
            "marker": {
             "colorbar": {
              "outlinewidth": 0,
              "ticks": ""
             }
            },
            "type": "scattergl"
           }
          ],
          "scattermapbox": [
           {
            "marker": {
             "colorbar": {
              "outlinewidth": 0,
              "ticks": ""
             }
            },
            "type": "scattermapbox"
           }
          ],
          "scatterpolar": [
           {
            "marker": {
             "colorbar": {
              "outlinewidth": 0,
              "ticks": ""
             }
            },
            "type": "scatterpolar"
           }
          ],
          "scatterpolargl": [
           {
            "marker": {
             "colorbar": {
              "outlinewidth": 0,
              "ticks": ""
             }
            },
            "type": "scatterpolargl"
           }
          ],
          "scatterternary": [
           {
            "marker": {
             "colorbar": {
              "outlinewidth": 0,
              "ticks": ""
             }
            },
            "type": "scatterternary"
           }
          ],
          "surface": [
           {
            "colorbar": {
             "outlinewidth": 0,
             "ticks": ""
            },
            "colorscale": [
             [
              0,
              "#0d0887"
             ],
             [
              0.1111111111111111,
              "#46039f"
             ],
             [
              0.2222222222222222,
              "#7201a8"
             ],
             [
              0.3333333333333333,
              "#9c179e"
             ],
             [
              0.4444444444444444,
              "#bd3786"
             ],
             [
              0.5555555555555556,
              "#d8576b"
             ],
             [
              0.6666666666666666,
              "#ed7953"
             ],
             [
              0.7777777777777778,
              "#fb9f3a"
             ],
             [
              0.8888888888888888,
              "#fdca26"
             ],
             [
              1,
              "#f0f921"
             ]
            ],
            "type": "surface"
           }
          ],
          "table": [
           {
            "cells": {
             "fill": {
              "color": "#EBF0F8"
             },
             "line": {
              "color": "white"
             }
            },
            "header": {
             "fill": {
              "color": "#C8D4E3"
             },
             "line": {
              "color": "white"
             }
            },
            "type": "table"
           }
          ]
         },
         "layout": {
          "annotationdefaults": {
           "arrowcolor": "#2a3f5f",
           "arrowhead": 0,
           "arrowwidth": 1
          },
          "autotypenumbers": "strict",
          "coloraxis": {
           "colorbar": {
            "outlinewidth": 0,
            "ticks": ""
           }
          },
          "colorscale": {
           "diverging": [
            [
             0,
             "#8e0152"
            ],
            [
             0.1,
             "#c51b7d"
            ],
            [
             0.2,
             "#de77ae"
            ],
            [
             0.3,
             "#f1b6da"
            ],
            [
             0.4,
             "#fde0ef"
            ],
            [
             0.5,
             "#f7f7f7"
            ],
            [
             0.6,
             "#e6f5d0"
            ],
            [
             0.7,
             "#b8e186"
            ],
            [
             0.8,
             "#7fbc41"
            ],
            [
             0.9,
             "#4d9221"
            ],
            [
             1,
             "#276419"
            ]
           ],
           "sequential": [
            [
             0,
             "#0d0887"
            ],
            [
             0.1111111111111111,
             "#46039f"
            ],
            [
             0.2222222222222222,
             "#7201a8"
            ],
            [
             0.3333333333333333,
             "#9c179e"
            ],
            [
             0.4444444444444444,
             "#bd3786"
            ],
            [
             0.5555555555555556,
             "#d8576b"
            ],
            [
             0.6666666666666666,
             "#ed7953"
            ],
            [
             0.7777777777777778,
             "#fb9f3a"
            ],
            [
             0.8888888888888888,
             "#fdca26"
            ],
            [
             1,
             "#f0f921"
            ]
           ],
           "sequentialminus": [
            [
             0,
             "#0d0887"
            ],
            [
             0.1111111111111111,
             "#46039f"
            ],
            [
             0.2222222222222222,
             "#7201a8"
            ],
            [
             0.3333333333333333,
             "#9c179e"
            ],
            [
             0.4444444444444444,
             "#bd3786"
            ],
            [
             0.5555555555555556,
             "#d8576b"
            ],
            [
             0.6666666666666666,
             "#ed7953"
            ],
            [
             0.7777777777777778,
             "#fb9f3a"
            ],
            [
             0.8888888888888888,
             "#fdca26"
            ],
            [
             1,
             "#f0f921"
            ]
           ]
          },
          "colorway": [
           "#636efa",
           "#EF553B",
           "#00cc96",
           "#ab63fa",
           "#FFA15A",
           "#19d3f3",
           "#FF6692",
           "#B6E880",
           "#FF97FF",
           "#FECB52"
          ],
          "font": {
           "color": "#2a3f5f"
          },
          "geo": {
           "bgcolor": "white",
           "lakecolor": "white",
           "landcolor": "#E5ECF6",
           "showlakes": true,
           "showland": true,
           "subunitcolor": "white"
          },
          "hoverlabel": {
           "align": "left"
          },
          "hovermode": "closest",
          "mapbox": {
           "style": "light"
          },
          "paper_bgcolor": "white",
          "plot_bgcolor": "#E5ECF6",
          "polar": {
           "angularaxis": {
            "gridcolor": "white",
            "linecolor": "white",
            "ticks": ""
           },
           "bgcolor": "#E5ECF6",
           "radialaxis": {
            "gridcolor": "white",
            "linecolor": "white",
            "ticks": ""
           }
          },
          "scene": {
           "xaxis": {
            "backgroundcolor": "#E5ECF6",
            "gridcolor": "white",
            "gridwidth": 2,
            "linecolor": "white",
            "showbackground": true,
            "ticks": "",
            "zerolinecolor": "white"
           },
           "yaxis": {
            "backgroundcolor": "#E5ECF6",
            "gridcolor": "white",
            "gridwidth": 2,
            "linecolor": "white",
            "showbackground": true,
            "ticks": "",
            "zerolinecolor": "white"
           },
           "zaxis": {
            "backgroundcolor": "#E5ECF6",
            "gridcolor": "white",
            "gridwidth": 2,
            "linecolor": "white",
            "showbackground": true,
            "ticks": "",
            "zerolinecolor": "white"
           }
          },
          "shapedefaults": {
           "line": {
            "color": "#2a3f5f"
           }
          },
          "ternary": {
           "aaxis": {
            "gridcolor": "white",
            "linecolor": "white",
            "ticks": ""
           },
           "baxis": {
            "gridcolor": "white",
            "linecolor": "white",
            "ticks": ""
           },
           "bgcolor": "#E5ECF6",
           "caxis": {
            "gridcolor": "white",
            "linecolor": "white",
            "ticks": ""
           }
          },
          "title": {
           "x": 0.05
          },
          "xaxis": {
           "automargin": true,
           "gridcolor": "white",
           "linecolor": "white",
           "ticks": "",
           "title": {
            "standoff": 15
           },
           "zerolinecolor": "white",
           "zerolinewidth": 2
          },
          "yaxis": {
           "automargin": true,
           "gridcolor": "white",
           "linecolor": "white",
           "ticks": "",
           "title": {
            "standoff": 15
           },
           "zerolinecolor": "white",
           "zerolinewidth": 2
          }
         }
        },
        "title": {
         "text": "Basic Sankey Diagram"
        }
       }
      }
     },
     "metadata": {},
     "output_type": "display_data"
    }
   ],
   "source": [
    "links = dict(\n",
    "    source = [edge[\"from\"] for edge in trav['edges']],\n",
    "    target = [edge[\"to\"] for edge in trav['edges']],\n",
    "    value = [-edge[\"impact_neg\"] for edge in trav['edges']]\n",
    ")\n",
    "fig = go.Figure(data=[go.Sankey(\n",
    "    link = links\n",
    ")])\n",
    "\n",
    "fig.update_layout(title_text=\"Basic Sankey Diagram\", font_size=10)\n",
    "fig.show()"
   ]
  },
  {
   "cell_type": "code",
   "execution_count": null,
   "metadata": {},
   "outputs": [],
   "source": []
  }
 ],
 "metadata": {
  "kernelspec": {
   "display_name": "Python 3.11.0 ('bw25')",
   "language": "python",
   "name": "python3"
  },
  "language_info": {
   "codemirror_mode": {
    "name": "ipython",
    "version": 3
   },
   "file_extension": ".py",
   "mimetype": "text/x-python",
   "name": "python",
   "nbconvert_exporter": "python",
   "pygments_lexer": "ipython3",
   "version": "3.11.0"
  },
  "orig_nbformat": 4,
  "vscode": {
   "interpreter": {
    "hash": "129fa975a5cc1910d29c283259c28ba1164ba1221f5a5d4217117437c9dbb2a6"
   }
  }
 },
 "nbformat": 4,
 "nbformat_minor": 2
}
