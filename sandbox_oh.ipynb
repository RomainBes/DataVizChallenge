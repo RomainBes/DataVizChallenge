{
 "cells": [
  {
   "cell_type": "code",
   "execution_count": null,
   "metadata": {},
   "outputs": [],
   "source": [
    "# python 3.11\n",
    "# please run in the console:\n",
    "# conda create -n bw25 -c cmutel brightway25\n",
    "# conda activate bw25\n",
    "# pip install ipykernel\n",
    "%pip install numpy pandas plotly nbformat"
   ]
  },
  {
   "cell_type": "code",
   "execution_count": null,
   "metadata": {},
   "outputs": [],
   "source": [
    "# for ei3.8\n",
    "%pip install bw2io==0.9.dev11"
   ]
  },
  {
   "cell_type": "code",
   "execution_count": 1,
   "metadata": {},
   "outputs": [],
   "source": [
    "import numpy as np\n",
    "import pandas as pd\n",
    "import matplotlib.pyplot as plt\n",
    "plt.style.use('ggplot')\n",
    "#import database_explorer as dbex\n",
    "import bw2analyzer as ba\n",
    "import bw2data as bd\n",
    "import bw2calc as bc\n",
    "import bw2io as bi\n",
    "import matrix_utils as mu\n",
    "import bw_processing as bp\n",
    "\n",
    "first_setup = False\n",
    "NAME = \"ei38-cutoff-25\"\n",
    "\n",
    "if first_setup:\n",
    "    if NAME in bd.projects:\n",
    "        bd.projects.delete_project(NAME, True)\n",
    "\n",
    "bd.projects.set_current(NAME)\n",
    "\n",
    "if first_setup:\n",
    "    bi.bw2setup()\n",
    "\n",
    "if first_setup:\n",
    "    ei33 = bi.SingleOutputEcospold2Importer('/home/hurtiol/ALFA/datasets/', 'ecoInvent 3.8')\n",
    "    ei33.apply_strategies()\n",
    "    ei33.statistics()\n"
   ]
  },
  {
   "cell_type": "code",
   "execution_count": 2,
   "metadata": {},
   "outputs": [
    {
     "name": "stdout",
     "output_type": "stream",
     "text": [
      "Not able to determine geocollections for all datasets. This database is not ready for regionalization.\n",
      "Warning: No valid output stream.\n",
      "Title: Writing activities to SQLite3 database:\n",
      "  Started: 02/10/2023 11:15:06\n",
      "  Finished: 02/10/2023 11:18:25\n",
      "  Total time elapsed: 00:03:18\n",
      "  CPU %: 31.50\n",
      "  Memory %: 0.15\n",
      "Created database: ecoInvent 3.8\n"
     ]
    }
   ],
   "source": [
    "if first_setup:\n",
    "    ei33.write_database(db_name='ecoInvent 3.8')"
   ]
  },
  {
   "cell_type": "code",
   "execution_count": 2,
   "metadata": {},
   "outputs": [
    {
     "data": {
      "text/plain": [
       "0.38520281033490816"
      ]
     },
     "execution_count": 2,
     "metadata": {},
     "output_type": "execute_result"
    }
   ],
   "source": [
    "act = bd.Database(\"ecoInvent 3.8\").search(\"biomethane production, high pressure from synthetic gas, wood, fluidised technology\")[0]\n",
    "#methods = [x for x in bd.methods if 'IPCC' in x[0]]\n",
    "method = ('IPCC 2013', 'climate change', 'GWP 100a')\n",
    "lca = bc.LCA({act: 1}, method = method)\n",
    "lca.lci()\n",
    "lca.lcia()\n",
    "lca.score"
   ]
  },
  {
   "cell_type": "code",
   "execution_count": 9,
   "metadata": {},
   "outputs": [],
   "source": [
    "# modified version of the AssumeDiagonalGraphTraversal.\n",
    "# includes separate calculation of positive and negative impact\n",
    "import warnings\n",
    "from heapq import heappop, heappush\n",
    "import itertools\n",
    "from functools import lru_cache\n",
    "\n",
    "import numpy as np\n",
    "from scipy import sparse\n",
    "\n",
    "from bw2calc import spsolve, LCA\n",
    "\n",
    "class JRCAssumedDiagonalGraphTraversal:\n",
    "    \"\"\"\n",
    "    Traverse a supply chain, following paths of greatest impact.\n",
    "    This implementation uses a queue of datasets to assess. As the supply chain is traversed, datasets inputs are added to a list sorted by LCA score. Each activity in the sorted list is assessed, and added to the supply chain graph, as long as its impact is above a certain threshold, and the maximum number of calculations has not been exceeded.\n",
    "    Because the next dataset assessed is chosen by its impact, not its position in the graph, this is neither a breadth-first nor a depth-first search, but rather \"importance-first\".\n",
    "    This class is written in a functional style - no variables are stored in *self*, only methods.\n",
    "    Should be used by calling the ``calculate`` method.\n",
    "    .. warning:: Graph traversal with multioutput processes only works when other inputs are substituted (see `Multioutput processes in LCA <http://chris.mutel.org/multioutput.html>`__ for a description of multiputput process math in LCA).\n",
    "    \"\"\"\n",
    "\n",
    "    def calculate(self, lca, cutoff=0.005, max_calc=1e5, skip_coproducts=False):\n",
    "        \"\"\"\n",
    "        Traverse the supply chain graph.\n",
    "        Args:\n",
    "            * *lca* (dict): An instance of ``bw2calc.lca.LCA``.\n",
    "            * *cutoff* (float, default=0.005): Cutoff criteria to stop LCA calculations. Relative score of total, i.e. 0.005 will cutoff if a dataset has a score less than 0.5 percent of the total.\n",
    "            * *max_calc* (int, default=10000): Maximum number of LCA calculations to perform.\n",
    "        Returns:\n",
    "            Dictionary of nodes, edges, and number of LCA calculations.\n",
    "        \"\"\"\n",
    "        if not hasattr(lca, \"supply_array\"):\n",
    "            lca.lci()\n",
    "        if not hasattr(lca, \"characterized_inventory\"):\n",
    "            lca.lcia()\n",
    "\n",
    "        supply = lca.supply_array.copy()\n",
    "        score = lca.score\n",
    "\n",
    "        if score == 0:\n",
    "            raise ValueError(\"Zero total LCA score makes traversal impossible\")\n",
    "\n",
    "        # Create matrix of LCIA CFs times biosphere flows, as these don't\n",
    "        # change. This is also the unit score of each activity.\n",
    "        characterized_biosphere = np.array(\n",
    "            (lca.characterization_matrix * lca.biosphere_matrix).sum(axis=0)\n",
    "        ).ravel()\n",
    "        characterized_biosphere_neg = characterized_biosphere.copy()\n",
    "        characterized_biosphere_neg[characterized_biosphere_neg > 0] = 0\n",
    "        characterized_biosphere_pos = characterized_biosphere.copy()\n",
    "        characterized_biosphere_pos[characterized_biosphere_pos < 0] = 0\n",
    "\n",
    "        heap, nodes, edges = self.initialize_heap(lca, supply, characterized_biosphere, characterized_biosphere_neg, characterized_biosphere_pos)\n",
    "        nodes, edges, counter = self.traverse(\n",
    "            heap,\n",
    "            nodes,\n",
    "            edges,\n",
    "            0,\n",
    "            max_calc,\n",
    "            cutoff,\n",
    "            score,\n",
    "            supply,\n",
    "            characterized_biosphere,\n",
    "            characterized_biosphere_neg,\n",
    "            characterized_biosphere_pos,\n",
    "            lca,\n",
    "            skip_coproducts,\n",
    "        )\n",
    "\n",
    "        return {\n",
    "            \"nodes\": nodes,\n",
    "            \"edges\": edges,\n",
    "            \"counter\": counter,\n",
    "        }\n",
    "\n",
    "    def initialize_heap(self, lca, supply, characterized_biosphere,\n",
    "            characterized_biosphere_neg,\n",
    "            characterized_biosphere_pos):\n",
    "        \"\"\"\n",
    "        Create a `priority queue <http://docs.python.org/2/library/heapq.html>`_ or ``heap`` to store inventory datasets, sorted by LCA score.\n",
    "        Populates the heap with each activity in ``demand``. Initial nodes are the *functional unit*, i.e. the complete demand, and each activity in the *functional unit*. Initial edges are inputs from each activity into the *functional unit*.\n",
    "        The *functional unit* is an abstract dataset (as it doesn't exist in the matrix), and is assigned the index ``-1``.\n",
    "        \"\"\"\n",
    "        heap, edges = [], []\n",
    "        nodes = {-1: {\"amount\": 1, \"cum\": lca.score, \"ind\": 1e-6 * lca.score}}\n",
    "        for index, amount in enumerate(lca.demand_array):\n",
    "            if amount == 0:\n",
    "                continue\n",
    "            cum_score, cum_score_neg, cum_score_pos = self.cumulative_score(\n",
    "                index, supply, characterized_biosphere,\n",
    "            characterized_biosphere_neg,\n",
    "            characterized_biosphere_pos, lca\n",
    "            )\n",
    "            heappush(heap, (abs(1 / cum_score), index, str(index)))\n",
    "            nodes[index] = {\n",
    "                \"amount\": float(supply[index]),\n",
    "                \"cum\": cum_score,\n",
    "                \"cum_neg\": cum_score_neg,\n",
    "                \"cum_pos\": cum_score_pos,\n",
    "                \"ind\": self.unit_score(index, supply, characterized_biosphere),\n",
    "            }\n",
    "            edges.append(\n",
    "                {\n",
    "                    \"to\": -1,\n",
    "                    \"from\": str(index),\n",
    "                    \"amount\": amount,\n",
    "                    \"exc_amount\": amount,\n",
    "                    \"impact\": cum_score * amount / float(supply[index]),\n",
    "                    \"impact_neg\": cum_score_neg * amount / float(supply[index]),\n",
    "                    \"impact_pos\": cum_score_pos * amount / float(supply[index])\n",
    "                }\n",
    "            )\n",
    "        return heap, nodes, edges\n",
    "\n",
    "    def cumulative_score(self, index, supply, characterized_biosphere,\n",
    "            characterized_biosphere_neg,\n",
    "            characterized_biosphere_pos, lca):\n",
    "        \"\"\"Compute cumulative LCA score for a given activity\"\"\"\n",
    "        demand = np.zeros((supply.shape[0],))\n",
    "        demand[index] = (\n",
    "            supply[index]\n",
    "            *\n",
    "            # Normalize by the production amount\n",
    "            lca.technosphere_matrix[index, index]\n",
    "        )\n",
    "        solved_tech = spsolve(lca.technosphere_matrix, demand)\n",
    "        return (float(\n",
    "            (characterized_biosphere * solved_tech).sum()\n",
    "        ),\n",
    "        float(\n",
    "            (characterized_biosphere_neg * solved_tech).sum()\n",
    "        ),\n",
    "        float(\n",
    "            (characterized_biosphere_pos * solved_tech).sum()\n",
    "        ))\n",
    "\n",
    "    def unit_score(self, index, supply, characterized_biosphere):\n",
    "        \"\"\"Compute the LCA impact caused by the direct emissions and resource consumption of a given activity\"\"\"\n",
    "        return float(characterized_biosphere[index] * supply[index])\n",
    "\n",
    "    def traverse(\n",
    "        self,\n",
    "        heap,\n",
    "        nodes,\n",
    "        edges,\n",
    "        counter,\n",
    "        max_calc,\n",
    "        cutoff,\n",
    "        total_score,\n",
    "        supply,\n",
    "        characterized_biosphere,\n",
    "        characterized_biosphere_neg,\n",
    "        characterized_biosphere_pos,\n",
    "        lca,\n",
    "        skip_coproducts,\n",
    "    ):\n",
    "        \"\"\"\n",
    "        Build a directed graph by traversing the supply chain.\n",
    "        Node ids are actually technosphere row/col indices, which makes lookup easier.\n",
    "        Returns:\n",
    "            (nodes, edges, number of calculations)\n",
    "        \"\"\"\n",
    "        # static_databases = {name for name in databases if databases[name].get(\"static\")}\n",
    "        # reverse = lca.dicts.activity.reversed\n",
    "\n",
    "        while heap:\n",
    "            if counter >= max_calc:\n",
    "                warnings.warn(\"Stopping traversal due to calculation count.\")\n",
    "                break\n",
    "            parent = heappop(heap)\n",
    "            parent_index = parent[1]\n",
    "            full_path_parent = parent[2]\n",
    "            # Skip links from static databases\n",
    "            # if static_databases and reverse[parent_index][0] in static_databases:\n",
    "            #     continue\n",
    "\n",
    "            # Assume that this activity produces its reference product\n",
    "            scale_value = lca.technosphere_matrix[parent_index, parent_index]\n",
    "            if scale_value == 0:\n",
    "                raise ValueError(\n",
    "                    \"Can't rescale activities that produce zero reference product\"\n",
    "                )\n",
    "            col = lca.technosphere_matrix[:, parent_index].tocoo()\n",
    "            # Multiply by -1 because technosphere values are negative\n",
    "            # (consumption of inputs) and rescale\n",
    "            children = [\n",
    "                (int(col.row[i]), float(-1 * col.data[i] / scale_value))\n",
    "                for i in range(col.row.shape[0])\n",
    "            ]\n",
    "            for activity, amount in children:\n",
    "                # Skip values on technosphere diagonal\n",
    "                if activity == parent_index:\n",
    "                    continue\n",
    "                # Skip negative coproducts\n",
    "                if skip_coproducts and amount <= 0:\n",
    "                    continue\n",
    "                counter += 1\n",
    "                full_path_id = full_path_parent + '-' + str(activity)\n",
    "                cumulative_score, cum_score_neg, cum_score_pos = self.cumulative_score(\n",
    "                    activity, supply, characterized_biosphere, characterized_biosphere_neg, characterized_biosphere_pos, lca\n",
    "                )\n",
    "                if abs(cumulative_score) < abs(total_score * cutoff):\n",
    "                    continue\n",
    "\n",
    "                # flow between activity and parent (Multiply by -1 because technosphere values are negative)\n",
    "                flow = (\n",
    "                    -1.0\n",
    "                    * lca.technosphere_matrix[activity, parent_index]\n",
    "                    * supply[parent_index]\n",
    "                )\n",
    "                total_activity_output = (\n",
    "                    lca.technosphere_matrix[activity, activity] * supply[activity]\n",
    "                )\n",
    "\n",
    "                # Edge format is (to, from, mass amount, cumulative impact)\n",
    "                edges.append(\n",
    "                    {\n",
    "                        \"to\": full_path_parent,\n",
    "                        \"from\": full_path_id,\n",
    "                        # \"full_path_id\": full_path_id,\n",
    "                        # Amount of this link * amount of parent demanding link\n",
    "                        \"amount\": flow,\n",
    "                        # Raw exchange value\n",
    "                        \"exc_amount\": amount,\n",
    "                        # Impact related to this flow\n",
    "                        \"impact\": flow / total_activity_output * cumulative_score,\n",
    "                        \"impact_neg\": flow / total_activity_output * cum_score_neg,\n",
    "                        \"impact_pos\": flow / total_activity_output * cum_score_pos\n",
    "                    }\n",
    "                )\n",
    "                # Want multiple incoming edges, but don't add existing node\n",
    "                if activity in nodes:\n",
    "                    continue\n",
    "                nodes[activity] = {\n",
    "                    # Total amount of this flow supplied\n",
    "                    \"amount\": total_activity_output,\n",
    "                    # Cumulative score from all flows of this activity\n",
    "                    \"cum\": cumulative_score,\n",
    "                    \"cum_neg\": cum_score_neg,\n",
    "                    \"cum_pos\": cum_score_pos,\n",
    "                    # Individual score attributable to environmental flows\n",
    "                    # coming directory from or to this activity\n",
    "                    \"ind\": self.unit_score(activity, supply, characterized_biosphere),\n",
    "                }\n",
    "                heappush(heap, (abs(1 / cumulative_score), activity, full_path_id))\n",
    "\n",
    "        return nodes, edges, counter\n"
   ]
  },
  {
   "cell_type": "code",
   "execution_count": 10,
   "metadata": {},
   "outputs": [
    {
     "name": "stdout",
     "output_type": "stream",
     "text": [
      "(2.596035057818545, 8136, '8136') 8136\n",
      "(7.655544916458715, 16404, '8136-16404') 16404\n",
      "(17.45546805194376, 18854, '8136-16404-18854') 18854\n",
      "(17.569790651477238, 12886, '8136-16404-12886') 12886\n",
      "(19.423308135297997, 4040, '8136-4040') 4040\n",
      "(24.217738312751493, 9946, '8136-9946') 9946\n",
      "(24.843883866002464, 15337, '8136-15337') 15337\n",
      "(25.0785173885484, 8000, '8136-15337-8000') 8000\n",
      "(27.434148352416106, 9804, '8136-9804') 9804\n",
      "(29.83196900958809, 14409, '8136-14409') 14409\n",
      "(31.36745183096387, 5074, '8136-14409-5074') 5074\n",
      "(31.30162316721402, 17197, '8136-14409-5074-17197') 17197\n",
      "(32.32575722624459, 18640, '8136-16404-12886-18640') 18640\n",
      "(35.791295231408135, 3149, '8136-9946-3149') 3149\n",
      "(36.457504511353974, 15009, '8136-16404-15009') 15009\n",
      "(37.83443062473079, 11726, '8136-16404-18854-11726') 11726\n",
      "(39.560562862503296, 18139, '8136-16404-12886-18139') 18139\n",
      "(40.81292610188369, 13946, '8136-13946') 13946\n",
      "(44.526765102501656, 11864, '8136-13946-11864') 11864\n",
      "(44.59527428834472, 7881, '8136-13946-11864-7881') 7881\n",
      "(45.46117095307048, 6411, '8136-13946-11864-7881-6411') 6411\n",
      "(45.86355763060215, 11250, '8136-16404-18854-11250') 11250\n",
      "(51.419672906597405, 11168, '8136-16404-12886-11168') 11168\n"
     ]
    }
   ],
   "source": [
    "trav = JRCAssumedDiagonalGraphTraversal().calculate(lca, cutoff=0.05)"
   ]
  },
  {
   "cell_type": "code",
   "execution_count": 11,
   "metadata": {},
   "outputs": [
    {
     "data": {
      "text/plain": [
       "[{'to': -1,\n",
       "  'from': '8136',\n",
       "  'amount': 1.0,\n",
       "  'exc_amount': 1.0,\n",
       "  'impact': 0.3852028103349081,\n",
       "  'impact_neg': -0.0041985319257974475,\n",
       "  'impact_pos': 0.3894013422607055},\n",
       " {'to': '8136',\n",
       "  'from': '8136-4040',\n",
       "  'amount': 0.814000010490703,\n",
       "  'exc_amount': 0.8140000104904175,\n",
       "  'impact': 0.05148407252302469,\n",
       "  'impact_neg': -0.003796729728404199,\n",
       "  'impact_pos': 0.05528080225142889},\n",
       " {'to': '8136',\n",
       "  'from': '8136-9804',\n",
       "  'amount': -0.01462200004607952,\n",
       "  'exc_amount': -0.01462200004607439,\n",
       "  'impact': 0.03637634803738445,\n",
       "  'impact_neg': -4.585507161357016e-08,\n",
       "  'impact_pos': 0.03637639389245605},\n",
       " {'to': '8136',\n",
       "  'from': '8136-9946',\n",
       "  'amount': 0.008120000362399089,\n",
       "  'exc_amount': 0.00812000036239624,\n",
       "  'impact': 0.041284385384511194,\n",
       "  'impact_neg': -6.6761062231768e-08,\n",
       "  'impact_pos': 0.041284452145573435},\n",
       " {'to': '8136',\n",
       "  'from': '8136-13946',\n",
       "  'amount': 0.01462200004607952,\n",
       "  'exc_amount': 0.01462200004607439,\n",
       "  'impact': 0.024502041276781197,\n",
       "  'impact_neg': -0.00026193067357826056,\n",
       "  'impact_pos': 0.024763971950359457},\n",
       " {'to': '8136',\n",
       "  'from': '8136-14409',\n",
       "  'amount': 0.8288000226023721,\n",
       "  'exc_amount': 0.8288000226020813,\n",
       "  'impact': 0.0322220668991692,\n",
       "  'impact_neg': -2.516900299031537e-06,\n",
       "  'impact_pos': 0.03222458379946823},\n",
       " {'to': '8136',\n",
       "  'from': '8136-15337',\n",
       "  'amount': 0.019804999232299125,\n",
       "  'exc_amount': 0.019804999232292175,\n",
       "  'impact': 0.04024815765259258,\n",
       "  'impact_neg': -0.00010549649277379603,\n",
       "  'impact_pos': 0.04035365414536638},\n",
       " {'to': '8136',\n",
       "  'from': '8136-16404',\n",
       "  'amount': 2.887253999711096,\n",
       "  'exc_amount': 2.887253999710083,\n",
       "  'impact': 0.13046470882720684,\n",
       "  'impact_neg': -2.744155104399156e-05,\n",
       "  'impact_pos': 0.13049215037825085},\n",
       " {'to': '8136-16404',\n",
       "  'from': '8136-16404-12886',\n",
       "  'amount': 1.8756302657345472,\n",
       "  'exc_amount': 0.6488307118415833,\n",
       "  'impact': 0.05691587451646282,\n",
       "  'impact_neg': -1.4252348547825135e-05,\n",
       "  'impact_pos': 0.056930126865010644},\n",
       " {'to': '8136-16404',\n",
       "  'from': '8136-16404-15009',\n",
       "  'amount': 0.5574648327198576,\n",
       "  'exc_amount': 0.1928420066833496,\n",
       "  'impact': 0.02742919498751127,\n",
       "  'impact_neg': -9.035648451963762e-06,\n",
       "  'impact_pos': 0.027438230635963234},\n",
       " {'to': '8136-16404',\n",
       "  'from': '8136-16404-18854',\n",
       "  'amount': 0.30353244407058355,\n",
       "  'exc_amount': 0.10499999672174454,\n",
       "  'impact': 0.03982962290747259,\n",
       "  'impact_neg': -2.2677665156920063e-06,\n",
       "  'impact_pos': 0.039831890673988284},\n",
       " {'to': '8136-16404-18854',\n",
       "  'from': '8136-16404-18854-11250',\n",
       "  'amount': 0.17034890792895585,\n",
       "  'exc_amount': 0.39018622040748596,\n",
       "  'impact': 0.021803803535135197,\n",
       "  'impact_neg': -1.236836675706e-06,\n",
       "  'impact_pos': 0.021805040371810906},\n",
       " {'to': '8136-16404-18854',\n",
       "  'from': '8136-16404-18854-11726',\n",
       "  'amount': 0.19519146269433096,\n",
       "  'exc_amount': 0.4470883905887604,\n",
       "  'impact': 0.026430951476942317,\n",
       "  'impact_neg': -1.5137519404445836e-06,\n",
       "  'impact_pos': 0.026432465228882755},\n",
       " {'to': '8136-16404-12886',\n",
       "  'from': '8136-16404-12886-11168',\n",
       "  'amount': 0.0002244961606671852,\n",
       "  'exc_amount': 0.00011969105253228918,\n",
       "  'impact': 0.012187580017730206,\n",
       "  'impact_neg': -6.647763084471542e-07,\n",
       "  'impact_pos': 0.012188244794038653},\n",
       " {'to': '8136-16404-12886',\n",
       "  'from': '8136-16404-12886-18139',\n",
       "  'amount': 0.001156289883129648,\n",
       "  'exc_amount': 0.0006164807127788663,\n",
       "  'impact': 0.013083518015792453,\n",
       "  'impact_neg': -1.1804456102152436e-05,\n",
       "  'impact_pos': 0.013095322471894603},\n",
       " {'to': '8136-16404-12886',\n",
       "  'from': '8136-16404-12886-18640',\n",
       "  'amount': 7.770722076733533e-05,\n",
       "  'exc_amount': 4.142992474953644e-05,\n",
       "  'impact': 0.021584700649502575,\n",
       "  'impact_neg': -8.31535651792409e-07,\n",
       "  'impact_pos': 0.021585532185154365},\n",
       " {'to': '8136-4040',\n",
       "  'from': '8136-4040-18854',\n",
       "  'amount': 0.05698051353519299,\n",
       "  'exc_amount': 0.07000000029802322,\n",
       "  'impact': 0.007477000931910664,\n",
       "  'impact_neg': -4.2571561349137784e-07,\n",
       "  'impact_pos': 0.0074774266475241555},\n",
       " {'to': '8136-9946',\n",
       "  'from': '8136-9946-3149',\n",
       "  'amount': 0.005436599294739061,\n",
       "  'exc_amount': 0.6694076657295227,\n",
       "  'impact': 0.027939754444048854,\n",
       "  'impact_neg': 0.0,\n",
       "  'impact_pos': 0.027939754444048854},\n",
       " {'to': '8136-15337',\n",
       "  'from': '8136-15337-8000',\n",
       "  'amount': 0.01980657277455316,\n",
       "  'exc_amount': 1.0,\n",
       "  'impact': 0.039874765501752896,\n",
       "  'impact_neg': -0.00010547235524257884,\n",
       "  'impact_pos': 0.039980237856995476},\n",
       " {'to': '8136-9804',\n",
       "  'from': '8136-9804-18854',\n",
       "  'amount': 0.00037758141325556165,\n",
       "  'exc_amount': -0.025769999250769615,\n",
       "  'impact': 4.954635196540122e-05,\n",
       "  'impact_neg': -2.8210048140010757e-09,\n",
       "  'impact_pos': 4.954917297021522e-05},\n",
       " {'to': '8136-14409',\n",
       "  'from': '8136-14409-5074',\n",
       "  'amount': 0.8582962401080411,\n",
       "  'exc_amount': 0.995457607648632,\n",
       "  'impact': 0.03188017966486096,\n",
       "  'impact_neg': -2.2677569697958364e-06,\n",
       "  'impact_pos': 0.03188244742183075},\n",
       " {'to': '8136-14409-5074',\n",
       "  'from': '8136-14409-5074-17197',\n",
       "  'amount': 0.8636176389803902,\n",
       "  'exc_amount': 1.0061999559402466,\n",
       "  'impact': 0.031880179664860946,\n",
       "  'impact_neg': -2.26775696979584e-06,\n",
       "  'impact_pos': 0.031882447421830745},\n",
       " {'to': '8136-16404-12886-18640',\n",
       "  'from': '8136-16404-12886-18640-9804',\n",
       "  'amount': -2.7637033576351423e-06,\n",
       "  'exc_amount': -0.024815600365400314,\n",
       "  'impact': 6.875491375502981e-06,\n",
       "  'impact_neg': -8.667064353963178e-12,\n",
       "  'impact_pos': 6.875500042567333e-06},\n",
       " {'to': '8136-16404-15009',\n",
       "  'from': '8136-16404-15009-11168',\n",
       "  'amount': 9.654277390604034e-05,\n",
       "  'exc_amount': 0.00017318181926384568,\n",
       "  'impact': 0.005241171067766463,\n",
       "  'impact_neg': -2.858817213344304e-07,\n",
       "  'impact_pos': 0.005241456949487797},\n",
       " {'to': '8136-16404-15009',\n",
       "  'from': '8136-16404-15009-18139',\n",
       "  'amount': 0.0007935785182299015,\n",
       "  'exc_amount': 0.0014235490234568715,\n",
       "  'impact': 0.008979408184480875,\n",
       "  'impact_neg': -8.101569440961455e-06,\n",
       "  'impact_pos': 0.008987509753921834},\n",
       " {'to': '8136-16404-15009',\n",
       "  'from': '8136-16404-15009-18640',\n",
       "  'amount': 3.359378263721499e-05,\n",
       "  'exc_amount': 6.0261707403697073e-05,\n",
       "  'impact': 0.009331330277270032,\n",
       "  'impact_neg': -3.5948303987152093e-07,\n",
       "  'impact_pos': 0.009331689760309902},\n",
       " {'to': '8136-13946',\n",
       "  'from': '8136-13946-11864',\n",
       "  'amount': 0.015326995011860016,\n",
       "  'exc_amount': 1.0482146739959717,\n",
       "  'impact': 0.022457783366885843,\n",
       "  'impact_neg': -0.0002616827268915513,\n",
       "  'impact_pos': 0.022719466093777393},\n",
       " {'to': '8136-13946',\n",
       "  'from': '8136-13946-14409',\n",
       "  'amount': 0.0011265954775241183,\n",
       "  'exc_amount': 0.07704797387123108,\n",
       "  'impact': 4.3799751273051804e-05,\n",
       "  'impact_neg': -3.4212456768095596e-09,\n",
       "  'impact_pos': 4.380317251872862e-05},\n",
       " {'to': '8136-13946-11864',\n",
       "  'from': '8136-13946-11864-7881',\n",
       "  'amount': 0.015336181827781202,\n",
       "  'exc_amount': 1.0005718161209207,\n",
       "  'impact': 0.022423900647727535,\n",
       "  'impact_neg': -0.00026162911873842104,\n",
       "  'impact_pos': 0.022685529766465953},\n",
       " {'to': '8136-13946-11864-7881',\n",
       "  'from': '8136-13946-11864-7881-6411',\n",
       "  'amount': 0.02888073456083731,\n",
       "  'exc_amount': 1.883176326751709,\n",
       "  'impact': 0.021996793088389352,\n",
       "  'impact_neg': -0.0002615400633396172,\n",
       "  'impact_pos': 0.02225833315172897},\n",
       " {'to': '8136-13946-11864-7881',\n",
       "  'from': '8136-13946-11864-7881-14409',\n",
       "  'amount': 0.001809567657905721,\n",
       "  'exc_amount': 0.11799336224794388,\n",
       "  'impact': 7.035232690815828e-05,\n",
       "  'impact_neg': -5.4952959158952505e-09,\n",
       "  'impact_pos': 7.035782220407418e-05},\n",
       " {'to': '8136-16404-12886-11168',\n",
       "  'from': '8136-16404-12886-11168-9804',\n",
       "  'amount': -3.109326212593496e-06,\n",
       "  'exc_amount': -0.008679688908159733,\n",
       "  'impact': 7.735325681481557e-06,\n",
       "  'impact_neg': -9.750948960409422e-12,\n",
       "  'impact_pos': 7.735335432430516e-06}]"
      ]
     },
     "execution_count": 11,
     "metadata": {},
     "output_type": "execute_result"
    }
   ],
   "source": [
    "trav['edges']"
   ]
  },
  {
   "cell_type": "code",
   "execution_count": 16,
   "metadata": {},
   "outputs": [
    {
     "data": {
      "text/plain": [
       "{'8136': 'biomethane production, high pressure from synthetic gas, wood, fluidised technology' (cubic meter, CH, None),\n",
       " '4040': 'market for wood chips, dry, measured as dry mass' (kilogram, RER, None),\n",
       " '9804': 'market for waste mineral oil' (kilogram, CH, None),\n",
       " '9946': 'market for zeolite, powder' (kilogram, GLO, None),\n",
       " '13946': 'esterification of rape oil' (kilogram, CH, None),\n",
       " '14409': 'market for electricity, medium voltage' (kilowatt hour, CH, None),\n",
       " '15337': 'market for charcoal' (kilogram, GLO, None),\n",
       " '16404': 'market for wood chips, wet, measured as dry mass' (kilogram, CH, None),\n",
       " '12886': 'hardwood forestry, mixed species, sustainable forest management' (kilogram, CH, None),\n",
       " '15009': 'softwood forestry, mixed species, sustainable forest management' (kilogram, CH, None),\n",
       " '18854': 'market for transport, freight, lorry, unspecified' (ton kilometer, RER, None),\n",
       " '11250': 'transport, freight, lorry, all sizes, EURO4 to generic market for transport, freight, lorry, unspecified' (ton kilometer, RER, None),\n",
       " '11726': 'transport, freight, lorry, all sizes, EURO3 to generic market for transport, freight, lorry, unspecified' (ton kilometer, RER, None),\n",
       " '11168': 'skidding, skidder' (hour, RER, None),\n",
       " '18139': 'power sawing, without catalytic converter' (hour, RER, None),\n",
       " '18640': 'wood chipping, mobile chipper, at forest road' (hour, RER, None),\n",
       " '3149': 'zeolite production, powder' (kilogram, RoW, None),\n",
       " '8000': 'charcoal production' (kilogram, GLO, None),\n",
       " '5074': 'electricity voltage transformation from high to medium voltage' (kilowatt hour, CH, None),\n",
       " '17197': 'market for electricity, high voltage' (kilowatt hour, CH, None),\n",
       " '11864': 'market for rape oil, crude' (kilogram, CH, None),\n",
       " '7881': 'rape oil mill operation' (kilogram, CH, None),\n",
       " '6411': 'market for rape seed, Swiss integrated production' (kilogram, GLO, None)}"
      ]
     },
     "execution_count": 16,
     "metadata": {},
     "output_type": "execute_result"
    }
   ],
   "source": [
    "# from Romain to name the activities\n",
    "id_to_key = {v:k for k, v in lca.activity_dict.items()}\n",
    "activities = {str(id): bd.get_activity(id_to_key[id]) for id in list(trav[\"nodes\"].keys())[1:]}\n",
    "activities"
   ]
  },
  {
   "cell_type": "code",
   "execution_count": 27,
   "metadata": {},
   "outputs": [
    {
     "data": {
      "text/html": [
       "<div>\n",
       "<style scoped>\n",
       "    .dataframe tbody tr th:only-of-type {\n",
       "        vertical-align: middle;\n",
       "    }\n",
       "\n",
       "    .dataframe tbody tr th {\n",
       "        vertical-align: top;\n",
       "    }\n",
       "\n",
       "    .dataframe thead th {\n",
       "        text-align: right;\n",
       "    }\n",
       "</style>\n",
       "<table border=\"1\" class=\"dataframe\">\n",
       "  <thead>\n",
       "    <tr style=\"text-align: right;\">\n",
       "      <th></th>\n",
       "      <th>label</th>\n",
       "      <th>parent_ids</th>\n",
       "      <th>parent</th>\n",
       "      <th>labels_short</th>\n",
       "      <th>value</th>\n",
       "    </tr>\n",
       "    <tr>\n",
       "      <th>ids</th>\n",
       "      <th></th>\n",
       "      <th></th>\n",
       "      <th></th>\n",
       "      <th></th>\n",
       "      <th></th>\n",
       "    </tr>\n",
       "  </thead>\n",
       "  <tbody>\n",
       "    <tr>\n",
       "      <th>8136</th>\n",
       "      <td>biomethane production, high pressure from synt...</td>\n",
       "      <td></td>\n",
       "      <td></td>\n",
       "      <td>biomethane product</td>\n",
       "      <td>389</td>\n",
       "    </tr>\n",
       "    <tr>\n",
       "      <th>8136-4040</th>\n",
       "      <td>market for wood chips, dry, measured as dry ma...</td>\n",
       "      <td>8136</td>\n",
       "      <td>biomethane production, high pressure from synt...</td>\n",
       "      <td>market for wood ch</td>\n",
       "      <td>55</td>\n",
       "    </tr>\n",
       "    <tr>\n",
       "      <th>8136-9804</th>\n",
       "      <td>market for waste mineral oil (CH)</td>\n",
       "      <td>8136</td>\n",
       "      <td>biomethane production, high pressure from synt...</td>\n",
       "      <td>market for waste m</td>\n",
       "      <td>36</td>\n",
       "    </tr>\n",
       "    <tr>\n",
       "      <th>8136-9946</th>\n",
       "      <td>market for zeolite, powder (GLO)</td>\n",
       "      <td>8136</td>\n",
       "      <td>biomethane production, high pressure from synt...</td>\n",
       "      <td>market for zeolite</td>\n",
       "      <td>41</td>\n",
       "    </tr>\n",
       "    <tr>\n",
       "      <th>8136-13946</th>\n",
       "      <td>esterification of rape oil (CH)</td>\n",
       "      <td>8136</td>\n",
       "      <td>biomethane production, high pressure from synt...</td>\n",
       "      <td>esterification of</td>\n",
       "      <td>24</td>\n",
       "    </tr>\n",
       "    <tr>\n",
       "      <th>8136-14409</th>\n",
       "      <td>market for electricity, medium voltage (CH)</td>\n",
       "      <td>8136</td>\n",
       "      <td>biomethane production, high pressure from synt...</td>\n",
       "      <td>market for electri</td>\n",
       "      <td>32</td>\n",
       "    </tr>\n",
       "    <tr>\n",
       "      <th>8136-15337</th>\n",
       "      <td>market for charcoal (GLO)</td>\n",
       "      <td>8136</td>\n",
       "      <td>biomethane production, high pressure from synt...</td>\n",
       "      <td>market for charcoa</td>\n",
       "      <td>40</td>\n",
       "    </tr>\n",
       "    <tr>\n",
       "      <th>8136-16404</th>\n",
       "      <td>market for wood chips, wet, measured as dry ma...</td>\n",
       "      <td>8136</td>\n",
       "      <td>biomethane production, high pressure from synt...</td>\n",
       "      <td>market for wood ch</td>\n",
       "      <td>130</td>\n",
       "    </tr>\n",
       "    <tr>\n",
       "      <th>8136-16404-12886</th>\n",
       "      <td>hardwood forestry, mixed species, sustainable ...</td>\n",
       "      <td>8136-16404</td>\n",
       "      <td>market for wood chips, wet, measured as dry ma...</td>\n",
       "      <td>hardwood forestry,</td>\n",
       "      <td>56</td>\n",
       "    </tr>\n",
       "    <tr>\n",
       "      <th>8136-16404-15009</th>\n",
       "      <td>softwood forestry, mixed species, sustainable ...</td>\n",
       "      <td>8136-16404</td>\n",
       "      <td>market for wood chips, wet, measured as dry ma...</td>\n",
       "      <td>softwood forestry,</td>\n",
       "      <td>27</td>\n",
       "    </tr>\n",
       "    <tr>\n",
       "      <th>8136-16404-18854</th>\n",
       "      <td>market for transport, freight, lorry, unspecif...</td>\n",
       "      <td>8136-16404</td>\n",
       "      <td>market for wood chips, wet, measured as dry ma...</td>\n",
       "      <td>market for transpo</td>\n",
       "      <td>39</td>\n",
       "    </tr>\n",
       "    <tr>\n",
       "      <th>8136-16404-18854-11250</th>\n",
       "      <td>transport, freight, lorry, all sizes, EURO4 to...</td>\n",
       "      <td>8136-16404-18854</td>\n",
       "      <td>market for transport, freight, lorry, unspecif...</td>\n",
       "      <td>transport, freight</td>\n",
       "      <td>21</td>\n",
       "    </tr>\n",
       "    <tr>\n",
       "      <th>8136-16404-18854-11726</th>\n",
       "      <td>transport, freight, lorry, all sizes, EURO3 to...</td>\n",
       "      <td>8136-16404-18854</td>\n",
       "      <td>market for transport, freight, lorry, unspecif...</td>\n",
       "      <td>transport, freight</td>\n",
       "      <td>10</td>\n",
       "    </tr>\n",
       "    <tr>\n",
       "      <th>8136-16404-12886-11168</th>\n",
       "      <td>skidding, skidder (RER)</td>\n",
       "      <td>8136-16404-12886</td>\n",
       "      <td>hardwood forestry, mixed species, sustainable ...</td>\n",
       "      <td>skidding, skidder</td>\n",
       "      <td>12</td>\n",
       "    </tr>\n",
       "    <tr>\n",
       "      <th>8136-16404-12886-18139</th>\n",
       "      <td>power sawing, without catalytic converter (RER)</td>\n",
       "      <td>8136-16404-12886</td>\n",
       "      <td>hardwood forestry, mixed species, sustainable ...</td>\n",
       "      <td>power sawing, with</td>\n",
       "      <td>13</td>\n",
       "    </tr>\n",
       "    <tr>\n",
       "      <th>8136-16404-12886-18640</th>\n",
       "      <td>wood chipping, mobile chipper, at forest road ...</td>\n",
       "      <td>8136-16404-12886</td>\n",
       "      <td>hardwood forestry, mixed species, sustainable ...</td>\n",
       "      <td>wood chipping, mob</td>\n",
       "      <td>21</td>\n",
       "    </tr>\n",
       "    <tr>\n",
       "      <th>8136-4040-18854</th>\n",
       "      <td>market for transport, freight, lorry, unspecif...</td>\n",
       "      <td>8136-4040</td>\n",
       "      <td>market for wood chips, dry, measured as dry ma...</td>\n",
       "      <td>market for transpo</td>\n",
       "      <td>7</td>\n",
       "    </tr>\n",
       "    <tr>\n",
       "      <th>8136-9946-3149</th>\n",
       "      <td>zeolite production, powder (RoW)</td>\n",
       "      <td>8136-9946</td>\n",
       "      <td>market for zeolite, powder (GLO)</td>\n",
       "      <td>zeolite production</td>\n",
       "      <td>27</td>\n",
       "    </tr>\n",
       "    <tr>\n",
       "      <th>8136-15337-8000</th>\n",
       "      <td>charcoal production (GLO)</td>\n",
       "      <td>8136-15337</td>\n",
       "      <td>market for charcoal (GLO)</td>\n",
       "      <td>charcoal productio</td>\n",
       "      <td>39</td>\n",
       "    </tr>\n",
       "    <tr>\n",
       "      <th>8136-9804-18854</th>\n",
       "      <td>market for transport, freight, lorry, unspecif...</td>\n",
       "      <td>8136-9804</td>\n",
       "      <td>market for waste mineral oil (CH)</td>\n",
       "      <td>market for transpo</td>\n",
       "      <td>0</td>\n",
       "    </tr>\n",
       "    <tr>\n",
       "      <th>8136-14409-5074</th>\n",
       "      <td>electricity voltage transformation from high t...</td>\n",
       "      <td>8136-14409</td>\n",
       "      <td>market for electricity, medium voltage (CH)</td>\n",
       "      <td>electricity voltag</td>\n",
       "      <td>31</td>\n",
       "    </tr>\n",
       "    <tr>\n",
       "      <th>8136-14409-5074-17197</th>\n",
       "      <td>market for electricity, high voltage (CH)</td>\n",
       "      <td>8136-14409-5074</td>\n",
       "      <td>electricity voltage transformation from high t...</td>\n",
       "      <td>market for electri</td>\n",
       "      <td>31</td>\n",
       "    </tr>\n",
       "    <tr>\n",
       "      <th>8136-16404-12886-18640-9804</th>\n",
       "      <td>market for waste mineral oil (CH)</td>\n",
       "      <td>8136-16404-12886-18640</td>\n",
       "      <td>wood chipping, mobile chipper, at forest road ...</td>\n",
       "      <td>market for waste m</td>\n",
       "      <td>0</td>\n",
       "    </tr>\n",
       "    <tr>\n",
       "      <th>8136-16404-15009-11168</th>\n",
       "      <td>skidding, skidder (RER)</td>\n",
       "      <td>8136-16404-15009</td>\n",
       "      <td>softwood forestry, mixed species, sustainable ...</td>\n",
       "      <td>skidding, skidder</td>\n",
       "      <td>5</td>\n",
       "    </tr>\n",
       "    <tr>\n",
       "      <th>8136-16404-15009-18139</th>\n",
       "      <td>power sawing, without catalytic converter (RER)</td>\n",
       "      <td>8136-16404-15009</td>\n",
       "      <td>softwood forestry, mixed species, sustainable ...</td>\n",
       "      <td>power sawing, with</td>\n",
       "      <td>8</td>\n",
       "    </tr>\n",
       "    <tr>\n",
       "      <th>8136-16404-15009-18640</th>\n",
       "      <td>wood chipping, mobile chipper, at forest road ...</td>\n",
       "      <td>8136-16404-15009</td>\n",
       "      <td>softwood forestry, mixed species, sustainable ...</td>\n",
       "      <td>wood chipping, mob</td>\n",
       "      <td>9</td>\n",
       "    </tr>\n",
       "    <tr>\n",
       "      <th>8136-13946-11864</th>\n",
       "      <td>market for rape oil, crude (CH)</td>\n",
       "      <td>8136-13946</td>\n",
       "      <td>esterification of rape oil (CH)</td>\n",
       "      <td>market for rape oi</td>\n",
       "      <td>22</td>\n",
       "    </tr>\n",
       "    <tr>\n",
       "      <th>8136-13946-14409</th>\n",
       "      <td>market for electricity, medium voltage (CH)</td>\n",
       "      <td>8136-13946</td>\n",
       "      <td>esterification of rape oil (CH)</td>\n",
       "      <td>market for electri</td>\n",
       "      <td>0</td>\n",
       "    </tr>\n",
       "    <tr>\n",
       "      <th>8136-13946-11864-7881</th>\n",
       "      <td>rape oil mill operation (CH)</td>\n",
       "      <td>8136-13946-11864</td>\n",
       "      <td>market for rape oil, crude (CH)</td>\n",
       "      <td>rape oil mill oper</td>\n",
       "      <td>22</td>\n",
       "    </tr>\n",
       "    <tr>\n",
       "      <th>8136-13946-11864-7881-6411</th>\n",
       "      <td>market for rape seed, Swiss integrated product...</td>\n",
       "      <td>8136-13946-11864-7881</td>\n",
       "      <td>rape oil mill operation (CH)</td>\n",
       "      <td>market for rape se</td>\n",
       "      <td>22</td>\n",
       "    </tr>\n",
       "    <tr>\n",
       "      <th>8136-13946-11864-7881-14409</th>\n",
       "      <td>market for electricity, medium voltage (CH)</td>\n",
       "      <td>8136-13946-11864-7881</td>\n",
       "      <td>rape oil mill operation (CH)</td>\n",
       "      <td>market for electri</td>\n",
       "      <td>0</td>\n",
       "    </tr>\n",
       "    <tr>\n",
       "      <th>8136-16404-12886-11168-9804</th>\n",
       "      <td>market for waste mineral oil (CH)</td>\n",
       "      <td>8136-16404-12886-11168</td>\n",
       "      <td>skidding, skidder (RER)</td>\n",
       "      <td>market for waste m</td>\n",
       "      <td>0</td>\n",
       "    </tr>\n",
       "  </tbody>\n",
       "</table>\n",
       "</div>"
      ],
      "text/plain": [
       "                                                                         label  \\\n",
       "ids                                                                              \n",
       "8136                         biomethane production, high pressure from synt...   \n",
       "8136-4040                    market for wood chips, dry, measured as dry ma...   \n",
       "8136-9804                                    market for waste mineral oil (CH)   \n",
       "8136-9946                                     market for zeolite, powder (GLO)   \n",
       "8136-13946                                     esterification of rape oil (CH)   \n",
       "8136-14409                         market for electricity, medium voltage (CH)   \n",
       "8136-15337                                           market for charcoal (GLO)   \n",
       "8136-16404                   market for wood chips, wet, measured as dry ma...   \n",
       "8136-16404-12886             hardwood forestry, mixed species, sustainable ...   \n",
       "8136-16404-15009             softwood forestry, mixed species, sustainable ...   \n",
       "8136-16404-18854             market for transport, freight, lorry, unspecif...   \n",
       "8136-16404-18854-11250       transport, freight, lorry, all sizes, EURO4 to...   \n",
       "8136-16404-18854-11726       transport, freight, lorry, all sizes, EURO3 to...   \n",
       "8136-16404-12886-11168                                 skidding, skidder (RER)   \n",
       "8136-16404-12886-18139         power sawing, without catalytic converter (RER)   \n",
       "8136-16404-12886-18640       wood chipping, mobile chipper, at forest road ...   \n",
       "8136-4040-18854              market for transport, freight, lorry, unspecif...   \n",
       "8136-9946-3149                                zeolite production, powder (RoW)   \n",
       "8136-15337-8000                                      charcoal production (GLO)   \n",
       "8136-9804-18854              market for transport, freight, lorry, unspecif...   \n",
       "8136-14409-5074              electricity voltage transformation from high t...   \n",
       "8136-14409-5074-17197                market for electricity, high voltage (CH)   \n",
       "8136-16404-12886-18640-9804                  market for waste mineral oil (CH)   \n",
       "8136-16404-15009-11168                                 skidding, skidder (RER)   \n",
       "8136-16404-15009-18139         power sawing, without catalytic converter (RER)   \n",
       "8136-16404-15009-18640       wood chipping, mobile chipper, at forest road ...   \n",
       "8136-13946-11864                               market for rape oil, crude (CH)   \n",
       "8136-13946-14409                   market for electricity, medium voltage (CH)   \n",
       "8136-13946-11864-7881                             rape oil mill operation (CH)   \n",
       "8136-13946-11864-7881-6411   market for rape seed, Swiss integrated product...   \n",
       "8136-13946-11864-7881-14409        market for electricity, medium voltage (CH)   \n",
       "8136-16404-12886-11168-9804                  market for waste mineral oil (CH)   \n",
       "\n",
       "                                         parent_ids  \\\n",
       "ids                                                   \n",
       "8136                                                  \n",
       "8136-4040                                      8136   \n",
       "8136-9804                                      8136   \n",
       "8136-9946                                      8136   \n",
       "8136-13946                                     8136   \n",
       "8136-14409                                     8136   \n",
       "8136-15337                                     8136   \n",
       "8136-16404                                     8136   \n",
       "8136-16404-12886                         8136-16404   \n",
       "8136-16404-15009                         8136-16404   \n",
       "8136-16404-18854                         8136-16404   \n",
       "8136-16404-18854-11250             8136-16404-18854   \n",
       "8136-16404-18854-11726             8136-16404-18854   \n",
       "8136-16404-12886-11168             8136-16404-12886   \n",
       "8136-16404-12886-18139             8136-16404-12886   \n",
       "8136-16404-12886-18640             8136-16404-12886   \n",
       "8136-4040-18854                           8136-4040   \n",
       "8136-9946-3149                            8136-9946   \n",
       "8136-15337-8000                          8136-15337   \n",
       "8136-9804-18854                           8136-9804   \n",
       "8136-14409-5074                          8136-14409   \n",
       "8136-14409-5074-17197               8136-14409-5074   \n",
       "8136-16404-12886-18640-9804  8136-16404-12886-18640   \n",
       "8136-16404-15009-11168             8136-16404-15009   \n",
       "8136-16404-15009-18139             8136-16404-15009   \n",
       "8136-16404-15009-18640             8136-16404-15009   \n",
       "8136-13946-11864                         8136-13946   \n",
       "8136-13946-14409                         8136-13946   \n",
       "8136-13946-11864-7881              8136-13946-11864   \n",
       "8136-13946-11864-7881-6411    8136-13946-11864-7881   \n",
       "8136-13946-11864-7881-14409   8136-13946-11864-7881   \n",
       "8136-16404-12886-11168-9804  8136-16404-12886-11168   \n",
       "\n",
       "                                                                        parent  \\\n",
       "ids                                                                              \n",
       "8136                                                                             \n",
       "8136-4040                    biomethane production, high pressure from synt...   \n",
       "8136-9804                    biomethane production, high pressure from synt...   \n",
       "8136-9946                    biomethane production, high pressure from synt...   \n",
       "8136-13946                   biomethane production, high pressure from synt...   \n",
       "8136-14409                   biomethane production, high pressure from synt...   \n",
       "8136-15337                   biomethane production, high pressure from synt...   \n",
       "8136-16404                   biomethane production, high pressure from synt...   \n",
       "8136-16404-12886             market for wood chips, wet, measured as dry ma...   \n",
       "8136-16404-15009             market for wood chips, wet, measured as dry ma...   \n",
       "8136-16404-18854             market for wood chips, wet, measured as dry ma...   \n",
       "8136-16404-18854-11250       market for transport, freight, lorry, unspecif...   \n",
       "8136-16404-18854-11726       market for transport, freight, lorry, unspecif...   \n",
       "8136-16404-12886-11168       hardwood forestry, mixed species, sustainable ...   \n",
       "8136-16404-12886-18139       hardwood forestry, mixed species, sustainable ...   \n",
       "8136-16404-12886-18640       hardwood forestry, mixed species, sustainable ...   \n",
       "8136-4040-18854              market for wood chips, dry, measured as dry ma...   \n",
       "8136-9946-3149                                market for zeolite, powder (GLO)   \n",
       "8136-15337-8000                                      market for charcoal (GLO)   \n",
       "8136-9804-18854                              market for waste mineral oil (CH)   \n",
       "8136-14409-5074                    market for electricity, medium voltage (CH)   \n",
       "8136-14409-5074-17197        electricity voltage transformation from high t...   \n",
       "8136-16404-12886-18640-9804  wood chipping, mobile chipper, at forest road ...   \n",
       "8136-16404-15009-11168       softwood forestry, mixed species, sustainable ...   \n",
       "8136-16404-15009-18139       softwood forestry, mixed species, sustainable ...   \n",
       "8136-16404-15009-18640       softwood forestry, mixed species, sustainable ...   \n",
       "8136-13946-11864                               esterification of rape oil (CH)   \n",
       "8136-13946-14409                               esterification of rape oil (CH)   \n",
       "8136-13946-11864-7881                          market for rape oil, crude (CH)   \n",
       "8136-13946-11864-7881-6411                        rape oil mill operation (CH)   \n",
       "8136-13946-11864-7881-14409                       rape oil mill operation (CH)   \n",
       "8136-16404-12886-11168-9804                            skidding, skidder (RER)   \n",
       "\n",
       "                                   labels_short  value  \n",
       "ids                                                     \n",
       "8136                         biomethane product    389  \n",
       "8136-4040                    market for wood ch     55  \n",
       "8136-9804                    market for waste m     36  \n",
       "8136-9946                    market for zeolite     41  \n",
       "8136-13946                   esterification of      24  \n",
       "8136-14409                   market for electri     32  \n",
       "8136-15337                   market for charcoa     40  \n",
       "8136-16404                   market for wood ch    130  \n",
       "8136-16404-12886             hardwood forestry,     56  \n",
       "8136-16404-15009             softwood forestry,     27  \n",
       "8136-16404-18854             market for transpo     39  \n",
       "8136-16404-18854-11250       transport, freight     21  \n",
       "8136-16404-18854-11726       transport, freight     10  \n",
       "8136-16404-12886-11168       skidding, skidder      12  \n",
       "8136-16404-12886-18139       power sawing, with     13  \n",
       "8136-16404-12886-18640       wood chipping, mob     21  \n",
       "8136-4040-18854              market for transpo      7  \n",
       "8136-9946-3149               zeolite production     27  \n",
       "8136-15337-8000              charcoal productio     39  \n",
       "8136-9804-18854              market for transpo      0  \n",
       "8136-14409-5074              electricity voltag     31  \n",
       "8136-14409-5074-17197        market for electri     31  \n",
       "8136-16404-12886-18640-9804  market for waste m      0  \n",
       "8136-16404-15009-11168       skidding, skidder       5  \n",
       "8136-16404-15009-18139       power sawing, with      8  \n",
       "8136-16404-15009-18640       wood chipping, mob      9  \n",
       "8136-13946-11864             market for rape oi     22  \n",
       "8136-13946-14409             market for electri      0  \n",
       "8136-13946-11864-7881        rape oil mill oper     22  \n",
       "8136-13946-11864-7881-6411   market for rape se     22  \n",
       "8136-13946-11864-7881-14409  market for electri      0  \n",
       "8136-16404-12886-11168-9804  market for waste m      0  "
      ]
     },
     "metadata": {},
     "output_type": "display_data"
    },
    {
     "data": {
      "application/vnd.plotly.v1+json": {
       "config": {
        "plotlyServerURL": "https://plot.ly"
       },
       "data": [
        {
         "branchvalues": "total",
         "hovertext": [
          "biomethane production, high pressure from synthetic gas, wood, fluidised technology (CH)",
          "market for wood chips, dry, measured as dry mass (RER)",
          "market for waste mineral oil (CH)",
          "market for zeolite, powder (GLO)",
          "esterification of rape oil (CH)",
          "market for electricity, medium voltage (CH)",
          "market for charcoal (GLO)",
          "market for wood chips, wet, measured as dry mass (CH)",
          "hardwood forestry, mixed species, sustainable forest management (CH)",
          "softwood forestry, mixed species, sustainable forest management (CH)",
          "market for transport, freight, lorry, unspecified (RER)",
          "transport, freight, lorry, all sizes, EURO4 to generic market for transport, freight, lorry, unspecified (RER)",
          "transport, freight, lorry, all sizes, EURO3 to generic market for transport, freight, lorry, unspecified (RER)",
          "skidding, skidder (RER)",
          "power sawing, without catalytic converter (RER)",
          "wood chipping, mobile chipper, at forest road (RER)",
          "market for transport, freight, lorry, unspecified (RER)",
          "zeolite production, powder (RoW)",
          "charcoal production (GLO)",
          "market for transport, freight, lorry, unspecified (RER)",
          "electricity voltage transformation from high to medium voltage (CH)",
          "market for electricity, high voltage (CH)",
          "market for waste mineral oil (CH)",
          "skidding, skidder (RER)",
          "power sawing, without catalytic converter (RER)",
          "wood chipping, mobile chipper, at forest road (RER)",
          "market for rape oil, crude (CH)",
          "market for electricity, medium voltage (CH)",
          "rape oil mill operation (CH)",
          "market for rape seed, Swiss integrated production (GLO)",
          "market for electricity, medium voltage (CH)",
          "market for waste mineral oil (CH)"
         ],
         "ids": [
          "8136",
          "8136-4040",
          "8136-9804",
          "8136-9946",
          "8136-13946",
          "8136-14409",
          "8136-15337",
          "8136-16404",
          "8136-16404-12886",
          "8136-16404-15009",
          "8136-16404-18854",
          "8136-16404-18854-11250",
          "8136-16404-18854-11726",
          "8136-16404-12886-11168",
          "8136-16404-12886-18139",
          "8136-16404-12886-18640",
          "8136-4040-18854",
          "8136-9946-3149",
          "8136-15337-8000",
          "8136-9804-18854",
          "8136-14409-5074",
          "8136-14409-5074-17197",
          "8136-16404-12886-18640-9804",
          "8136-16404-15009-11168",
          "8136-16404-15009-18139",
          "8136-16404-15009-18640",
          "8136-13946-11864",
          "8136-13946-14409",
          "8136-13946-11864-7881",
          "8136-13946-11864-7881-6411",
          "8136-13946-11864-7881-14409",
          "8136-16404-12886-11168-9804"
         ],
         "labels": [
          "biomethane product",
          "market for wood ch",
          "market for waste m",
          "market for zeolite",
          "esterification of ",
          "market for electri",
          "market for charcoa",
          "market for wood ch",
          "hardwood forestry,",
          "softwood forestry,",
          "market for transpo",
          "transport, freight",
          "transport, freight",
          "skidding, skidder ",
          "power sawing, with",
          "wood chipping, mob",
          "market for transpo",
          "zeolite production",
          "charcoal productio",
          "market for transpo",
          "electricity voltag",
          "market for electri",
          "market for waste m",
          "skidding, skidder ",
          "power sawing, with",
          "wood chipping, mob",
          "market for rape oi",
          "market for electri",
          "rape oil mill oper",
          "market for rape se",
          "market for electri",
          "market for waste m"
         ],
         "parents": [
          "",
          "8136",
          "8136",
          "8136",
          "8136",
          "8136",
          "8136",
          "8136",
          "8136-16404",
          "8136-16404",
          "8136-16404",
          "8136-16404-18854",
          "8136-16404-18854",
          "8136-16404-12886",
          "8136-16404-12886",
          "8136-16404-12886",
          "8136-4040",
          "8136-9946",
          "8136-15337",
          "8136-9804",
          "8136-14409",
          "8136-14409-5074",
          "8136-16404-12886-18640",
          "8136-16404-15009",
          "8136-16404-15009",
          "8136-16404-15009",
          "8136-13946",
          "8136-13946",
          "8136-13946-11864",
          "8136-13946-11864-7881",
          "8136-13946-11864-7881",
          "8136-16404-12886-11168"
         ],
         "type": "sunburst",
         "values": [
          389,
          55,
          36,
          41,
          24,
          32,
          40,
          130,
          56,
          27,
          39,
          21,
          10,
          12,
          13,
          21,
          7,
          27,
          39,
          0,
          31,
          31,
          0,
          5,
          8,
          9,
          22,
          0,
          22,
          22,
          0,
          0
         ]
        }
       ],
       "layout": {
        "template": {
         "data": {
          "bar": [
           {
            "error_x": {
             "color": "#2a3f5f"
            },
            "error_y": {
             "color": "#2a3f5f"
            },
            "marker": {
             "line": {
              "color": "#E5ECF6",
              "width": 0.5
             },
             "pattern": {
              "fillmode": "overlay",
              "size": 10,
              "solidity": 0.2
             }
            },
            "type": "bar"
           }
          ],
          "barpolar": [
           {
            "marker": {
             "line": {
              "color": "#E5ECF6",
              "width": 0.5
             },
             "pattern": {
              "fillmode": "overlay",
              "size": 10,
              "solidity": 0.2
             }
            },
            "type": "barpolar"
           }
          ],
          "carpet": [
           {
            "aaxis": {
             "endlinecolor": "#2a3f5f",
             "gridcolor": "white",
             "linecolor": "white",
             "minorgridcolor": "white",
             "startlinecolor": "#2a3f5f"
            },
            "baxis": {
             "endlinecolor": "#2a3f5f",
             "gridcolor": "white",
             "linecolor": "white",
             "minorgridcolor": "white",
             "startlinecolor": "#2a3f5f"
            },
            "type": "carpet"
           }
          ],
          "choropleth": [
           {
            "colorbar": {
             "outlinewidth": 0,
             "ticks": ""
            },
            "type": "choropleth"
           }
          ],
          "contour": [
           {
            "colorbar": {
             "outlinewidth": 0,
             "ticks": ""
            },
            "colorscale": [
             [
              0,
              "#0d0887"
             ],
             [
              0.1111111111111111,
              "#46039f"
             ],
             [
              0.2222222222222222,
              "#7201a8"
             ],
             [
              0.3333333333333333,
              "#9c179e"
             ],
             [
              0.4444444444444444,
              "#bd3786"
             ],
             [
              0.5555555555555556,
              "#d8576b"
             ],
             [
              0.6666666666666666,
              "#ed7953"
             ],
             [
              0.7777777777777778,
              "#fb9f3a"
             ],
             [
              0.8888888888888888,
              "#fdca26"
             ],
             [
              1,
              "#f0f921"
             ]
            ],
            "type": "contour"
           }
          ],
          "contourcarpet": [
           {
            "colorbar": {
             "outlinewidth": 0,
             "ticks": ""
            },
            "type": "contourcarpet"
           }
          ],
          "heatmap": [
           {
            "colorbar": {
             "outlinewidth": 0,
             "ticks": ""
            },
            "colorscale": [
             [
              0,
              "#0d0887"
             ],
             [
              0.1111111111111111,
              "#46039f"
             ],
             [
              0.2222222222222222,
              "#7201a8"
             ],
             [
              0.3333333333333333,
              "#9c179e"
             ],
             [
              0.4444444444444444,
              "#bd3786"
             ],
             [
              0.5555555555555556,
              "#d8576b"
             ],
             [
              0.6666666666666666,
              "#ed7953"
             ],
             [
              0.7777777777777778,
              "#fb9f3a"
             ],
             [
              0.8888888888888888,
              "#fdca26"
             ],
             [
              1,
              "#f0f921"
             ]
            ],
            "type": "heatmap"
           }
          ],
          "heatmapgl": [
           {
            "colorbar": {
             "outlinewidth": 0,
             "ticks": ""
            },
            "colorscale": [
             [
              0,
              "#0d0887"
             ],
             [
              0.1111111111111111,
              "#46039f"
             ],
             [
              0.2222222222222222,
              "#7201a8"
             ],
             [
              0.3333333333333333,
              "#9c179e"
             ],
             [
              0.4444444444444444,
              "#bd3786"
             ],
             [
              0.5555555555555556,
              "#d8576b"
             ],
             [
              0.6666666666666666,
              "#ed7953"
             ],
             [
              0.7777777777777778,
              "#fb9f3a"
             ],
             [
              0.8888888888888888,
              "#fdca26"
             ],
             [
              1,
              "#f0f921"
             ]
            ],
            "type": "heatmapgl"
           }
          ],
          "histogram": [
           {
            "marker": {
             "pattern": {
              "fillmode": "overlay",
              "size": 10,
              "solidity": 0.2
             }
            },
            "type": "histogram"
           }
          ],
          "histogram2d": [
           {
            "colorbar": {
             "outlinewidth": 0,
             "ticks": ""
            },
            "colorscale": [
             [
              0,
              "#0d0887"
             ],
             [
              0.1111111111111111,
              "#46039f"
             ],
             [
              0.2222222222222222,
              "#7201a8"
             ],
             [
              0.3333333333333333,
              "#9c179e"
             ],
             [
              0.4444444444444444,
              "#bd3786"
             ],
             [
              0.5555555555555556,
              "#d8576b"
             ],
             [
              0.6666666666666666,
              "#ed7953"
             ],
             [
              0.7777777777777778,
              "#fb9f3a"
             ],
             [
              0.8888888888888888,
              "#fdca26"
             ],
             [
              1,
              "#f0f921"
             ]
            ],
            "type": "histogram2d"
           }
          ],
          "histogram2dcontour": [
           {
            "colorbar": {
             "outlinewidth": 0,
             "ticks": ""
            },
            "colorscale": [
             [
              0,
              "#0d0887"
             ],
             [
              0.1111111111111111,
              "#46039f"
             ],
             [
              0.2222222222222222,
              "#7201a8"
             ],
             [
              0.3333333333333333,
              "#9c179e"
             ],
             [
              0.4444444444444444,
              "#bd3786"
             ],
             [
              0.5555555555555556,
              "#d8576b"
             ],
             [
              0.6666666666666666,
              "#ed7953"
             ],
             [
              0.7777777777777778,
              "#fb9f3a"
             ],
             [
              0.8888888888888888,
              "#fdca26"
             ],
             [
              1,
              "#f0f921"
             ]
            ],
            "type": "histogram2dcontour"
           }
          ],
          "mesh3d": [
           {
            "colorbar": {
             "outlinewidth": 0,
             "ticks": ""
            },
            "type": "mesh3d"
           }
          ],
          "parcoords": [
           {
            "line": {
             "colorbar": {
              "outlinewidth": 0,
              "ticks": ""
             }
            },
            "type": "parcoords"
           }
          ],
          "pie": [
           {
            "automargin": true,
            "type": "pie"
           }
          ],
          "scatter": [
           {
            "fillpattern": {
             "fillmode": "overlay",
             "size": 10,
             "solidity": 0.2
            },
            "type": "scatter"
           }
          ],
          "scatter3d": [
           {
            "line": {
             "colorbar": {
              "outlinewidth": 0,
              "ticks": ""
             }
            },
            "marker": {
             "colorbar": {
              "outlinewidth": 0,
              "ticks": ""
             }
            },
            "type": "scatter3d"
           }
          ],
          "scattercarpet": [
           {
            "marker": {
             "colorbar": {
              "outlinewidth": 0,
              "ticks": ""
             }
            },
            "type": "scattercarpet"
           }
          ],
          "scattergeo": [
           {
            "marker": {
             "colorbar": {
              "outlinewidth": 0,
              "ticks": ""
             }
            },
            "type": "scattergeo"
           }
          ],
          "scattergl": [
           {
            "marker": {
             "colorbar": {
              "outlinewidth": 0,
              "ticks": ""
             }
            },
            "type": "scattergl"
           }
          ],
          "scattermapbox": [
           {
            "marker": {
             "colorbar": {
              "outlinewidth": 0,
              "ticks": ""
             }
            },
            "type": "scattermapbox"
           }
          ],
          "scatterpolar": [
           {
            "marker": {
             "colorbar": {
              "outlinewidth": 0,
              "ticks": ""
             }
            },
            "type": "scatterpolar"
           }
          ],
          "scatterpolargl": [
           {
            "marker": {
             "colorbar": {
              "outlinewidth": 0,
              "ticks": ""
             }
            },
            "type": "scatterpolargl"
           }
          ],
          "scatterternary": [
           {
            "marker": {
             "colorbar": {
              "outlinewidth": 0,
              "ticks": ""
             }
            },
            "type": "scatterternary"
           }
          ],
          "surface": [
           {
            "colorbar": {
             "outlinewidth": 0,
             "ticks": ""
            },
            "colorscale": [
             [
              0,
              "#0d0887"
             ],
             [
              0.1111111111111111,
              "#46039f"
             ],
             [
              0.2222222222222222,
              "#7201a8"
             ],
             [
              0.3333333333333333,
              "#9c179e"
             ],
             [
              0.4444444444444444,
              "#bd3786"
             ],
             [
              0.5555555555555556,
              "#d8576b"
             ],
             [
              0.6666666666666666,
              "#ed7953"
             ],
             [
              0.7777777777777778,
              "#fb9f3a"
             ],
             [
              0.8888888888888888,
              "#fdca26"
             ],
             [
              1,
              "#f0f921"
             ]
            ],
            "type": "surface"
           }
          ],
          "table": [
           {
            "cells": {
             "fill": {
              "color": "#EBF0F8"
             },
             "line": {
              "color": "white"
             }
            },
            "header": {
             "fill": {
              "color": "#C8D4E3"
             },
             "line": {
              "color": "white"
             }
            },
            "type": "table"
           }
          ]
         },
         "layout": {
          "annotationdefaults": {
           "arrowcolor": "#2a3f5f",
           "arrowhead": 0,
           "arrowwidth": 1
          },
          "autotypenumbers": "strict",
          "coloraxis": {
           "colorbar": {
            "outlinewidth": 0,
            "ticks": ""
           }
          },
          "colorscale": {
           "diverging": [
            [
             0,
             "#8e0152"
            ],
            [
             0.1,
             "#c51b7d"
            ],
            [
             0.2,
             "#de77ae"
            ],
            [
             0.3,
             "#f1b6da"
            ],
            [
             0.4,
             "#fde0ef"
            ],
            [
             0.5,
             "#f7f7f7"
            ],
            [
             0.6,
             "#e6f5d0"
            ],
            [
             0.7,
             "#b8e186"
            ],
            [
             0.8,
             "#7fbc41"
            ],
            [
             0.9,
             "#4d9221"
            ],
            [
             1,
             "#276419"
            ]
           ],
           "sequential": [
            [
             0,
             "#0d0887"
            ],
            [
             0.1111111111111111,
             "#46039f"
            ],
            [
             0.2222222222222222,
             "#7201a8"
            ],
            [
             0.3333333333333333,
             "#9c179e"
            ],
            [
             0.4444444444444444,
             "#bd3786"
            ],
            [
             0.5555555555555556,
             "#d8576b"
            ],
            [
             0.6666666666666666,
             "#ed7953"
            ],
            [
             0.7777777777777778,
             "#fb9f3a"
            ],
            [
             0.8888888888888888,
             "#fdca26"
            ],
            [
             1,
             "#f0f921"
            ]
           ],
           "sequentialminus": [
            [
             0,
             "#0d0887"
            ],
            [
             0.1111111111111111,
             "#46039f"
            ],
            [
             0.2222222222222222,
             "#7201a8"
            ],
            [
             0.3333333333333333,
             "#9c179e"
            ],
            [
             0.4444444444444444,
             "#bd3786"
            ],
            [
             0.5555555555555556,
             "#d8576b"
            ],
            [
             0.6666666666666666,
             "#ed7953"
            ],
            [
             0.7777777777777778,
             "#fb9f3a"
            ],
            [
             0.8888888888888888,
             "#fdca26"
            ],
            [
             1,
             "#f0f921"
            ]
           ]
          },
          "colorway": [
           "#636efa",
           "#EF553B",
           "#00cc96",
           "#ab63fa",
           "#FFA15A",
           "#19d3f3",
           "#FF6692",
           "#B6E880",
           "#FF97FF",
           "#FECB52"
          ],
          "font": {
           "color": "#2a3f5f"
          },
          "geo": {
           "bgcolor": "white",
           "lakecolor": "white",
           "landcolor": "#E5ECF6",
           "showlakes": true,
           "showland": true,
           "subunitcolor": "white"
          },
          "hoverlabel": {
           "align": "left"
          },
          "hovermode": "closest",
          "mapbox": {
           "style": "light"
          },
          "paper_bgcolor": "white",
          "plot_bgcolor": "#E5ECF6",
          "polar": {
           "angularaxis": {
            "gridcolor": "white",
            "linecolor": "white",
            "ticks": ""
           },
           "bgcolor": "#E5ECF6",
           "radialaxis": {
            "gridcolor": "white",
            "linecolor": "white",
            "ticks": ""
           }
          },
          "scene": {
           "xaxis": {
            "backgroundcolor": "#E5ECF6",
            "gridcolor": "white",
            "gridwidth": 2,
            "linecolor": "white",
            "showbackground": true,
            "ticks": "",
            "zerolinecolor": "white"
           },
           "yaxis": {
            "backgroundcolor": "#E5ECF6",
            "gridcolor": "white",
            "gridwidth": 2,
            "linecolor": "white",
            "showbackground": true,
            "ticks": "",
            "zerolinecolor": "white"
           },
           "zaxis": {
            "backgroundcolor": "#E5ECF6",
            "gridcolor": "white",
            "gridwidth": 2,
            "linecolor": "white",
            "showbackground": true,
            "ticks": "",
            "zerolinecolor": "white"
           }
          },
          "shapedefaults": {
           "line": {
            "color": "#2a3f5f"
           }
          },
          "ternary": {
           "aaxis": {
            "gridcolor": "white",
            "linecolor": "white",
            "ticks": ""
           },
           "baxis": {
            "gridcolor": "white",
            "linecolor": "white",
            "ticks": ""
           },
           "bgcolor": "#E5ECF6",
           "caxis": {
            "gridcolor": "white",
            "linecolor": "white",
            "ticks": ""
           }
          },
          "title": {
           "x": 0.05
          },
          "xaxis": {
           "automargin": true,
           "gridcolor": "white",
           "linecolor": "white",
           "ticks": "",
           "title": {
            "standoff": 15
           },
           "zerolinecolor": "white",
           "zerolinewidth": 2
          },
          "yaxis": {
           "automargin": true,
           "gridcolor": "white",
           "linecolor": "white",
           "ticks": "",
           "title": {
            "standoff": 15
           },
           "zerolinecolor": "white",
           "zerolinewidth": 2
          }
         }
        }
       }
      }
     },
     "metadata": {},
     "output_type": "display_data"
    }
   ],
   "source": [
    "import plotly.graph_objects as go\n",
    "import math\n",
    "\n",
    "ids = [edge[\"from\"] for edge in trav['edges']]\n",
    "labels = [activities[id.split('-')[-1]]['name']+' ('+activities[id.split('-')[-1]]['location']+')' for id in ids]\n",
    "labels_short = [label[:18] for label in labels]\n",
    "parent_ids = [edge[\"to\"] for edge in trav['edges']][1:]\n",
    "parent_ids = [\"\"] + parent_ids\n",
    "parents = [activities[id.split('-')[-1]]['name']+' ('+activities[id.split('-')[-1]]['location']+')' if id != '' else '' for id in parent_ids]\n",
    "\n",
    "data = dict(ids = ids,\n",
    "            label = labels,            \n",
    "            #location = [act['location'] for act in activities],\n",
    "            parent_ids = parent_ids,\n",
    "            parent = parents,\n",
    "            labels_short = labels_short,\n",
    "            value = [math.floor(edge[\"impact_pos\"]*1000) for edge in trav['edges']], #math.floor(edge[\"impact_pos\"]*1100)/1100\n",
    "            #value_pct = value_pct\n",
    "        )\n",
    "# there is an error here, we have to check.\n",
    "# This is an ugly hack to get all sums of children smaller than parents\n",
    "data['value'][12] = 10\n",
    "fig =go.Figure(go.Sunburst(\n",
    "            #data,\n",
    "            ids=data['ids'],\n",
    "            labels=data['labels_short'],\n",
    "            parents=data['parent_ids'],\n",
    "            values=data['value'],\n",
    "            branchvalues=\"total\",\n",
    "            #color='labels_short',\n",
    "            #color_continuous_scale='algae',\n",
    "            hovertext= data['label'],\n",
    "            #valueformat = '.0f',\n",
    "            #maxdepth=1\n",
    "        )\n",
    ")\n",
    "df = pd.DataFrame.from_dict(data).set_index('ids')\n",
    "display(df)\n",
    "\n",
    "\n",
    "def check_sums(df):\n",
    "    checker = df.groupby('parent_ids').sum().join(df['value'], rsuffix='_parent')    \n",
    "    checker['parent'] = checker.apply(lambda row: activities[row.name]['name'] if row.name != '' else '', axis=1)\n",
    "    print(checker)\n",
    "\n",
    "#check_sums(df)\n",
    "\n",
    "fig.show()"
   ]
  },
  {
   "cell_type": "code",
   "execution_count": 58,
   "metadata": {},
   "outputs": [
    {
     "data": {
      "text/html": [
       "<div>\n",
       "<style scoped>\n",
       "    .dataframe tbody tr th:only-of-type {\n",
       "        vertical-align: middle;\n",
       "    }\n",
       "\n",
       "    .dataframe tbody tr th {\n",
       "        vertical-align: top;\n",
       "    }\n",
       "\n",
       "    .dataframe thead th {\n",
       "        text-align: right;\n",
       "    }\n",
       "</style>\n",
       "<table border=\"1\" class=\"dataframe\">\n",
       "  <thead>\n",
       "    <tr style=\"text-align: right;\">\n",
       "      <th></th>\n",
       "      <th>label</th>\n",
       "      <th>parent</th>\n",
       "      <th>labels_short</th>\n",
       "      <th>value</th>\n",
       "    </tr>\n",
       "  </thead>\n",
       "  <tbody>\n",
       "    <tr>\n",
       "      <th>0</th>\n",
       "      <td>biomethane production, high pressure from synt...</td>\n",
       "      <td></td>\n",
       "      <td>biomethane product</td>\n",
       "      <td>0.004</td>\n",
       "    </tr>\n",
       "    <tr>\n",
       "      <th>1</th>\n",
       "      <td>market for wood chips, dry, measured as dry ma...</td>\n",
       "      <td>biomethane production, high pressure from synt...</td>\n",
       "      <td>market for wood ch</td>\n",
       "      <td>0.003</td>\n",
       "    </tr>\n",
       "    <tr>\n",
       "      <th>2</th>\n",
       "      <td>market for zeolite, powder (GLO)</td>\n",
       "      <td>biomethane production, high pressure from synt...</td>\n",
       "      <td>market for zeolite</td>\n",
       "      <td>0.000</td>\n",
       "    </tr>\n",
       "    <tr>\n",
       "      <th>3</th>\n",
       "      <td>market for charcoal (GLO)</td>\n",
       "      <td>biomethane production, high pressure from synt...</td>\n",
       "      <td>market for charcoa</td>\n",
       "      <td>0.000</td>\n",
       "    </tr>\n",
       "    <tr>\n",
       "      <th>4</th>\n",
       "      <td>market for wood chips, wet, measured as dry ma...</td>\n",
       "      <td>biomethane production, high pressure from synt...</td>\n",
       "      <td>market for wood ch</td>\n",
       "      <td>0.000</td>\n",
       "    </tr>\n",
       "    <tr>\n",
       "      <th>5</th>\n",
       "      <td>hardwood forestry, mixed species, sustainable ...</td>\n",
       "      <td>market for wood chips, wet, measured as dry ma...</td>\n",
       "      <td>hardwood forestry,</td>\n",
       "      <td>0.000</td>\n",
       "    </tr>\n",
       "    <tr>\n",
       "      <th>6</th>\n",
       "      <td>market for transport, freight, lorry, unspecif...</td>\n",
       "      <td>market for wood chips, wet, measured as dry ma...</td>\n",
       "      <td>market for transpo</td>\n",
       "      <td>0.000</td>\n",
       "    </tr>\n",
       "    <tr>\n",
       "      <th>7</th>\n",
       "      <td>market for transport, freight, lorry, unspecif...</td>\n",
       "      <td>market for wood chips, dry, measured as dry ma...</td>\n",
       "      <td>market for transpo</td>\n",
       "      <td>0.000</td>\n",
       "    </tr>\n",
       "    <tr>\n",
       "      <th>8</th>\n",
       "      <td>charcoal production (GLO)</td>\n",
       "      <td>market for charcoal (GLO)</td>\n",
       "      <td>charcoal productio</td>\n",
       "      <td>0.000</td>\n",
       "    </tr>\n",
       "  </tbody>\n",
       "</table>\n",
       "</div>"
      ],
      "text/plain": [
       "                                               label  \\\n",
       "0  biomethane production, high pressure from synt...   \n",
       "1  market for wood chips, dry, measured as dry ma...   \n",
       "2                   market for zeolite, powder (GLO)   \n",
       "3                          market for charcoal (GLO)   \n",
       "4  market for wood chips, wet, measured as dry ma...   \n",
       "5  hardwood forestry, mixed species, sustainable ...   \n",
       "6  market for transport, freight, lorry, unspecif...   \n",
       "7  market for transport, freight, lorry, unspecif...   \n",
       "8                          charcoal production (GLO)   \n",
       "\n",
       "                                              parent        labels_short  \\\n",
       "0                                                     biomethane product   \n",
       "1  biomethane production, high pressure from synt...  market for wood ch   \n",
       "2  biomethane production, high pressure from synt...  market for zeolite   \n",
       "3  biomethane production, high pressure from synt...  market for charcoa   \n",
       "4  biomethane production, high pressure from synt...  market for wood ch   \n",
       "5  market for wood chips, wet, measured as dry ma...  hardwood forestry,   \n",
       "6  market for wood chips, wet, measured as dry ma...  market for transpo   \n",
       "7  market for wood chips, dry, measured as dry ma...  market for transpo   \n",
       "8                          market for charcoal (GLO)  charcoal productio   \n",
       "\n",
       "   value  \n",
       "0  0.004  \n",
       "1  0.003  \n",
       "2  0.000  \n",
       "3  0.000  \n",
       "4  0.000  \n",
       "5  0.000  \n",
       "6  0.000  \n",
       "7  0.000  \n",
       "8  0.000  "
      ]
     },
     "metadata": {},
     "output_type": "display_data"
    },
    {
     "name": "stdout",
     "output_type": "stream",
     "text": [
      "                                                    value\n",
      "parent                                                   \n",
      "                                                    0.004\n",
      "biomethane production, high pressure from synth...  0.003\n",
      "market for charcoal (GLO)                           0.000\n",
      "market for wood chips, dry, measured as dry mas...  0.000\n",
      "market for wood chips, wet, measured as dry mas...  0.000\n"
     ]
    },
    {
     "name": "stderr",
     "output_type": "stream",
     "text": [
      "/tmp/ipykernel_70182/1205081643.py:31: FutureWarning:\n",
      "\n",
      "The default value of numeric_only in DataFrameGroupBy.sum is deprecated. In a future version, numeric_only will default to False. Either specify numeric_only or select only columns which should be valid for the function.\n",
      "\n"
     ]
    },
    {
     "data": {
      "application/vnd.plotly.v1+json": {
       "config": {
        "plotlyServerURL": "https://plot.ly"
       },
       "data": [
        {
         "branchvalues": "total",
         "hovertext": [
          "biomethane production, high pressure from synthetic gas, wood, fluidised technology (CH)",
          "market for wood chips, dry, measured as dry mass (RER)",
          "market for zeolite, powder (GLO)",
          "market for charcoal (GLO)",
          "market for wood chips, wet, measured as dry mass (CH)",
          "hardwood forestry, mixed species, sustainable forest management (CH)",
          "market for transport, freight, lorry, unspecified (RER)",
          "market for transport, freight, lorry, unspecified (RER)",
          "charcoal production (GLO)"
         ],
         "ids": [
          "biomethane production, high pressure from synthetic gas, wood, fluidised technology (CH)",
          "market for wood chips, dry, measured as dry mass (RER)",
          "market for zeolite, powder (GLO)",
          "market for charcoal (GLO)",
          "market for wood chips, wet, measured as dry mass (CH)",
          "hardwood forestry, mixed species, sustainable forest management (CH)",
          "market for transport, freight, lorry, unspecified (RER)",
          "market for transport, freight, lorry, unspecified (RER)",
          "charcoal production (GLO)"
         ],
         "labels": [
          "biomethane product",
          "market for wood ch",
          "market for zeolite",
          "market for charcoa",
          "market for wood ch",
          "hardwood forestry,",
          "market for transpo",
          "market for transpo",
          "charcoal productio"
         ],
         "parents": [
          "",
          "biomethane production, high pressure from synthetic gas, wood, fluidised technology (CH)",
          "biomethane production, high pressure from synthetic gas, wood, fluidised technology (CH)",
          "biomethane production, high pressure from synthetic gas, wood, fluidised technology (CH)",
          "biomethane production, high pressure from synthetic gas, wood, fluidised technology (CH)",
          "market for wood chips, wet, measured as dry mass (CH)",
          "market for wood chips, wet, measured as dry mass (CH)",
          "market for wood chips, dry, measured as dry mass (RER)",
          "market for charcoal (GLO)"
         ],
         "type": "sunburst",
         "values": [
          0.004,
          0.003,
          0,
          0,
          0,
          0,
          0,
          0,
          0
         ]
        }
       ],
       "layout": {
        "template": {
         "data": {
          "bar": [
           {
            "error_x": {
             "color": "#2a3f5f"
            },
            "error_y": {
             "color": "#2a3f5f"
            },
            "marker": {
             "line": {
              "color": "#E5ECF6",
              "width": 0.5
             },
             "pattern": {
              "fillmode": "overlay",
              "size": 10,
              "solidity": 0.2
             }
            },
            "type": "bar"
           }
          ],
          "barpolar": [
           {
            "marker": {
             "line": {
              "color": "#E5ECF6",
              "width": 0.5
             },
             "pattern": {
              "fillmode": "overlay",
              "size": 10,
              "solidity": 0.2
             }
            },
            "type": "barpolar"
           }
          ],
          "carpet": [
           {
            "aaxis": {
             "endlinecolor": "#2a3f5f",
             "gridcolor": "white",
             "linecolor": "white",
             "minorgridcolor": "white",
             "startlinecolor": "#2a3f5f"
            },
            "baxis": {
             "endlinecolor": "#2a3f5f",
             "gridcolor": "white",
             "linecolor": "white",
             "minorgridcolor": "white",
             "startlinecolor": "#2a3f5f"
            },
            "type": "carpet"
           }
          ],
          "choropleth": [
           {
            "colorbar": {
             "outlinewidth": 0,
             "ticks": ""
            },
            "type": "choropleth"
           }
          ],
          "contour": [
           {
            "colorbar": {
             "outlinewidth": 0,
             "ticks": ""
            },
            "colorscale": [
             [
              0,
              "#0d0887"
             ],
             [
              0.1111111111111111,
              "#46039f"
             ],
             [
              0.2222222222222222,
              "#7201a8"
             ],
             [
              0.3333333333333333,
              "#9c179e"
             ],
             [
              0.4444444444444444,
              "#bd3786"
             ],
             [
              0.5555555555555556,
              "#d8576b"
             ],
             [
              0.6666666666666666,
              "#ed7953"
             ],
             [
              0.7777777777777778,
              "#fb9f3a"
             ],
             [
              0.8888888888888888,
              "#fdca26"
             ],
             [
              1,
              "#f0f921"
             ]
            ],
            "type": "contour"
           }
          ],
          "contourcarpet": [
           {
            "colorbar": {
             "outlinewidth": 0,
             "ticks": ""
            },
            "type": "contourcarpet"
           }
          ],
          "heatmap": [
           {
            "colorbar": {
             "outlinewidth": 0,
             "ticks": ""
            },
            "colorscale": [
             [
              0,
              "#0d0887"
             ],
             [
              0.1111111111111111,
              "#46039f"
             ],
             [
              0.2222222222222222,
              "#7201a8"
             ],
             [
              0.3333333333333333,
              "#9c179e"
             ],
             [
              0.4444444444444444,
              "#bd3786"
             ],
             [
              0.5555555555555556,
              "#d8576b"
             ],
             [
              0.6666666666666666,
              "#ed7953"
             ],
             [
              0.7777777777777778,
              "#fb9f3a"
             ],
             [
              0.8888888888888888,
              "#fdca26"
             ],
             [
              1,
              "#f0f921"
             ]
            ],
            "type": "heatmap"
           }
          ],
          "heatmapgl": [
           {
            "colorbar": {
             "outlinewidth": 0,
             "ticks": ""
            },
            "colorscale": [
             [
              0,
              "#0d0887"
             ],
             [
              0.1111111111111111,
              "#46039f"
             ],
             [
              0.2222222222222222,
              "#7201a8"
             ],
             [
              0.3333333333333333,
              "#9c179e"
             ],
             [
              0.4444444444444444,
              "#bd3786"
             ],
             [
              0.5555555555555556,
              "#d8576b"
             ],
             [
              0.6666666666666666,
              "#ed7953"
             ],
             [
              0.7777777777777778,
              "#fb9f3a"
             ],
             [
              0.8888888888888888,
              "#fdca26"
             ],
             [
              1,
              "#f0f921"
             ]
            ],
            "type": "heatmapgl"
           }
          ],
          "histogram": [
           {
            "marker": {
             "pattern": {
              "fillmode": "overlay",
              "size": 10,
              "solidity": 0.2
             }
            },
            "type": "histogram"
           }
          ],
          "histogram2d": [
           {
            "colorbar": {
             "outlinewidth": 0,
             "ticks": ""
            },
            "colorscale": [
             [
              0,
              "#0d0887"
             ],
             [
              0.1111111111111111,
              "#46039f"
             ],
             [
              0.2222222222222222,
              "#7201a8"
             ],
             [
              0.3333333333333333,
              "#9c179e"
             ],
             [
              0.4444444444444444,
              "#bd3786"
             ],
             [
              0.5555555555555556,
              "#d8576b"
             ],
             [
              0.6666666666666666,
              "#ed7953"
             ],
             [
              0.7777777777777778,
              "#fb9f3a"
             ],
             [
              0.8888888888888888,
              "#fdca26"
             ],
             [
              1,
              "#f0f921"
             ]
            ],
            "type": "histogram2d"
           }
          ],
          "histogram2dcontour": [
           {
            "colorbar": {
             "outlinewidth": 0,
             "ticks": ""
            },
            "colorscale": [
             [
              0,
              "#0d0887"
             ],
             [
              0.1111111111111111,
              "#46039f"
             ],
             [
              0.2222222222222222,
              "#7201a8"
             ],
             [
              0.3333333333333333,
              "#9c179e"
             ],
             [
              0.4444444444444444,
              "#bd3786"
             ],
             [
              0.5555555555555556,
              "#d8576b"
             ],
             [
              0.6666666666666666,
              "#ed7953"
             ],
             [
              0.7777777777777778,
              "#fb9f3a"
             ],
             [
              0.8888888888888888,
              "#fdca26"
             ],
             [
              1,
              "#f0f921"
             ]
            ],
            "type": "histogram2dcontour"
           }
          ],
          "mesh3d": [
           {
            "colorbar": {
             "outlinewidth": 0,
             "ticks": ""
            },
            "type": "mesh3d"
           }
          ],
          "parcoords": [
           {
            "line": {
             "colorbar": {
              "outlinewidth": 0,
              "ticks": ""
             }
            },
            "type": "parcoords"
           }
          ],
          "pie": [
           {
            "automargin": true,
            "type": "pie"
           }
          ],
          "scatter": [
           {
            "fillpattern": {
             "fillmode": "overlay",
             "size": 10,
             "solidity": 0.2
            },
            "type": "scatter"
           }
          ],
          "scatter3d": [
           {
            "line": {
             "colorbar": {
              "outlinewidth": 0,
              "ticks": ""
             }
            },
            "marker": {
             "colorbar": {
              "outlinewidth": 0,
              "ticks": ""
             }
            },
            "type": "scatter3d"
           }
          ],
          "scattercarpet": [
           {
            "marker": {
             "colorbar": {
              "outlinewidth": 0,
              "ticks": ""
             }
            },
            "type": "scattercarpet"
           }
          ],
          "scattergeo": [
           {
            "marker": {
             "colorbar": {
              "outlinewidth": 0,
              "ticks": ""
             }
            },
            "type": "scattergeo"
           }
          ],
          "scattergl": [
           {
            "marker": {
             "colorbar": {
              "outlinewidth": 0,
              "ticks": ""
             }
            },
            "type": "scattergl"
           }
          ],
          "scattermapbox": [
           {
            "marker": {
             "colorbar": {
              "outlinewidth": 0,
              "ticks": ""
             }
            },
            "type": "scattermapbox"
           }
          ],
          "scatterpolar": [
           {
            "marker": {
             "colorbar": {
              "outlinewidth": 0,
              "ticks": ""
             }
            },
            "type": "scatterpolar"
           }
          ],
          "scatterpolargl": [
           {
            "marker": {
             "colorbar": {
              "outlinewidth": 0,
              "ticks": ""
             }
            },
            "type": "scatterpolargl"
           }
          ],
          "scatterternary": [
           {
            "marker": {
             "colorbar": {
              "outlinewidth": 0,
              "ticks": ""
             }
            },
            "type": "scatterternary"
           }
          ],
          "surface": [
           {
            "colorbar": {
             "outlinewidth": 0,
             "ticks": ""
            },
            "colorscale": [
             [
              0,
              "#0d0887"
             ],
             [
              0.1111111111111111,
              "#46039f"
             ],
             [
              0.2222222222222222,
              "#7201a8"
             ],
             [
              0.3333333333333333,
              "#9c179e"
             ],
             [
              0.4444444444444444,
              "#bd3786"
             ],
             [
              0.5555555555555556,
              "#d8576b"
             ],
             [
              0.6666666666666666,
              "#ed7953"
             ],
             [
              0.7777777777777778,
              "#fb9f3a"
             ],
             [
              0.8888888888888888,
              "#fdca26"
             ],
             [
              1,
              "#f0f921"
             ]
            ],
            "type": "surface"
           }
          ],
          "table": [
           {
            "cells": {
             "fill": {
              "color": "#EBF0F8"
             },
             "line": {
              "color": "white"
             }
            },
            "header": {
             "fill": {
              "color": "#C8D4E3"
             },
             "line": {
              "color": "white"
             }
            },
            "type": "table"
           }
          ]
         },
         "layout": {
          "annotationdefaults": {
           "arrowcolor": "#2a3f5f",
           "arrowhead": 0,
           "arrowwidth": 1
          },
          "autotypenumbers": "strict",
          "coloraxis": {
           "colorbar": {
            "outlinewidth": 0,
            "ticks": ""
           }
          },
          "colorscale": {
           "diverging": [
            [
             0,
             "#8e0152"
            ],
            [
             0.1,
             "#c51b7d"
            ],
            [
             0.2,
             "#de77ae"
            ],
            [
             0.3,
             "#f1b6da"
            ],
            [
             0.4,
             "#fde0ef"
            ],
            [
             0.5,
             "#f7f7f7"
            ],
            [
             0.6,
             "#e6f5d0"
            ],
            [
             0.7,
             "#b8e186"
            ],
            [
             0.8,
             "#7fbc41"
            ],
            [
             0.9,
             "#4d9221"
            ],
            [
             1,
             "#276419"
            ]
           ],
           "sequential": [
            [
             0,
             "#0d0887"
            ],
            [
             0.1111111111111111,
             "#46039f"
            ],
            [
             0.2222222222222222,
             "#7201a8"
            ],
            [
             0.3333333333333333,
             "#9c179e"
            ],
            [
             0.4444444444444444,
             "#bd3786"
            ],
            [
             0.5555555555555556,
             "#d8576b"
            ],
            [
             0.6666666666666666,
             "#ed7953"
            ],
            [
             0.7777777777777778,
             "#fb9f3a"
            ],
            [
             0.8888888888888888,
             "#fdca26"
            ],
            [
             1,
             "#f0f921"
            ]
           ],
           "sequentialminus": [
            [
             0,
             "#0d0887"
            ],
            [
             0.1111111111111111,
             "#46039f"
            ],
            [
             0.2222222222222222,
             "#7201a8"
            ],
            [
             0.3333333333333333,
             "#9c179e"
            ],
            [
             0.4444444444444444,
             "#bd3786"
            ],
            [
             0.5555555555555556,
             "#d8576b"
            ],
            [
             0.6666666666666666,
             "#ed7953"
            ],
            [
             0.7777777777777778,
             "#fb9f3a"
            ],
            [
             0.8888888888888888,
             "#fdca26"
            ],
            [
             1,
             "#f0f921"
            ]
           ]
          },
          "colorway": [
           "#636efa",
           "#EF553B",
           "#00cc96",
           "#ab63fa",
           "#FFA15A",
           "#19d3f3",
           "#FF6692",
           "#B6E880",
           "#FF97FF",
           "#FECB52"
          ],
          "font": {
           "color": "#2a3f5f"
          },
          "geo": {
           "bgcolor": "white",
           "lakecolor": "white",
           "landcolor": "#E5ECF6",
           "showlakes": true,
           "showland": true,
           "subunitcolor": "white"
          },
          "hoverlabel": {
           "align": "left"
          },
          "hovermode": "closest",
          "mapbox": {
           "style": "light"
          },
          "paper_bgcolor": "white",
          "plot_bgcolor": "#E5ECF6",
          "polar": {
           "angularaxis": {
            "gridcolor": "white",
            "linecolor": "white",
            "ticks": ""
           },
           "bgcolor": "#E5ECF6",
           "radialaxis": {
            "gridcolor": "white",
            "linecolor": "white",
            "ticks": ""
           }
          },
          "scene": {
           "xaxis": {
            "backgroundcolor": "#E5ECF6",
            "gridcolor": "white",
            "gridwidth": 2,
            "linecolor": "white",
            "showbackground": true,
            "ticks": "",
            "zerolinecolor": "white"
           },
           "yaxis": {
            "backgroundcolor": "#E5ECF6",
            "gridcolor": "white",
            "gridwidth": 2,
            "linecolor": "white",
            "showbackground": true,
            "ticks": "",
            "zerolinecolor": "white"
           },
           "zaxis": {
            "backgroundcolor": "#E5ECF6",
            "gridcolor": "white",
            "gridwidth": 2,
            "linecolor": "white",
            "showbackground": true,
            "ticks": "",
            "zerolinecolor": "white"
           }
          },
          "shapedefaults": {
           "line": {
            "color": "#2a3f5f"
           }
          },
          "ternary": {
           "aaxis": {
            "gridcolor": "white",
            "linecolor": "white",
            "ticks": ""
           },
           "baxis": {
            "gridcolor": "white",
            "linecolor": "white",
            "ticks": ""
           },
           "bgcolor": "#E5ECF6",
           "caxis": {
            "gridcolor": "white",
            "linecolor": "white",
            "ticks": ""
           }
          },
          "title": {
           "x": 0.05
          },
          "xaxis": {
           "automargin": true,
           "gridcolor": "white",
           "linecolor": "white",
           "ticks": "",
           "title": {
            "standoff": 15
           },
           "zerolinecolor": "white",
           "zerolinewidth": 2
          },
          "yaxis": {
           "automargin": true,
           "gridcolor": "white",
           "linecolor": "white",
           "ticks": "",
           "title": {
            "standoff": 15
           },
           "zerolinecolor": "white",
           "zerolinewidth": 2
          }
         }
        }
       }
      }
     },
     "metadata": {},
     "output_type": "display_data"
    }
   ],
   "source": [
    "ids = [edge[\"from\"] for edge in trav['edges']]\n",
    "labels = [activities[id]['name']+' ('+activities[id]['location']+')' for id in ids]\n",
    "labels_short = [label[:18] for label in labels]\n",
    "parent_ids = [edge[\"to\"] for edge in trav['edges']][1:]\n",
    "parents = [\"\"] + [activities[id]['name']+' ('+activities[id]['location']+')' for id in parent_ids]\n",
    "\n",
    "data = dict(label = labels,\n",
    "            #location = [act['location'] for act in activities],\n",
    "            parent = parents,\n",
    "            labels_short = labels_short,\n",
    "            value = [-math.ceil(edge[\"impact_neg\"]*1000)/1000 for edge in trav['edges']],\n",
    "            #value_pct = value_pct\n",
    "        )\n",
    "fig =go.Figure(go.Sunburst(\n",
    "            #data,\n",
    "            ids=data['label'],\n",
    "            labels=data['labels_short'],\n",
    "            parents=data['parent'],\n",
    "            values=data['value'],\n",
    "            branchvalues=\"total\",\n",
    "            #color='labels_short',\n",
    "            #color_continuous_scale='algae',\n",
    "            hovertext= data['label'],\n",
    "            #valueformat = '.0f',\n",
    "        )\n",
    ")\n",
    "df = pd.DataFrame.from_dict(data)\n",
    "display(df)\n",
    "\n",
    "fig.show()"
   ]
  },
  {
   "cell_type": "code",
   "execution_count": 54,
   "metadata": {},
   "outputs": [
    {
     "data": {
      "application/vnd.plotly.v1+json": {
       "config": {
        "plotlyServerURL": "https://plot.ly"
       },
       "data": [
        {
         "measure": [
          "relative",
          "relative",
          "total"
         ],
         "orientation": "v",
         "type": "waterfall",
         "x": [
          "Emissions",
          "Absorptions",
          "Total"
         ],
         "y": [
          0.3894013422607055,
          -0.0041985319257974475,
          0.3852028103349081
         ]
        }
       ],
       "layout": {
        "template": {
         "data": {
          "bar": [
           {
            "error_x": {
             "color": "#2a3f5f"
            },
            "error_y": {
             "color": "#2a3f5f"
            },
            "marker": {
             "line": {
              "color": "#E5ECF6",
              "width": 0.5
             },
             "pattern": {
              "fillmode": "overlay",
              "size": 10,
              "solidity": 0.2
             }
            },
            "type": "bar"
           }
          ],
          "barpolar": [
           {
            "marker": {
             "line": {
              "color": "#E5ECF6",
              "width": 0.5
             },
             "pattern": {
              "fillmode": "overlay",
              "size": 10,
              "solidity": 0.2
             }
            },
            "type": "barpolar"
           }
          ],
          "carpet": [
           {
            "aaxis": {
             "endlinecolor": "#2a3f5f",
             "gridcolor": "white",
             "linecolor": "white",
             "minorgridcolor": "white",
             "startlinecolor": "#2a3f5f"
            },
            "baxis": {
             "endlinecolor": "#2a3f5f",
             "gridcolor": "white",
             "linecolor": "white",
             "minorgridcolor": "white",
             "startlinecolor": "#2a3f5f"
            },
            "type": "carpet"
           }
          ],
          "choropleth": [
           {
            "colorbar": {
             "outlinewidth": 0,
             "ticks": ""
            },
            "type": "choropleth"
           }
          ],
          "contour": [
           {
            "colorbar": {
             "outlinewidth": 0,
             "ticks": ""
            },
            "colorscale": [
             [
              0,
              "#0d0887"
             ],
             [
              0.1111111111111111,
              "#46039f"
             ],
             [
              0.2222222222222222,
              "#7201a8"
             ],
             [
              0.3333333333333333,
              "#9c179e"
             ],
             [
              0.4444444444444444,
              "#bd3786"
             ],
             [
              0.5555555555555556,
              "#d8576b"
             ],
             [
              0.6666666666666666,
              "#ed7953"
             ],
             [
              0.7777777777777778,
              "#fb9f3a"
             ],
             [
              0.8888888888888888,
              "#fdca26"
             ],
             [
              1,
              "#f0f921"
             ]
            ],
            "type": "contour"
           }
          ],
          "contourcarpet": [
           {
            "colorbar": {
             "outlinewidth": 0,
             "ticks": ""
            },
            "type": "contourcarpet"
           }
          ],
          "heatmap": [
           {
            "colorbar": {
             "outlinewidth": 0,
             "ticks": ""
            },
            "colorscale": [
             [
              0,
              "#0d0887"
             ],
             [
              0.1111111111111111,
              "#46039f"
             ],
             [
              0.2222222222222222,
              "#7201a8"
             ],
             [
              0.3333333333333333,
              "#9c179e"
             ],
             [
              0.4444444444444444,
              "#bd3786"
             ],
             [
              0.5555555555555556,
              "#d8576b"
             ],
             [
              0.6666666666666666,
              "#ed7953"
             ],
             [
              0.7777777777777778,
              "#fb9f3a"
             ],
             [
              0.8888888888888888,
              "#fdca26"
             ],
             [
              1,
              "#f0f921"
             ]
            ],
            "type": "heatmap"
           }
          ],
          "heatmapgl": [
           {
            "colorbar": {
             "outlinewidth": 0,
             "ticks": ""
            },
            "colorscale": [
             [
              0,
              "#0d0887"
             ],
             [
              0.1111111111111111,
              "#46039f"
             ],
             [
              0.2222222222222222,
              "#7201a8"
             ],
             [
              0.3333333333333333,
              "#9c179e"
             ],
             [
              0.4444444444444444,
              "#bd3786"
             ],
             [
              0.5555555555555556,
              "#d8576b"
             ],
             [
              0.6666666666666666,
              "#ed7953"
             ],
             [
              0.7777777777777778,
              "#fb9f3a"
             ],
             [
              0.8888888888888888,
              "#fdca26"
             ],
             [
              1,
              "#f0f921"
             ]
            ],
            "type": "heatmapgl"
           }
          ],
          "histogram": [
           {
            "marker": {
             "pattern": {
              "fillmode": "overlay",
              "size": 10,
              "solidity": 0.2
             }
            },
            "type": "histogram"
           }
          ],
          "histogram2d": [
           {
            "colorbar": {
             "outlinewidth": 0,
             "ticks": ""
            },
            "colorscale": [
             [
              0,
              "#0d0887"
             ],
             [
              0.1111111111111111,
              "#46039f"
             ],
             [
              0.2222222222222222,
              "#7201a8"
             ],
             [
              0.3333333333333333,
              "#9c179e"
             ],
             [
              0.4444444444444444,
              "#bd3786"
             ],
             [
              0.5555555555555556,
              "#d8576b"
             ],
             [
              0.6666666666666666,
              "#ed7953"
             ],
             [
              0.7777777777777778,
              "#fb9f3a"
             ],
             [
              0.8888888888888888,
              "#fdca26"
             ],
             [
              1,
              "#f0f921"
             ]
            ],
            "type": "histogram2d"
           }
          ],
          "histogram2dcontour": [
           {
            "colorbar": {
             "outlinewidth": 0,
             "ticks": ""
            },
            "colorscale": [
             [
              0,
              "#0d0887"
             ],
             [
              0.1111111111111111,
              "#46039f"
             ],
             [
              0.2222222222222222,
              "#7201a8"
             ],
             [
              0.3333333333333333,
              "#9c179e"
             ],
             [
              0.4444444444444444,
              "#bd3786"
             ],
             [
              0.5555555555555556,
              "#d8576b"
             ],
             [
              0.6666666666666666,
              "#ed7953"
             ],
             [
              0.7777777777777778,
              "#fb9f3a"
             ],
             [
              0.8888888888888888,
              "#fdca26"
             ],
             [
              1,
              "#f0f921"
             ]
            ],
            "type": "histogram2dcontour"
           }
          ],
          "mesh3d": [
           {
            "colorbar": {
             "outlinewidth": 0,
             "ticks": ""
            },
            "type": "mesh3d"
           }
          ],
          "parcoords": [
           {
            "line": {
             "colorbar": {
              "outlinewidth": 0,
              "ticks": ""
             }
            },
            "type": "parcoords"
           }
          ],
          "pie": [
           {
            "automargin": true,
            "type": "pie"
           }
          ],
          "scatter": [
           {
            "fillpattern": {
             "fillmode": "overlay",
             "size": 10,
             "solidity": 0.2
            },
            "type": "scatter"
           }
          ],
          "scatter3d": [
           {
            "line": {
             "colorbar": {
              "outlinewidth": 0,
              "ticks": ""
             }
            },
            "marker": {
             "colorbar": {
              "outlinewidth": 0,
              "ticks": ""
             }
            },
            "type": "scatter3d"
           }
          ],
          "scattercarpet": [
           {
            "marker": {
             "colorbar": {
              "outlinewidth": 0,
              "ticks": ""
             }
            },
            "type": "scattercarpet"
           }
          ],
          "scattergeo": [
           {
            "marker": {
             "colorbar": {
              "outlinewidth": 0,
              "ticks": ""
             }
            },
            "type": "scattergeo"
           }
          ],
          "scattergl": [
           {
            "marker": {
             "colorbar": {
              "outlinewidth": 0,
              "ticks": ""
             }
            },
            "type": "scattergl"
           }
          ],
          "scattermapbox": [
           {
            "marker": {
             "colorbar": {
              "outlinewidth": 0,
              "ticks": ""
             }
            },
            "type": "scattermapbox"
           }
          ],
          "scatterpolar": [
           {
            "marker": {
             "colorbar": {
              "outlinewidth": 0,
              "ticks": ""
             }
            },
            "type": "scatterpolar"
           }
          ],
          "scatterpolargl": [
           {
            "marker": {
             "colorbar": {
              "outlinewidth": 0,
              "ticks": ""
             }
            },
            "type": "scatterpolargl"
           }
          ],
          "scatterternary": [
           {
            "marker": {
             "colorbar": {
              "outlinewidth": 0,
              "ticks": ""
             }
            },
            "type": "scatterternary"
           }
          ],
          "surface": [
           {
            "colorbar": {
             "outlinewidth": 0,
             "ticks": ""
            },
            "colorscale": [
             [
              0,
              "#0d0887"
             ],
             [
              0.1111111111111111,
              "#46039f"
             ],
             [
              0.2222222222222222,
              "#7201a8"
             ],
             [
              0.3333333333333333,
              "#9c179e"
             ],
             [
              0.4444444444444444,
              "#bd3786"
             ],
             [
              0.5555555555555556,
              "#d8576b"
             ],
             [
              0.6666666666666666,
              "#ed7953"
             ],
             [
              0.7777777777777778,
              "#fb9f3a"
             ],
             [
              0.8888888888888888,
              "#fdca26"
             ],
             [
              1,
              "#f0f921"
             ]
            ],
            "type": "surface"
           }
          ],
          "table": [
           {
            "cells": {
             "fill": {
              "color": "#EBF0F8"
             },
             "line": {
              "color": "white"
             }
            },
            "header": {
             "fill": {
              "color": "#C8D4E3"
             },
             "line": {
              "color": "white"
             }
            },
            "type": "table"
           }
          ]
         },
         "layout": {
          "annotationdefaults": {
           "arrowcolor": "#2a3f5f",
           "arrowhead": 0,
           "arrowwidth": 1
          },
          "autotypenumbers": "strict",
          "coloraxis": {
           "colorbar": {
            "outlinewidth": 0,
            "ticks": ""
           }
          },
          "colorscale": {
           "diverging": [
            [
             0,
             "#8e0152"
            ],
            [
             0.1,
             "#c51b7d"
            ],
            [
             0.2,
             "#de77ae"
            ],
            [
             0.3,
             "#f1b6da"
            ],
            [
             0.4,
             "#fde0ef"
            ],
            [
             0.5,
             "#f7f7f7"
            ],
            [
             0.6,
             "#e6f5d0"
            ],
            [
             0.7,
             "#b8e186"
            ],
            [
             0.8,
             "#7fbc41"
            ],
            [
             0.9,
             "#4d9221"
            ],
            [
             1,
             "#276419"
            ]
           ],
           "sequential": [
            [
             0,
             "#0d0887"
            ],
            [
             0.1111111111111111,
             "#46039f"
            ],
            [
             0.2222222222222222,
             "#7201a8"
            ],
            [
             0.3333333333333333,
             "#9c179e"
            ],
            [
             0.4444444444444444,
             "#bd3786"
            ],
            [
             0.5555555555555556,
             "#d8576b"
            ],
            [
             0.6666666666666666,
             "#ed7953"
            ],
            [
             0.7777777777777778,
             "#fb9f3a"
            ],
            [
             0.8888888888888888,
             "#fdca26"
            ],
            [
             1,
             "#f0f921"
            ]
           ],
           "sequentialminus": [
            [
             0,
             "#0d0887"
            ],
            [
             0.1111111111111111,
             "#46039f"
            ],
            [
             0.2222222222222222,
             "#7201a8"
            ],
            [
             0.3333333333333333,
             "#9c179e"
            ],
            [
             0.4444444444444444,
             "#bd3786"
            ],
            [
             0.5555555555555556,
             "#d8576b"
            ],
            [
             0.6666666666666666,
             "#ed7953"
            ],
            [
             0.7777777777777778,
             "#fb9f3a"
            ],
            [
             0.8888888888888888,
             "#fdca26"
            ],
            [
             1,
             "#f0f921"
            ]
           ]
          },
          "colorway": [
           "#636efa",
           "#EF553B",
           "#00cc96",
           "#ab63fa",
           "#FFA15A",
           "#19d3f3",
           "#FF6692",
           "#B6E880",
           "#FF97FF",
           "#FECB52"
          ],
          "font": {
           "color": "#2a3f5f"
          },
          "geo": {
           "bgcolor": "white",
           "lakecolor": "white",
           "landcolor": "#E5ECF6",
           "showlakes": true,
           "showland": true,
           "subunitcolor": "white"
          },
          "hoverlabel": {
           "align": "left"
          },
          "hovermode": "closest",
          "mapbox": {
           "style": "light"
          },
          "paper_bgcolor": "white",
          "plot_bgcolor": "#E5ECF6",
          "polar": {
           "angularaxis": {
            "gridcolor": "white",
            "linecolor": "white",
            "ticks": ""
           },
           "bgcolor": "#E5ECF6",
           "radialaxis": {
            "gridcolor": "white",
            "linecolor": "white",
            "ticks": ""
           }
          },
          "scene": {
           "xaxis": {
            "backgroundcolor": "#E5ECF6",
            "gridcolor": "white",
            "gridwidth": 2,
            "linecolor": "white",
            "showbackground": true,
            "ticks": "",
            "zerolinecolor": "white"
           },
           "yaxis": {
            "backgroundcolor": "#E5ECF6",
            "gridcolor": "white",
            "gridwidth": 2,
            "linecolor": "white",
            "showbackground": true,
            "ticks": "",
            "zerolinecolor": "white"
           },
           "zaxis": {
            "backgroundcolor": "#E5ECF6",
            "gridcolor": "white",
            "gridwidth": 2,
            "linecolor": "white",
            "showbackground": true,
            "ticks": "",
            "zerolinecolor": "white"
           }
          },
          "shapedefaults": {
           "line": {
            "color": "#2a3f5f"
           }
          },
          "ternary": {
           "aaxis": {
            "gridcolor": "white",
            "linecolor": "white",
            "ticks": ""
           },
           "baxis": {
            "gridcolor": "white",
            "linecolor": "white",
            "ticks": ""
           },
           "bgcolor": "#E5ECF6",
           "caxis": {
            "gridcolor": "white",
            "linecolor": "white",
            "ticks": ""
           }
          },
          "title": {
           "x": 0.05
          },
          "xaxis": {
           "automargin": true,
           "gridcolor": "white",
           "linecolor": "white",
           "ticks": "",
           "title": {
            "standoff": 15
           },
           "zerolinecolor": "white",
           "zerolinewidth": 2
          },
          "yaxis": {
           "automargin": true,
           "gridcolor": "white",
           "linecolor": "white",
           "ticks": "",
           "title": {
            "standoff": 15
           },
           "zerolinecolor": "white",
           "zerolinewidth": 2
          }
         }
        }
       }
      }
     },
     "metadata": {},
     "output_type": "display_data"
    }
   ],
   "source": [
    "main_edge = trav['edges'][0]\n",
    "fig = go.Figure(go.Waterfall(\n",
    "    orientation = \"v\",\n",
    "    measure = [\"relative\", \"relative\", \"total\"],\n",
    "    x = ['Emissions', 'Absorptions', 'Total'],\n",
    "    y = [main_edge[\"impact_pos\"], main_edge[\"impact_neg\"], main_edge[\"impact\"]]\n",
    "    )\n",
    ")\n",
    "fig.show()"
   ]
  },
  {
   "cell_type": "code",
   "execution_count": 118,
   "metadata": {},
   "outputs": [
    {
     "data": {
      "application/vnd.plotly.v1+json": {
       "config": {
        "plotlyServerURL": "https://plot.ly"
       },
       "data": [
        {
         "link": {
          "source": [
           8136,
           4040,
           9804,
           9946,
           13946,
           14409,
           15337,
           16404,
           12886,
           15009,
           18854,
           11250,
           11726,
           11168,
           18139,
           18640,
           18854,
           3149,
           8000,
           18854,
           5074,
           17197,
           9804,
           11168,
           18139,
           18640,
           11864,
           14409,
           7881,
           6411,
           14409,
           9804
          ],
          "target": [
           -1,
           8136,
           8136,
           8136,
           8136,
           8136,
           8136,
           8136,
           16404,
           16404,
           16404,
           18854,
           18854,
           12886,
           12886,
           12886,
           4040,
           9946,
           15337,
           9804,
           14409,
           5074,
           18640,
           15009,
           15009,
           15009,
           13946,
           13946,
           11864,
           7881,
           7881,
           11168
          ],
          "value": [
           0.0041985319257974475,
           0.003796729728404199,
           4.585507161357016e-8,
           6.6761062231768e-8,
           0.00026193067357826056,
           0.000002516900299031537,
           0.00010549649277379603,
           0.00002744155104399156,
           0.000014252348547825135,
           0.000009035648451963762,
           0.0000022677665156920063,
           0.000001236836675706,
           0.0000015137519404445836,
           6.647763084471542e-7,
           0.000011804456102152436,
           8.31535651792409e-7,
           4.2571561349137784e-7,
           0,
           0.00010547235524257884,
           2.8210048140010757e-9,
           0.0000022677569697958364,
           0.00000226775696979584,
           8.667064353963178e-12,
           2.858817213344304e-7,
           0.000008101569440961455,
           3.5948303987152093e-7,
           0.0002616827268915513,
           3.4212456768095596e-9,
           0.00026162911873842104,
           0.0002615400633396172,
           5.4952959158952505e-9,
           9.750948960409422e-12
          ]
         },
         "type": "sankey"
        }
       ],
       "layout": {
        "font": {
         "size": 10
        },
        "template": {
         "data": {
          "bar": [
           {
            "error_x": {
             "color": "#2a3f5f"
            },
            "error_y": {
             "color": "#2a3f5f"
            },
            "marker": {
             "line": {
              "color": "#E5ECF6",
              "width": 0.5
             },
             "pattern": {
              "fillmode": "overlay",
              "size": 10,
              "solidity": 0.2
             }
            },
            "type": "bar"
           }
          ],
          "barpolar": [
           {
            "marker": {
             "line": {
              "color": "#E5ECF6",
              "width": 0.5
             },
             "pattern": {
              "fillmode": "overlay",
              "size": 10,
              "solidity": 0.2
             }
            },
            "type": "barpolar"
           }
          ],
          "carpet": [
           {
            "aaxis": {
             "endlinecolor": "#2a3f5f",
             "gridcolor": "white",
             "linecolor": "white",
             "minorgridcolor": "white",
             "startlinecolor": "#2a3f5f"
            },
            "baxis": {
             "endlinecolor": "#2a3f5f",
             "gridcolor": "white",
             "linecolor": "white",
             "minorgridcolor": "white",
             "startlinecolor": "#2a3f5f"
            },
            "type": "carpet"
           }
          ],
          "choropleth": [
           {
            "colorbar": {
             "outlinewidth": 0,
             "ticks": ""
            },
            "type": "choropleth"
           }
          ],
          "contour": [
           {
            "colorbar": {
             "outlinewidth": 0,
             "ticks": ""
            },
            "colorscale": [
             [
              0,
              "#0d0887"
             ],
             [
              0.1111111111111111,
              "#46039f"
             ],
             [
              0.2222222222222222,
              "#7201a8"
             ],
             [
              0.3333333333333333,
              "#9c179e"
             ],
             [
              0.4444444444444444,
              "#bd3786"
             ],
             [
              0.5555555555555556,
              "#d8576b"
             ],
             [
              0.6666666666666666,
              "#ed7953"
             ],
             [
              0.7777777777777778,
              "#fb9f3a"
             ],
             [
              0.8888888888888888,
              "#fdca26"
             ],
             [
              1,
              "#f0f921"
             ]
            ],
            "type": "contour"
           }
          ],
          "contourcarpet": [
           {
            "colorbar": {
             "outlinewidth": 0,
             "ticks": ""
            },
            "type": "contourcarpet"
           }
          ],
          "heatmap": [
           {
            "colorbar": {
             "outlinewidth": 0,
             "ticks": ""
            },
            "colorscale": [
             [
              0,
              "#0d0887"
             ],
             [
              0.1111111111111111,
              "#46039f"
             ],
             [
              0.2222222222222222,
              "#7201a8"
             ],
             [
              0.3333333333333333,
              "#9c179e"
             ],
             [
              0.4444444444444444,
              "#bd3786"
             ],
             [
              0.5555555555555556,
              "#d8576b"
             ],
             [
              0.6666666666666666,
              "#ed7953"
             ],
             [
              0.7777777777777778,
              "#fb9f3a"
             ],
             [
              0.8888888888888888,
              "#fdca26"
             ],
             [
              1,
              "#f0f921"
             ]
            ],
            "type": "heatmap"
           }
          ],
          "heatmapgl": [
           {
            "colorbar": {
             "outlinewidth": 0,
             "ticks": ""
            },
            "colorscale": [
             [
              0,
              "#0d0887"
             ],
             [
              0.1111111111111111,
              "#46039f"
             ],
             [
              0.2222222222222222,
              "#7201a8"
             ],
             [
              0.3333333333333333,
              "#9c179e"
             ],
             [
              0.4444444444444444,
              "#bd3786"
             ],
             [
              0.5555555555555556,
              "#d8576b"
             ],
             [
              0.6666666666666666,
              "#ed7953"
             ],
             [
              0.7777777777777778,
              "#fb9f3a"
             ],
             [
              0.8888888888888888,
              "#fdca26"
             ],
             [
              1,
              "#f0f921"
             ]
            ],
            "type": "heatmapgl"
           }
          ],
          "histogram": [
           {
            "marker": {
             "pattern": {
              "fillmode": "overlay",
              "size": 10,
              "solidity": 0.2
             }
            },
            "type": "histogram"
           }
          ],
          "histogram2d": [
           {
            "colorbar": {
             "outlinewidth": 0,
             "ticks": ""
            },
            "colorscale": [
             [
              0,
              "#0d0887"
             ],
             [
              0.1111111111111111,
              "#46039f"
             ],
             [
              0.2222222222222222,
              "#7201a8"
             ],
             [
              0.3333333333333333,
              "#9c179e"
             ],
             [
              0.4444444444444444,
              "#bd3786"
             ],
             [
              0.5555555555555556,
              "#d8576b"
             ],
             [
              0.6666666666666666,
              "#ed7953"
             ],
             [
              0.7777777777777778,
              "#fb9f3a"
             ],
             [
              0.8888888888888888,
              "#fdca26"
             ],
             [
              1,
              "#f0f921"
             ]
            ],
            "type": "histogram2d"
           }
          ],
          "histogram2dcontour": [
           {
            "colorbar": {
             "outlinewidth": 0,
             "ticks": ""
            },
            "colorscale": [
             [
              0,
              "#0d0887"
             ],
             [
              0.1111111111111111,
              "#46039f"
             ],
             [
              0.2222222222222222,
              "#7201a8"
             ],
             [
              0.3333333333333333,
              "#9c179e"
             ],
             [
              0.4444444444444444,
              "#bd3786"
             ],
             [
              0.5555555555555556,
              "#d8576b"
             ],
             [
              0.6666666666666666,
              "#ed7953"
             ],
             [
              0.7777777777777778,
              "#fb9f3a"
             ],
             [
              0.8888888888888888,
              "#fdca26"
             ],
             [
              1,
              "#f0f921"
             ]
            ],
            "type": "histogram2dcontour"
           }
          ],
          "mesh3d": [
           {
            "colorbar": {
             "outlinewidth": 0,
             "ticks": ""
            },
            "type": "mesh3d"
           }
          ],
          "parcoords": [
           {
            "line": {
             "colorbar": {
              "outlinewidth": 0,
              "ticks": ""
             }
            },
            "type": "parcoords"
           }
          ],
          "pie": [
           {
            "automargin": true,
            "type": "pie"
           }
          ],
          "scatter": [
           {
            "fillpattern": {
             "fillmode": "overlay",
             "size": 10,
             "solidity": 0.2
            },
            "type": "scatter"
           }
          ],
          "scatter3d": [
           {
            "line": {
             "colorbar": {
              "outlinewidth": 0,
              "ticks": ""
             }
            },
            "marker": {
             "colorbar": {
              "outlinewidth": 0,
              "ticks": ""
             }
            },
            "type": "scatter3d"
           }
          ],
          "scattercarpet": [
           {
            "marker": {
             "colorbar": {
              "outlinewidth": 0,
              "ticks": ""
             }
            },
            "type": "scattercarpet"
           }
          ],
          "scattergeo": [
           {
            "marker": {
             "colorbar": {
              "outlinewidth": 0,
              "ticks": ""
             }
            },
            "type": "scattergeo"
           }
          ],
          "scattergl": [
           {
            "marker": {
             "colorbar": {
              "outlinewidth": 0,
              "ticks": ""
             }
            },
            "type": "scattergl"
           }
          ],
          "scattermapbox": [
           {
            "marker": {
             "colorbar": {
              "outlinewidth": 0,
              "ticks": ""
             }
            },
            "type": "scattermapbox"
           }
          ],
          "scatterpolar": [
           {
            "marker": {
             "colorbar": {
              "outlinewidth": 0,
              "ticks": ""
             }
            },
            "type": "scatterpolar"
           }
          ],
          "scatterpolargl": [
           {
            "marker": {
             "colorbar": {
              "outlinewidth": 0,
              "ticks": ""
             }
            },
            "type": "scatterpolargl"
           }
          ],
          "scatterternary": [
           {
            "marker": {
             "colorbar": {
              "outlinewidth": 0,
              "ticks": ""
             }
            },
            "type": "scatterternary"
           }
          ],
          "surface": [
           {
            "colorbar": {
             "outlinewidth": 0,
             "ticks": ""
            },
            "colorscale": [
             [
              0,
              "#0d0887"
             ],
             [
              0.1111111111111111,
              "#46039f"
             ],
             [
              0.2222222222222222,
              "#7201a8"
             ],
             [
              0.3333333333333333,
              "#9c179e"
             ],
             [
              0.4444444444444444,
              "#bd3786"
             ],
             [
              0.5555555555555556,
              "#d8576b"
             ],
             [
              0.6666666666666666,
              "#ed7953"
             ],
             [
              0.7777777777777778,
              "#fb9f3a"
             ],
             [
              0.8888888888888888,
              "#fdca26"
             ],
             [
              1,
              "#f0f921"
             ]
            ],
            "type": "surface"
           }
          ],
          "table": [
           {
            "cells": {
             "fill": {
              "color": "#EBF0F8"
             },
             "line": {
              "color": "white"
             }
            },
            "header": {
             "fill": {
              "color": "#C8D4E3"
             },
             "line": {
              "color": "white"
             }
            },
            "type": "table"
           }
          ]
         },
         "layout": {
          "annotationdefaults": {
           "arrowcolor": "#2a3f5f",
           "arrowhead": 0,
           "arrowwidth": 1
          },
          "autotypenumbers": "strict",
          "coloraxis": {
           "colorbar": {
            "outlinewidth": 0,
            "ticks": ""
           }
          },
          "colorscale": {
           "diverging": [
            [
             0,
             "#8e0152"
            ],
            [
             0.1,
             "#c51b7d"
            ],
            [
             0.2,
             "#de77ae"
            ],
            [
             0.3,
             "#f1b6da"
            ],
            [
             0.4,
             "#fde0ef"
            ],
            [
             0.5,
             "#f7f7f7"
            ],
            [
             0.6,
             "#e6f5d0"
            ],
            [
             0.7,
             "#b8e186"
            ],
            [
             0.8,
             "#7fbc41"
            ],
            [
             0.9,
             "#4d9221"
            ],
            [
             1,
             "#276419"
            ]
           ],
           "sequential": [
            [
             0,
             "#0d0887"
            ],
            [
             0.1111111111111111,
             "#46039f"
            ],
            [
             0.2222222222222222,
             "#7201a8"
            ],
            [
             0.3333333333333333,
             "#9c179e"
            ],
            [
             0.4444444444444444,
             "#bd3786"
            ],
            [
             0.5555555555555556,
             "#d8576b"
            ],
            [
             0.6666666666666666,
             "#ed7953"
            ],
            [
             0.7777777777777778,
             "#fb9f3a"
            ],
            [
             0.8888888888888888,
             "#fdca26"
            ],
            [
             1,
             "#f0f921"
            ]
           ],
           "sequentialminus": [
            [
             0,
             "#0d0887"
            ],
            [
             0.1111111111111111,
             "#46039f"
            ],
            [
             0.2222222222222222,
             "#7201a8"
            ],
            [
             0.3333333333333333,
             "#9c179e"
            ],
            [
             0.4444444444444444,
             "#bd3786"
            ],
            [
             0.5555555555555556,
             "#d8576b"
            ],
            [
             0.6666666666666666,
             "#ed7953"
            ],
            [
             0.7777777777777778,
             "#fb9f3a"
            ],
            [
             0.8888888888888888,
             "#fdca26"
            ],
            [
             1,
             "#f0f921"
            ]
           ]
          },
          "colorway": [
           "#636efa",
           "#EF553B",
           "#00cc96",
           "#ab63fa",
           "#FFA15A",
           "#19d3f3",
           "#FF6692",
           "#B6E880",
           "#FF97FF",
           "#FECB52"
          ],
          "font": {
           "color": "#2a3f5f"
          },
          "geo": {
           "bgcolor": "white",
           "lakecolor": "white",
           "landcolor": "#E5ECF6",
           "showlakes": true,
           "showland": true,
           "subunitcolor": "white"
          },
          "hoverlabel": {
           "align": "left"
          },
          "hovermode": "closest",
          "mapbox": {
           "style": "light"
          },
          "paper_bgcolor": "white",
          "plot_bgcolor": "#E5ECF6",
          "polar": {
           "angularaxis": {
            "gridcolor": "white",
            "linecolor": "white",
            "ticks": ""
           },
           "bgcolor": "#E5ECF6",
           "radialaxis": {
            "gridcolor": "white",
            "linecolor": "white",
            "ticks": ""
           }
          },
          "scene": {
           "xaxis": {
            "backgroundcolor": "#E5ECF6",
            "gridcolor": "white",
            "gridwidth": 2,
            "linecolor": "white",
            "showbackground": true,
            "ticks": "",
            "zerolinecolor": "white"
           },
           "yaxis": {
            "backgroundcolor": "#E5ECF6",
            "gridcolor": "white",
            "gridwidth": 2,
            "linecolor": "white",
            "showbackground": true,
            "ticks": "",
            "zerolinecolor": "white"
           },
           "zaxis": {
            "backgroundcolor": "#E5ECF6",
            "gridcolor": "white",
            "gridwidth": 2,
            "linecolor": "white",
            "showbackground": true,
            "ticks": "",
            "zerolinecolor": "white"
           }
          },
          "shapedefaults": {
           "line": {
            "color": "#2a3f5f"
           }
          },
          "ternary": {
           "aaxis": {
            "gridcolor": "white",
            "linecolor": "white",
            "ticks": ""
           },
           "baxis": {
            "gridcolor": "white",
            "linecolor": "white",
            "ticks": ""
           },
           "bgcolor": "#E5ECF6",
           "caxis": {
            "gridcolor": "white",
            "linecolor": "white",
            "ticks": ""
           }
          },
          "title": {
           "x": 0.05
          },
          "xaxis": {
           "automargin": true,
           "gridcolor": "white",
           "linecolor": "white",
           "ticks": "",
           "title": {
            "standoff": 15
           },
           "zerolinecolor": "white",
           "zerolinewidth": 2
          },
          "yaxis": {
           "automargin": true,
           "gridcolor": "white",
           "linecolor": "white",
           "ticks": "",
           "title": {
            "standoff": 15
           },
           "zerolinecolor": "white",
           "zerolinewidth": 2
          }
         }
        },
        "title": {
         "text": "Basic Sankey Diagram"
        }
       }
      }
     },
     "metadata": {},
     "output_type": "display_data"
    }
   ],
   "source": [
    "links = dict(\n",
    "    source = [edge[\"from\"] for edge in trav['edges']],\n",
    "    target = [edge[\"to\"] for edge in trav['edges']],\n",
    "    value = [-edge[\"impact_neg\"] for edge in trav['edges']]\n",
    ")\n",
    "fig = go.Figure(data=[go.Sankey(\n",
    "    link = links\n",
    ")])\n",
    "\n",
    "fig.update_layout(title_text=\"Basic Sankey Diagram\", font_size=10)\n",
    "fig.show()"
   ]
  },
  {
   "cell_type": "code",
   "execution_count": null,
   "metadata": {},
   "outputs": [],
   "source": []
  }
 ],
 "metadata": {
  "kernelspec": {
   "display_name": "Python 3.11.0 ('bw25')",
   "language": "python",
   "name": "python3"
  },
  "language_info": {
   "codemirror_mode": {
    "name": "ipython",
    "version": 3
   },
   "file_extension": ".py",
   "mimetype": "text/x-python",
   "name": "python",
   "nbconvert_exporter": "python",
   "pygments_lexer": "ipython3",
   "version": "3.11.0"
  },
  "orig_nbformat": 4,
  "vscode": {
   "interpreter": {
    "hash": "129fa975a5cc1910d29c283259c28ba1164ba1221f5a5d4217117437c9dbb2a6"
   }
  }
 },
 "nbformat": 4,
 "nbformat_minor": 2
}
