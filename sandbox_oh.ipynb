{
 "cells": [
  {
   "cell_type": "code",
   "execution_count": null,
   "metadata": {},
   "outputs": [],
   "source": [
    "# python 3.11\n",
    "# please run in the console:\n",
    "# conda create -n bw25 -c cmutel brightway25\n",
    "# conda activate bw25\n",
    "# pip install ipykernel\n",
    "%pip install numpy pandas plotly nbformat"
   ]
  },
  {
   "cell_type": "code",
   "execution_count": null,
   "metadata": {},
   "outputs": [],
   "source": [
    "# for ei3.8\n",
    "%pip install bw2io==0.9.dev11"
   ]
  },
  {
   "cell_type": "code",
   "execution_count": 1,
   "metadata": {},
   "outputs": [
    {
     "name": "stdout",
     "output_type": "stream",
     "text": [
      "Creating default biosphere\n",
      "\n",
      "Applying strategy: normalize_units\n",
      "Applying strategy: drop_unspecified_subcategories\n",
      "Applying strategy: ensure_categories_are_tuples\n",
      "Applied 3 strategies in 0.01 seconds\n",
      "Warning: No valid output stream.\n",
      "Title: Writing activities to SQLite3 database:\n",
      "  Started: 02/10/2023 09:44:11\n",
      "  Finished: 02/10/2023 09:44:12\n",
      "  Total time elapsed: 00:00:01\n",
      "  CPU %: 46.50\n",
      "  Memory %: 0.01\n",
      "Created database: biosphere3\n",
      "Creating default LCIA methods\n",
      "\n",
      "Applying strategy: normalize_units\n",
      "Applying strategy: set_biosphere_type\n",
      "Applying strategy: fix_ecoinvent_38_lcia_implementation\n",
      "Applying strategy: drop_unspecified_subcategories\n",
      "Applying strategy: link_iterable_by_fields\n",
      "Applied 5 strategies in 4.70 seconds\n",
      "Wrote 975 LCIA methods with 254388 characterization factors\n",
      "Creating core data migrations\n",
      "\n",
      "Extracting XML data from 19565 datasets\n",
      "Extracted 19565 datasets in 240.52 seconds\n",
      "Applying strategy: normalize_units\n",
      "Applying strategy: update_ecoinvent_locations\n",
      "Applying strategy: remove_zero_amount_coproducts\n",
      "Applying strategy: remove_zero_amount_inputs_with_no_activity\n",
      "Applying strategy: remove_unnamed_parameters\n",
      "Applying strategy: es2_assign_only_product_with_amount_as_reference_product\n",
      "Applying strategy: assign_single_product_as_activity\n",
      "Applying strategy: create_composite_code\n",
      "Applying strategy: drop_unspecified_subcategories\n",
      "Applying strategy: fix_ecoinvent_flows_pre35\n",
      "Applying strategy: drop_temporary_outdated_biosphere_flows\n",
      "Applying strategy: link_biosphere_by_flow_uuid\n",
      "Applying strategy: link_internal_technosphere_by_composite_code\n",
      "Applying strategy: delete_exchanges_missing_activity\n",
      "Applying strategy: delete_ghost_exchanges\n",
      "Applying strategy: remove_uncertainty_from_negative_loss_exchanges\n",
      "Applying strategy: fix_unreasonably_high_lognormal_uncertainties\n",
      "Applying strategy: set_lognormal_loc_value\n",
      "Applying strategy: convert_activity_parameters_to_list\n",
      "Applying strategy: add_cpc_classification_from_single_reference_product\n",
      "Applying strategy: delete_none_synonyms\n",
      "Applying strategy: update_social_flows_in_older_consequential\n",
      "Applied 22 strategies in 13.84 seconds\n",
      "19565 datasets\n",
      "629959 exchanges\n",
      "0 unlinked exchanges\n",
      "  \n"
     ]
    }
   ],
   "source": [
    "import numpy as np\n",
    "import pandas as pd\n",
    "import matplotlib.pyplot as plt\n",
    "plt.style.use('ggplot')\n",
    "#import database_explorer as dbex\n",
    "import bw2analyzer as ba\n",
    "import bw2data as bd\n",
    "import bw2calc as bc\n",
    "import bw2io as bi\n",
    "import matrix_utils as mu\n",
    "import bw_processing as bp\n",
    "\n",
    "first_setup = False\n",
    "NAME = \"ei38-cutoff-25\"\n",
    "\n",
    "if first_setup:\n",
    "    if NAME in bd.projects:\n",
    "        bd.projects.delete_project(NAME, True)\n",
    "\n",
    "bd.projects.set_current(NAME)\n",
    "\n",
    "if first_setup:\n",
    "    bi.bw2setup()\n",
    "\n",
    "if first_setup:\n",
    "    ei33 = bi.SingleOutputEcospold2Importer('/home/hurtiol/ALFA/datasets/', 'ecoInvent 3.8')\n",
    "    ei33.apply_strategies()\n",
    "    ei33.statistics()\n"
   ]
  },
  {
   "cell_type": "code",
   "execution_count": 2,
   "metadata": {},
   "outputs": [
    {
     "name": "stdout",
     "output_type": "stream",
     "text": [
      "Not able to determine geocollections for all datasets. This database is not ready for regionalization.\n",
      "Warning: No valid output stream.\n",
      "Title: Writing activities to SQLite3 database:\n",
      "  Started: 02/10/2023 11:15:06\n",
      "  Finished: 02/10/2023 11:18:25\n",
      "  Total time elapsed: 00:03:18\n",
      "  CPU %: 31.50\n",
      "  Memory %: 0.15\n",
      "Created database: ecoInvent 3.8\n"
     ]
    }
   ],
   "source": [
    "if first_setup:\n",
    "    ei33.write_database(db_name='ecoInvent 3.8')"
   ]
  },
  {
   "cell_type": "code",
   "execution_count": 4,
   "metadata": {},
   "outputs": [
    {
     "data": {
      "text/plain": [
       "0.38520281033490816"
      ]
     },
     "execution_count": 4,
     "metadata": {},
     "output_type": "execute_result"
    }
   ],
   "source": [
    "act = bd.Database(\"ecoInvent 3.8\").search(\"biomethane production, high pressure from synthetic gas, wood, fluidised technology\")[0]\n",
    "#methods = [x for x in bd.methods if 'IPCC' in x[0]]\n",
    "method = ('IPCC 2013', 'climate change', 'GWP 100a')\n",
    "lca = bc.LCA({act: 1}, method = method)\n",
    "lca.lci()\n",
    "lca.lcia()\n",
    "lca.score"
   ]
  },
  {
   "cell_type": "code",
   "execution_count": 5,
   "metadata": {},
   "outputs": [],
   "source": [
    "# modified version of the AssumeDiagonalGraphTraversal.\n",
    "# includes separate calculation of positive and negative impact\n",
    "import warnings\n",
    "from heapq import heappop, heappush\n",
    "import itertools\n",
    "from functools import lru_cache\n",
    "\n",
    "import numpy as np\n",
    "from scipy import sparse\n",
    "\n",
    "from bw2calc import spsolve, LCA\n",
    "\n",
    "class JRCAssumedDiagonalGraphTraversal:\n",
    "    \"\"\"\n",
    "    Traverse a supply chain, following paths of greatest impact.\n",
    "    This implementation uses a queue of datasets to assess. As the supply chain is traversed, datasets inputs are added to a list sorted by LCA score. Each activity in the sorted list is assessed, and added to the supply chain graph, as long as its impact is above a certain threshold, and the maximum number of calculations has not been exceeded.\n",
    "    Because the next dataset assessed is chosen by its impact, not its position in the graph, this is neither a breadth-first nor a depth-first search, but rather \"importance-first\".\n",
    "    This class is written in a functional style - no variables are stored in *self*, only methods.\n",
    "    Should be used by calling the ``calculate`` method.\n",
    "    .. warning:: Graph traversal with multioutput processes only works when other inputs are substituted (see `Multioutput processes in LCA <http://chris.mutel.org/multioutput.html>`__ for a description of multiputput process math in LCA).\n",
    "    \"\"\"\n",
    "\n",
    "    def calculate(self, lca, cutoff=0.005, max_calc=1e5, skip_coproducts=False):\n",
    "        \"\"\"\n",
    "        Traverse the supply chain graph.\n",
    "        Args:\n",
    "            * *lca* (dict): An instance of ``bw2calc.lca.LCA``.\n",
    "            * *cutoff* (float, default=0.005): Cutoff criteria to stop LCA calculations. Relative score of total, i.e. 0.005 will cutoff if a dataset has a score less than 0.5 percent of the total.\n",
    "            * *max_calc* (int, default=10000): Maximum number of LCA calculations to perform.\n",
    "        Returns:\n",
    "            Dictionary of nodes, edges, and number of LCA calculations.\n",
    "        \"\"\"\n",
    "        if not hasattr(lca, \"supply_array\"):\n",
    "            lca.lci()\n",
    "        if not hasattr(lca, \"characterized_inventory\"):\n",
    "            lca.lcia()\n",
    "\n",
    "        supply = lca.supply_array.copy()\n",
    "        score = lca.score\n",
    "\n",
    "        if score == 0:\n",
    "            raise ValueError(\"Zero total LCA score makes traversal impossible\")\n",
    "\n",
    "        # Create matrix of LCIA CFs times biosphere flows, as these don't\n",
    "        # change. This is also the unit score of each activity.\n",
    "        characterized_biosphere = np.array(\n",
    "            (lca.characterization_matrix * lca.biosphere_matrix).sum(axis=0)\n",
    "        ).ravel()\n",
    "        characterized_biosphere_neg = characterized_biosphere.copy()\n",
    "        characterized_biosphere_neg[characterized_biosphere_neg > 0] = 0\n",
    "        characterized_biosphere_pos = characterized_biosphere.copy()\n",
    "        characterized_biosphere_pos[characterized_biosphere_pos < 0] = 0\n",
    "\n",
    "        heap, nodes, edges = self.initialize_heap(lca, supply, characterized_biosphere, characterized_biosphere_neg, characterized_biosphere_pos)\n",
    "        nodes, edges, counter = self.traverse(\n",
    "            heap,\n",
    "            nodes,\n",
    "            edges,\n",
    "            0,\n",
    "            max_calc,\n",
    "            cutoff,\n",
    "            score,\n",
    "            supply,\n",
    "            characterized_biosphere,\n",
    "            characterized_biosphere_neg,\n",
    "            characterized_biosphere_pos,\n",
    "            lca,\n",
    "            skip_coproducts,\n",
    "        )\n",
    "\n",
    "        return {\n",
    "            \"nodes\": nodes,\n",
    "            \"edges\": edges,\n",
    "            \"counter\": counter,\n",
    "        }\n",
    "\n",
    "    def initialize_heap(self, lca, supply, characterized_biosphere,\n",
    "            characterized_biosphere_neg,\n",
    "            characterized_biosphere_pos):\n",
    "        \"\"\"\n",
    "        Create a `priority queue <http://docs.python.org/2/library/heapq.html>`_ or ``heap`` to store inventory datasets, sorted by LCA score.\n",
    "        Populates the heap with each activity in ``demand``. Initial nodes are the *functional unit*, i.e. the complete demand, and each activity in the *functional unit*. Initial edges are inputs from each activity into the *functional unit*.\n",
    "        The *functional unit* is an abstract dataset (as it doesn't exist in the matrix), and is assigned the index ``-1``.\n",
    "        \"\"\"\n",
    "        heap, edges = [], []\n",
    "        nodes = {-1: {\"amount\": 1, \"cum\": lca.score, \"ind\": 1e-6 * lca.score}}\n",
    "        for index, amount in enumerate(lca.demand_array):\n",
    "            if amount == 0:\n",
    "                continue\n",
    "            cum_score, cum_score_neg, cum_score_pos = self.cumulative_score(\n",
    "                index, supply, characterized_biosphere,\n",
    "            characterized_biosphere_neg,\n",
    "            characterized_biosphere_pos, lca\n",
    "            )\n",
    "            heappush(heap, (abs(1 / cum_score), index))\n",
    "            nodes[index] = {\n",
    "                \"amount\": float(supply[index]),\n",
    "                \"cum\": cum_score,\n",
    "                \"cum_neg\": cum_score_neg,\n",
    "                \"cum_pos\": cum_score_pos,\n",
    "                \"ind\": self.unit_score(index, supply, characterized_biosphere),\n",
    "            }\n",
    "            edges.append(\n",
    "                {\n",
    "                    \"to\": -1,\n",
    "                    \"from\": index,\n",
    "                    \"amount\": amount,\n",
    "                    \"exc_amount\": amount,\n",
    "                    \"impact\": cum_score * amount / float(supply[index]),\n",
    "                    \"impact_neg\": cum_score_neg * amount / float(supply[index]),\n",
    "                    \"impact_pos\": cum_score_pos * amount / float(supply[index])\n",
    "                }\n",
    "            )\n",
    "        return heap, nodes, edges\n",
    "\n",
    "    def cumulative_score(self, index, supply, characterized_biosphere,\n",
    "            characterized_biosphere_neg,\n",
    "            characterized_biosphere_pos, lca):\n",
    "        \"\"\"Compute cumulative LCA score for a given activity\"\"\"\n",
    "        demand = np.zeros((supply.shape[0],))\n",
    "        demand[index] = (\n",
    "            supply[index]\n",
    "            *\n",
    "            # Normalize by the production amount\n",
    "            lca.technosphere_matrix[index, index]\n",
    "        )\n",
    "        solved_tech = spsolve(lca.technosphere_matrix, demand)\n",
    "        return (float(\n",
    "            (characterized_biosphere * solved_tech).sum()\n",
    "        ),\n",
    "        float(\n",
    "            (characterized_biosphere_neg * solved_tech).sum()\n",
    "        ),\n",
    "        float(\n",
    "            (characterized_biosphere_pos * solved_tech).sum()\n",
    "        ))\n",
    "\n",
    "    def unit_score(self, index, supply, characterized_biosphere):\n",
    "        \"\"\"Compute the LCA impact caused by the direct emissions and resource consumption of a given activity\"\"\"\n",
    "        return float(characterized_biosphere[index] * supply[index])\n",
    "\n",
    "    def traverse(\n",
    "        self,\n",
    "        heap,\n",
    "        nodes,\n",
    "        edges,\n",
    "        counter,\n",
    "        max_calc,\n",
    "        cutoff,\n",
    "        total_score,\n",
    "        supply,\n",
    "        characterized_biosphere,\n",
    "        characterized_biosphere_neg,\n",
    "        characterized_biosphere_pos,\n",
    "        lca,\n",
    "        skip_coproducts,\n",
    "    ):\n",
    "        \"\"\"\n",
    "        Build a directed graph by traversing the supply chain.\n",
    "        Node ids are actually technosphere row/col indices, which makes lookup easier.\n",
    "        Returns:\n",
    "            (nodes, edges, number of calculations)\n",
    "        \"\"\"\n",
    "        # static_databases = {name for name in databases if databases[name].get(\"static\")}\n",
    "        # reverse = lca.dicts.activity.reversed\n",
    "\n",
    "        while heap:\n",
    "            if counter >= max_calc:\n",
    "                warnings.warn(\"Stopping traversal due to calculation count.\")\n",
    "                break\n",
    "            parent_index = heappop(heap)[1]\n",
    "            # Skip links from static databases\n",
    "            # if static_databases and reverse[parent_index][0] in static_databases:\n",
    "            #     continue\n",
    "\n",
    "            # Assume that this activity produces its reference product\n",
    "            scale_value = lca.technosphere_matrix[parent_index, parent_index]\n",
    "            if scale_value == 0:\n",
    "                raise ValueError(\n",
    "                    \"Can't rescale activities that produce zero reference product\"\n",
    "                )\n",
    "            col = lca.technosphere_matrix[:, parent_index].tocoo()\n",
    "            # Multiply by -1 because technosphere values are negative\n",
    "            # (consumption of inputs) and rescale\n",
    "            children = [\n",
    "                (int(col.row[i]), float(-1 * col.data[i] / scale_value))\n",
    "                for i in range(col.row.shape[0])\n",
    "            ]\n",
    "            for activity, amount in children:\n",
    "                # Skip values on technosphere diagonal\n",
    "                if activity == parent_index:\n",
    "                    continue\n",
    "                # Skip negative coproducts\n",
    "                if skip_coproducts and amount <= 0:\n",
    "                    continue\n",
    "                counter += 1\n",
    "                cumulative_score, cum_score_neg, cum_score_pos = self.cumulative_score(\n",
    "                    activity, supply, characterized_biosphere, characterized_biosphere_neg, characterized_biosphere_pos, lca\n",
    "                )\n",
    "                if abs(cumulative_score) < abs(total_score * cutoff):\n",
    "                    continue\n",
    "\n",
    "                # flow between activity and parent (Multiply by -1 because technosphere values are negative)\n",
    "                flow = (\n",
    "                    -1.0\n",
    "                    * lca.technosphere_matrix[activity, parent_index]\n",
    "                    * supply[parent_index]\n",
    "                )\n",
    "                total_activity_output = (\n",
    "                    lca.technosphere_matrix[activity, activity] * supply[activity]\n",
    "                )\n",
    "\n",
    "                # Edge format is (to, from, mass amount, cumulative impact)\n",
    "                edges.append(\n",
    "                    {\n",
    "                        \"to\": parent_index,\n",
    "                        \"from\": activity,\n",
    "                        # Amount of this link * amount of parent demanding link\n",
    "                        \"amount\": flow,\n",
    "                        # Raw exchange value\n",
    "                        \"exc_amount\": amount,\n",
    "                        # Impact related to this flow\n",
    "                        \"impact\": flow / total_activity_output * cumulative_score,\n",
    "                        \"impact_neg\": flow / total_activity_output * cum_score_neg,\n",
    "                        \"impact_pos\": flow / total_activity_output * cum_score_pos\n",
    "                    }\n",
    "                )\n",
    "                # Want multiple incoming edges, but don't add existing node\n",
    "                if activity in nodes:\n",
    "                    continue\n",
    "                nodes[activity] = {\n",
    "                    # Total amount of this flow supplied\n",
    "                    \"amount\": total_activity_output,\n",
    "                    # Cumulative score from all flows of this activity\n",
    "                    \"cum\": cumulative_score,\n",
    "                    \"cum_neg\": cum_score_neg,\n",
    "                    \"cum_pos\": cum_score_pos,\n",
    "                    # Individual score attributable to environmental flows\n",
    "                    # coming directory from or to this activity\n",
    "                    \"ind\": self.unit_score(activity, supply, characterized_biosphere),\n",
    "                }\n",
    "                heappush(heap, (abs(1 / cumulative_score), activity))\n",
    "\n",
    "        return nodes, edges, counter\n"
   ]
  },
  {
   "cell_type": "code",
   "execution_count": 19,
   "metadata": {},
   "outputs": [],
   "source": [
    "trav = JRCAssumedDiagonalGraphTraversal().calculate(lca, cutoff=0.1)"
   ]
  },
  {
   "cell_type": "code",
   "execution_count": 20,
   "metadata": {},
   "outputs": [
    {
     "data": {
      "text/plain": [
       "[{'to': -1,\n",
       "  'from': 8136,\n",
       "  'amount': 1.0,\n",
       "  'exc_amount': 1.0,\n",
       "  'impact': 0.3852028103349081,\n",
       "  'impact_neg': -0.0041985319257974475,\n",
       "  'impact_pos': 0.3894013422607055},\n",
       " {'to': 8136,\n",
       "  'from': 4040,\n",
       "  'amount': 0.814000010490703,\n",
       "  'exc_amount': 0.8140000104904175,\n",
       "  'impact': 0.05148407252302469,\n",
       "  'impact_neg': -0.003796729728404199,\n",
       "  'impact_pos': 0.05528080225142889},\n",
       " {'to': 8136,\n",
       "  'from': 9946,\n",
       "  'amount': 0.008120000362399089,\n",
       "  'exc_amount': 0.00812000036239624,\n",
       "  'impact': 0.041284385384511194,\n",
       "  'impact_neg': -6.6761062231768e-08,\n",
       "  'impact_pos': 0.041284452145573435},\n",
       " {'to': 8136,\n",
       "  'from': 15337,\n",
       "  'amount': 0.019804999232299125,\n",
       "  'exc_amount': 0.019804999232292175,\n",
       "  'impact': 0.04024815765259258,\n",
       "  'impact_neg': -0.00010549649277379603,\n",
       "  'impact_pos': 0.04035365414536638},\n",
       " {'to': 8136,\n",
       "  'from': 16404,\n",
       "  'amount': 2.887253999711096,\n",
       "  'exc_amount': 2.887253999710083,\n",
       "  'impact': 0.13046470882720684,\n",
       "  'impact_neg': -2.744155104399156e-05,\n",
       "  'impact_pos': 0.13049215037825085},\n",
       " {'to': 16404,\n",
       "  'from': 12886,\n",
       "  'amount': 1.8756302657345472,\n",
       "  'exc_amount': 0.6488307118415833,\n",
       "  'impact': 0.05691587451646282,\n",
       "  'impact_neg': -1.4252348547825135e-05,\n",
       "  'impact_pos': 0.056930126865010644},\n",
       " {'to': 16404,\n",
       "  'from': 18854,\n",
       "  'amount': 0.30353244407058355,\n",
       "  'exc_amount': 0.10499999672174454,\n",
       "  'impact': 0.03982962290747259,\n",
       "  'impact_neg': -2.2677665156920063e-06,\n",
       "  'impact_pos': 0.039831890673988284},\n",
       " {'to': 4040,\n",
       "  'from': 18854,\n",
       "  'amount': 0.05698051353519299,\n",
       "  'exc_amount': 0.07000000029802322,\n",
       "  'impact': 0.007477000931910664,\n",
       "  'impact_neg': -4.2571561349137784e-07,\n",
       "  'impact_pos': 0.0074774266475241555},\n",
       " {'to': 15337,\n",
       "  'from': 8000,\n",
       "  'amount': 0.01980657277455316,\n",
       "  'exc_amount': 1.0,\n",
       "  'impact': 0.039874765501752896,\n",
       "  'impact_neg': -0.00010547235524257884,\n",
       "  'impact_pos': 0.039980237856995476}]"
      ]
     },
     "execution_count": 20,
     "metadata": {},
     "output_type": "execute_result"
    }
   ],
   "source": [
    "trav['edges']"
   ]
  },
  {
   "cell_type": "code",
   "execution_count": 23,
   "metadata": {},
   "outputs": [
    {
     "data": {
      "text/plain": [
       "{8136: 'biomethane production, high pressure from synthetic gas, wood, fluidised technology' (cubic meter, CH, None),\n",
       " 4040: 'market for wood chips, dry, measured as dry mass' (kilogram, RER, None),\n",
       " 9946: 'market for zeolite, powder' (kilogram, GLO, None),\n",
       " 15337: 'market for charcoal' (kilogram, GLO, None),\n",
       " 16404: 'market for wood chips, wet, measured as dry mass' (kilogram, CH, None),\n",
       " 12886: 'hardwood forestry, mixed species, sustainable forest management' (kilogram, CH, None),\n",
       " 18854: 'market for transport, freight, lorry, unspecified' (ton kilometer, RER, None),\n",
       " 8000: 'charcoal production' (kilogram, GLO, None)}"
      ]
     },
     "execution_count": 23,
     "metadata": {},
     "output_type": "execute_result"
    }
   ],
   "source": [
    "# from Romain to name the activities\n",
    "id_to_key = {v:k for k, v in lca.activity_dict.items()}\n",
    "activities = {id: bd.get_activity(id_to_key[id]) for id in list(trav[\"nodes\"].keys())[1:]}\n",
    "activities"
   ]
  },
  {
   "cell_type": "code",
   "execution_count": 49,
   "metadata": {},
   "outputs": [
    {
     "data": {
      "text/html": [
       "<div>\n",
       "<style scoped>\n",
       "    .dataframe tbody tr th:only-of-type {\n",
       "        vertical-align: middle;\n",
       "    }\n",
       "\n",
       "    .dataframe tbody tr th {\n",
       "        vertical-align: top;\n",
       "    }\n",
       "\n",
       "    .dataframe thead th {\n",
       "        text-align: right;\n",
       "    }\n",
       "</style>\n",
       "<table border=\"1\" class=\"dataframe\">\n",
       "  <thead>\n",
       "    <tr style=\"text-align: right;\">\n",
       "      <th></th>\n",
       "      <th>label</th>\n",
       "      <th>parent</th>\n",
       "      <th>labels_short</th>\n",
       "      <th>value</th>\n",
       "    </tr>\n",
       "  </thead>\n",
       "  <tbody>\n",
       "    <tr>\n",
       "      <th>0</th>\n",
       "      <td>biomethane production, high pressure from synt...</td>\n",
       "      <td></td>\n",
       "      <td>biomethane product</td>\n",
       "      <td>0.389</td>\n",
       "    </tr>\n",
       "    <tr>\n",
       "      <th>1</th>\n",
       "      <td>market for wood chips, dry, measured as dry ma...</td>\n",
       "      <td>biomethane production, high pressure from synt...</td>\n",
       "      <td>market for wood ch</td>\n",
       "      <td>0.055</td>\n",
       "    </tr>\n",
       "    <tr>\n",
       "      <th>2</th>\n",
       "      <td>market for zeolite, powder (GLO)</td>\n",
       "      <td>biomethane production, high pressure from synt...</td>\n",
       "      <td>market for zeolite</td>\n",
       "      <td>0.041</td>\n",
       "    </tr>\n",
       "    <tr>\n",
       "      <th>3</th>\n",
       "      <td>market for charcoal (GLO)</td>\n",
       "      <td>biomethane production, high pressure from synt...</td>\n",
       "      <td>market for charcoa</td>\n",
       "      <td>0.040</td>\n",
       "    </tr>\n",
       "    <tr>\n",
       "      <th>4</th>\n",
       "      <td>market for wood chips, wet, measured as dry ma...</td>\n",
       "      <td>biomethane production, high pressure from synt...</td>\n",
       "      <td>market for wood ch</td>\n",
       "      <td>0.130</td>\n",
       "    </tr>\n",
       "    <tr>\n",
       "      <th>5</th>\n",
       "      <td>hardwood forestry, mixed species, sustainable ...</td>\n",
       "      <td>market for wood chips, wet, measured as dry ma...</td>\n",
       "      <td>hardwood forestry,</td>\n",
       "      <td>0.056</td>\n",
       "    </tr>\n",
       "    <tr>\n",
       "      <th>6</th>\n",
       "      <td>market for transport, freight, lorry, unspecif...</td>\n",
       "      <td>market for wood chips, wet, measured as dry ma...</td>\n",
       "      <td>market for transpo</td>\n",
       "      <td>0.039</td>\n",
       "    </tr>\n",
       "    <tr>\n",
       "      <th>7</th>\n",
       "      <td>market for transport, freight, lorry, unspecif...</td>\n",
       "      <td>market for wood chips, dry, measured as dry ma...</td>\n",
       "      <td>market for transpo</td>\n",
       "      <td>0.007</td>\n",
       "    </tr>\n",
       "    <tr>\n",
       "      <th>8</th>\n",
       "      <td>charcoal production (GLO)</td>\n",
       "      <td>market for charcoal (GLO)</td>\n",
       "      <td>charcoal productio</td>\n",
       "      <td>0.039</td>\n",
       "    </tr>\n",
       "  </tbody>\n",
       "</table>\n",
       "</div>"
      ],
      "text/plain": [
       "                                               label  \\\n",
       "0  biomethane production, high pressure from synt...   \n",
       "1  market for wood chips, dry, measured as dry ma...   \n",
       "2                   market for zeolite, powder (GLO)   \n",
       "3                          market for charcoal (GLO)   \n",
       "4  market for wood chips, wet, measured as dry ma...   \n",
       "5  hardwood forestry, mixed species, sustainable ...   \n",
       "6  market for transport, freight, lorry, unspecif...   \n",
       "7  market for transport, freight, lorry, unspecif...   \n",
       "8                          charcoal production (GLO)   \n",
       "\n",
       "                                              parent        labels_short  \\\n",
       "0                                                     biomethane product   \n",
       "1  biomethane production, high pressure from synt...  market for wood ch   \n",
       "2  biomethane production, high pressure from synt...  market for zeolite   \n",
       "3  biomethane production, high pressure from synt...  market for charcoa   \n",
       "4  biomethane production, high pressure from synt...  market for wood ch   \n",
       "5  market for wood chips, wet, measured as dry ma...  hardwood forestry,   \n",
       "6  market for wood chips, wet, measured as dry ma...  market for transpo   \n",
       "7  market for wood chips, dry, measured as dry ma...  market for transpo   \n",
       "8                          market for charcoal (GLO)  charcoal productio   \n",
       "\n",
       "   value  \n",
       "0  0.389  \n",
       "1  0.055  \n",
       "2  0.041  \n",
       "3  0.040  \n",
       "4  0.130  \n",
       "5  0.056  \n",
       "6  0.039  \n",
       "7  0.007  \n",
       "8  0.039  "
      ]
     },
     "metadata": {},
     "output_type": "display_data"
    },
    {
     "data": {
      "application/vnd.plotly.v1+json": {
       "config": {
        "plotlyServerURL": "https://plot.ly"
       },
       "data": [
        {
         "branchvalues": "total",
         "hovertext": [
          "biomethane production, high pressure from synthetic gas, wood, fluidised technology (CH)",
          "market for wood chips, dry, measured as dry mass (RER)",
          "market for zeolite, powder (GLO)",
          "market for charcoal (GLO)",
          "market for wood chips, wet, measured as dry mass (CH)",
          "hardwood forestry, mixed species, sustainable forest management (CH)",
          "market for transport, freight, lorry, unspecified (RER)",
          "market for transport, freight, lorry, unspecified (RER)",
          "charcoal production (GLO)"
         ],
         "ids": [
          "biomethane production, high pressure from synthetic gas, wood, fluidised technology (CH)",
          "market for wood chips, dry, measured as dry mass (RER)",
          "market for zeolite, powder (GLO)",
          "market for charcoal (GLO)",
          "market for wood chips, wet, measured as dry mass (CH)",
          "hardwood forestry, mixed species, sustainable forest management (CH)",
          "market for transport, freight, lorry, unspecified (RER)",
          "market for transport, freight, lorry, unspecified (RER)",
          "charcoal production (GLO)"
         ],
         "labels": [
          "biomethane product",
          "market for wood ch",
          "market for zeolite",
          "market for charcoa",
          "market for wood ch",
          "hardwood forestry,",
          "market for transpo",
          "market for transpo",
          "charcoal productio"
         ],
         "parents": [
          "",
          "biomethane production, high pressure from synthetic gas, wood, fluidised technology (CH)",
          "biomethane production, high pressure from synthetic gas, wood, fluidised technology (CH)",
          "biomethane production, high pressure from synthetic gas, wood, fluidised technology (CH)",
          "biomethane production, high pressure from synthetic gas, wood, fluidised technology (CH)",
          "market for wood chips, wet, measured as dry mass (CH)",
          "market for wood chips, wet, measured as dry mass (CH)",
          "market for wood chips, dry, measured as dry mass (RER)",
          "market for charcoal (GLO)"
         ],
         "type": "sunburst",
         "values": [
          0.389,
          0.055,
          0.041,
          0.04,
          0.13,
          0.056,
          0.039,
          0.007,
          0.039
         ]
        }
       ],
       "layout": {
        "template": {
         "data": {
          "bar": [
           {
            "error_x": {
             "color": "#2a3f5f"
            },
            "error_y": {
             "color": "#2a3f5f"
            },
            "marker": {
             "line": {
              "color": "#E5ECF6",
              "width": 0.5
             },
             "pattern": {
              "fillmode": "overlay",
              "size": 10,
              "solidity": 0.2
             }
            },
            "type": "bar"
           }
          ],
          "barpolar": [
           {
            "marker": {
             "line": {
              "color": "#E5ECF6",
              "width": 0.5
             },
             "pattern": {
              "fillmode": "overlay",
              "size": 10,
              "solidity": 0.2
             }
            },
            "type": "barpolar"
           }
          ],
          "carpet": [
           {
            "aaxis": {
             "endlinecolor": "#2a3f5f",
             "gridcolor": "white",
             "linecolor": "white",
             "minorgridcolor": "white",
             "startlinecolor": "#2a3f5f"
            },
            "baxis": {
             "endlinecolor": "#2a3f5f",
             "gridcolor": "white",
             "linecolor": "white",
             "minorgridcolor": "white",
             "startlinecolor": "#2a3f5f"
            },
            "type": "carpet"
           }
          ],
          "choropleth": [
           {
            "colorbar": {
             "outlinewidth": 0,
             "ticks": ""
            },
            "type": "choropleth"
           }
          ],
          "contour": [
           {
            "colorbar": {
             "outlinewidth": 0,
             "ticks": ""
            },
            "colorscale": [
             [
              0,
              "#0d0887"
             ],
             [
              0.1111111111111111,
              "#46039f"
             ],
             [
              0.2222222222222222,
              "#7201a8"
             ],
             [
              0.3333333333333333,
              "#9c179e"
             ],
             [
              0.4444444444444444,
              "#bd3786"
             ],
             [
              0.5555555555555556,
              "#d8576b"
             ],
             [
              0.6666666666666666,
              "#ed7953"
             ],
             [
              0.7777777777777778,
              "#fb9f3a"
             ],
             [
              0.8888888888888888,
              "#fdca26"
             ],
             [
              1,
              "#f0f921"
             ]
            ],
            "type": "contour"
           }
          ],
          "contourcarpet": [
           {
            "colorbar": {
             "outlinewidth": 0,
             "ticks": ""
            },
            "type": "contourcarpet"
           }
          ],
          "heatmap": [
           {
            "colorbar": {
             "outlinewidth": 0,
             "ticks": ""
            },
            "colorscale": [
             [
              0,
              "#0d0887"
             ],
             [
              0.1111111111111111,
              "#46039f"
             ],
             [
              0.2222222222222222,
              "#7201a8"
             ],
             [
              0.3333333333333333,
              "#9c179e"
             ],
             [
              0.4444444444444444,
              "#bd3786"
             ],
             [
              0.5555555555555556,
              "#d8576b"
             ],
             [
              0.6666666666666666,
              "#ed7953"
             ],
             [
              0.7777777777777778,
              "#fb9f3a"
             ],
             [
              0.8888888888888888,
              "#fdca26"
             ],
             [
              1,
              "#f0f921"
             ]
            ],
            "type": "heatmap"
           }
          ],
          "heatmapgl": [
           {
            "colorbar": {
             "outlinewidth": 0,
             "ticks": ""
            },
            "colorscale": [
             [
              0,
              "#0d0887"
             ],
             [
              0.1111111111111111,
              "#46039f"
             ],
             [
              0.2222222222222222,
              "#7201a8"
             ],
             [
              0.3333333333333333,
              "#9c179e"
             ],
             [
              0.4444444444444444,
              "#bd3786"
             ],
             [
              0.5555555555555556,
              "#d8576b"
             ],
             [
              0.6666666666666666,
              "#ed7953"
             ],
             [
              0.7777777777777778,
              "#fb9f3a"
             ],
             [
              0.8888888888888888,
              "#fdca26"
             ],
             [
              1,
              "#f0f921"
             ]
            ],
            "type": "heatmapgl"
           }
          ],
          "histogram": [
           {
            "marker": {
             "pattern": {
              "fillmode": "overlay",
              "size": 10,
              "solidity": 0.2
             }
            },
            "type": "histogram"
           }
          ],
          "histogram2d": [
           {
            "colorbar": {
             "outlinewidth": 0,
             "ticks": ""
            },
            "colorscale": [
             [
              0,
              "#0d0887"
             ],
             [
              0.1111111111111111,
              "#46039f"
             ],
             [
              0.2222222222222222,
              "#7201a8"
             ],
             [
              0.3333333333333333,
              "#9c179e"
             ],
             [
              0.4444444444444444,
              "#bd3786"
             ],
             [
              0.5555555555555556,
              "#d8576b"
             ],
             [
              0.6666666666666666,
              "#ed7953"
             ],
             [
              0.7777777777777778,
              "#fb9f3a"
             ],
             [
              0.8888888888888888,
              "#fdca26"
             ],
             [
              1,
              "#f0f921"
             ]
            ],
            "type": "histogram2d"
           }
          ],
          "histogram2dcontour": [
           {
            "colorbar": {
             "outlinewidth": 0,
             "ticks": ""
            },
            "colorscale": [
             [
              0,
              "#0d0887"
             ],
             [
              0.1111111111111111,
              "#46039f"
             ],
             [
              0.2222222222222222,
              "#7201a8"
             ],
             [
              0.3333333333333333,
              "#9c179e"
             ],
             [
              0.4444444444444444,
              "#bd3786"
             ],
             [
              0.5555555555555556,
              "#d8576b"
             ],
             [
              0.6666666666666666,
              "#ed7953"
             ],
             [
              0.7777777777777778,
              "#fb9f3a"
             ],
             [
              0.8888888888888888,
              "#fdca26"
             ],
             [
              1,
              "#f0f921"
             ]
            ],
            "type": "histogram2dcontour"
           }
          ],
          "mesh3d": [
           {
            "colorbar": {
             "outlinewidth": 0,
             "ticks": ""
            },
            "type": "mesh3d"
           }
          ],
          "parcoords": [
           {
            "line": {
             "colorbar": {
              "outlinewidth": 0,
              "ticks": ""
             }
            },
            "type": "parcoords"
           }
          ],
          "pie": [
           {
            "automargin": true,
            "type": "pie"
           }
          ],
          "scatter": [
           {
            "fillpattern": {
             "fillmode": "overlay",
             "size": 10,
             "solidity": 0.2
            },
            "type": "scatter"
           }
          ],
          "scatter3d": [
           {
            "line": {
             "colorbar": {
              "outlinewidth": 0,
              "ticks": ""
             }
            },
            "marker": {
             "colorbar": {
              "outlinewidth": 0,
              "ticks": ""
             }
            },
            "type": "scatter3d"
           }
          ],
          "scattercarpet": [
           {
            "marker": {
             "colorbar": {
              "outlinewidth": 0,
              "ticks": ""
             }
            },
            "type": "scattercarpet"
           }
          ],
          "scattergeo": [
           {
            "marker": {
             "colorbar": {
              "outlinewidth": 0,
              "ticks": ""
             }
            },
            "type": "scattergeo"
           }
          ],
          "scattergl": [
           {
            "marker": {
             "colorbar": {
              "outlinewidth": 0,
              "ticks": ""
             }
            },
            "type": "scattergl"
           }
          ],
          "scattermapbox": [
           {
            "marker": {
             "colorbar": {
              "outlinewidth": 0,
              "ticks": ""
             }
            },
            "type": "scattermapbox"
           }
          ],
          "scatterpolar": [
           {
            "marker": {
             "colorbar": {
              "outlinewidth": 0,
              "ticks": ""
             }
            },
            "type": "scatterpolar"
           }
          ],
          "scatterpolargl": [
           {
            "marker": {
             "colorbar": {
              "outlinewidth": 0,
              "ticks": ""
             }
            },
            "type": "scatterpolargl"
           }
          ],
          "scatterternary": [
           {
            "marker": {
             "colorbar": {
              "outlinewidth": 0,
              "ticks": ""
             }
            },
            "type": "scatterternary"
           }
          ],
          "surface": [
           {
            "colorbar": {
             "outlinewidth": 0,
             "ticks": ""
            },
            "colorscale": [
             [
              0,
              "#0d0887"
             ],
             [
              0.1111111111111111,
              "#46039f"
             ],
             [
              0.2222222222222222,
              "#7201a8"
             ],
             [
              0.3333333333333333,
              "#9c179e"
             ],
             [
              0.4444444444444444,
              "#bd3786"
             ],
             [
              0.5555555555555556,
              "#d8576b"
             ],
             [
              0.6666666666666666,
              "#ed7953"
             ],
             [
              0.7777777777777778,
              "#fb9f3a"
             ],
             [
              0.8888888888888888,
              "#fdca26"
             ],
             [
              1,
              "#f0f921"
             ]
            ],
            "type": "surface"
           }
          ],
          "table": [
           {
            "cells": {
             "fill": {
              "color": "#EBF0F8"
             },
             "line": {
              "color": "white"
             }
            },
            "header": {
             "fill": {
              "color": "#C8D4E3"
             },
             "line": {
              "color": "white"
             }
            },
            "type": "table"
           }
          ]
         },
         "layout": {
          "annotationdefaults": {
           "arrowcolor": "#2a3f5f",
           "arrowhead": 0,
           "arrowwidth": 1
          },
          "autotypenumbers": "strict",
          "coloraxis": {
           "colorbar": {
            "outlinewidth": 0,
            "ticks": ""
           }
          },
          "colorscale": {
           "diverging": [
            [
             0,
             "#8e0152"
            ],
            [
             0.1,
             "#c51b7d"
            ],
            [
             0.2,
             "#de77ae"
            ],
            [
             0.3,
             "#f1b6da"
            ],
            [
             0.4,
             "#fde0ef"
            ],
            [
             0.5,
             "#f7f7f7"
            ],
            [
             0.6,
             "#e6f5d0"
            ],
            [
             0.7,
             "#b8e186"
            ],
            [
             0.8,
             "#7fbc41"
            ],
            [
             0.9,
             "#4d9221"
            ],
            [
             1,
             "#276419"
            ]
           ],
           "sequential": [
            [
             0,
             "#0d0887"
            ],
            [
             0.1111111111111111,
             "#46039f"
            ],
            [
             0.2222222222222222,
             "#7201a8"
            ],
            [
             0.3333333333333333,
             "#9c179e"
            ],
            [
             0.4444444444444444,
             "#bd3786"
            ],
            [
             0.5555555555555556,
             "#d8576b"
            ],
            [
             0.6666666666666666,
             "#ed7953"
            ],
            [
             0.7777777777777778,
             "#fb9f3a"
            ],
            [
             0.8888888888888888,
             "#fdca26"
            ],
            [
             1,
             "#f0f921"
            ]
           ],
           "sequentialminus": [
            [
             0,
             "#0d0887"
            ],
            [
             0.1111111111111111,
             "#46039f"
            ],
            [
             0.2222222222222222,
             "#7201a8"
            ],
            [
             0.3333333333333333,
             "#9c179e"
            ],
            [
             0.4444444444444444,
             "#bd3786"
            ],
            [
             0.5555555555555556,
             "#d8576b"
            ],
            [
             0.6666666666666666,
             "#ed7953"
            ],
            [
             0.7777777777777778,
             "#fb9f3a"
            ],
            [
             0.8888888888888888,
             "#fdca26"
            ],
            [
             1,
             "#f0f921"
            ]
           ]
          },
          "colorway": [
           "#636efa",
           "#EF553B",
           "#00cc96",
           "#ab63fa",
           "#FFA15A",
           "#19d3f3",
           "#FF6692",
           "#B6E880",
           "#FF97FF",
           "#FECB52"
          ],
          "font": {
           "color": "#2a3f5f"
          },
          "geo": {
           "bgcolor": "white",
           "lakecolor": "white",
           "landcolor": "#E5ECF6",
           "showlakes": true,
           "showland": true,
           "subunitcolor": "white"
          },
          "hoverlabel": {
           "align": "left"
          },
          "hovermode": "closest",
          "mapbox": {
           "style": "light"
          },
          "paper_bgcolor": "white",
          "plot_bgcolor": "#E5ECF6",
          "polar": {
           "angularaxis": {
            "gridcolor": "white",
            "linecolor": "white",
            "ticks": ""
           },
           "bgcolor": "#E5ECF6",
           "radialaxis": {
            "gridcolor": "white",
            "linecolor": "white",
            "ticks": ""
           }
          },
          "scene": {
           "xaxis": {
            "backgroundcolor": "#E5ECF6",
            "gridcolor": "white",
            "gridwidth": 2,
            "linecolor": "white",
            "showbackground": true,
            "ticks": "",
            "zerolinecolor": "white"
           },
           "yaxis": {
            "backgroundcolor": "#E5ECF6",
            "gridcolor": "white",
            "gridwidth": 2,
            "linecolor": "white",
            "showbackground": true,
            "ticks": "",
            "zerolinecolor": "white"
           },
           "zaxis": {
            "backgroundcolor": "#E5ECF6",
            "gridcolor": "white",
            "gridwidth": 2,
            "linecolor": "white",
            "showbackground": true,
            "ticks": "",
            "zerolinecolor": "white"
           }
          },
          "shapedefaults": {
           "line": {
            "color": "#2a3f5f"
           }
          },
          "ternary": {
           "aaxis": {
            "gridcolor": "white",
            "linecolor": "white",
            "ticks": ""
           },
           "baxis": {
            "gridcolor": "white",
            "linecolor": "white",
            "ticks": ""
           },
           "bgcolor": "#E5ECF6",
           "caxis": {
            "gridcolor": "white",
            "linecolor": "white",
            "ticks": ""
           }
          },
          "title": {
           "x": 0.05
          },
          "xaxis": {
           "automargin": true,
           "gridcolor": "white",
           "linecolor": "white",
           "ticks": "",
           "title": {
            "standoff": 15
           },
           "zerolinecolor": "white",
           "zerolinewidth": 2
          },
          "yaxis": {
           "automargin": true,
           "gridcolor": "white",
           "linecolor": "white",
           "ticks": "",
           "title": {
            "standoff": 15
           },
           "zerolinecolor": "white",
           "zerolinewidth": 2
          }
         }
        }
       }
      }
     },
     "metadata": {},
     "output_type": "display_data"
    }
   ],
   "source": [
    "import plotly.graph_objects as go\n",
    "import math\n",
    "\n",
    "ids = [edge[\"from\"] for edge in trav['edges']]\n",
    "labels = [activities[id]['name']+' ('+activities[id]['location']+')' for id in ids]\n",
    "labels_short = [label[:18] for label in labels]\n",
    "parent_ids = [edge[\"to\"] for edge in trav['edges']][1:]\n",
    "parents = [\"\"] + [activities[id]['name']+' ('+activities[id]['location']+')' for id in parent_ids]\n",
    "\n",
    "data = dict(label = labels,\n",
    "            #location = [act['location'] for act in activities],\n",
    "            parent = parents,\n",
    "            labels_short = labels_short,\n",
    "            value = [math.floor(edge[\"impact_pos\"]*1000)/1000 for edge in trav['edges']],\n",
    "            #value_pct = value_pct\n",
    "        )\n",
    "fig =go.Figure(go.Sunburst(\n",
    "            #data,\n",
    "            ids=data['label'],\n",
    "            labels=data['labels_short'],\n",
    "            parents=data['parent'],\n",
    "            values=data['value'],\n",
    "            branchvalues=\"total\",\n",
    "            #color='labels_short',\n",
    "            #color_continuous_scale='algae',\n",
    "            hovertext= data['label'],\n",
    "            #valueformat = '.0f',\n",
    "        )\n",
    ")\n",
    "df = pd.DataFrame.from_dict(data)\n",
    "display(df)\n",
    "fig.show()"
   ]
  },
  {
   "cell_type": "code",
   "execution_count": 53,
   "metadata": {},
   "outputs": [
    {
     "data": {
      "text/html": [
       "<div>\n",
       "<style scoped>\n",
       "    .dataframe tbody tr th:only-of-type {\n",
       "        vertical-align: middle;\n",
       "    }\n",
       "\n",
       "    .dataframe tbody tr th {\n",
       "        vertical-align: top;\n",
       "    }\n",
       "\n",
       "    .dataframe thead th {\n",
       "        text-align: right;\n",
       "    }\n",
       "</style>\n",
       "<table border=\"1\" class=\"dataframe\">\n",
       "  <thead>\n",
       "    <tr style=\"text-align: right;\">\n",
       "      <th></th>\n",
       "      <th>label</th>\n",
       "      <th>parent</th>\n",
       "      <th>labels_short</th>\n",
       "      <th>value</th>\n",
       "    </tr>\n",
       "  </thead>\n",
       "  <tbody>\n",
       "    <tr>\n",
       "      <th>0</th>\n",
       "      <td>biomethane production, high pressure from synt...</td>\n",
       "      <td></td>\n",
       "      <td>biomethane product</td>\n",
       "      <td>0.004</td>\n",
       "    </tr>\n",
       "    <tr>\n",
       "      <th>1</th>\n",
       "      <td>market for wood chips, dry, measured as dry ma...</td>\n",
       "      <td>biomethane production, high pressure from synt...</td>\n",
       "      <td>market for wood ch</td>\n",
       "      <td>0.003</td>\n",
       "    </tr>\n",
       "    <tr>\n",
       "      <th>2</th>\n",
       "      <td>market for zeolite, powder (GLO)</td>\n",
       "      <td>biomethane production, high pressure from synt...</td>\n",
       "      <td>market for zeolite</td>\n",
       "      <td>0.000</td>\n",
       "    </tr>\n",
       "    <tr>\n",
       "      <th>3</th>\n",
       "      <td>market for charcoal (GLO)</td>\n",
       "      <td>biomethane production, high pressure from synt...</td>\n",
       "      <td>market for charcoa</td>\n",
       "      <td>0.000</td>\n",
       "    </tr>\n",
       "    <tr>\n",
       "      <th>4</th>\n",
       "      <td>market for wood chips, wet, measured as dry ma...</td>\n",
       "      <td>biomethane production, high pressure from synt...</td>\n",
       "      <td>market for wood ch</td>\n",
       "      <td>0.000</td>\n",
       "    </tr>\n",
       "    <tr>\n",
       "      <th>5</th>\n",
       "      <td>hardwood forestry, mixed species, sustainable ...</td>\n",
       "      <td>market for wood chips, wet, measured as dry ma...</td>\n",
       "      <td>hardwood forestry,</td>\n",
       "      <td>0.000</td>\n",
       "    </tr>\n",
       "    <tr>\n",
       "      <th>6</th>\n",
       "      <td>market for transport, freight, lorry, unspecif...</td>\n",
       "      <td>market for wood chips, wet, measured as dry ma...</td>\n",
       "      <td>market for transpo</td>\n",
       "      <td>0.000</td>\n",
       "    </tr>\n",
       "    <tr>\n",
       "      <th>7</th>\n",
       "      <td>market for transport, freight, lorry, unspecif...</td>\n",
       "      <td>market for wood chips, dry, measured as dry ma...</td>\n",
       "      <td>market for transpo</td>\n",
       "      <td>0.000</td>\n",
       "    </tr>\n",
       "    <tr>\n",
       "      <th>8</th>\n",
       "      <td>charcoal production (GLO)</td>\n",
       "      <td>market for charcoal (GLO)</td>\n",
       "      <td>charcoal productio</td>\n",
       "      <td>0.000</td>\n",
       "    </tr>\n",
       "  </tbody>\n",
       "</table>\n",
       "</div>"
      ],
      "text/plain": [
       "                                               label  \\\n",
       "0  biomethane production, high pressure from synt...   \n",
       "1  market for wood chips, dry, measured as dry ma...   \n",
       "2                   market for zeolite, powder (GLO)   \n",
       "3                          market for charcoal (GLO)   \n",
       "4  market for wood chips, wet, measured as dry ma...   \n",
       "5  hardwood forestry, mixed species, sustainable ...   \n",
       "6  market for transport, freight, lorry, unspecif...   \n",
       "7  market for transport, freight, lorry, unspecif...   \n",
       "8                          charcoal production (GLO)   \n",
       "\n",
       "                                              parent        labels_short  \\\n",
       "0                                                     biomethane product   \n",
       "1  biomethane production, high pressure from synt...  market for wood ch   \n",
       "2  biomethane production, high pressure from synt...  market for zeolite   \n",
       "3  biomethane production, high pressure from synt...  market for charcoa   \n",
       "4  biomethane production, high pressure from synt...  market for wood ch   \n",
       "5  market for wood chips, wet, measured as dry ma...  hardwood forestry,   \n",
       "6  market for wood chips, wet, measured as dry ma...  market for transpo   \n",
       "7  market for wood chips, dry, measured as dry ma...  market for transpo   \n",
       "8                          market for charcoal (GLO)  charcoal productio   \n",
       "\n",
       "   value  \n",
       "0  0.004  \n",
       "1  0.003  \n",
       "2  0.000  \n",
       "3  0.000  \n",
       "4  0.000  \n",
       "5  0.000  \n",
       "6  0.000  \n",
       "7  0.000  \n",
       "8  0.000  "
      ]
     },
     "metadata": {},
     "output_type": "display_data"
    },
    {
     "data": {
      "application/vnd.plotly.v1+json": {
       "config": {
        "plotlyServerURL": "https://plot.ly"
       },
       "data": [
        {
         "branchvalues": "total",
         "hovertext": [
          "biomethane production, high pressure from synthetic gas, wood, fluidised technology (CH)",
          "market for wood chips, dry, measured as dry mass (RER)",
          "market for zeolite, powder (GLO)",
          "market for charcoal (GLO)",
          "market for wood chips, wet, measured as dry mass (CH)",
          "hardwood forestry, mixed species, sustainable forest management (CH)",
          "market for transport, freight, lorry, unspecified (RER)",
          "market for transport, freight, lorry, unspecified (RER)",
          "charcoal production (GLO)"
         ],
         "ids": [
          "biomethane production, high pressure from synthetic gas, wood, fluidised technology (CH)",
          "market for wood chips, dry, measured as dry mass (RER)",
          "market for zeolite, powder (GLO)",
          "market for charcoal (GLO)",
          "market for wood chips, wet, measured as dry mass (CH)",
          "hardwood forestry, mixed species, sustainable forest management (CH)",
          "market for transport, freight, lorry, unspecified (RER)",
          "market for transport, freight, lorry, unspecified (RER)",
          "charcoal production (GLO)"
         ],
         "labels": [
          "biomethane product",
          "market for wood ch",
          "market for zeolite",
          "market for charcoa",
          "market for wood ch",
          "hardwood forestry,",
          "market for transpo",
          "market for transpo",
          "charcoal productio"
         ],
         "parents": [
          "",
          "biomethane production, high pressure from synthetic gas, wood, fluidised technology (CH)",
          "biomethane production, high pressure from synthetic gas, wood, fluidised technology (CH)",
          "biomethane production, high pressure from synthetic gas, wood, fluidised technology (CH)",
          "biomethane production, high pressure from synthetic gas, wood, fluidised technology (CH)",
          "market for wood chips, wet, measured as dry mass (CH)",
          "market for wood chips, wet, measured as dry mass (CH)",
          "market for wood chips, dry, measured as dry mass (RER)",
          "market for charcoal (GLO)"
         ],
         "type": "sunburst",
         "values": [
          0.004,
          0.003,
          0,
          0,
          0,
          0,
          0,
          0,
          0
         ]
        }
       ],
       "layout": {
        "template": {
         "data": {
          "bar": [
           {
            "error_x": {
             "color": "#2a3f5f"
            },
            "error_y": {
             "color": "#2a3f5f"
            },
            "marker": {
             "line": {
              "color": "#E5ECF6",
              "width": 0.5
             },
             "pattern": {
              "fillmode": "overlay",
              "size": 10,
              "solidity": 0.2
             }
            },
            "type": "bar"
           }
          ],
          "barpolar": [
           {
            "marker": {
             "line": {
              "color": "#E5ECF6",
              "width": 0.5
             },
             "pattern": {
              "fillmode": "overlay",
              "size": 10,
              "solidity": 0.2
             }
            },
            "type": "barpolar"
           }
          ],
          "carpet": [
           {
            "aaxis": {
             "endlinecolor": "#2a3f5f",
             "gridcolor": "white",
             "linecolor": "white",
             "minorgridcolor": "white",
             "startlinecolor": "#2a3f5f"
            },
            "baxis": {
             "endlinecolor": "#2a3f5f",
             "gridcolor": "white",
             "linecolor": "white",
             "minorgridcolor": "white",
             "startlinecolor": "#2a3f5f"
            },
            "type": "carpet"
           }
          ],
          "choropleth": [
           {
            "colorbar": {
             "outlinewidth": 0,
             "ticks": ""
            },
            "type": "choropleth"
           }
          ],
          "contour": [
           {
            "colorbar": {
             "outlinewidth": 0,
             "ticks": ""
            },
            "colorscale": [
             [
              0,
              "#0d0887"
             ],
             [
              0.1111111111111111,
              "#46039f"
             ],
             [
              0.2222222222222222,
              "#7201a8"
             ],
             [
              0.3333333333333333,
              "#9c179e"
             ],
             [
              0.4444444444444444,
              "#bd3786"
             ],
             [
              0.5555555555555556,
              "#d8576b"
             ],
             [
              0.6666666666666666,
              "#ed7953"
             ],
             [
              0.7777777777777778,
              "#fb9f3a"
             ],
             [
              0.8888888888888888,
              "#fdca26"
             ],
             [
              1,
              "#f0f921"
             ]
            ],
            "type": "contour"
           }
          ],
          "contourcarpet": [
           {
            "colorbar": {
             "outlinewidth": 0,
             "ticks": ""
            },
            "type": "contourcarpet"
           }
          ],
          "heatmap": [
           {
            "colorbar": {
             "outlinewidth": 0,
             "ticks": ""
            },
            "colorscale": [
             [
              0,
              "#0d0887"
             ],
             [
              0.1111111111111111,
              "#46039f"
             ],
             [
              0.2222222222222222,
              "#7201a8"
             ],
             [
              0.3333333333333333,
              "#9c179e"
             ],
             [
              0.4444444444444444,
              "#bd3786"
             ],
             [
              0.5555555555555556,
              "#d8576b"
             ],
             [
              0.6666666666666666,
              "#ed7953"
             ],
             [
              0.7777777777777778,
              "#fb9f3a"
             ],
             [
              0.8888888888888888,
              "#fdca26"
             ],
             [
              1,
              "#f0f921"
             ]
            ],
            "type": "heatmap"
           }
          ],
          "heatmapgl": [
           {
            "colorbar": {
             "outlinewidth": 0,
             "ticks": ""
            },
            "colorscale": [
             [
              0,
              "#0d0887"
             ],
             [
              0.1111111111111111,
              "#46039f"
             ],
             [
              0.2222222222222222,
              "#7201a8"
             ],
             [
              0.3333333333333333,
              "#9c179e"
             ],
             [
              0.4444444444444444,
              "#bd3786"
             ],
             [
              0.5555555555555556,
              "#d8576b"
             ],
             [
              0.6666666666666666,
              "#ed7953"
             ],
             [
              0.7777777777777778,
              "#fb9f3a"
             ],
             [
              0.8888888888888888,
              "#fdca26"
             ],
             [
              1,
              "#f0f921"
             ]
            ],
            "type": "heatmapgl"
           }
          ],
          "histogram": [
           {
            "marker": {
             "pattern": {
              "fillmode": "overlay",
              "size": 10,
              "solidity": 0.2
             }
            },
            "type": "histogram"
           }
          ],
          "histogram2d": [
           {
            "colorbar": {
             "outlinewidth": 0,
             "ticks": ""
            },
            "colorscale": [
             [
              0,
              "#0d0887"
             ],
             [
              0.1111111111111111,
              "#46039f"
             ],
             [
              0.2222222222222222,
              "#7201a8"
             ],
             [
              0.3333333333333333,
              "#9c179e"
             ],
             [
              0.4444444444444444,
              "#bd3786"
             ],
             [
              0.5555555555555556,
              "#d8576b"
             ],
             [
              0.6666666666666666,
              "#ed7953"
             ],
             [
              0.7777777777777778,
              "#fb9f3a"
             ],
             [
              0.8888888888888888,
              "#fdca26"
             ],
             [
              1,
              "#f0f921"
             ]
            ],
            "type": "histogram2d"
           }
          ],
          "histogram2dcontour": [
           {
            "colorbar": {
             "outlinewidth": 0,
             "ticks": ""
            },
            "colorscale": [
             [
              0,
              "#0d0887"
             ],
             [
              0.1111111111111111,
              "#46039f"
             ],
             [
              0.2222222222222222,
              "#7201a8"
             ],
             [
              0.3333333333333333,
              "#9c179e"
             ],
             [
              0.4444444444444444,
              "#bd3786"
             ],
             [
              0.5555555555555556,
              "#d8576b"
             ],
             [
              0.6666666666666666,
              "#ed7953"
             ],
             [
              0.7777777777777778,
              "#fb9f3a"
             ],
             [
              0.8888888888888888,
              "#fdca26"
             ],
             [
              1,
              "#f0f921"
             ]
            ],
            "type": "histogram2dcontour"
           }
          ],
          "mesh3d": [
           {
            "colorbar": {
             "outlinewidth": 0,
             "ticks": ""
            },
            "type": "mesh3d"
           }
          ],
          "parcoords": [
           {
            "line": {
             "colorbar": {
              "outlinewidth": 0,
              "ticks": ""
             }
            },
            "type": "parcoords"
           }
          ],
          "pie": [
           {
            "automargin": true,
            "type": "pie"
           }
          ],
          "scatter": [
           {
            "fillpattern": {
             "fillmode": "overlay",
             "size": 10,
             "solidity": 0.2
            },
            "type": "scatter"
           }
          ],
          "scatter3d": [
           {
            "line": {
             "colorbar": {
              "outlinewidth": 0,
              "ticks": ""
             }
            },
            "marker": {
             "colorbar": {
              "outlinewidth": 0,
              "ticks": ""
             }
            },
            "type": "scatter3d"
           }
          ],
          "scattercarpet": [
           {
            "marker": {
             "colorbar": {
              "outlinewidth": 0,
              "ticks": ""
             }
            },
            "type": "scattercarpet"
           }
          ],
          "scattergeo": [
           {
            "marker": {
             "colorbar": {
              "outlinewidth": 0,
              "ticks": ""
             }
            },
            "type": "scattergeo"
           }
          ],
          "scattergl": [
           {
            "marker": {
             "colorbar": {
              "outlinewidth": 0,
              "ticks": ""
             }
            },
            "type": "scattergl"
           }
          ],
          "scattermapbox": [
           {
            "marker": {
             "colorbar": {
              "outlinewidth": 0,
              "ticks": ""
             }
            },
            "type": "scattermapbox"
           }
          ],
          "scatterpolar": [
           {
            "marker": {
             "colorbar": {
              "outlinewidth": 0,
              "ticks": ""
             }
            },
            "type": "scatterpolar"
           }
          ],
          "scatterpolargl": [
           {
            "marker": {
             "colorbar": {
              "outlinewidth": 0,
              "ticks": ""
             }
            },
            "type": "scatterpolargl"
           }
          ],
          "scatterternary": [
           {
            "marker": {
             "colorbar": {
              "outlinewidth": 0,
              "ticks": ""
             }
            },
            "type": "scatterternary"
           }
          ],
          "surface": [
           {
            "colorbar": {
             "outlinewidth": 0,
             "ticks": ""
            },
            "colorscale": [
             [
              0,
              "#0d0887"
             ],
             [
              0.1111111111111111,
              "#46039f"
             ],
             [
              0.2222222222222222,
              "#7201a8"
             ],
             [
              0.3333333333333333,
              "#9c179e"
             ],
             [
              0.4444444444444444,
              "#bd3786"
             ],
             [
              0.5555555555555556,
              "#d8576b"
             ],
             [
              0.6666666666666666,
              "#ed7953"
             ],
             [
              0.7777777777777778,
              "#fb9f3a"
             ],
             [
              0.8888888888888888,
              "#fdca26"
             ],
             [
              1,
              "#f0f921"
             ]
            ],
            "type": "surface"
           }
          ],
          "table": [
           {
            "cells": {
             "fill": {
              "color": "#EBF0F8"
             },
             "line": {
              "color": "white"
             }
            },
            "header": {
             "fill": {
              "color": "#C8D4E3"
             },
             "line": {
              "color": "white"
             }
            },
            "type": "table"
           }
          ]
         },
         "layout": {
          "annotationdefaults": {
           "arrowcolor": "#2a3f5f",
           "arrowhead": 0,
           "arrowwidth": 1
          },
          "autotypenumbers": "strict",
          "coloraxis": {
           "colorbar": {
            "outlinewidth": 0,
            "ticks": ""
           }
          },
          "colorscale": {
           "diverging": [
            [
             0,
             "#8e0152"
            ],
            [
             0.1,
             "#c51b7d"
            ],
            [
             0.2,
             "#de77ae"
            ],
            [
             0.3,
             "#f1b6da"
            ],
            [
             0.4,
             "#fde0ef"
            ],
            [
             0.5,
             "#f7f7f7"
            ],
            [
             0.6,
             "#e6f5d0"
            ],
            [
             0.7,
             "#b8e186"
            ],
            [
             0.8,
             "#7fbc41"
            ],
            [
             0.9,
             "#4d9221"
            ],
            [
             1,
             "#276419"
            ]
           ],
           "sequential": [
            [
             0,
             "#0d0887"
            ],
            [
             0.1111111111111111,
             "#46039f"
            ],
            [
             0.2222222222222222,
             "#7201a8"
            ],
            [
             0.3333333333333333,
             "#9c179e"
            ],
            [
             0.4444444444444444,
             "#bd3786"
            ],
            [
             0.5555555555555556,
             "#d8576b"
            ],
            [
             0.6666666666666666,
             "#ed7953"
            ],
            [
             0.7777777777777778,
             "#fb9f3a"
            ],
            [
             0.8888888888888888,
             "#fdca26"
            ],
            [
             1,
             "#f0f921"
            ]
           ],
           "sequentialminus": [
            [
             0,
             "#0d0887"
            ],
            [
             0.1111111111111111,
             "#46039f"
            ],
            [
             0.2222222222222222,
             "#7201a8"
            ],
            [
             0.3333333333333333,
             "#9c179e"
            ],
            [
             0.4444444444444444,
             "#bd3786"
            ],
            [
             0.5555555555555556,
             "#d8576b"
            ],
            [
             0.6666666666666666,
             "#ed7953"
            ],
            [
             0.7777777777777778,
             "#fb9f3a"
            ],
            [
             0.8888888888888888,
             "#fdca26"
            ],
            [
             1,
             "#f0f921"
            ]
           ]
          },
          "colorway": [
           "#636efa",
           "#EF553B",
           "#00cc96",
           "#ab63fa",
           "#FFA15A",
           "#19d3f3",
           "#FF6692",
           "#B6E880",
           "#FF97FF",
           "#FECB52"
          ],
          "font": {
           "color": "#2a3f5f"
          },
          "geo": {
           "bgcolor": "white",
           "lakecolor": "white",
           "landcolor": "#E5ECF6",
           "showlakes": true,
           "showland": true,
           "subunitcolor": "white"
          },
          "hoverlabel": {
           "align": "left"
          },
          "hovermode": "closest",
          "mapbox": {
           "style": "light"
          },
          "paper_bgcolor": "white",
          "plot_bgcolor": "#E5ECF6",
          "polar": {
           "angularaxis": {
            "gridcolor": "white",
            "linecolor": "white",
            "ticks": ""
           },
           "bgcolor": "#E5ECF6",
           "radialaxis": {
            "gridcolor": "white",
            "linecolor": "white",
            "ticks": ""
           }
          },
          "scene": {
           "xaxis": {
            "backgroundcolor": "#E5ECF6",
            "gridcolor": "white",
            "gridwidth": 2,
            "linecolor": "white",
            "showbackground": true,
            "ticks": "",
            "zerolinecolor": "white"
           },
           "yaxis": {
            "backgroundcolor": "#E5ECF6",
            "gridcolor": "white",
            "gridwidth": 2,
            "linecolor": "white",
            "showbackground": true,
            "ticks": "",
            "zerolinecolor": "white"
           },
           "zaxis": {
            "backgroundcolor": "#E5ECF6",
            "gridcolor": "white",
            "gridwidth": 2,
            "linecolor": "white",
            "showbackground": true,
            "ticks": "",
            "zerolinecolor": "white"
           }
          },
          "shapedefaults": {
           "line": {
            "color": "#2a3f5f"
           }
          },
          "ternary": {
           "aaxis": {
            "gridcolor": "white",
            "linecolor": "white",
            "ticks": ""
           },
           "baxis": {
            "gridcolor": "white",
            "linecolor": "white",
            "ticks": ""
           },
           "bgcolor": "#E5ECF6",
           "caxis": {
            "gridcolor": "white",
            "linecolor": "white",
            "ticks": ""
           }
          },
          "title": {
           "x": 0.05
          },
          "xaxis": {
           "automargin": true,
           "gridcolor": "white",
           "linecolor": "white",
           "ticks": "",
           "title": {
            "standoff": 15
           },
           "zerolinecolor": "white",
           "zerolinewidth": 2
          },
          "yaxis": {
           "automargin": true,
           "gridcolor": "white",
           "linecolor": "white",
           "ticks": "",
           "title": {
            "standoff": 15
           },
           "zerolinecolor": "white",
           "zerolinewidth": 2
          }
         }
        }
       }
      }
     },
     "metadata": {},
     "output_type": "display_data"
    }
   ],
   "source": [
    "ids = [edge[\"from\"] for edge in trav['edges']]\n",
    "labels = [activities[id]['name']+' ('+activities[id]['location']+')' for id in ids]\n",
    "labels_short = [label[:18] for label in labels]\n",
    "parent_ids = [edge[\"to\"] for edge in trav['edges']][1:]\n",
    "parents = [\"\"] + [activities[id]['name']+' ('+activities[id]['location']+')' for id in parent_ids]\n",
    "\n",
    "data = dict(label = labels,\n",
    "            #location = [act['location'] for act in activities],\n",
    "            parent = parents,\n",
    "            labels_short = labels_short,\n",
    "            value = [-math.ceil(edge[\"impact_neg\"]*1000)/1000 for edge in trav['edges']],\n",
    "            #value_pct = value_pct\n",
    "        )\n",
    "fig =go.Figure(go.Sunburst(\n",
    "            #data,\n",
    "            ids=data['label'],\n",
    "            labels=data['labels_short'],\n",
    "            parents=data['parent'],\n",
    "            values=data['value'],\n",
    "            branchvalues=\"total\",\n",
    "            #color='labels_short',\n",
    "            #color_continuous_scale='algae',\n",
    "            hovertext= data['label'],\n",
    "            #valueformat = '.0f',\n",
    "        )\n",
    ")\n",
    "df = pd.DataFrame.from_dict(data)\n",
    "display(df)\n",
    "fig.show()"
   ]
  },
  {
   "cell_type": "code",
   "execution_count": 21,
   "metadata": {},
   "outputs": [
    {
     "name": "stdout",
     "output_type": "stream",
     "text": [
      "Package              Version\n",
      "-------------------- ---------\n",
      "appdirs              1.4.4\n",
      "asteval              0.9.28\n",
      "asttokens            2.2.1\n",
      "astunparse           1.6.3\n",
      "attrs                22.2.0\n",
      "backcall             0.2.0\n",
      "brightway25          1.0.6\n",
      "brotlipy             0.7.0\n",
      "bw-migrations        0.1\n",
      "bw-processing        0.8.2\n",
      "bw2analyzer          0.11.4\n",
      "bw2calc              2.0.dev12\n",
      "bw2data              4.0.dev18\n",
      "bw2io                0.9.dev11\n",
      "bw2parameters        0.7\n",
      "certifi              2022.12.7\n",
      "cffi                 1.15.1\n",
      "charset-normalizer   2.1.1\n",
      "colorama             0.4.6\n",
      "comm                 0.1.2\n",
      "contourpy            1.0.7\n",
      "cryptography         39.0.1\n",
      "cycler               0.11.0\n",
      "debugpy              1.6.6\n",
      "decorator            5.1.1\n",
      "docopt               0.6.2\n",
      "et-xmlfile           1.1.0\n",
      "executing            1.2.0\n",
      "fasteners            0.17.3\n",
      "fastjsonschema       2.16.2\n",
      "fonttools            4.38.0\n",
      "fs                   2.4.15\n",
      "idna                 3.4\n",
      "ipykernel            6.21.1\n",
      "ipython              8.9.0\n",
      "jedi                 0.18.2\n",
      "jsonschema           4.17.3\n",
      "jupyter_client       8.0.2\n",
      "jupyter_core         5.2.0\n",
      "kiwisolver           1.4.4\n",
      "lxml                 4.9.2\n",
      "matplotlib           3.6.3\n",
      "matplotlib-inline    0.1.6\n",
      "matrix-utils         0.2.5\n",
      "mrio-common-metadata 0.2.1\n",
      "munkres              1.1.4\n",
      "nbformat             5.7.3\n",
      "nest-asyncio         1.5.6\n",
      "numpy                1.24.2\n",
      "openpyxl             3.1.0\n",
      "packaging            23.0\n",
      "pandas               1.5.3\n",
      "parso                0.8.3\n",
      "peewee               3.15.4\n",
      "pexpect              4.8.0\n",
      "pickleshare          0.7.5\n",
      "Pillow               9.4.0\n",
      "pip                  23.0\n",
      "platformdirs         3.0.0\n",
      "plotly               5.13.0\n",
      "pooch                1.6.0\n",
      "prompt-toolkit       3.0.36\n",
      "psutil               5.9.4\n",
      "ptyprocess           0.7.0\n",
      "pure-eval            0.2.2\n",
      "pycparser            2.21\n",
      "Pygments             2.14.0\n",
      "pyOpenSSL            23.0.0\n",
      "pypardiso            0.4.2\n",
      "pyparsing            3.0.9\n",
      "PyPrind              2.11.2\n",
      "pyrsistent           0.19.3\n",
      "PySocks              1.7.1\n",
      "python-dateutil      2.8.2\n",
      "pytz                 2022.7.1\n",
      "pyxlsb               1.0.10\n",
      "pyzmq                25.0.0\n",
      "requests             2.28.2\n",
      "scipy                1.10.0\n",
      "setuptools           67.1.0\n",
      "setuptools-scm       7.1.0\n",
      "six                  1.16.0\n",
      "stack-data           0.6.2\n",
      "stats-arrays         0.6.5\n",
      "tabulate             0.9.0\n",
      "tenacity             8.2.0\n",
      "tomli                2.0.1\n",
      "tornado              6.2\n",
      "tqdm                 4.64.1\n",
      "traitlets            5.9.0\n",
      "typing_extensions    4.4.0\n",
      "Unidecode            1.3.6\n",
      "urllib3              1.26.14\n",
      "voluptuous           0.13.1\n",
      "wcwidth              0.2.6\n",
      "wheel                0.38.4\n",
      "Whoosh               2.7.4\n",
      "wrapt                1.14.1\n",
      "xlrd                 2.0.1\n",
      "XlsxWriter           3.0.8\n",
      "Note: you may need to restart the kernel to use updated packages.\n"
     ]
    }
   ],
   "source": [
    "%pip list"
   ]
  }
 ],
 "metadata": {
  "kernelspec": {
   "display_name": "Python 3.11.0 ('bw25')",
   "language": "python",
   "name": "python3"
  },
  "language_info": {
   "codemirror_mode": {
    "name": "ipython",
    "version": 3
   },
   "file_extension": ".py",
   "mimetype": "text/x-python",
   "name": "python",
   "nbconvert_exporter": "python",
   "pygments_lexer": "ipython3",
   "version": "3.11.0"
  },
  "orig_nbformat": 4,
  "vscode": {
   "interpreter": {
    "hash": "129fa975a5cc1910d29c283259c28ba1164ba1221f5a5d4217117437c9dbb2a6"
   }
  }
 },
 "nbformat": 4,
 "nbformat_minor": 2
}
