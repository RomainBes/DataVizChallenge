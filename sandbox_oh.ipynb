{
 "cells": [
  {
   "cell_type": "code",
   "execution_count": null,
   "metadata": {},
   "outputs": [],
   "source": [
    "# python 3.11\n",
    "# please run in the console:\n",
    "# conda create -n bw25 -c cmutel brightway25\n",
    "# conda activate bw25\n",
    "# pip install ipykernel\n",
    "%pip install numpy pandas plotly nbformat"
   ]
  },
  {
   "cell_type": "code",
   "execution_count": null,
   "metadata": {},
   "outputs": [],
   "source": [
    "# for ei3.8\n",
    "%pip install bw2io==0.9.dev11"
   ]
  },
  {
   "cell_type": "code",
   "execution_count": 1,
   "metadata": {},
   "outputs": [
    {
     "name": "stdout",
     "output_type": "stream",
     "text": [
      "Creating default biosphere\n",
      "\n",
      "Applying strategy: normalize_units\n",
      "Applying strategy: drop_unspecified_subcategories\n",
      "Applying strategy: ensure_categories_are_tuples\n",
      "Applied 3 strategies in 0.01 seconds\n",
      "Warning: No valid output stream.\n",
      "Title: Writing activities to SQLite3 database:\n",
      "  Started: 02/10/2023 09:44:11\n",
      "  Finished: 02/10/2023 09:44:12\n",
      "  Total time elapsed: 00:00:01\n",
      "  CPU %: 46.50\n",
      "  Memory %: 0.01\n",
      "Created database: biosphere3\n",
      "Creating default LCIA methods\n",
      "\n",
      "Applying strategy: normalize_units\n",
      "Applying strategy: set_biosphere_type\n",
      "Applying strategy: fix_ecoinvent_38_lcia_implementation\n",
      "Applying strategy: drop_unspecified_subcategories\n",
      "Applying strategy: link_iterable_by_fields\n",
      "Applied 5 strategies in 4.70 seconds\n",
      "Wrote 975 LCIA methods with 254388 characterization factors\n",
      "Creating core data migrations\n",
      "\n",
      "Extracting XML data from 19565 datasets\n",
      "Extracted 19565 datasets in 240.52 seconds\n",
      "Applying strategy: normalize_units\n",
      "Applying strategy: update_ecoinvent_locations\n",
      "Applying strategy: remove_zero_amount_coproducts\n",
      "Applying strategy: remove_zero_amount_inputs_with_no_activity\n",
      "Applying strategy: remove_unnamed_parameters\n",
      "Applying strategy: es2_assign_only_product_with_amount_as_reference_product\n",
      "Applying strategy: assign_single_product_as_activity\n",
      "Applying strategy: create_composite_code\n",
      "Applying strategy: drop_unspecified_subcategories\n",
      "Applying strategy: fix_ecoinvent_flows_pre35\n",
      "Applying strategy: drop_temporary_outdated_biosphere_flows\n",
      "Applying strategy: link_biosphere_by_flow_uuid\n",
      "Applying strategy: link_internal_technosphere_by_composite_code\n",
      "Applying strategy: delete_exchanges_missing_activity\n",
      "Applying strategy: delete_ghost_exchanges\n",
      "Applying strategy: remove_uncertainty_from_negative_loss_exchanges\n",
      "Applying strategy: fix_unreasonably_high_lognormal_uncertainties\n",
      "Applying strategy: set_lognormal_loc_value\n",
      "Applying strategy: convert_activity_parameters_to_list\n",
      "Applying strategy: add_cpc_classification_from_single_reference_product\n",
      "Applying strategy: delete_none_synonyms\n",
      "Applying strategy: update_social_flows_in_older_consequential\n",
      "Applied 22 strategies in 13.84 seconds\n",
      "19565 datasets\n",
      "629959 exchanges\n",
      "0 unlinked exchanges\n",
      "  \n"
     ]
    }
   ],
   "source": [
    "import numpy as np\n",
    "import pandas as pd\n",
    "import matplotlib.pyplot as plt\n",
    "plt.style.use('ggplot')\n",
    "#import database_explorer as dbex\n",
    "import bw2analyzer as ba\n",
    "import bw2data as bd\n",
    "import bw2calc as bc\n",
    "import bw2io as bi\n",
    "import matrix_utils as mu\n",
    "import bw_processing as bp\n",
    "\n",
    "first_setup = False\n",
    "NAME = \"ei38-cutoff-25\"\n",
    "\n",
    "if first_setup:\n",
    "    if NAME in bd.projects:\n",
    "        bd.projects.delete_project(NAME, True)\n",
    "\n",
    "bd.projects.set_current(NAME)\n",
    "\n",
    "if first_setup:\n",
    "    bi.bw2setup()\n",
    "\n",
    "if first_setup:\n",
    "    ei33 = bi.SingleOutputEcospold2Importer('/home/hurtiol/ALFA/datasets/', 'ecoInvent 3.8')\n",
    "    ei33.apply_strategies()\n",
    "    ei33.statistics()\n"
   ]
  },
  {
   "cell_type": "code",
   "execution_count": 2,
   "metadata": {},
   "outputs": [
    {
     "name": "stdout",
     "output_type": "stream",
     "text": [
      "Not able to determine geocollections for all datasets. This database is not ready for regionalization.\n",
      "Warning: No valid output stream.\n",
      "Title: Writing activities to SQLite3 database:\n",
      "  Started: 02/10/2023 11:15:06\n",
      "  Finished: 02/10/2023 11:18:25\n",
      "  Total time elapsed: 00:03:18\n",
      "  CPU %: 31.50\n",
      "  Memory %: 0.15\n",
      "Created database: ecoInvent 3.8\n"
     ]
    }
   ],
   "source": [
    "if first_setup:\n",
    "    ei33.write_database(db_name='ecoInvent 3.8')"
   ]
  },
  {
   "cell_type": "code",
   "execution_count": 4,
   "metadata": {},
   "outputs": [
    {
     "data": {
      "text/plain": [
       "0.38520281033490816"
      ]
     },
     "execution_count": 4,
     "metadata": {},
     "output_type": "execute_result"
    }
   ],
   "source": [
    "act = bd.Database(\"ecoInvent 3.8\").search(\"biomethane production, high pressure from synthetic gas, wood, fluidised technology\")[0]\n",
    "#methods = [x for x in bd.methods if 'IPCC' in x[0]]\n",
    "method = ('IPCC 2013', 'climate change', 'GWP 100a')\n",
    "lca = bc.LCA({act: 1}, method = method)\n",
    "lca.lci()\n",
    "lca.lcia()\n",
    "lca.score"
   ]
  },
  {
   "cell_type": "code",
   "execution_count": 5,
   "metadata": {},
   "outputs": [],
   "source": [
    "# modified version of the AssumeDiagonalGraphTraversal.\n",
    "# includes separate calculation of positive and negative impact\n",
    "import warnings\n",
    "from heapq import heappop, heappush\n",
    "import itertools\n",
    "from functools import lru_cache\n",
    "\n",
    "import numpy as np\n",
    "from scipy import sparse\n",
    "\n",
    "from bw2calc import spsolve, LCA\n",
    "\n",
    "class JRCAssumedDiagonalGraphTraversal:\n",
    "    \"\"\"\n",
    "    Traverse a supply chain, following paths of greatest impact.\n",
    "    This implementation uses a queue of datasets to assess. As the supply chain is traversed, datasets inputs are added to a list sorted by LCA score. Each activity in the sorted list is assessed, and added to the supply chain graph, as long as its impact is above a certain threshold, and the maximum number of calculations has not been exceeded.\n",
    "    Because the next dataset assessed is chosen by its impact, not its position in the graph, this is neither a breadth-first nor a depth-first search, but rather \"importance-first\".\n",
    "    This class is written in a functional style - no variables are stored in *self*, only methods.\n",
    "    Should be used by calling the ``calculate`` method.\n",
    "    .. warning:: Graph traversal with multioutput processes only works when other inputs are substituted (see `Multioutput processes in LCA <http://chris.mutel.org/multioutput.html>`__ for a description of multiputput process math in LCA).\n",
    "    \"\"\"\n",
    "\n",
    "    def calculate(self, lca, cutoff=0.005, max_calc=1e5, skip_coproducts=False):\n",
    "        \"\"\"\n",
    "        Traverse the supply chain graph.\n",
    "        Args:\n",
    "            * *lca* (dict): An instance of ``bw2calc.lca.LCA``.\n",
    "            * *cutoff* (float, default=0.005): Cutoff criteria to stop LCA calculations. Relative score of total, i.e. 0.005 will cutoff if a dataset has a score less than 0.5 percent of the total.\n",
    "            * *max_calc* (int, default=10000): Maximum number of LCA calculations to perform.\n",
    "        Returns:\n",
    "            Dictionary of nodes, edges, and number of LCA calculations.\n",
    "        \"\"\"\n",
    "        if not hasattr(lca, \"supply_array\"):\n",
    "            lca.lci()\n",
    "        if not hasattr(lca, \"characterized_inventory\"):\n",
    "            lca.lcia()\n",
    "\n",
    "        supply = lca.supply_array.copy()\n",
    "        score = lca.score\n",
    "\n",
    "        if score == 0:\n",
    "            raise ValueError(\"Zero total LCA score makes traversal impossible\")\n",
    "\n",
    "        # Create matrix of LCIA CFs times biosphere flows, as these don't\n",
    "        # change. This is also the unit score of each activity.\n",
    "        characterized_biosphere = np.array(\n",
    "            (lca.characterization_matrix * lca.biosphere_matrix).sum(axis=0)\n",
    "        ).ravel()\n",
    "        characterized_biosphere_neg = characterized_biosphere.copy()\n",
    "        characterized_biosphere_neg[characterized_biosphere_neg > 0] = 0\n",
    "        characterized_biosphere_pos = characterized_biosphere.copy()\n",
    "        characterized_biosphere_pos[characterized_biosphere_pos < 0] = 0\n",
    "\n",
    "        heap, nodes, edges = self.initialize_heap(lca, supply, characterized_biosphere, characterized_biosphere_neg, characterized_biosphere_pos)\n",
    "        nodes, edges, counter = self.traverse(\n",
    "            heap,\n",
    "            nodes,\n",
    "            edges,\n",
    "            0,\n",
    "            max_calc,\n",
    "            cutoff,\n",
    "            score,\n",
    "            supply,\n",
    "            characterized_biosphere,\n",
    "            characterized_biosphere_neg,\n",
    "            characterized_biosphere_pos,\n",
    "            lca,\n",
    "            skip_coproducts,\n",
    "        )\n",
    "\n",
    "        return {\n",
    "            \"nodes\": nodes,\n",
    "            \"edges\": edges,\n",
    "            \"counter\": counter,\n",
    "        }\n",
    "\n",
    "    def initialize_heap(self, lca, supply, characterized_biosphere,\n",
    "            characterized_biosphere_neg,\n",
    "            characterized_biosphere_pos):\n",
    "        \"\"\"\n",
    "        Create a `priority queue <http://docs.python.org/2/library/heapq.html>`_ or ``heap`` to store inventory datasets, sorted by LCA score.\n",
    "        Populates the heap with each activity in ``demand``. Initial nodes are the *functional unit*, i.e. the complete demand, and each activity in the *functional unit*. Initial edges are inputs from each activity into the *functional unit*.\n",
    "        The *functional unit* is an abstract dataset (as it doesn't exist in the matrix), and is assigned the index ``-1``.\n",
    "        \"\"\"\n",
    "        heap, edges = [], []\n",
    "        nodes = {-1: {\"amount\": 1, \"cum\": lca.score, \"ind\": 1e-6 * lca.score}}\n",
    "        for index, amount in enumerate(lca.demand_array):\n",
    "            if amount == 0:\n",
    "                continue\n",
    "            cum_score, cum_score_neg, cum_score_pos = self.cumulative_score(\n",
    "                index, supply, characterized_biosphere,\n",
    "            characterized_biosphere_neg,\n",
    "            characterized_biosphere_pos, lca\n",
    "            )\n",
    "            heappush(heap, (abs(1 / cum_score), index))\n",
    "            nodes[index] = {\n",
    "                \"amount\": float(supply[index]),\n",
    "                \"cum\": cum_score,\n",
    "                \"cum_neg\": cum_score_neg,\n",
    "                \"cum_pos\": cum_score_pos,\n",
    "                \"ind\": self.unit_score(index, supply, characterized_biosphere),\n",
    "            }\n",
    "            edges.append(\n",
    "                {\n",
    "                    \"to\": -1,\n",
    "                    \"from\": index,\n",
    "                    \"amount\": amount,\n",
    "                    \"exc_amount\": amount,\n",
    "                    \"impact\": cum_score * amount / float(supply[index]),\n",
    "                    \"impact_neg\": cum_score_neg * amount / float(supply[index]),\n",
    "                    \"impact_pos\": cum_score_pos * amount / float(supply[index])\n",
    "                }\n",
    "            )\n",
    "        return heap, nodes, edges\n",
    "\n",
    "    def cumulative_score(self, index, supply, characterized_biosphere,\n",
    "            characterized_biosphere_neg,\n",
    "            characterized_biosphere_pos, lca):\n",
    "        \"\"\"Compute cumulative LCA score for a given activity\"\"\"\n",
    "        demand = np.zeros((supply.shape[0],))\n",
    "        demand[index] = (\n",
    "            supply[index]\n",
    "            *\n",
    "            # Normalize by the production amount\n",
    "            lca.technosphere_matrix[index, index]\n",
    "        )\n",
    "        solved_tech = spsolve(lca.technosphere_matrix, demand)\n",
    "        return (float(\n",
    "            (characterized_biosphere * solved_tech).sum()\n",
    "        ),\n",
    "        float(\n",
    "            (characterized_biosphere_neg * solved_tech).sum()\n",
    "        ),\n",
    "        float(\n",
    "            (characterized_biosphere_pos * solved_tech).sum()\n",
    "        ))\n",
    "\n",
    "    def unit_score(self, index, supply, characterized_biosphere):\n",
    "        \"\"\"Compute the LCA impact caused by the direct emissions and resource consumption of a given activity\"\"\"\n",
    "        return float(characterized_biosphere[index] * supply[index])\n",
    "\n",
    "    def traverse(\n",
    "        self,\n",
    "        heap,\n",
    "        nodes,\n",
    "        edges,\n",
    "        counter,\n",
    "        max_calc,\n",
    "        cutoff,\n",
    "        total_score,\n",
    "        supply,\n",
    "        characterized_biosphere,\n",
    "        characterized_biosphere_neg,\n",
    "        characterized_biosphere_pos,\n",
    "        lca,\n",
    "        skip_coproducts,\n",
    "    ):\n",
    "        \"\"\"\n",
    "        Build a directed graph by traversing the supply chain.\n",
    "        Node ids are actually technosphere row/col indices, which makes lookup easier.\n",
    "        Returns:\n",
    "            (nodes, edges, number of calculations)\n",
    "        \"\"\"\n",
    "        # static_databases = {name for name in databases if databases[name].get(\"static\")}\n",
    "        # reverse = lca.dicts.activity.reversed\n",
    "\n",
    "        while heap:\n",
    "            if counter >= max_calc:\n",
    "                warnings.warn(\"Stopping traversal due to calculation count.\")\n",
    "                break\n",
    "            parent_index = heappop(heap)[1]\n",
    "            # Skip links from static databases\n",
    "            # if static_databases and reverse[parent_index][0] in static_databases:\n",
    "            #     continue\n",
    "\n",
    "            # Assume that this activity produces its reference product\n",
    "            scale_value = lca.technosphere_matrix[parent_index, parent_index]\n",
    "            if scale_value == 0:\n",
    "                raise ValueError(\n",
    "                    \"Can't rescale activities that produce zero reference product\"\n",
    "                )\n",
    "            col = lca.technosphere_matrix[:, parent_index].tocoo()\n",
    "            # Multiply by -1 because technosphere values are negative\n",
    "            # (consumption of inputs) and rescale\n",
    "            children = [\n",
    "                (int(col.row[i]), float(-1 * col.data[i] / scale_value))\n",
    "                for i in range(col.row.shape[0])\n",
    "            ]\n",
    "            for activity, amount in children:\n",
    "                # Skip values on technosphere diagonal\n",
    "                if activity == parent_index:\n",
    "                    continue\n",
    "                # Skip negative coproducts\n",
    "                if skip_coproducts and amount <= 0:\n",
    "                    continue\n",
    "                counter += 1\n",
    "                cumulative_score, cum_score_neg, cum_score_pos = self.cumulative_score(\n",
    "                    activity, supply, characterized_biosphere, characterized_biosphere_neg, characterized_biosphere_pos, lca\n",
    "                )\n",
    "                if abs(cumulative_score) < abs(total_score * cutoff):\n",
    "                    continue\n",
    "\n",
    "                # flow between activity and parent (Multiply by -1 because technosphere values are negative)\n",
    "                flow = (\n",
    "                    -1.0\n",
    "                    * lca.technosphere_matrix[activity, parent_index]\n",
    "                    * supply[parent_index]\n",
    "                )\n",
    "                total_activity_output = (\n",
    "                    lca.technosphere_matrix[activity, activity] * supply[activity]\n",
    "                )\n",
    "\n",
    "                # Edge format is (to, from, mass amount, cumulative impact)\n",
    "                edges.append(\n",
    "                    {\n",
    "                        \"to\": parent_index,\n",
    "                        \"from\": activity,\n",
    "                        # Amount of this link * amount of parent demanding link\n",
    "                        \"amount\": flow,\n",
    "                        # Raw exchange value\n",
    "                        \"exc_amount\": amount,\n",
    "                        # Impact related to this flow\n",
    "                        \"impact\": flow / total_activity_output * cumulative_score,\n",
    "                        \"impact_neg\": flow / total_activity_output * cum_score_neg,\n",
    "                        \"impact_pos\": flow / total_activity_output * cum_score_pos\n",
    "                    }\n",
    "                )\n",
    "                # Want multiple incoming edges, but don't add existing node\n",
    "                if activity in nodes:\n",
    "                    continue\n",
    "                nodes[activity] = {\n",
    "                    # Total amount of this flow supplied\n",
    "                    \"amount\": total_activity_output,\n",
    "                    # Cumulative score from all flows of this activity\n",
    "                    \"cum\": cumulative_score,\n",
    "                    \"cum_neg\": cum_score_neg,\n",
    "                    \"cum_pos\": cum_score_pos,\n",
    "                    # Individual score attributable to environmental flows\n",
    "                    # coming directory from or to this activity\n",
    "                    \"ind\": self.unit_score(activity, supply, characterized_biosphere),\n",
    "                }\n",
    "                heappush(heap, (abs(1 / cumulative_score), activity))\n",
    "\n",
    "        return nodes, edges, counter\n"
   ]
  },
  {
   "cell_type": "code",
   "execution_count": 14,
   "metadata": {},
   "outputs": [],
   "source": [
    "trav = JRCAssumedDiagonalGraphTraversal().calculate(lca, cutoff=0.05)"
   ]
  },
  {
   "cell_type": "code",
   "execution_count": 15,
   "metadata": {},
   "outputs": [
    {
     "data": {
      "text/plain": [
       "[{'to': -1,\n",
       "  'from': 8136,\n",
       "  'amount': 1.0,\n",
       "  'exc_amount': 1.0,\n",
       "  'impact': 0.3852028103349081,\n",
       "  'impact_neg': -0.0041985319257974475,\n",
       "  'impact_pos': 0.3894013422607055},\n",
       " {'to': 8136,\n",
       "  'from': 4040,\n",
       "  'amount': 0.814000010490703,\n",
       "  'exc_amount': 0.8140000104904175,\n",
       "  'impact': 0.05148407252302469,\n",
       "  'impact_neg': -0.003796729728404199,\n",
       "  'impact_pos': 0.05528080225142889},\n",
       " {'to': 8136,\n",
       "  'from': 9804,\n",
       "  'amount': -0.01462200004607952,\n",
       "  'exc_amount': -0.01462200004607439,\n",
       "  'impact': 0.03637634803738445,\n",
       "  'impact_neg': -4.585507161357016e-08,\n",
       "  'impact_pos': 0.03637639389245605},\n",
       " {'to': 8136,\n",
       "  'from': 9946,\n",
       "  'amount': 0.008120000362399089,\n",
       "  'exc_amount': 0.00812000036239624,\n",
       "  'impact': 0.041284385384511194,\n",
       "  'impact_neg': -6.6761062231768e-08,\n",
       "  'impact_pos': 0.041284452145573435},\n",
       " {'to': 8136,\n",
       "  'from': 13946,\n",
       "  'amount': 0.01462200004607952,\n",
       "  'exc_amount': 0.01462200004607439,\n",
       "  'impact': 0.024502041276781197,\n",
       "  'impact_neg': -0.00026193067357826056,\n",
       "  'impact_pos': 0.024763971950359457},\n",
       " {'to': 8136,\n",
       "  'from': 14409,\n",
       "  'amount': 0.8288000226023721,\n",
       "  'exc_amount': 0.8288000226020813,\n",
       "  'impact': 0.0322220668991692,\n",
       "  'impact_neg': -2.516900299031537e-06,\n",
       "  'impact_pos': 0.03222458379946823},\n",
       " {'to': 8136,\n",
       "  'from': 15337,\n",
       "  'amount': 0.019804999232299125,\n",
       "  'exc_amount': 0.019804999232292175,\n",
       "  'impact': 0.04024815765259258,\n",
       "  'impact_neg': -0.00010549649277379603,\n",
       "  'impact_pos': 0.04035365414536638},\n",
       " {'to': 8136,\n",
       "  'from': 16404,\n",
       "  'amount': 2.887253999711096,\n",
       "  'exc_amount': 2.887253999710083,\n",
       "  'impact': 0.13046470882720684,\n",
       "  'impact_neg': -2.744155104399156e-05,\n",
       "  'impact_pos': 0.13049215037825085},\n",
       " {'to': 16404,\n",
       "  'from': 12886,\n",
       "  'amount': 1.8756302657345472,\n",
       "  'exc_amount': 0.6488307118415833,\n",
       "  'impact': 0.05691587451646282,\n",
       "  'impact_neg': -1.4252348547825135e-05,\n",
       "  'impact_pos': 0.056930126865010644},\n",
       " {'to': 16404,\n",
       "  'from': 15009,\n",
       "  'amount': 0.5574648327198576,\n",
       "  'exc_amount': 0.1928420066833496,\n",
       "  'impact': 0.02742919498751127,\n",
       "  'impact_neg': -9.035648451963762e-06,\n",
       "  'impact_pos': 0.027438230635963234},\n",
       " {'to': 16404,\n",
       "  'from': 18854,\n",
       "  'amount': 0.30353244407058355,\n",
       "  'exc_amount': 0.10499999672174454,\n",
       "  'impact': 0.03982962290747259,\n",
       "  'impact_neg': -2.2677665156920063e-06,\n",
       "  'impact_pos': 0.039831890673988284},\n",
       " {'to': 18854,\n",
       "  'from': 11250,\n",
       "  'amount': 0.17034890792895585,\n",
       "  'exc_amount': 0.39018622040748596,\n",
       "  'impact': 0.021803803535135197,\n",
       "  'impact_neg': -1.236836675706e-06,\n",
       "  'impact_pos': 0.021805040371810906},\n",
       " {'to': 18854,\n",
       "  'from': 11726,\n",
       "  'amount': 0.19519146269433096,\n",
       "  'exc_amount': 0.4470883905887604,\n",
       "  'impact': 0.026430951476942317,\n",
       "  'impact_neg': -1.5137519404445836e-06,\n",
       "  'impact_pos': 0.026432465228882755},\n",
       " {'to': 12886,\n",
       "  'from': 11168,\n",
       "  'amount': 0.0002244961606671852,\n",
       "  'exc_amount': 0.00011969105253228918,\n",
       "  'impact': 0.012187580017730206,\n",
       "  'impact_neg': -6.647763084471542e-07,\n",
       "  'impact_pos': 0.012188244794038653},\n",
       " {'to': 12886,\n",
       "  'from': 18139,\n",
       "  'amount': 0.001156289883129648,\n",
       "  'exc_amount': 0.0006164807127788663,\n",
       "  'impact': 0.013083518015792453,\n",
       "  'impact_neg': -1.1804456102152436e-05,\n",
       "  'impact_pos': 0.013095322471894603},\n",
       " {'to': 12886,\n",
       "  'from': 18640,\n",
       "  'amount': 7.770722076733533e-05,\n",
       "  'exc_amount': 4.142992474953644e-05,\n",
       "  'impact': 0.021584700649502575,\n",
       "  'impact_neg': -8.31535651792409e-07,\n",
       "  'impact_pos': 0.021585532185154365},\n",
       " {'to': 4040,\n",
       "  'from': 18854,\n",
       "  'amount': 0.05698051353519299,\n",
       "  'exc_amount': 0.07000000029802322,\n",
       "  'impact': 0.007477000931910664,\n",
       "  'impact_neg': -4.2571561349137784e-07,\n",
       "  'impact_pos': 0.0074774266475241555},\n",
       " {'to': 9946,\n",
       "  'from': 3149,\n",
       "  'amount': 0.005436599294739061,\n",
       "  'exc_amount': 0.6694076657295227,\n",
       "  'impact': 0.027939754444048854,\n",
       "  'impact_neg': 0.0,\n",
       "  'impact_pos': 0.027939754444048854},\n",
       " {'to': 15337,\n",
       "  'from': 8000,\n",
       "  'amount': 0.01980657277455316,\n",
       "  'exc_amount': 1.0,\n",
       "  'impact': 0.039874765501752896,\n",
       "  'impact_neg': -0.00010547235524257884,\n",
       "  'impact_pos': 0.039980237856995476},\n",
       " {'to': 9804,\n",
       "  'from': 18854,\n",
       "  'amount': 0.00037758141325556165,\n",
       "  'exc_amount': -0.025769999250769615,\n",
       "  'impact': 4.954635196540122e-05,\n",
       "  'impact_neg': -2.8210048140010757e-09,\n",
       "  'impact_pos': 4.954917297021522e-05},\n",
       " {'to': 14409,\n",
       "  'from': 5074,\n",
       "  'amount': 0.8582962401080411,\n",
       "  'exc_amount': 0.995457607648632,\n",
       "  'impact': 0.03188017966486096,\n",
       "  'impact_neg': -2.2677569697958364e-06,\n",
       "  'impact_pos': 0.03188244742183075},\n",
       " {'to': 5074,\n",
       "  'from': 17197,\n",
       "  'amount': 0.8636176389803902,\n",
       "  'exc_amount': 1.0061999559402466,\n",
       "  'impact': 0.031880179664860946,\n",
       "  'impact_neg': -2.26775696979584e-06,\n",
       "  'impact_pos': 0.031882447421830745},\n",
       " {'to': 18640,\n",
       "  'from': 9804,\n",
       "  'amount': -2.7637033576351423e-06,\n",
       "  'exc_amount': -0.024815600365400314,\n",
       "  'impact': 6.875491375502981e-06,\n",
       "  'impact_neg': -8.667064353963178e-12,\n",
       "  'impact_pos': 6.875500042567333e-06},\n",
       " {'to': 15009,\n",
       "  'from': 11168,\n",
       "  'amount': 9.654277390604034e-05,\n",
       "  'exc_amount': 0.00017318181926384568,\n",
       "  'impact': 0.005241171067766463,\n",
       "  'impact_neg': -2.858817213344304e-07,\n",
       "  'impact_pos': 0.005241456949487797},\n",
       " {'to': 15009,\n",
       "  'from': 18139,\n",
       "  'amount': 0.0007935785182299015,\n",
       "  'exc_amount': 0.0014235490234568715,\n",
       "  'impact': 0.008979408184480875,\n",
       "  'impact_neg': -8.101569440961455e-06,\n",
       "  'impact_pos': 0.008987509753921834},\n",
       " {'to': 15009,\n",
       "  'from': 18640,\n",
       "  'amount': 3.359378263721499e-05,\n",
       "  'exc_amount': 6.0261707403697073e-05,\n",
       "  'impact': 0.009331330277270032,\n",
       "  'impact_neg': -3.5948303987152093e-07,\n",
       "  'impact_pos': 0.009331689760309902},\n",
       " {'to': 13946,\n",
       "  'from': 11864,\n",
       "  'amount': 0.015326995011860016,\n",
       "  'exc_amount': 1.0482146739959717,\n",
       "  'impact': 0.022457783366885843,\n",
       "  'impact_neg': -0.0002616827268915513,\n",
       "  'impact_pos': 0.022719466093777393},\n",
       " {'to': 13946,\n",
       "  'from': 14409,\n",
       "  'amount': 0.0011265954775241183,\n",
       "  'exc_amount': 0.07704797387123108,\n",
       "  'impact': 4.3799751273051804e-05,\n",
       "  'impact_neg': -3.4212456768095596e-09,\n",
       "  'impact_pos': 4.380317251872862e-05},\n",
       " {'to': 11864,\n",
       "  'from': 7881,\n",
       "  'amount': 0.015336181827781202,\n",
       "  'exc_amount': 1.0005718161209207,\n",
       "  'impact': 0.022423900647727535,\n",
       "  'impact_neg': -0.00026162911873842104,\n",
       "  'impact_pos': 0.022685529766465953},\n",
       " {'to': 7881,\n",
       "  'from': 6411,\n",
       "  'amount': 0.02888073456083731,\n",
       "  'exc_amount': 1.883176326751709,\n",
       "  'impact': 0.021996793088389352,\n",
       "  'impact_neg': -0.0002615400633396172,\n",
       "  'impact_pos': 0.02225833315172897},\n",
       " {'to': 7881,\n",
       "  'from': 14409,\n",
       "  'amount': 0.001809567657905721,\n",
       "  'exc_amount': 0.11799336224794388,\n",
       "  'impact': 7.035232690815828e-05,\n",
       "  'impact_neg': -5.4952959158952505e-09,\n",
       "  'impact_pos': 7.035782220407418e-05},\n",
       " {'to': 11168,\n",
       "  'from': 9804,\n",
       "  'amount': -3.109326212593496e-06,\n",
       "  'exc_amount': -0.008679688908159733,\n",
       "  'impact': 7.735325681481557e-06,\n",
       "  'impact_neg': -9.750948960409422e-12,\n",
       "  'impact_pos': 7.735335432430516e-06}]"
      ]
     },
     "execution_count": 15,
     "metadata": {},
     "output_type": "execute_result"
    }
   ],
   "source": [
    "trav['edges']"
   ]
  },
  {
   "cell_type": "code",
   "execution_count": null,
   "metadata": {},
   "outputs": [],
   "source": [
    "# from Romain to name the activities\n",
    "id_to_key = {v:k for k, v in lca.activity_dict.items()}\n",
    "activities = {id: bd.get_activity(id_to_key[id]) for id in list(trav[\"nodes\"].keys())[1:]}\n",
    "activities"
   ]
  },
  {
   "cell_type": "code",
   "execution_count": 18,
   "metadata": {},
   "outputs": [
    {
     "data": {
      "text/html": [
       "<div>\n",
       "<style scoped>\n",
       "    .dataframe tbody tr th:only-of-type {\n",
       "        vertical-align: middle;\n",
       "    }\n",
       "\n",
       "    .dataframe tbody tr th {\n",
       "        vertical-align: top;\n",
       "    }\n",
       "\n",
       "    .dataframe thead th {\n",
       "        text-align: right;\n",
       "    }\n",
       "</style>\n",
       "<table border=\"1\" class=\"dataframe\">\n",
       "  <thead>\n",
       "    <tr style=\"text-align: right;\">\n",
       "      <th></th>\n",
       "      <th>label</th>\n",
       "      <th>parent</th>\n",
       "      <th>value</th>\n",
       "    </tr>\n",
       "  </thead>\n",
       "  <tbody>\n",
       "    <tr>\n",
       "      <th>0</th>\n",
       "      <td>8136</td>\n",
       "      <td></td>\n",
       "      <td>0.389</td>\n",
       "    </tr>\n",
       "    <tr>\n",
       "      <th>1</th>\n",
       "      <td>4040</td>\n",
       "      <td>8136</td>\n",
       "      <td>0.055</td>\n",
       "    </tr>\n",
       "    <tr>\n",
       "      <th>2</th>\n",
       "      <td>9804</td>\n",
       "      <td>8136</td>\n",
       "      <td>0.036</td>\n",
       "    </tr>\n",
       "    <tr>\n",
       "      <th>3</th>\n",
       "      <td>9946</td>\n",
       "      <td>8136</td>\n",
       "      <td>0.041</td>\n",
       "    </tr>\n",
       "    <tr>\n",
       "      <th>4</th>\n",
       "      <td>13946</td>\n",
       "      <td>8136</td>\n",
       "      <td>0.024</td>\n",
       "    </tr>\n",
       "    <tr>\n",
       "      <th>5</th>\n",
       "      <td>14409</td>\n",
       "      <td>8136</td>\n",
       "      <td>0.032</td>\n",
       "    </tr>\n",
       "    <tr>\n",
       "      <th>6</th>\n",
       "      <td>15337</td>\n",
       "      <td>8136</td>\n",
       "      <td>0.040</td>\n",
       "    </tr>\n",
       "    <tr>\n",
       "      <th>7</th>\n",
       "      <td>16404</td>\n",
       "      <td>8136</td>\n",
       "      <td>0.130</td>\n",
       "    </tr>\n",
       "    <tr>\n",
       "      <th>8</th>\n",
       "      <td>12886</td>\n",
       "      <td>16404</td>\n",
       "      <td>0.056</td>\n",
       "    </tr>\n",
       "    <tr>\n",
       "      <th>9</th>\n",
       "      <td>15009</td>\n",
       "      <td>16404</td>\n",
       "      <td>0.027</td>\n",
       "    </tr>\n",
       "    <tr>\n",
       "      <th>10</th>\n",
       "      <td>18854</td>\n",
       "      <td>16404</td>\n",
       "      <td>0.039</td>\n",
       "    </tr>\n",
       "    <tr>\n",
       "      <th>11</th>\n",
       "      <td>11250</td>\n",
       "      <td>18854</td>\n",
       "      <td>0.021</td>\n",
       "    </tr>\n",
       "    <tr>\n",
       "      <th>12</th>\n",
       "      <td>11726</td>\n",
       "      <td>18854</td>\n",
       "      <td>0.026</td>\n",
       "    </tr>\n",
       "    <tr>\n",
       "      <th>13</th>\n",
       "      <td>11168</td>\n",
       "      <td>12886</td>\n",
       "      <td>0.012</td>\n",
       "    </tr>\n",
       "    <tr>\n",
       "      <th>14</th>\n",
       "      <td>18139</td>\n",
       "      <td>12886</td>\n",
       "      <td>0.013</td>\n",
       "    </tr>\n",
       "    <tr>\n",
       "      <th>15</th>\n",
       "      <td>18640</td>\n",
       "      <td>12886</td>\n",
       "      <td>0.021</td>\n",
       "    </tr>\n",
       "    <tr>\n",
       "      <th>16</th>\n",
       "      <td>18854</td>\n",
       "      <td>4040</td>\n",
       "      <td>0.007</td>\n",
       "    </tr>\n",
       "    <tr>\n",
       "      <th>17</th>\n",
       "      <td>3149</td>\n",
       "      <td>9946</td>\n",
       "      <td>0.027</td>\n",
       "    </tr>\n",
       "    <tr>\n",
       "      <th>18</th>\n",
       "      <td>8000</td>\n",
       "      <td>15337</td>\n",
       "      <td>0.039</td>\n",
       "    </tr>\n",
       "    <tr>\n",
       "      <th>19</th>\n",
       "      <td>18854</td>\n",
       "      <td>9804</td>\n",
       "      <td>0.000</td>\n",
       "    </tr>\n",
       "    <tr>\n",
       "      <th>20</th>\n",
       "      <td>5074</td>\n",
       "      <td>14409</td>\n",
       "      <td>0.031</td>\n",
       "    </tr>\n",
       "    <tr>\n",
       "      <th>21</th>\n",
       "      <td>17197</td>\n",
       "      <td>5074</td>\n",
       "      <td>0.031</td>\n",
       "    </tr>\n",
       "    <tr>\n",
       "      <th>22</th>\n",
       "      <td>9804</td>\n",
       "      <td>18640</td>\n",
       "      <td>0.000</td>\n",
       "    </tr>\n",
       "    <tr>\n",
       "      <th>23</th>\n",
       "      <td>11168</td>\n",
       "      <td>15009</td>\n",
       "      <td>0.005</td>\n",
       "    </tr>\n",
       "    <tr>\n",
       "      <th>24</th>\n",
       "      <td>18139</td>\n",
       "      <td>15009</td>\n",
       "      <td>0.008</td>\n",
       "    </tr>\n",
       "    <tr>\n",
       "      <th>25</th>\n",
       "      <td>18640</td>\n",
       "      <td>15009</td>\n",
       "      <td>0.009</td>\n",
       "    </tr>\n",
       "    <tr>\n",
       "      <th>26</th>\n",
       "      <td>11864</td>\n",
       "      <td>13946</td>\n",
       "      <td>0.022</td>\n",
       "    </tr>\n",
       "    <tr>\n",
       "      <th>27</th>\n",
       "      <td>14409</td>\n",
       "      <td>13946</td>\n",
       "      <td>0.000</td>\n",
       "    </tr>\n",
       "    <tr>\n",
       "      <th>28</th>\n",
       "      <td>7881</td>\n",
       "      <td>11864</td>\n",
       "      <td>0.022</td>\n",
       "    </tr>\n",
       "    <tr>\n",
       "      <th>29</th>\n",
       "      <td>6411</td>\n",
       "      <td>7881</td>\n",
       "      <td>0.022</td>\n",
       "    </tr>\n",
       "    <tr>\n",
       "      <th>30</th>\n",
       "      <td>14409</td>\n",
       "      <td>7881</td>\n",
       "      <td>0.000</td>\n",
       "    </tr>\n",
       "    <tr>\n",
       "      <th>31</th>\n",
       "      <td>9804</td>\n",
       "      <td>11168</td>\n",
       "      <td>0.000</td>\n",
       "    </tr>\n",
       "  </tbody>\n",
       "</table>\n",
       "</div>"
      ],
      "text/plain": [
       "    label parent  value\n",
       "0    8136         0.389\n",
       "1    4040   8136  0.055\n",
       "2    9804   8136  0.036\n",
       "3    9946   8136  0.041\n",
       "4   13946   8136  0.024\n",
       "5   14409   8136  0.032\n",
       "6   15337   8136  0.040\n",
       "7   16404   8136  0.130\n",
       "8   12886  16404  0.056\n",
       "9   15009  16404  0.027\n",
       "10  18854  16404  0.039\n",
       "11  11250  18854  0.021\n",
       "12  11726  18854  0.026\n",
       "13  11168  12886  0.012\n",
       "14  18139  12886  0.013\n",
       "15  18640  12886  0.021\n",
       "16  18854   4040  0.007\n",
       "17   3149   9946  0.027\n",
       "18   8000  15337  0.039\n",
       "19  18854   9804  0.000\n",
       "20   5074  14409  0.031\n",
       "21  17197   5074  0.031\n",
       "22   9804  18640  0.000\n",
       "23  11168  15009  0.005\n",
       "24  18139  15009  0.008\n",
       "25  18640  15009  0.009\n",
       "26  11864  13946  0.022\n",
       "27  14409  13946  0.000\n",
       "28   7881  11864  0.022\n",
       "29   6411   7881  0.022\n",
       "30  14409   7881  0.000\n",
       "31   9804  11168  0.000"
      ]
     },
     "metadata": {},
     "output_type": "display_data"
    },
    {
     "data": {
      "application/vnd.plotly.v1+json": {
       "config": {
        "plotlyServerURL": "https://plot.ly"
       },
       "data": [
        {
         "domain": {
          "x": [
           0,
           1
          ],
          "y": [
           0,
           1
          ]
         },
         "hovertemplate": "label=%{label}<br>value=%{value}<br>parent=%{parent}<extra></extra>",
         "labels": [
          8136,
          4040,
          9804,
          9946,
          13946,
          14409,
          15337,
          16404,
          12886,
          15009,
          18854,
          11250,
          11726,
          11168,
          18139,
          18640,
          18854,
          3149,
          8000,
          18854,
          5074,
          17197,
          9804,
          11168,
          18139,
          18640,
          11864,
          14409,
          7881,
          6411,
          14409,
          9804
         ],
         "name": "",
         "parents": [
          "",
          8136,
          8136,
          8136,
          8136,
          8136,
          8136,
          8136,
          16404,
          16404,
          16404,
          18854,
          18854,
          12886,
          12886,
          12886,
          4040,
          9946,
          15337,
          9804,
          14409,
          5074,
          18640,
          15009,
          15009,
          15009,
          13946,
          13946,
          11864,
          7881,
          7881,
          11168
         ],
         "type": "sunburst",
         "values": [
          0.389,
          0.055,
          0.036,
          0.041,
          0.024,
          0.032,
          0.04,
          0.13,
          0.056,
          0.027,
          0.039,
          0.021,
          0.026,
          0.012,
          0.013,
          0.021,
          0.007,
          0.027,
          0.039,
          0,
          0.031,
          0.031,
          0,
          0.005,
          0.008,
          0.009,
          0.022,
          0,
          0.022,
          0.022,
          0,
          0
         ]
        }
       ],
       "layout": {
        "legend": {
         "tracegroupgap": 0
        },
        "margin": {
         "t": 60
        },
        "template": {
         "data": {
          "bar": [
           {
            "error_x": {
             "color": "#2a3f5f"
            },
            "error_y": {
             "color": "#2a3f5f"
            },
            "marker": {
             "line": {
              "color": "#E5ECF6",
              "width": 0.5
             },
             "pattern": {
              "fillmode": "overlay",
              "size": 10,
              "solidity": 0.2
             }
            },
            "type": "bar"
           }
          ],
          "barpolar": [
           {
            "marker": {
             "line": {
              "color": "#E5ECF6",
              "width": 0.5
             },
             "pattern": {
              "fillmode": "overlay",
              "size": 10,
              "solidity": 0.2
             }
            },
            "type": "barpolar"
           }
          ],
          "carpet": [
           {
            "aaxis": {
             "endlinecolor": "#2a3f5f",
             "gridcolor": "white",
             "linecolor": "white",
             "minorgridcolor": "white",
             "startlinecolor": "#2a3f5f"
            },
            "baxis": {
             "endlinecolor": "#2a3f5f",
             "gridcolor": "white",
             "linecolor": "white",
             "minorgridcolor": "white",
             "startlinecolor": "#2a3f5f"
            },
            "type": "carpet"
           }
          ],
          "choropleth": [
           {
            "colorbar": {
             "outlinewidth": 0,
             "ticks": ""
            },
            "type": "choropleth"
           }
          ],
          "contour": [
           {
            "colorbar": {
             "outlinewidth": 0,
             "ticks": ""
            },
            "colorscale": [
             [
              0,
              "#0d0887"
             ],
             [
              0.1111111111111111,
              "#46039f"
             ],
             [
              0.2222222222222222,
              "#7201a8"
             ],
             [
              0.3333333333333333,
              "#9c179e"
             ],
             [
              0.4444444444444444,
              "#bd3786"
             ],
             [
              0.5555555555555556,
              "#d8576b"
             ],
             [
              0.6666666666666666,
              "#ed7953"
             ],
             [
              0.7777777777777778,
              "#fb9f3a"
             ],
             [
              0.8888888888888888,
              "#fdca26"
             ],
             [
              1,
              "#f0f921"
             ]
            ],
            "type": "contour"
           }
          ],
          "contourcarpet": [
           {
            "colorbar": {
             "outlinewidth": 0,
             "ticks": ""
            },
            "type": "contourcarpet"
           }
          ],
          "heatmap": [
           {
            "colorbar": {
             "outlinewidth": 0,
             "ticks": ""
            },
            "colorscale": [
             [
              0,
              "#0d0887"
             ],
             [
              0.1111111111111111,
              "#46039f"
             ],
             [
              0.2222222222222222,
              "#7201a8"
             ],
             [
              0.3333333333333333,
              "#9c179e"
             ],
             [
              0.4444444444444444,
              "#bd3786"
             ],
             [
              0.5555555555555556,
              "#d8576b"
             ],
             [
              0.6666666666666666,
              "#ed7953"
             ],
             [
              0.7777777777777778,
              "#fb9f3a"
             ],
             [
              0.8888888888888888,
              "#fdca26"
             ],
             [
              1,
              "#f0f921"
             ]
            ],
            "type": "heatmap"
           }
          ],
          "heatmapgl": [
           {
            "colorbar": {
             "outlinewidth": 0,
             "ticks": ""
            },
            "colorscale": [
             [
              0,
              "#0d0887"
             ],
             [
              0.1111111111111111,
              "#46039f"
             ],
             [
              0.2222222222222222,
              "#7201a8"
             ],
             [
              0.3333333333333333,
              "#9c179e"
             ],
             [
              0.4444444444444444,
              "#bd3786"
             ],
             [
              0.5555555555555556,
              "#d8576b"
             ],
             [
              0.6666666666666666,
              "#ed7953"
             ],
             [
              0.7777777777777778,
              "#fb9f3a"
             ],
             [
              0.8888888888888888,
              "#fdca26"
             ],
             [
              1,
              "#f0f921"
             ]
            ],
            "type": "heatmapgl"
           }
          ],
          "histogram": [
           {
            "marker": {
             "pattern": {
              "fillmode": "overlay",
              "size": 10,
              "solidity": 0.2
             }
            },
            "type": "histogram"
           }
          ],
          "histogram2d": [
           {
            "colorbar": {
             "outlinewidth": 0,
             "ticks": ""
            },
            "colorscale": [
             [
              0,
              "#0d0887"
             ],
             [
              0.1111111111111111,
              "#46039f"
             ],
             [
              0.2222222222222222,
              "#7201a8"
             ],
             [
              0.3333333333333333,
              "#9c179e"
             ],
             [
              0.4444444444444444,
              "#bd3786"
             ],
             [
              0.5555555555555556,
              "#d8576b"
             ],
             [
              0.6666666666666666,
              "#ed7953"
             ],
             [
              0.7777777777777778,
              "#fb9f3a"
             ],
             [
              0.8888888888888888,
              "#fdca26"
             ],
             [
              1,
              "#f0f921"
             ]
            ],
            "type": "histogram2d"
           }
          ],
          "histogram2dcontour": [
           {
            "colorbar": {
             "outlinewidth": 0,
             "ticks": ""
            },
            "colorscale": [
             [
              0,
              "#0d0887"
             ],
             [
              0.1111111111111111,
              "#46039f"
             ],
             [
              0.2222222222222222,
              "#7201a8"
             ],
             [
              0.3333333333333333,
              "#9c179e"
             ],
             [
              0.4444444444444444,
              "#bd3786"
             ],
             [
              0.5555555555555556,
              "#d8576b"
             ],
             [
              0.6666666666666666,
              "#ed7953"
             ],
             [
              0.7777777777777778,
              "#fb9f3a"
             ],
             [
              0.8888888888888888,
              "#fdca26"
             ],
             [
              1,
              "#f0f921"
             ]
            ],
            "type": "histogram2dcontour"
           }
          ],
          "mesh3d": [
           {
            "colorbar": {
             "outlinewidth": 0,
             "ticks": ""
            },
            "type": "mesh3d"
           }
          ],
          "parcoords": [
           {
            "line": {
             "colorbar": {
              "outlinewidth": 0,
              "ticks": ""
             }
            },
            "type": "parcoords"
           }
          ],
          "pie": [
           {
            "automargin": true,
            "type": "pie"
           }
          ],
          "scatter": [
           {
            "fillpattern": {
             "fillmode": "overlay",
             "size": 10,
             "solidity": 0.2
            },
            "type": "scatter"
           }
          ],
          "scatter3d": [
           {
            "line": {
             "colorbar": {
              "outlinewidth": 0,
              "ticks": ""
             }
            },
            "marker": {
             "colorbar": {
              "outlinewidth": 0,
              "ticks": ""
             }
            },
            "type": "scatter3d"
           }
          ],
          "scattercarpet": [
           {
            "marker": {
             "colorbar": {
              "outlinewidth": 0,
              "ticks": ""
             }
            },
            "type": "scattercarpet"
           }
          ],
          "scattergeo": [
           {
            "marker": {
             "colorbar": {
              "outlinewidth": 0,
              "ticks": ""
             }
            },
            "type": "scattergeo"
           }
          ],
          "scattergl": [
           {
            "marker": {
             "colorbar": {
              "outlinewidth": 0,
              "ticks": ""
             }
            },
            "type": "scattergl"
           }
          ],
          "scattermapbox": [
           {
            "marker": {
             "colorbar": {
              "outlinewidth": 0,
              "ticks": ""
             }
            },
            "type": "scattermapbox"
           }
          ],
          "scatterpolar": [
           {
            "marker": {
             "colorbar": {
              "outlinewidth": 0,
              "ticks": ""
             }
            },
            "type": "scatterpolar"
           }
          ],
          "scatterpolargl": [
           {
            "marker": {
             "colorbar": {
              "outlinewidth": 0,
              "ticks": ""
             }
            },
            "type": "scatterpolargl"
           }
          ],
          "scatterternary": [
           {
            "marker": {
             "colorbar": {
              "outlinewidth": 0,
              "ticks": ""
             }
            },
            "type": "scatterternary"
           }
          ],
          "surface": [
           {
            "colorbar": {
             "outlinewidth": 0,
             "ticks": ""
            },
            "colorscale": [
             [
              0,
              "#0d0887"
             ],
             [
              0.1111111111111111,
              "#46039f"
             ],
             [
              0.2222222222222222,
              "#7201a8"
             ],
             [
              0.3333333333333333,
              "#9c179e"
             ],
             [
              0.4444444444444444,
              "#bd3786"
             ],
             [
              0.5555555555555556,
              "#d8576b"
             ],
             [
              0.6666666666666666,
              "#ed7953"
             ],
             [
              0.7777777777777778,
              "#fb9f3a"
             ],
             [
              0.8888888888888888,
              "#fdca26"
             ],
             [
              1,
              "#f0f921"
             ]
            ],
            "type": "surface"
           }
          ],
          "table": [
           {
            "cells": {
             "fill": {
              "color": "#EBF0F8"
             },
             "line": {
              "color": "white"
             }
            },
            "header": {
             "fill": {
              "color": "#C8D4E3"
             },
             "line": {
              "color": "white"
             }
            },
            "type": "table"
           }
          ]
         },
         "layout": {
          "annotationdefaults": {
           "arrowcolor": "#2a3f5f",
           "arrowhead": 0,
           "arrowwidth": 1
          },
          "autotypenumbers": "strict",
          "coloraxis": {
           "colorbar": {
            "outlinewidth": 0,
            "ticks": ""
           }
          },
          "colorscale": {
           "diverging": [
            [
             0,
             "#8e0152"
            ],
            [
             0.1,
             "#c51b7d"
            ],
            [
             0.2,
             "#de77ae"
            ],
            [
             0.3,
             "#f1b6da"
            ],
            [
             0.4,
             "#fde0ef"
            ],
            [
             0.5,
             "#f7f7f7"
            ],
            [
             0.6,
             "#e6f5d0"
            ],
            [
             0.7,
             "#b8e186"
            ],
            [
             0.8,
             "#7fbc41"
            ],
            [
             0.9,
             "#4d9221"
            ],
            [
             1,
             "#276419"
            ]
           ],
           "sequential": [
            [
             0,
             "#0d0887"
            ],
            [
             0.1111111111111111,
             "#46039f"
            ],
            [
             0.2222222222222222,
             "#7201a8"
            ],
            [
             0.3333333333333333,
             "#9c179e"
            ],
            [
             0.4444444444444444,
             "#bd3786"
            ],
            [
             0.5555555555555556,
             "#d8576b"
            ],
            [
             0.6666666666666666,
             "#ed7953"
            ],
            [
             0.7777777777777778,
             "#fb9f3a"
            ],
            [
             0.8888888888888888,
             "#fdca26"
            ],
            [
             1,
             "#f0f921"
            ]
           ],
           "sequentialminus": [
            [
             0,
             "#0d0887"
            ],
            [
             0.1111111111111111,
             "#46039f"
            ],
            [
             0.2222222222222222,
             "#7201a8"
            ],
            [
             0.3333333333333333,
             "#9c179e"
            ],
            [
             0.4444444444444444,
             "#bd3786"
            ],
            [
             0.5555555555555556,
             "#d8576b"
            ],
            [
             0.6666666666666666,
             "#ed7953"
            ],
            [
             0.7777777777777778,
             "#fb9f3a"
            ],
            [
             0.8888888888888888,
             "#fdca26"
            ],
            [
             1,
             "#f0f921"
            ]
           ]
          },
          "colorway": [
           "#636efa",
           "#EF553B",
           "#00cc96",
           "#ab63fa",
           "#FFA15A",
           "#19d3f3",
           "#FF6692",
           "#B6E880",
           "#FF97FF",
           "#FECB52"
          ],
          "font": {
           "color": "#2a3f5f"
          },
          "geo": {
           "bgcolor": "white",
           "lakecolor": "white",
           "landcolor": "#E5ECF6",
           "showlakes": true,
           "showland": true,
           "subunitcolor": "white"
          },
          "hoverlabel": {
           "align": "left"
          },
          "hovermode": "closest",
          "mapbox": {
           "style": "light"
          },
          "paper_bgcolor": "white",
          "plot_bgcolor": "#E5ECF6",
          "polar": {
           "angularaxis": {
            "gridcolor": "white",
            "linecolor": "white",
            "ticks": ""
           },
           "bgcolor": "#E5ECF6",
           "radialaxis": {
            "gridcolor": "white",
            "linecolor": "white",
            "ticks": ""
           }
          },
          "scene": {
           "xaxis": {
            "backgroundcolor": "#E5ECF6",
            "gridcolor": "white",
            "gridwidth": 2,
            "linecolor": "white",
            "showbackground": true,
            "ticks": "",
            "zerolinecolor": "white"
           },
           "yaxis": {
            "backgroundcolor": "#E5ECF6",
            "gridcolor": "white",
            "gridwidth": 2,
            "linecolor": "white",
            "showbackground": true,
            "ticks": "",
            "zerolinecolor": "white"
           },
           "zaxis": {
            "backgroundcolor": "#E5ECF6",
            "gridcolor": "white",
            "gridwidth": 2,
            "linecolor": "white",
            "showbackground": true,
            "ticks": "",
            "zerolinecolor": "white"
           }
          },
          "shapedefaults": {
           "line": {
            "color": "#2a3f5f"
           }
          },
          "ternary": {
           "aaxis": {
            "gridcolor": "white",
            "linecolor": "white",
            "ticks": ""
           },
           "baxis": {
            "gridcolor": "white",
            "linecolor": "white",
            "ticks": ""
           },
           "bgcolor": "#E5ECF6",
           "caxis": {
            "gridcolor": "white",
            "linecolor": "white",
            "ticks": ""
           }
          },
          "title": {
           "x": 0.05
          },
          "xaxis": {
           "automargin": true,
           "gridcolor": "white",
           "linecolor": "white",
           "ticks": "",
           "title": {
            "standoff": 15
           },
           "zerolinecolor": "white",
           "zerolinewidth": 2
          },
          "yaxis": {
           "automargin": true,
           "gridcolor": "white",
           "linecolor": "white",
           "ticks": "",
           "title": {
            "standoff": 15
           },
           "zerolinecolor": "white",
           "zerolinewidth": 2
          }
         }
        }
       }
      }
     },
     "metadata": {},
     "output_type": "display_data"
    }
   ],
   "source": [
    "import plotly.express as px\n",
    "import math\n",
    "\n",
    "data = dict(label = [edge[\"from\"] for edge in trav['edges']], #[act['name'] for act in activities],\n",
    "            #location = [act['location'] for act in activities],\n",
    "            parent = [\"\"] + [edge[\"to\"] for edge in trav['edges']][1:],\n",
    "            value = [math.floor(edge[\"impact_pos\"]*1000)/1000 for edge in trav['edges']],\n",
    "            #value_pct = value_pct\n",
    "        )\n",
    "fig = px.sunburst(\n",
    "            data,\n",
    "            names='label',\n",
    "            parents='parent',\n",
    "            values='value',\n",
    "            #branchvalues=\"total\",\n",
    "            #color='value_pct',\n",
    "            #color_continuous_scale='algae',\n",
    "            #hover_data=['location'],\n",
    "            #valueformat = '.0f',\n",
    "        )\n",
    "df = pd.DataFrame.from_dict(data)\n",
    "display(df)\n",
    "fig.show()"
   ]
  },
  {
   "cell_type": "code",
   "execution_count": 21,
   "metadata": {},
   "outputs": [
    {
     "name": "stdout",
     "output_type": "stream",
     "text": [
      "Package              Version\n",
      "-------------------- ---------\n",
      "appdirs              1.4.4\n",
      "asteval              0.9.28\n",
      "asttokens            2.2.1\n",
      "astunparse           1.6.3\n",
      "attrs                22.2.0\n",
      "backcall             0.2.0\n",
      "brightway25          1.0.6\n",
      "brotlipy             0.7.0\n",
      "bw-migrations        0.1\n",
      "bw-processing        0.8.2\n",
      "bw2analyzer          0.11.4\n",
      "bw2calc              2.0.dev12\n",
      "bw2data              4.0.dev18\n",
      "bw2io                0.9.dev11\n",
      "bw2parameters        0.7\n",
      "certifi              2022.12.7\n",
      "cffi                 1.15.1\n",
      "charset-normalizer   2.1.1\n",
      "colorama             0.4.6\n",
      "comm                 0.1.2\n",
      "contourpy            1.0.7\n",
      "cryptography         39.0.1\n",
      "cycler               0.11.0\n",
      "debugpy              1.6.6\n",
      "decorator            5.1.1\n",
      "docopt               0.6.2\n",
      "et-xmlfile           1.1.0\n",
      "executing            1.2.0\n",
      "fasteners            0.17.3\n",
      "fastjsonschema       2.16.2\n",
      "fonttools            4.38.0\n",
      "fs                   2.4.15\n",
      "idna                 3.4\n",
      "ipykernel            6.21.1\n",
      "ipython              8.9.0\n",
      "jedi                 0.18.2\n",
      "jsonschema           4.17.3\n",
      "jupyter_client       8.0.2\n",
      "jupyter_core         5.2.0\n",
      "kiwisolver           1.4.4\n",
      "lxml                 4.9.2\n",
      "matplotlib           3.6.3\n",
      "matplotlib-inline    0.1.6\n",
      "matrix-utils         0.2.5\n",
      "mrio-common-metadata 0.2.1\n",
      "munkres              1.1.4\n",
      "nbformat             5.7.3\n",
      "nest-asyncio         1.5.6\n",
      "numpy                1.24.2\n",
      "openpyxl             3.1.0\n",
      "packaging            23.0\n",
      "pandas               1.5.3\n",
      "parso                0.8.3\n",
      "peewee               3.15.4\n",
      "pexpect              4.8.0\n",
      "pickleshare          0.7.5\n",
      "Pillow               9.4.0\n",
      "pip                  23.0\n",
      "platformdirs         3.0.0\n",
      "plotly               5.13.0\n",
      "pooch                1.6.0\n",
      "prompt-toolkit       3.0.36\n",
      "psutil               5.9.4\n",
      "ptyprocess           0.7.0\n",
      "pure-eval            0.2.2\n",
      "pycparser            2.21\n",
      "Pygments             2.14.0\n",
      "pyOpenSSL            23.0.0\n",
      "pypardiso            0.4.2\n",
      "pyparsing            3.0.9\n",
      "PyPrind              2.11.2\n",
      "pyrsistent           0.19.3\n",
      "PySocks              1.7.1\n",
      "python-dateutil      2.8.2\n",
      "pytz                 2022.7.1\n",
      "pyxlsb               1.0.10\n",
      "pyzmq                25.0.0\n",
      "requests             2.28.2\n",
      "scipy                1.10.0\n",
      "setuptools           67.1.0\n",
      "setuptools-scm       7.1.0\n",
      "six                  1.16.0\n",
      "stack-data           0.6.2\n",
      "stats-arrays         0.6.5\n",
      "tabulate             0.9.0\n",
      "tenacity             8.2.0\n",
      "tomli                2.0.1\n",
      "tornado              6.2\n",
      "tqdm                 4.64.1\n",
      "traitlets            5.9.0\n",
      "typing_extensions    4.4.0\n",
      "Unidecode            1.3.6\n",
      "urllib3              1.26.14\n",
      "voluptuous           0.13.1\n",
      "wcwidth              0.2.6\n",
      "wheel                0.38.4\n",
      "Whoosh               2.7.4\n",
      "wrapt                1.14.1\n",
      "xlrd                 2.0.1\n",
      "XlsxWriter           3.0.8\n",
      "Note: you may need to restart the kernel to use updated packages.\n"
     ]
    }
   ],
   "source": [
    "%pip list"
   ]
  }
 ],
 "metadata": {
  "kernelspec": {
   "display_name": "Python 3.11.0 ('bw25')",
   "language": "python",
   "name": "python3"
  },
  "language_info": {
   "codemirror_mode": {
    "name": "ipython",
    "version": 3
   },
   "file_extension": ".py",
   "mimetype": "text/x-python",
   "name": "python",
   "nbconvert_exporter": "python",
   "pygments_lexer": "ipython3",
   "version": "3.11.0"
  },
  "orig_nbformat": 4,
  "vscode": {
   "interpreter": {
    "hash": "129fa975a5cc1910d29c283259c28ba1164ba1221f5a5d4217117437c9dbb2a6"
   }
  }
 },
 "nbformat": 4,
 "nbformat_minor": 2
}
